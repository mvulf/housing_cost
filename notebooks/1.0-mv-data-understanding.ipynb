{
 "cells": [
  {
   "cell_type": "markdown",
   "metadata": {},
   "source": [
    "Проект ведётся в соответствии со стандартом [CRISP-DM](https://en.wikipedia.org/wiki/Cross-industry_standard_process_for_data_mining)"
   ]
  },
  {
   "cell_type": "markdown",
   "metadata": {},
   "source": [
    "# Анализ требований (Business Understanding)"
   ]
  },
  {
   "cell_type": "markdown",
   "metadata": {},
   "source": [
    "**Бизнес-цель**: разработать модель, которая позволила бы агенству недвижимости обойти конкурентов по скорости и качеству совершения сделок.\n",
    "\n",
    "**Data-Science цель**: разработать регрессионную модель прогнозирования стоимости жилья для агенства недвижимости, взяв за основу имеющийся [датасет](https://drive.google.com/file/d/11-ZNNIdcQ7TbT8Y0nsQ3Q0eiYQP__NIW/view?usp=share_link)\n",
    "*(датасет также синхронизируется средствами DVC на google drive)*.\n",
    "\n",
    "На этапе фактического внедрения модели необходимо прибегнуть к A/B-тестированию, сопоставив скорость и качество совершения сделок до внедрения модели и после интеграции модели прогнозирования стоимости жилья.\n",
    "При этом уже сейчас можно было бы уточнить у заказчика, что он понимает под качеством совершения сделок, какие показатели у агенства сейчас и с какими конкурентами предполагается вести сравнение.\n",
    "\n",
    "Ввиду отсутсвия на данный момент этой информации, можно предположить, что агенство недвижимости хочет максимизировать среднее отношение стоимости сделки $\\text{Value}_\\text{trans}$ ко времени совершения этой сделки $t_\\text{trans}$ (*trans* от англ. *transaction*):\n",
    "\n",
    "$$\n",
    "    \\mathbb{E}\\left(\\frac{\\text{Value}_\\text{trans}}{t_\\text{trans}}\\right) \\rightarrow \\text{max}\n",
    "$$\n",
    "\n",
    "Осуществить это можно, максимизируя точность предсказательной модели, так как при предсказании справедливой цены можно значительно ускорить завершение сделки (снизить $t_\\text{trans}$), не потеряв, и, возможно, даже увеличив $\\text{Value}_\\text{trans}$, предотвращая демпинг цены на недвижимость.\n",
    "\n",
    "Таким образом, это задача *регрессии*, для которой можно ввести следующие метрики качества модели, с учётом наличия истинных значений стоимости (обучение с учителем):\n",
    "- Средняя абсолютная ошибка, выраженная в процентах (**MAPE**);\n",
    "- Коэффициент детерминации (**$R^2$**).\n",
    "\n",
    "Первая метрика позволит оценить, на сколько процентов в среднем предсказание отклоняется от реального значения.\n",
    "Будем её использовать, так как нет сведений о том, какое значение целевого показателя считать приемлемым.\n",
    "\n",
    "Вторая метрика покажет, насколько модель лучше, чем если бы все предсказания были бы средним по правильным ответам. \n",
    "То есть показывает, какую долю информации о зависимости (дисперсии) смогла уловить модель.\n",
    "\n",
    "Однако, необходимо прежде оценить распределение целевого признака, может полезно прибегнуть к логарифмическим метрикам."
   ]
  },
  {
   "cell_type": "markdown",
   "metadata": {},
   "source": [
    "## Задачи\n",
    "\n",
    "1. Провести разведывательный анализ (EDA) и очистку исходных данных.\n",
    "Во многих признаках присутствуют дублирующиеся категории, ошибки ввода, жаргонные сокращения и так далее.\n",
    "Необходимо отыскать закономерности, расшифровать все сокращения, найти синонимы в данных, обработать пропуски и удалить выбросы.\n",
    "\n",
    "2. Выделить наиболее значимые факторы, влияющие на стоимость недвижимости (Data Preparation)\n",
    "\n",
    "3. Построить модель для прогнозирования стоимости недвижимости.\n",
    "\n",
    "4. Разработать веб-сервис, на вход которому поступают данные о некоторой выставленной на продажу недвижимости, а сервис прогнозирует его стоимость.\n"
   ]
  },
  {
   "cell_type": "markdown",
   "metadata": {},
   "source": [
    "## Описание данных\n",
    "- `status` — статус продажи;\n",
    "- `private pool` и `PrivatePool` — наличие собственного бассейна;\n",
    "- `propertyType` — тип объекта недвижимости;\n",
    "- `street` — адрес объекта;\n",
    "- `baths` — количество ванных комнат;\n",
    "- `homeFacts` — сведения о строительстве объекта (содержит несколько\n",
    "типов сведений, влияющих на оценку объекта);\n",
    "- `fireplace` — наличие камина;\n",
    "- `city` — город;\n",
    "- `schools` — сведения о школах в районе;\n",
    "- `sqft` — площадь в футах;\n",
    "- `zipcode` — почтовый индекс;\n",
    "- `beds` — количество спален;\n",
    "- `state` — штат;\n",
    "- `stories` — количество этажей;\n",
    "- `mls-id` и `MlsId` — идентификатор MLS (Multiple Listing Service, система\n",
    "мультилистинга);\n",
    "- `target` — цена объекта недвижимости (целевой признак, который\n",
    "необходимо спрогнозировать).\n",
    "\n",
    "## Сведения о данных\n",
    "\n",
    "1. Признаки `homeFacts` и `schools` представляют собой словари и\n",
    "содержат несколько типов сведений. Необходимо десериализовать\n",
    "содержимое этих признаков. Если в нём есть полезные данные,\n",
    "необходимо создать из них новые признаки.\n",
    "\n",
    "2. [Типы жилья и их основные характеристики](https://www.rocketmortgage.com/learn/types-of-houses)\n",
    "(пригодится при обработке признака `propertyType`):\n",
    "- apartment — съёмная квартира (нельзя купить);\n",
    "- condo — кондоминиум (можно купить);\n",
    "- co-op — квартира в жилищном кооперативе;\n",
    "- single-family (detached, tiny home) — односемейный (отдельный,\n",
    "маленький) дом;\n",
    "- townhome, townhouse — таунхаус;\n",
    "- cape cod — черепичная крыша, облицовка деревянным сайдингом,\n",
    "дверь в центре здания, окна по бокам, один-два этажа;\n",
    "- colonial home — минимум два этажа, симметрия, лестница в центре\n",
    "здания, строгий внешний вид;\n",
    "- contemporary — чистые, простые линии, нейтральные цвета, натуральные\n",
    "текстуры;\n",
    "- cottage — небольшая уютная веранда, небольшие жилые помещения;\n",
    "- craftsman — деревянные элементы ручной работы, выступающие балки,\n",
    "большие колонны;\n",
    "- Greek revival — большие белые колонны, украшения в греческом стиле,\n",
    "нарядный вход;\n",
    "- farmhouse — прямоугольная планировка, большое крыльцо, амбарная\n",
    "крыша;\n",
    "- French country — влияние прованса, облицовка камнем, состаренный\n",
    "вид;\n",
    "- Mediterranean — белая штукатурка, дерево и камень в тёплых тонах,\n",
    "черепичные крыши, элементы испанских и итальянских вилл;\n",
    "- midcentury modern — сочетание плавных природных и строгих\n",
    "геометрических линий, гладкость, лаконичность, большие окна;\n",
    "- ranch — один этаж, низкая крыша, открытые жилые помещения, задний\n",
    "двор;\n",
    "- split-level — жилые помещения разделены короткими лестничными\n",
    "пролётами;\n",
    "- Tudor — деревянные балки, каменная кладка, асимметричная крутая\n",
    "двускатная крыша;\n",
    "- Victorian (Queen Anne Houses) — два-три и более этажей, богатый декор,\n",
    "крутая двускатная крыша, небольшие башенки, яркий фасад;\n",
    "- European Houses style — кирпич или камень, высокая крутая крыша,\n",
    "высокие окна, часто со ставнями, традиционные декоративные детали\n",
    "(фронтоны, замковые камни);\n",
    "- log home — деревянный дом.\n",
    "\n",
    "3. Некоторые жаргонные сокращения — для исправления дублирования\n",
    "(пригодится при обработке признака `propertyType`):\n",
    "- 'manufactured home (house)' = 'mobile' = 'prefab' = 'modular';\n",
    "- 'mobile' = 'mo2 le' = 'mo2le';\n",
    "- 'cabin' = 'ca2 n' = 'ca2n';\n",
    "- midcentury = mid century = mid-century;\n",
    "- single family = single-family home.\n",
    "\n",
    "4. Некоторые термины, используемые в сфере купли-продажи\n",
    "недвижимости:\n",
    "- status — статус, состояние.\n",
    "- estate — объект недвижимости.\n",
    "- 'foreclosed' ('foreclosure') — «лишён права выкупа».\n",
    "Это процесс, когда недвижимость переходит к кредитору из-за\n",
    "неуплаты ипотеки заёмщиком. Продажа foreclosure-недвижимости\n",
    "отличается от традиционных продаж.\n",
    "- 'pre foreclosure' ('pre foreclosure auction') — «до выкупа»,\n",
    "«аукцион до выкупа».\n",
    "- 'under contract showing' ('under contract show', 'under\n",
    "contract', 'active under contract') — предложение о покупке\n",
    "уже сделано, но не принято продавцом окончательно, и\n",
    "недвижимость продолжают показывать другим потенциальным\n",
    "покупателям.\n",
    "- 'under contract backups', 'active backup', 'backup contract' —\n",
    "предложение о покупке уже сделано и принято продавцом,\n",
    "однако он открыт для резервных предложений.\n",
    "- 'contingency' — дополнительные обстоятельства (критерии,\n",
    "которым должен соответствовать продавец/покупатель до\n",
    "завершения сделки).\n",
    "- 'contingency contract' — контракт на случай возникновения\n",
    "дополнительных обстоятельств.\n",
    "- 'active contingency' — сделка уже практически состоялась,\n",
    "однако продавцу/покупателю для её завершения необходимо\n",
    "выполнить какие-то условия.\n",
    "- 'insp inspection contingency' — ситуация, когда покупатель\n",
    "может официально проинспектировать объект недвижимости в\n",
    "определённый период времени.\n",
    "- 'pending escape clause' — договор, предполагающий свободный\n",
    "выход сторон из него.\n",
    "- 'pending backup wanted' — договор уже заключен, однако\n",
    "продавец хочет продолжать показывать недвижимость другим\n",
    "потенциальным покупателям и принимать резервные\n",
    "предложения.\n",
    "- 'pending take backups' — условие, предполагающее, что\n",
    "продавец может принимать резерные предложения, если сделка\n",
    "с текущим покупателем не состоится.\n",
    "- 'pending continue show' — договор уже заключен, однако\n",
    "продавец хочет продолжать показывать недвижимость другим\n",
    "потенциальным покупателям на случай, если текущая сделка не\n",
    "состоится.\n",
    "- 'pending inspection' — «в ожидании инспекции».\n",
    "- 'due diligence period' — период, в течение которого покупатель\n",
    "имеет право проинспектировать недвижимость и изучить всю\n",
    "важную для заключения сделки информацию.\n",
    "- 'activated' — «активен», открыт для покупки.\n",
    "- 'active with contract' — продавец уже принял предложение о\n",
    "покупке, однако сделка ещё не закрыта.\n",
    "- 'active with offer' — продавец принял предложение о покупке,\n",
    "однако ищет резервные предложения на случай, если сделка с\n",
    "текущим покупателем не состоится.\n",
    "- 'active auction', 'auction active', 'auction' — продажа\n",
    "недвижимости с помощью аукциона.\n",
    "- cooling-off period — период, в течение которого покупатель\n",
    "может расторгнуть договор после завершения сделки.\n"
   ]
  },
  {
   "cell_type": "markdown",
   "metadata": {},
   "source": [
    "# Импорт библиотек и данных"
   ]
  },
  {
   "cell_type": "code",
   "execution_count": 1,
   "metadata": {},
   "outputs": [],
   "source": [
    "import sys\n",
    "import os\n",
    "import pandas as pd\n",
    "from pathlib import Path\n",
    "import pickle\n",
    "import seaborn as sns\n",
    "import matplotlib.pyplot as plt\n",
    "import numpy as np\n",
    "\n",
    "%matplotlib inline\n",
    "\n",
    "sns.set_style('darkgrid')\n",
    "\n",
    "from ydata_profiling import ProfileReport\n",
    "\n",
    "from IPython.display import display, display_html, HTML\n",
    "\n",
    "root_folder = '../'\n",
    "sys.path.append(root_folder)\n",
    "# from src.data import make_dataset\n",
    "from src import utils\n",
    "from src.features import build_features\n",
    "from src.visualization import visualize\n",
    "\n",
    "source_data = Path(root_folder, 'data', 'raw', 'data.csv')\n",
    "export_path = Path(root_folder, 'data', 'interim', '1.0_first_process.csv')"
   ]
  },
  {
   "cell_type": "code",
   "execution_count": 2,
   "metadata": {},
   "outputs": [
    {
     "name": "stdout",
     "output_type": "stream",
     "text": [
      "<class 'pandas.core.frame.DataFrame'>\n",
      "RangeIndex: 377185 entries, 0 to 377184\n",
      "Data columns (total 18 columns):\n",
      " #   Column        Non-Null Count   Dtype \n",
      "---  ------        --------------   ----- \n",
      " 0   status        337267 non-null  object\n",
      " 1   private pool  4181 non-null    object\n",
      " 2   propertyType  342452 non-null  object\n",
      " 3   street        377183 non-null  object\n",
      " 4   baths         270847 non-null  object\n",
      " 5   homeFacts     377185 non-null  object\n",
      " 6   fireplace     103114 non-null  object\n",
      " 7   city          377151 non-null  object\n",
      " 8   schools       377185 non-null  object\n",
      " 9   sqft          336608 non-null  object\n",
      " 10  zipcode       377185 non-null  object\n",
      " 11  beds          285903 non-null  object\n",
      " 12  state         377185 non-null  object\n",
      " 13  stories       226469 non-null  object\n",
      " 14  mls-id        24942 non-null   object\n",
      " 15  PrivatePool   40311 non-null   object\n",
      " 16  MlsId         310305 non-null  object\n",
      " 17  target        374704 non-null  object\n",
      "dtypes: object(18)\n",
      "memory usage: 51.8+ MB\n"
     ]
    },
    {
     "data": {
      "text/html": [
       "<div>\n",
       "<style scoped>\n",
       "    .dataframe tbody tr th:only-of-type {\n",
       "        vertical-align: middle;\n",
       "    }\n",
       "\n",
       "    .dataframe tbody tr th {\n",
       "        vertical-align: top;\n",
       "    }\n",
       "\n",
       "    .dataframe thead th {\n",
       "        text-align: right;\n",
       "    }\n",
       "</style>\n",
       "<table border=\"1\" class=\"dataframe\">\n",
       "  <thead>\n",
       "    <tr style=\"text-align: right;\">\n",
       "      <th></th>\n",
       "      <th>status</th>\n",
       "      <th>private pool</th>\n",
       "      <th>propertyType</th>\n",
       "      <th>street</th>\n",
       "      <th>baths</th>\n",
       "      <th>homeFacts</th>\n",
       "      <th>fireplace</th>\n",
       "      <th>city</th>\n",
       "      <th>schools</th>\n",
       "      <th>sqft</th>\n",
       "      <th>zipcode</th>\n",
       "      <th>beds</th>\n",
       "      <th>state</th>\n",
       "      <th>stories</th>\n",
       "      <th>mls-id</th>\n",
       "      <th>PrivatePool</th>\n",
       "      <th>MlsId</th>\n",
       "      <th>target</th>\n",
       "    </tr>\n",
       "  </thead>\n",
       "  <tbody>\n",
       "    <tr>\n",
       "      <th>0</th>\n",
       "      <td>Active</td>\n",
       "      <td>NaN</td>\n",
       "      <td>Single Family Home</td>\n",
       "      <td>240 Heather Ln</td>\n",
       "      <td>3.5</td>\n",
       "      <td>{'atAGlanceFacts': [{'factValue': '2019', 'fac...</td>\n",
       "      <td>Gas Logs</td>\n",
       "      <td>Southern Pines</td>\n",
       "      <td>[{'rating': ['4', '4', '7', 'NR', '4', '7', 'N...</td>\n",
       "      <td>2900</td>\n",
       "      <td>28387</td>\n",
       "      <td>4</td>\n",
       "      <td>NC</td>\n",
       "      <td>NaN</td>\n",
       "      <td>NaN</td>\n",
       "      <td>NaN</td>\n",
       "      <td>611019</td>\n",
       "      <td>$418,000</td>\n",
       "    </tr>\n",
       "    <tr>\n",
       "      <th>1</th>\n",
       "      <td>for sale</td>\n",
       "      <td>NaN</td>\n",
       "      <td>single-family home</td>\n",
       "      <td>12911 E Heroy Ave</td>\n",
       "      <td>3 Baths</td>\n",
       "      <td>{'atAGlanceFacts': [{'factValue': '2019', 'fac...</td>\n",
       "      <td>NaN</td>\n",
       "      <td>Spokane Valley</td>\n",
       "      <td>[{'rating': ['4/10', 'None/10', '4/10'], 'data...</td>\n",
       "      <td>1,947 sqft</td>\n",
       "      <td>99216</td>\n",
       "      <td>3 Beds</td>\n",
       "      <td>WA</td>\n",
       "      <td>2.0</td>\n",
       "      <td>NaN</td>\n",
       "      <td>NaN</td>\n",
       "      <td>201916904</td>\n",
       "      <td>$310,000</td>\n",
       "    </tr>\n",
       "    <tr>\n",
       "      <th>2</th>\n",
       "      <td>for sale</td>\n",
       "      <td>NaN</td>\n",
       "      <td>single-family home</td>\n",
       "      <td>2005 Westridge Rd</td>\n",
       "      <td>2 Baths</td>\n",
       "      <td>{'atAGlanceFacts': [{'factValue': '1961', 'fac...</td>\n",
       "      <td>yes</td>\n",
       "      <td>Los Angeles</td>\n",
       "      <td>[{'rating': ['8/10', '4/10', '8/10'], 'data': ...</td>\n",
       "      <td>3,000 sqft</td>\n",
       "      <td>90049</td>\n",
       "      <td>3 Beds</td>\n",
       "      <td>CA</td>\n",
       "      <td>1.0</td>\n",
       "      <td>NaN</td>\n",
       "      <td>yes</td>\n",
       "      <td>FR19221027</td>\n",
       "      <td>$2,895,000</td>\n",
       "    </tr>\n",
       "    <tr>\n",
       "      <th>3</th>\n",
       "      <td>for sale</td>\n",
       "      <td>NaN</td>\n",
       "      <td>single-family home</td>\n",
       "      <td>4311 Livingston Ave</td>\n",
       "      <td>8 Baths</td>\n",
       "      <td>{'atAGlanceFacts': [{'factValue': '2006', 'fac...</td>\n",
       "      <td>yes</td>\n",
       "      <td>Dallas</td>\n",
       "      <td>[{'rating': ['9/10', '9/10', '10/10', '9/10'],...</td>\n",
       "      <td>6,457 sqft</td>\n",
       "      <td>75205</td>\n",
       "      <td>5 Beds</td>\n",
       "      <td>TX</td>\n",
       "      <td>3.0</td>\n",
       "      <td>NaN</td>\n",
       "      <td>NaN</td>\n",
       "      <td>14191809</td>\n",
       "      <td>$2,395,000</td>\n",
       "    </tr>\n",
       "    <tr>\n",
       "      <th>4</th>\n",
       "      <td>for sale</td>\n",
       "      <td>NaN</td>\n",
       "      <td>lot/land</td>\n",
       "      <td>1524 Kiscoe St</td>\n",
       "      <td>NaN</td>\n",
       "      <td>{'atAGlanceFacts': [{'factValue': '', 'factLab...</td>\n",
       "      <td>NaN</td>\n",
       "      <td>Palm Bay</td>\n",
       "      <td>[{'rating': ['4/10', '5/10', '5/10'], 'data': ...</td>\n",
       "      <td>NaN</td>\n",
       "      <td>32908</td>\n",
       "      <td>NaN</td>\n",
       "      <td>FL</td>\n",
       "      <td>NaN</td>\n",
       "      <td>NaN</td>\n",
       "      <td>NaN</td>\n",
       "      <td>861745</td>\n",
       "      <td>$5,000</td>\n",
       "    </tr>\n",
       "    <tr>\n",
       "      <th>...</th>\n",
       "      <td>...</td>\n",
       "      <td>...</td>\n",
       "      <td>...</td>\n",
       "      <td>...</td>\n",
       "      <td>...</td>\n",
       "      <td>...</td>\n",
       "      <td>...</td>\n",
       "      <td>...</td>\n",
       "      <td>...</td>\n",
       "      <td>...</td>\n",
       "      <td>...</td>\n",
       "      <td>...</td>\n",
       "      <td>...</td>\n",
       "      <td>...</td>\n",
       "      <td>...</td>\n",
       "      <td>...</td>\n",
       "      <td>...</td>\n",
       "      <td>...</td>\n",
       "    </tr>\n",
       "    <tr>\n",
       "      <th>377180</th>\n",
       "      <td>NaN</td>\n",
       "      <td>NaN</td>\n",
       "      <td>Single Family</td>\n",
       "      <td>20800 NE 23rd Ave</td>\n",
       "      <td>6.0</td>\n",
       "      <td>{'atAGlanceFacts': [{'factValue': '1990', 'fac...</td>\n",
       "      <td>NaN</td>\n",
       "      <td>Miami</td>\n",
       "      <td>[{'rating': ['10/10', '5/10'], 'data': {'Dista...</td>\n",
       "      <td>4,017</td>\n",
       "      <td>33180</td>\n",
       "      <td>5</td>\n",
       "      <td>FL</td>\n",
       "      <td>0.0</td>\n",
       "      <td>NaN</td>\n",
       "      <td>Yes</td>\n",
       "      <td>A10702700</td>\n",
       "      <td>$1,249,000</td>\n",
       "    </tr>\n",
       "    <tr>\n",
       "      <th>377181</th>\n",
       "      <td>for sale</td>\n",
       "      <td>NaN</td>\n",
       "      <td>condo</td>\n",
       "      <td>3530 N Lake Shore Dr #4B</td>\n",
       "      <td>3 Baths</td>\n",
       "      <td>{'atAGlanceFacts': [{'factValue': '1924', 'fac...</td>\n",
       "      <td>NaN</td>\n",
       "      <td>Chicago</td>\n",
       "      <td>[{'rating': ['1/10', '5/10', '7/10'], 'data': ...</td>\n",
       "      <td>2,000 sqft</td>\n",
       "      <td>60657</td>\n",
       "      <td>3 Beds</td>\n",
       "      <td>IL</td>\n",
       "      <td>9.0</td>\n",
       "      <td>NaN</td>\n",
       "      <td>NaN</td>\n",
       "      <td>10374233</td>\n",
       "      <td>$674,999</td>\n",
       "    </tr>\n",
       "    <tr>\n",
       "      <th>377182</th>\n",
       "      <td>for sale</td>\n",
       "      <td>NaN</td>\n",
       "      <td>single-family home</td>\n",
       "      <td>15509 Linden Blvd</td>\n",
       "      <td>3 Baths</td>\n",
       "      <td>{'atAGlanceFacts': [{'factValue': '1950', 'fac...</td>\n",
       "      <td>NaN</td>\n",
       "      <td>Jamaica</td>\n",
       "      <td>[{'rating': ['5/10', '4/10'], 'data': {'Distan...</td>\n",
       "      <td>1,152 sqft</td>\n",
       "      <td>11434</td>\n",
       "      <td>3 Beds</td>\n",
       "      <td>NY</td>\n",
       "      <td>2</td>\n",
       "      <td>NaN</td>\n",
       "      <td>NaN</td>\n",
       "      <td>NaN</td>\n",
       "      <td>$528,000</td>\n",
       "    </tr>\n",
       "    <tr>\n",
       "      <th>377183</th>\n",
       "      <td>NaN</td>\n",
       "      <td>NaN</td>\n",
       "      <td>NaN</td>\n",
       "      <td>7810 Pereida St</td>\n",
       "      <td>NaN</td>\n",
       "      <td>{'atAGlanceFacts': [{'factValue': None, 'factL...</td>\n",
       "      <td>NaN</td>\n",
       "      <td>Houston</td>\n",
       "      <td>[{'rating': ['NA', 'NA', 'NA'], 'data': {'Dist...</td>\n",
       "      <td>NaN</td>\n",
       "      <td>77028</td>\n",
       "      <td>8,479 sqft</td>\n",
       "      <td>TX</td>\n",
       "      <td>NaN</td>\n",
       "      <td>NaN</td>\n",
       "      <td>NaN</td>\n",
       "      <td>NaN</td>\n",
       "      <td>$34,500</td>\n",
       "    </tr>\n",
       "    <tr>\n",
       "      <th>377184</th>\n",
       "      <td>NaN</td>\n",
       "      <td>NaN</td>\n",
       "      <td>Single Family</td>\n",
       "      <td>5983 Midcrown Dr</td>\n",
       "      <td>2.0</td>\n",
       "      <td>{'atAGlanceFacts': [{'factValue': '2019', 'fac...</td>\n",
       "      <td>Not Applicable</td>\n",
       "      <td>San Antonio</td>\n",
       "      <td>[{'rating': ['5/10', '4/10', '3/10'], 'data': ...</td>\n",
       "      <td>1,462</td>\n",
       "      <td>78218</td>\n",
       "      <td>3</td>\n",
       "      <td>TX</td>\n",
       "      <td>1.0</td>\n",
       "      <td>NaN</td>\n",
       "      <td>NaN</td>\n",
       "      <td>1403619</td>\n",
       "      <td>$204,900</td>\n",
       "    </tr>\n",
       "  </tbody>\n",
       "</table>\n",
       "<p>377185 rows × 18 columns</p>\n",
       "</div>"
      ],
      "text/plain": [
       "          status private pool        propertyType                    street  \\\n",
       "0         Active          NaN  Single Family Home            240 Heather Ln   \n",
       "1       for sale          NaN  single-family home         12911 E Heroy Ave   \n",
       "2       for sale          NaN  single-family home         2005 Westridge Rd   \n",
       "3       for sale          NaN  single-family home       4311 Livingston Ave   \n",
       "4       for sale          NaN            lot/land            1524 Kiscoe St   \n",
       "...          ...          ...                 ...                       ...   \n",
       "377180       NaN          NaN       Single Family         20800 NE 23rd Ave   \n",
       "377181  for sale          NaN               condo  3530 N Lake Shore Dr #4B   \n",
       "377182  for sale          NaN  single-family home         15509 Linden Blvd   \n",
       "377183       NaN          NaN                 NaN           7810 Pereida St   \n",
       "377184       NaN          NaN       Single Family          5983 Midcrown Dr   \n",
       "\n",
       "          baths                                          homeFacts  \\\n",
       "0           3.5  {'atAGlanceFacts': [{'factValue': '2019', 'fac...   \n",
       "1       3 Baths  {'atAGlanceFacts': [{'factValue': '2019', 'fac...   \n",
       "2       2 Baths  {'atAGlanceFacts': [{'factValue': '1961', 'fac...   \n",
       "3       8 Baths  {'atAGlanceFacts': [{'factValue': '2006', 'fac...   \n",
       "4           NaN  {'atAGlanceFacts': [{'factValue': '', 'factLab...   \n",
       "...         ...                                                ...   \n",
       "377180      6.0  {'atAGlanceFacts': [{'factValue': '1990', 'fac...   \n",
       "377181  3 Baths  {'atAGlanceFacts': [{'factValue': '1924', 'fac...   \n",
       "377182  3 Baths  {'atAGlanceFacts': [{'factValue': '1950', 'fac...   \n",
       "377183      NaN  {'atAGlanceFacts': [{'factValue': None, 'factL...   \n",
       "377184      2.0  {'atAGlanceFacts': [{'factValue': '2019', 'fac...   \n",
       "\n",
       "             fireplace            city  \\\n",
       "0             Gas Logs  Southern Pines   \n",
       "1                  NaN  Spokane Valley   \n",
       "2                  yes     Los Angeles   \n",
       "3                  yes          Dallas   \n",
       "4                  NaN        Palm Bay   \n",
       "...                ...             ...   \n",
       "377180             NaN           Miami   \n",
       "377181             NaN         Chicago   \n",
       "377182             NaN         Jamaica   \n",
       "377183             NaN         Houston   \n",
       "377184  Not Applicable     San Antonio   \n",
       "\n",
       "                                                  schools        sqft zipcode  \\\n",
       "0       [{'rating': ['4', '4', '7', 'NR', '4', '7', 'N...        2900   28387   \n",
       "1       [{'rating': ['4/10', 'None/10', '4/10'], 'data...  1,947 sqft   99216   \n",
       "2       [{'rating': ['8/10', '4/10', '8/10'], 'data': ...  3,000 sqft   90049   \n",
       "3       [{'rating': ['9/10', '9/10', '10/10', '9/10'],...  6,457 sqft   75205   \n",
       "4       [{'rating': ['4/10', '5/10', '5/10'], 'data': ...         NaN   32908   \n",
       "...                                                   ...         ...     ...   \n",
       "377180  [{'rating': ['10/10', '5/10'], 'data': {'Dista...       4,017   33180   \n",
       "377181  [{'rating': ['1/10', '5/10', '7/10'], 'data': ...  2,000 sqft   60657   \n",
       "377182  [{'rating': ['5/10', '4/10'], 'data': {'Distan...  1,152 sqft   11434   \n",
       "377183  [{'rating': ['NA', 'NA', 'NA'], 'data': {'Dist...         NaN   77028   \n",
       "377184  [{'rating': ['5/10', '4/10', '3/10'], 'data': ...       1,462   78218   \n",
       "\n",
       "              beds state stories mls-id PrivatePool       MlsId      target  \n",
       "0                4    NC     NaN    NaN         NaN      611019    $418,000  \n",
       "1           3 Beds    WA     2.0    NaN         NaN   201916904    $310,000  \n",
       "2           3 Beds    CA     1.0    NaN         yes  FR19221027  $2,895,000  \n",
       "3           5 Beds    TX     3.0    NaN         NaN    14191809  $2,395,000  \n",
       "4              NaN    FL     NaN    NaN         NaN      861745      $5,000  \n",
       "...            ...   ...     ...    ...         ...         ...         ...  \n",
       "377180           5    FL     0.0    NaN         Yes   A10702700  $1,249,000  \n",
       "377181      3 Beds    IL     9.0    NaN         NaN    10374233    $674,999  \n",
       "377182      3 Beds    NY       2    NaN         NaN         NaN    $528,000  \n",
       "377183  8,479 sqft    TX     NaN    NaN         NaN         NaN     $34,500  \n",
       "377184           3    TX     1.0    NaN         NaN     1403619    $204,900  \n",
       "\n",
       "[377185 rows x 18 columns]"
      ]
     },
     "metadata": {},
     "output_type": "display_data"
    }
   ],
   "source": [
    "raw_df = pd.read_csv(\n",
    "    source_data\n",
    ")\n",
    "raw_df.info()\n",
    "display(raw_df)"
   ]
  },
  {
   "cell_type": "markdown",
   "metadata": {},
   "source": [
    "# Первичный анализ и обработка данных (Data Understanding)"
   ]
  },
  {
   "cell_type": "markdown",
   "metadata": {},
   "source": [
    "Проведём первичный анализ данных, используя `ydata_profiling` и выведенную информацию выше"
   ]
  },
  {
   "cell_type": "code",
   "execution_count": 3,
   "metadata": {},
   "outputs": [
    {
     "name": "stdout",
     "output_type": "stream",
     "text": [
      "See report in  ../reports/init_profiling.html\n"
     ]
    }
   ],
   "source": [
    "profile_path = Path(root_folder, 'reports', 'init_profiling.html')\n",
    "\n",
    "# Create init profiling report if it does not exist\n",
    "if not os.path.isfile(profile_path):\n",
    "    profile = ProfileReport(raw_df, title='House profiling')\n",
    "    profile.to_file(profile_path)\n",
    "    print('Save to:', profile_path)\n",
    "print('See report in ', profile_path)"
   ]
  },
  {
   "cell_type": "markdown",
   "metadata": {},
   "source": [
    "Некоторые наблюдения:\n",
    "\n",
    "- Имеется датасет из 377185 строк и 18 колонок\n",
    "- Все колонки имеют тип \"object\" и требуют предобработки для того, чтобы получить численные значения, где они предполагаются\n",
    "- Имеем дело с большим количеством пропусков в ряде колонок\n",
    "- Имеются несколько дублирующихся строчек (порядка 49)\n",
    "- Некоторые признаки дублируются\n",
    "- Пропуски в `target` критичны для нас, поэтому имеет смысл удалить строки с пропусками в целевом признаке\n",
    "\n",
    "Будем разбираться по-порядку, анализируя каждый признак по отдельности"
   ]
  },
  {
   "cell_type": "markdown",
   "metadata": {},
   "source": [
    "## Target"
   ]
  },
  {
   "cell_type": "markdown",
   "metadata": {},
   "source": [
    "Удалим строки с отсутствующим таргетом:"
   ]
  },
  {
   "cell_type": "code",
   "execution_count": 4,
   "metadata": {},
   "outputs": [
    {
     "name": "stdout",
     "output_type": "stream",
     "text": [
      "Доля строк без таргета: 0.658%\n"
     ]
    },
    {
     "data": {
      "text/plain": [
       "(374704, 18)"
      ]
     },
     "execution_count": 4,
     "metadata": {},
     "output_type": "execute_result"
    }
   ],
   "source": [
    "print(\n",
    "    'Доля строк без таргета:', \n",
    "    utils.get_percentage(raw_df['target'].isna().sum(), raw_df.shape[0])\n",
    ")\n",
    "df = raw_df.dropna(subset=['target'])\n",
    "df.shape"
   ]
  },
  {
   "cell_type": "markdown",
   "metadata": {},
   "source": [
    "Приведём таргет к числовому типу. \n",
    "Для этого посмотрим на нечисловые символы"
   ]
  },
  {
   "cell_type": "code",
   "execution_count": 5,
   "metadata": {},
   "outputs": [
    {
     "data": {
      "text/plain": [
       "target\n",
       "[$, ,]                  267483\n",
       "[,]                      55868\n",
       "[$, ,, ,]                33614\n",
       "[,, ,]                   10001\n",
       "[$, ,, +]                 6931\n",
       "[$, ,, /mo]                373\n",
       "[$, ,, ,, +]               332\n",
       "[$]                         64\n",
       "[$, /mo]                    24\n",
       "[]                          13\n",
       "[$, ,,  - $, ,, /mo]         1\n",
       "Name: count, dtype: int64"
      ]
     },
     "execution_count": 5,
     "metadata": {},
     "output_type": "execute_result"
    }
   ],
   "source": [
    "df['target'].str.findall(r'[^0-9]+').value_counts()"
   ]
  },
  {
   "cell_type": "markdown",
   "metadata": {},
   "source": [
    "- Кроме доллара, другие валюты не встречаются.\n",
    "Положим, что все цены указаны в долларах, пока не выяснится, что это не так.\n",
    "- Встречается \"/mo\", посмотрим ниже. Скорее всего речь идёт об аренде с помесячной оплатой.\n",
    "- Используются запятые как разделители тысяч, их стоит исключить.\n",
    "- Также встречается знак \"+\". Возможно, указывает, что это стартовая цена. Необходимо проверить."
   ]
  },
  {
   "cell_type": "markdown",
   "metadata": {},
   "source": [
    "Да, все объявления с ценой \"/mo\" это объявления о сдаче в аренду.\n",
    "Так как это малая доля от сделок на продажу, удалим эти строки."
   ]
  },
  {
   "cell_type": "code",
   "execution_count": 6,
   "metadata": {},
   "outputs": [
    {
     "name": "stdout",
     "output_type": "stream",
     "text": [
      "Статус для объявлений с помесячной оплатой:\n"
     ]
    },
    {
     "data": {
      "text/plain": [
       "status\n",
       "for rent    398\n",
       "Name: count, dtype: int64"
      ]
     },
     "metadata": {},
     "output_type": "display_data"
    },
    {
     "name": "stdout",
     "output_type": "stream",
     "text": [
      "Доля объявлений аренды: 0.106%\n"
     ]
    },
    {
     "data": {
      "text/plain": [
       "(374306, 18)"
      ]
     },
     "execution_count": 6,
     "metadata": {},
     "output_type": "execute_result"
    }
   ],
   "source": [
    "print('Статус для объявлений с помесячной оплатой:')\n",
    "mo_mask = df['target'].str.contains('mo')\n",
    "display(df[mo_mask]['status'].value_counts())\n",
    "print(\n",
    "    'Доля объявлений аренды:', \n",
    "    utils.get_percentage(mo_mask.sum(), df.shape[0])\n",
    ")\n",
    "df = df[~mo_mask]\n",
    "df.shape"
   ]
  },
  {
   "cell_type": "markdown",
   "metadata": {},
   "source": [
    "Посмотрим, есть ли какие-то особенности при указании \"+\""
   ]
  },
  {
   "cell_type": "code",
   "execution_count": 7,
   "metadata": {},
   "outputs": [
    {
     "data": {
      "text/html": [
       "<div>\n",
       "<style scoped>\n",
       "    .dataframe tbody tr th:only-of-type {\n",
       "        vertical-align: middle;\n",
       "    }\n",
       "\n",
       "    .dataframe tbody tr th {\n",
       "        vertical-align: top;\n",
       "    }\n",
       "\n",
       "    .dataframe thead th {\n",
       "        text-align: right;\n",
       "    }\n",
       "</style>\n",
       "<table border=\"1\" class=\"dataframe\">\n",
       "  <thead>\n",
       "    <tr style=\"text-align: right;\">\n",
       "      <th></th>\n",
       "      <th>status</th>\n",
       "      <th>private pool</th>\n",
       "      <th>propertyType</th>\n",
       "      <th>street</th>\n",
       "      <th>baths</th>\n",
       "      <th>homeFacts</th>\n",
       "      <th>fireplace</th>\n",
       "      <th>city</th>\n",
       "      <th>schools</th>\n",
       "      <th>sqft</th>\n",
       "      <th>zipcode</th>\n",
       "      <th>beds</th>\n",
       "      <th>state</th>\n",
       "      <th>stories</th>\n",
       "      <th>mls-id</th>\n",
       "      <th>PrivatePool</th>\n",
       "      <th>MlsId</th>\n",
       "      <th>target</th>\n",
       "    </tr>\n",
       "  </thead>\n",
       "  <tbody>\n",
       "    <tr>\n",
       "      <th>47</th>\n",
       "      <td>for sale</td>\n",
       "      <td>NaN</td>\n",
       "      <td>single-family home</td>\n",
       "      <td>Santa Rosa Plan in Twin Mills</td>\n",
       "      <td>2 Baths</td>\n",
       "      <td>{'atAGlanceFacts': [{'factValue': '2017', 'fac...</td>\n",
       "      <td>NaN</td>\n",
       "      <td>Fort Worth</td>\n",
       "      <td>[{'rating': ['7/10', '6/10', '8/10'], 'data': ...</td>\n",
       "      <td>1,683 sqft</td>\n",
       "      <td>76179</td>\n",
       "      <td>3 Beds</td>\n",
       "      <td>TX</td>\n",
       "      <td>1</td>\n",
       "      <td>NaN</td>\n",
       "      <td>NaN</td>\n",
       "      <td>NaN</td>\n",
       "      <td>$233,990+</td>\n",
       "    </tr>\n",
       "    <tr>\n",
       "      <th>97</th>\n",
       "      <td>for sale</td>\n",
       "      <td>NaN</td>\n",
       "      <td>single-family home</td>\n",
       "      <td>Armstrong Plan in Cadence at Mint Hill</td>\n",
       "      <td>2.5 Baths</td>\n",
       "      <td>{'atAGlanceFacts': [{'factValue': '', 'factLab...</td>\n",
       "      <td>NaN</td>\n",
       "      <td>Mint Hill</td>\n",
       "      <td>[{'rating': ['5/10', '10/10', '6/10'], 'data':...</td>\n",
       "      <td>1,731 sqft</td>\n",
       "      <td>28227</td>\n",
       "      <td>2 Beds</td>\n",
       "      <td>NC</td>\n",
       "      <td>NaN</td>\n",
       "      <td>NaN</td>\n",
       "      <td>NaN</td>\n",
       "      <td>NaN</td>\n",
       "      <td>$331,990+</td>\n",
       "    </tr>\n",
       "    <tr>\n",
       "      <th>112</th>\n",
       "      <td>for sale</td>\n",
       "      <td>NaN</td>\n",
       "      <td>single-family home</td>\n",
       "      <td>Lantana ABC Plan in Freedom Hills</td>\n",
       "      <td>2 Baths</td>\n",
       "      <td>{'atAGlanceFacts': [{'factValue': '', 'factLab...</td>\n",
       "      <td>NaN</td>\n",
       "      <td>San Antonio</td>\n",
       "      <td>[{'rating': ['4/10', '3/10'], 'data': {'Distan...</td>\n",
       "      <td>1,709 sqft</td>\n",
       "      <td>78242</td>\n",
       "      <td>3 Beds</td>\n",
       "      <td>TX</td>\n",
       "      <td>1</td>\n",
       "      <td>NaN</td>\n",
       "      <td>NaN</td>\n",
       "      <td>NaN</td>\n",
       "      <td>$201,990+</td>\n",
       "    </tr>\n",
       "    <tr>\n",
       "      <th>124</th>\n",
       "      <td>for sale</td>\n",
       "      <td>NaN</td>\n",
       "      <td>single-family home</td>\n",
       "      <td>1848 Plan in Margaritaville Cottages Orlando</td>\n",
       "      <td>5.5 Baths</td>\n",
       "      <td>{'atAGlanceFacts': [{'factValue': '', 'factLab...</td>\n",
       "      <td>NaN</td>\n",
       "      <td>Kissimmee</td>\n",
       "      <td>[{'rating': ['6/10', '4/10'], 'data': {'Distan...</td>\n",
       "      <td>1,848 sqft</td>\n",
       "      <td>34747</td>\n",
       "      <td>5 Beds</td>\n",
       "      <td>FL</td>\n",
       "      <td>2.0</td>\n",
       "      <td>NaN</td>\n",
       "      <td>NaN</td>\n",
       "      <td>NaN</td>\n",
       "      <td>$494,800+</td>\n",
       "    </tr>\n",
       "    <tr>\n",
       "      <th>130</th>\n",
       "      <td>for sale</td>\n",
       "      <td>NaN</td>\n",
       "      <td>condo</td>\n",
       "      <td>Astor D Plan in The Grove</td>\n",
       "      <td>2 Baths</td>\n",
       "      <td>{'atAGlanceFacts': [{'factValue': '', 'factLab...</td>\n",
       "      <td>NaN</td>\n",
       "      <td>Austin</td>\n",
       "      <td>[{'rating': ['9/10', '6/10', '7/10'], 'data': ...</td>\n",
       "      <td>1,375 sqft</td>\n",
       "      <td>78703</td>\n",
       "      <td>2 Beds</td>\n",
       "      <td>TX</td>\n",
       "      <td>1.0</td>\n",
       "      <td>NaN</td>\n",
       "      <td>NaN</td>\n",
       "      <td>NaN</td>\n",
       "      <td>$590,000+</td>\n",
       "    </tr>\n",
       "    <tr>\n",
       "      <th>...</th>\n",
       "      <td>...</td>\n",
       "      <td>...</td>\n",
       "      <td>...</td>\n",
       "      <td>...</td>\n",
       "      <td>...</td>\n",
       "      <td>...</td>\n",
       "      <td>...</td>\n",
       "      <td>...</td>\n",
       "      <td>...</td>\n",
       "      <td>...</td>\n",
       "      <td>...</td>\n",
       "      <td>...</td>\n",
       "      <td>...</td>\n",
       "      <td>...</td>\n",
       "      <td>...</td>\n",
       "      <td>...</td>\n",
       "      <td>...</td>\n",
       "      <td>...</td>\n",
       "    </tr>\n",
       "    <tr>\n",
       "      <th>376851</th>\n",
       "      <td>for sale</td>\n",
       "      <td>NaN</td>\n",
       "      <td>townhouse</td>\n",
       "      <td>Chesters Plan in Waterford Park : Barrington &amp;...</td>\n",
       "      <td>NaN</td>\n",
       "      <td>{'atAGlanceFacts': [{'factValue': '', 'factLab...</td>\n",
       "      <td>NaN</td>\n",
       "      <td>San Antonio</td>\n",
       "      <td>[{'rating': ['7/10', '8/10', 'None/10', 'None/...</td>\n",
       "      <td>1,034 sqft</td>\n",
       "      <td>78253</td>\n",
       "      <td>2 Beds</td>\n",
       "      <td>TX</td>\n",
       "      <td>1.0</td>\n",
       "      <td>NaN</td>\n",
       "      <td>yes</td>\n",
       "      <td>NaN</td>\n",
       "      <td>$179,999+</td>\n",
       "    </tr>\n",
       "    <tr>\n",
       "      <th>376909</th>\n",
       "      <td>for sale</td>\n",
       "      <td>NaN</td>\n",
       "      <td>townhouse</td>\n",
       "      <td>Giada Plan in Avesa</td>\n",
       "      <td>2.5 Baths</td>\n",
       "      <td>{'atAGlanceFacts': [{'factValue': '', 'factLab...</td>\n",
       "      <td>NaN</td>\n",
       "      <td>Tampa</td>\n",
       "      <td>[{'rating': ['6/10', '5/10', '5/10'], 'data': ...</td>\n",
       "      <td>2,262 sqft</td>\n",
       "      <td>33625</td>\n",
       "      <td>3 Beds</td>\n",
       "      <td>FL</td>\n",
       "      <td>2.0</td>\n",
       "      <td>NaN</td>\n",
       "      <td>yes</td>\n",
       "      <td>NaN</td>\n",
       "      <td>$327,990+</td>\n",
       "    </tr>\n",
       "    <tr>\n",
       "      <th>376966</th>\n",
       "      <td>for sale</td>\n",
       "      <td>NaN</td>\n",
       "      <td>single-family home</td>\n",
       "      <td>Sunnydale Plan in Fox Creek</td>\n",
       "      <td>2.5 Baths</td>\n",
       "      <td>{'atAGlanceFacts': [{'factValue': '2017', 'fac...</td>\n",
       "      <td>NaN</td>\n",
       "      <td>Jacksonville</td>\n",
       "      <td>[{'rating': ['2/10', '4/10', '3/10'], 'data': ...</td>\n",
       "      <td>2,205 sqft</td>\n",
       "      <td>32222</td>\n",
       "      <td>4 Beds</td>\n",
       "      <td>FL</td>\n",
       "      <td>2</td>\n",
       "      <td>NaN</td>\n",
       "      <td>NaN</td>\n",
       "      <td>NaN</td>\n",
       "      <td>$234,990+</td>\n",
       "    </tr>\n",
       "    <tr>\n",
       "      <th>376972</th>\n",
       "      <td>for sale</td>\n",
       "      <td>NaN</td>\n",
       "      <td>townhouse</td>\n",
       "      <td>1566-3 Plan in The Villas at Del Sol</td>\n",
       "      <td>2.5 Baths</td>\n",
       "      <td>{'atAGlanceFacts': [{'factValue': '', 'factLab...</td>\n",
       "      <td>NaN</td>\n",
       "      <td>Murfreesboro</td>\n",
       "      <td>[{'rating': ['4/10', '8/10', '7/10'], 'data': ...</td>\n",
       "      <td>1,566 sqft</td>\n",
       "      <td>37127</td>\n",
       "      <td>3 Beds</td>\n",
       "      <td>TN</td>\n",
       "      <td>2.0</td>\n",
       "      <td>NaN</td>\n",
       "      <td>NaN</td>\n",
       "      <td>NaN</td>\n",
       "      <td>$231,100+</td>\n",
       "    </tr>\n",
       "    <tr>\n",
       "      <th>377002</th>\n",
       "      <td>for sale</td>\n",
       "      <td>NaN</td>\n",
       "      <td>single-family home</td>\n",
       "      <td>The Duncan Plan in American West Rainbow Cross...</td>\n",
       "      <td>2.5 Baths</td>\n",
       "      <td>{'atAGlanceFacts': [{'factValue': '2018', 'fac...</td>\n",
       "      <td>NaN</td>\n",
       "      <td>Las Vegas</td>\n",
       "      <td>[{'rating': ['4/10', 'None/10', '6/10'], 'data...</td>\n",
       "      <td>3,021 sqft</td>\n",
       "      <td>89139</td>\n",
       "      <td>4 Beds</td>\n",
       "      <td>NV</td>\n",
       "      <td>2</td>\n",
       "      <td>NaN</td>\n",
       "      <td>NaN</td>\n",
       "      <td>NaN</td>\n",
       "      <td>$433,500+</td>\n",
       "    </tr>\n",
       "  </tbody>\n",
       "</table>\n",
       "<p>7263 rows × 18 columns</p>\n",
       "</div>"
      ],
      "text/plain": [
       "          status private pool        propertyType  \\\n",
       "47      for sale          NaN  single-family home   \n",
       "97      for sale          NaN  single-family home   \n",
       "112     for sale          NaN  single-family home   \n",
       "124     for sale          NaN  single-family home   \n",
       "130     for sale          NaN               condo   \n",
       "...          ...          ...                 ...   \n",
       "376851  for sale          NaN           townhouse   \n",
       "376909  for sale          NaN           townhouse   \n",
       "376966  for sale          NaN  single-family home   \n",
       "376972  for sale          NaN           townhouse   \n",
       "377002  for sale          NaN  single-family home   \n",
       "\n",
       "                                                   street      baths  \\\n",
       "47                          Santa Rosa Plan in Twin Mills    2 Baths   \n",
       "97                 Armstrong Plan in Cadence at Mint Hill  2.5 Baths   \n",
       "112                     Lantana ABC Plan in Freedom Hills    2 Baths   \n",
       "124          1848 Plan in Margaritaville Cottages Orlando  5.5 Baths   \n",
       "130                             Astor D Plan in The Grove    2 Baths   \n",
       "...                                                   ...        ...   \n",
       "376851  Chesters Plan in Waterford Park : Barrington &...        NaN   \n",
       "376909                                Giada Plan in Avesa  2.5 Baths   \n",
       "376966                        Sunnydale Plan in Fox Creek  2.5 Baths   \n",
       "376972               1566-3 Plan in The Villas at Del Sol  2.5 Baths   \n",
       "377002  The Duncan Plan in American West Rainbow Cross...  2.5 Baths   \n",
       "\n",
       "                                                homeFacts fireplace  \\\n",
       "47      {'atAGlanceFacts': [{'factValue': '2017', 'fac...       NaN   \n",
       "97      {'atAGlanceFacts': [{'factValue': '', 'factLab...       NaN   \n",
       "112     {'atAGlanceFacts': [{'factValue': '', 'factLab...       NaN   \n",
       "124     {'atAGlanceFacts': [{'factValue': '', 'factLab...       NaN   \n",
       "130     {'atAGlanceFacts': [{'factValue': '', 'factLab...       NaN   \n",
       "...                                                   ...       ...   \n",
       "376851  {'atAGlanceFacts': [{'factValue': '', 'factLab...       NaN   \n",
       "376909  {'atAGlanceFacts': [{'factValue': '', 'factLab...       NaN   \n",
       "376966  {'atAGlanceFacts': [{'factValue': '2017', 'fac...       NaN   \n",
       "376972  {'atAGlanceFacts': [{'factValue': '', 'factLab...       NaN   \n",
       "377002  {'atAGlanceFacts': [{'factValue': '2018', 'fac...       NaN   \n",
       "\n",
       "                city                                            schools  \\\n",
       "47        Fort Worth  [{'rating': ['7/10', '6/10', '8/10'], 'data': ...   \n",
       "97         Mint Hill  [{'rating': ['5/10', '10/10', '6/10'], 'data':...   \n",
       "112      San Antonio  [{'rating': ['4/10', '3/10'], 'data': {'Distan...   \n",
       "124        Kissimmee  [{'rating': ['6/10', '4/10'], 'data': {'Distan...   \n",
       "130           Austin  [{'rating': ['9/10', '6/10', '7/10'], 'data': ...   \n",
       "...              ...                                                ...   \n",
       "376851   San Antonio  [{'rating': ['7/10', '8/10', 'None/10', 'None/...   \n",
       "376909         Tampa  [{'rating': ['6/10', '5/10', '5/10'], 'data': ...   \n",
       "376966  Jacksonville  [{'rating': ['2/10', '4/10', '3/10'], 'data': ...   \n",
       "376972  Murfreesboro  [{'rating': ['4/10', '8/10', '7/10'], 'data': ...   \n",
       "377002     Las Vegas  [{'rating': ['4/10', 'None/10', '6/10'], 'data...   \n",
       "\n",
       "              sqft zipcode    beds state stories mls-id PrivatePool MlsId  \\\n",
       "47      1,683 sqft   76179  3 Beds    TX       1    NaN         NaN   NaN   \n",
       "97      1,731 sqft   28227  2 Beds    NC     NaN    NaN         NaN   NaN   \n",
       "112     1,709 sqft   78242  3 Beds    TX       1    NaN         NaN   NaN   \n",
       "124     1,848 sqft   34747  5 Beds    FL     2.0    NaN         NaN   NaN   \n",
       "130     1,375 sqft   78703  2 Beds    TX     1.0    NaN         NaN   NaN   \n",
       "...            ...     ...     ...   ...     ...    ...         ...   ...   \n",
       "376851  1,034 sqft   78253  2 Beds    TX     1.0    NaN         yes   NaN   \n",
       "376909  2,262 sqft   33625  3 Beds    FL     2.0    NaN         yes   NaN   \n",
       "376966  2,205 sqft   32222  4 Beds    FL       2    NaN         NaN   NaN   \n",
       "376972  1,566 sqft   37127  3 Beds    TN     2.0    NaN         NaN   NaN   \n",
       "377002  3,021 sqft   89139  4 Beds    NV       2    NaN         NaN   NaN   \n",
       "\n",
       "           target  \n",
       "47      $233,990+  \n",
       "97      $331,990+  \n",
       "112     $201,990+  \n",
       "124     $494,800+  \n",
       "130     $590,000+  \n",
       "...           ...  \n",
       "376851  $179,999+  \n",
       "376909  $327,990+  \n",
       "376966  $234,990+  \n",
       "376972  $231,100+  \n",
       "377002  $433,500+  \n",
       "\n",
       "[7263 rows x 18 columns]"
      ]
     },
     "metadata": {},
     "output_type": "display_data"
    },
    {
     "name": "stdout",
     "output_type": "stream",
     "text": [
      "Доля объявлений со знаком \"+\" в цене: 1.940%\n"
     ]
    }
   ],
   "source": [
    "plus_mask = df['target'].str.contains('\\\\+')\n",
    "display(df[plus_mask])\n",
    "print(\n",
    "    'Доля объявлений со знаком \"+\" в цене:', \n",
    "    utils.get_percentage(plus_mask.sum(), df.shape[0])\n",
    ")"
   ]
  },
  {
   "cell_type": "markdown",
   "metadata": {},
   "source": [
    "Так как доля объявлений со знаком \"+\" мала, не будем выделять отдельный признак под это.\n",
    "\n",
    "Уберём теперь посторонние символы \"$\", \"+\", \",\" и преобразуем к численному признаку.\n",
    "\n",
    "После чего посмотрим на распределение целевого признака"
   ]
  },
  {
   "cell_type": "code",
   "execution_count": 8,
   "metadata": {},
   "outputs": [
    {
     "data": {
      "image/png": "[encoded data removed]",
      "text/plain": [
       "<Figure size 640x480 with 2 Axes>"
      ]
     },
     "metadata": {},
     "output_type": "display_data"
    }
   ],
   "source": [
    "df['target'] = build_features.get_numerical_target(df['target'])\n",
    "\n",
    "visualize.plot_box_hist_plot(\n",
    "    df, \n",
    "    'target', \n",
    "    numeric_label='price [$]', \n",
    "    log_scale=True, \n",
    "    title='Target distribution',\n",
    ");"
   ]
  },
  {
   "cell_type": "markdown",
   "metadata": {},
   "source": [
    "График был построен в логарифмических координатах, так имеется большой разброс в стоимости жилья.\n",
    "Больше половины объявлений имеют стоимость в диапазоне 100 000 - 1 000 000 $.\n",
    "Расмотрим внимательнее выбросы."
   ]
  },
  {
   "cell_type": "code",
   "execution_count": 9,
   "metadata": {},
   "outputs": [
    {
     "data": {
      "text/html": [
       "<h2>Property type for low-cost"
      ],
      "text/plain": [
       "<IPython.core.display.HTML object>"
      ]
     },
     "metadata": {},
     "output_type": "display_data"
    },
    {
     "data": {
      "text/plain": [
       "propertyType\n",
       "lot/land                10812\n",
       "Land                     7304\n",
       "single-family home       6581\n",
       "Single Family            3285\n",
       "Single Family Home       1967\n",
       "                        ...  \n",
       "Custom                      1\n",
       "Multiplex, Ranch            1\n",
       "English, Traditional        1\n",
       "Other - See Remarks         1\n",
       "Cottage/Camp                1\n",
       "Name: count, Length: 166, dtype: int64"
      ]
     },
     "metadata": {},
     "output_type": "display_data"
    },
    {
     "data": {
      "text/html": [
       "<h2>Property type for high-cost"
      ],
      "text/plain": [
       "<IPython.core.display.HTML object>"
      ]
     },
     "metadata": {},
     "output_type": "display_data"
    },
    {
     "data": {
      "text/plain": [
       "propertyType\n",
       "single-family home                                                        9233\n",
       "Single Family                                                             7099\n",
       "condo                                                                     4286\n",
       "Single Family Home                                                        2539\n",
       "multi-family                                                              2437\n",
       "                                                                          ... \n",
       "2 Stories, Traditional, Texas Hill Country                                   1\n",
       "Single Detached, Contemporary/Modern, Other (See Remarks), Traditional       1\n",
       "Courtyard, Custom                                                            1\n",
       "Contemporary/Modern, English, French, Traditional                            1\n",
       "Lake House, Single Detached, Tudor                                           1\n",
       "Name: count, Length: 493, dtype: int64"
      ]
     },
     "metadata": {},
     "output_type": "display_data"
    }
   ],
   "source": [
    "display(HTML(\"<h2>Property type for low-cost\"))\n",
    "display(df[df['target'] < 1e5]['propertyType'].value_counts())\n",
    "display(HTML(\"<h2>Property type for high-cost\"))\n",
    "display(df[df['target'] > 1e6]['propertyType'].value_counts())"
   ]
  },
  {
   "cell_type": "markdown",
   "metadata": {},
   "source": [
    "В большиестве случаев низкая стоимость обусловлена тем, что продаётся земля.\n",
    "Однако, есть подозрения, что в ряде случаев была указана стоимость аренды.\n",
    "Последнее можно будет уточнить при последующем анализе данных.\n",
    "\n",
    "Что же касается больших стоимостей, то по всей видимости речь идёт о дорогих особняках.\n",
    "Их можно будет либо удалить как выбросы, либо делать прогноз в логарифмической шкале.\n",
    "Уточним позже."
   ]
  },
  {
   "cell_type": "markdown",
   "metadata": {},
   "source": [
    "## sqft и stories"
   ]
  },
  {
   "cell_type": "markdown",
   "metadata": {},
   "source": [
    "Разберёмся теперь с площадью и количеством этажей, так как они тоже должны иметь числовые признаки"
   ]
  },
  {
   "cell_type": "code",
   "execution_count": 10,
   "metadata": {},
   "outputs": [
    {
     "data": {
      "text/plain": [
       "sqft\n",
       "[,,  sqft]                                   138517\n",
       "[,]                                           91482\n",
       "[]                                            61588\n",
       "[Total interior livable area: , ,,  sqft]     21077\n",
       "[ sqft]                                       18434\n",
       "[Total interior livable area: ,  sqft]         2266\n",
       "[--]                                            535\n",
       "[-- sqft]                                       276\n",
       "[,, ,,  sqft]                                    18\n",
       "[,, ,]                                            2\n",
       "Name: count, dtype: int64"
      ]
     },
     "metadata": {},
     "output_type": "display_data"
    },
    {
     "data": {
      "text/html": [
       "<h2>Data with \"--\""
      ]
     },
     "metadata": {},
     "output_type": "display_data"
    },
    {
     "data": {
      "text/html": [
       "<div>\n",
       "<style scoped>\n",
       "    .dataframe tbody tr th:only-of-type {\n",
       "        vertical-align: middle;\n",
       "    }\n",
       "\n",
       "    .dataframe tbody tr th {\n",
       "        vertical-align: top;\n",
       "    }\n",
       "\n",
       "    .dataframe thead th {\n",
       "        text-align: right;\n",
       "    }\n",
       "</style>\n",
       "<table border=\"1\" class=\"dataframe\">\n",
       "  <thead>\n",
       "    <tr style=\"text-align: right;\">\n",
       "      <th></th>\n",
       "      <th>status</th>\n",
       "      <th>private pool</th>\n",
       "      <th>propertyType</th>\n",
       "      <th>street</th>\n",
       "      <th>baths</th>\n",
       "      <th>homeFacts</th>\n",
       "      <th>fireplace</th>\n",
       "      <th>city</th>\n",
       "      <th>schools</th>\n",
       "      <th>sqft</th>\n",
       "      <th>zipcode</th>\n",
       "      <th>beds</th>\n",
       "      <th>state</th>\n",
       "      <th>stories</th>\n",
       "      <th>mls-id</th>\n",
       "      <th>PrivatePool</th>\n",
       "      <th>MlsId</th>\n",
       "      <th>target</th>\n",
       "    </tr>\n",
       "  </thead>\n",
       "  <tbody>\n",
       "    <tr>\n",
       "      <th>440</th>\n",
       "      <td>For sale</td>\n",
       "      <td>NaN</td>\n",
       "      <td>Condo</td>\n",
       "      <td>606 W 81st St # 129 E</td>\n",
       "      <td>Bathrooms: 1</td>\n",
       "      <td>{'atAGlanceFacts': [{'factValue': '1971', 'fac...</td>\n",
       "      <td>NaN</td>\n",
       "      <td>Hialeah</td>\n",
       "      <td>[{'rating': ['10/10', '6/10', '6/10'], 'data':...</td>\n",
       "      <td>-- sqft</td>\n",
       "      <td>33014</td>\n",
       "      <td>1 bd</td>\n",
       "      <td>FL</td>\n",
       "      <td>NaN</td>\n",
       "      <td>A10773663</td>\n",
       "      <td>NaN</td>\n",
       "      <td>NaN</td>\n",
       "      <td>130000</td>\n",
       "    </tr>\n",
       "    <tr>\n",
       "      <th>700</th>\n",
       "      <td>NaN</td>\n",
       "      <td>NaN</td>\n",
       "      <td>Condo</td>\n",
       "      <td>1000 Brickell Ave # 2215</td>\n",
       "      <td>3.0</td>\n",
       "      <td>{'atAGlanceFacts': [{'factValue': '2019', 'fac...</td>\n",
       "      <td>NaN</td>\n",
       "      <td>Miami</td>\n",
       "      <td>[{'rating': ['10/10', '2/10'], 'data': {'Dista...</td>\n",
       "      <td>--</td>\n",
       "      <td>33131</td>\n",
       "      <td>2</td>\n",
       "      <td>FL</td>\n",
       "      <td>NaN</td>\n",
       "      <td>NaN</td>\n",
       "      <td>NaN</td>\n",
       "      <td>2215, Miami, FL 33131</td>\n",
       "      <td>1100000</td>\n",
       "    </tr>\n",
       "    <tr>\n",
       "      <th>951</th>\n",
       "      <td>NaN</td>\n",
       "      <td>NaN</td>\n",
       "      <td>Multi Family</td>\n",
       "      <td>163 NW 68th Ter</td>\n",
       "      <td>4.0</td>\n",
       "      <td>{'atAGlanceFacts': [{'factValue': '2019', 'fac...</td>\n",
       "      <td>NaN</td>\n",
       "      <td>Miami</td>\n",
       "      <td>[{'rating': ['10/10', '2/10'], 'data': {'Dista...</td>\n",
       "      <td>--</td>\n",
       "      <td>33150</td>\n",
       "      <td>6</td>\n",
       "      <td>FL</td>\n",
       "      <td>2.0</td>\n",
       "      <td>NaN</td>\n",
       "      <td>NaN</td>\n",
       "      <td>A10741015</td>\n",
       "      <td>599000</td>\n",
       "    </tr>\n",
       "    <tr>\n",
       "      <th>1455</th>\n",
       "      <td>NaN</td>\n",
       "      <td>NaN</td>\n",
       "      <td>Townhouse</td>\n",
       "      <td>NW 89th Ter</td>\n",
       "      <td>3.0</td>\n",
       "      <td>{'atAGlanceFacts': [{'factValue': '2015', 'fac...</td>\n",
       "      <td>NaN</td>\n",
       "      <td>Doral</td>\n",
       "      <td>[{'rating': ['10/10', '8/10'], 'data': {'Dista...</td>\n",
       "      <td>--</td>\n",
       "      <td>33178</td>\n",
       "      <td>3</td>\n",
       "      <td>FL</td>\n",
       "      <td>NaN</td>\n",
       "      <td>NaN</td>\n",
       "      <td>Yes</td>\n",
       "      <td>A10732483</td>\n",
       "      <td>390000</td>\n",
       "    </tr>\n",
       "    <tr>\n",
       "      <th>2030</th>\n",
       "      <td>New construction</td>\n",
       "      <td>NaN</td>\n",
       "      <td>Single Family</td>\n",
       "      <td>3214 Walworth Ave</td>\n",
       "      <td>4.0</td>\n",
       "      <td>{'atAGlanceFacts': [{'factValue': 'No Data', '...</td>\n",
       "      <td>Yes</td>\n",
       "      <td>Cincinnati</td>\n",
       "      <td>[{'rating': ['2/10', '2/10'], 'data': {'Distan...</td>\n",
       "      <td>--</td>\n",
       "      <td>45226</td>\n",
       "      <td>3</td>\n",
       "      <td>OH</td>\n",
       "      <td>NaN</td>\n",
       "      <td>NaN</td>\n",
       "      <td>NaN</td>\n",
       "      <td>1614162</td>\n",
       "      <td>545000</td>\n",
       "    </tr>\n",
       "    <tr>\n",
       "      <th>...</th>\n",
       "      <td>...</td>\n",
       "      <td>...</td>\n",
       "      <td>...</td>\n",
       "      <td>...</td>\n",
       "      <td>...</td>\n",
       "      <td>...</td>\n",
       "      <td>...</td>\n",
       "      <td>...</td>\n",
       "      <td>...</td>\n",
       "      <td>...</td>\n",
       "      <td>...</td>\n",
       "      <td>...</td>\n",
       "      <td>...</td>\n",
       "      <td>...</td>\n",
       "      <td>...</td>\n",
       "      <td>...</td>\n",
       "      <td>...</td>\n",
       "      <td>...</td>\n",
       "    </tr>\n",
       "    <tr>\n",
       "      <th>374655</th>\n",
       "      <td>For sale</td>\n",
       "      <td>NaN</td>\n",
       "      <td>Condo</td>\n",
       "      <td>750 SW 138th Ave APT F205</td>\n",
       "      <td>2 ba</td>\n",
       "      <td>{'atAGlanceFacts': [{'factValue': '1994', 'fac...</td>\n",
       "      <td>NaN</td>\n",
       "      <td>Pembroke Pines</td>\n",
       "      <td>[{'rating': ['7/10', '8/10', '7/10'], 'data': ...</td>\n",
       "      <td>-- sqft</td>\n",
       "      <td>33027</td>\n",
       "      <td>2 bd</td>\n",
       "      <td>FL</td>\n",
       "      <td>NaN</td>\n",
       "      <td>A10776605</td>\n",
       "      <td>NaN</td>\n",
       "      <td>NaN</td>\n",
       "      <td>160000</td>\n",
       "    </tr>\n",
       "    <tr>\n",
       "      <th>375945</th>\n",
       "      <td>NaN</td>\n",
       "      <td>NaN</td>\n",
       "      <td>Townhouse</td>\n",
       "      <td>1433 SW 66th Ave</td>\n",
       "      <td>5.0</td>\n",
       "      <td>{'atAGlanceFacts': [{'factValue': '2019', 'fac...</td>\n",
       "      <td>NaN</td>\n",
       "      <td>West Miami</td>\n",
       "      <td>[{'rating': ['10/10', '3/10', '3/10'], 'data':...</td>\n",
       "      <td>--</td>\n",
       "      <td>33144</td>\n",
       "      <td>4</td>\n",
       "      <td>FL</td>\n",
       "      <td>NaN</td>\n",
       "      <td>NaN</td>\n",
       "      <td>NaN</td>\n",
       "      <td>A10765095</td>\n",
       "      <td>615000</td>\n",
       "    </tr>\n",
       "    <tr>\n",
       "      <th>376356</th>\n",
       "      <td>NaN</td>\n",
       "      <td>NaN</td>\n",
       "      <td>Condo</td>\n",
       "      <td>551 N Ftl Bch Blvd # H1016</td>\n",
       "      <td>2.0</td>\n",
       "      <td>{'atAGlanceFacts': [{'factValue': '2016', 'fac...</td>\n",
       "      <td>NaN</td>\n",
       "      <td>Fort Lauderdale</td>\n",
       "      <td>[{'rating': ['7/10', '5/10', '7/10'], 'data': ...</td>\n",
       "      <td>--</td>\n",
       "      <td>33304</td>\n",
       "      <td>1</td>\n",
       "      <td>FL</td>\n",
       "      <td>NaN</td>\n",
       "      <td>NaN</td>\n",
       "      <td>NaN</td>\n",
       "      <td>H1016, Fort Lauderdale, FL 33304</td>\n",
       "      <td>897500</td>\n",
       "    </tr>\n",
       "    <tr>\n",
       "      <th>376988</th>\n",
       "      <td>NaN</td>\n",
       "      <td>NaN</td>\n",
       "      <td>Single Family</td>\n",
       "      <td>3435 East</td>\n",
       "      <td>1.0</td>\n",
       "      <td>{'atAGlanceFacts': [{'factValue': '1955', 'fac...</td>\n",
       "      <td>NaN</td>\n",
       "      <td>Hialeah</td>\n",
       "      <td>[{'rating': ['10/10', '3/10'], 'data': {'Dista...</td>\n",
       "      <td>--</td>\n",
       "      <td>33013</td>\n",
       "      <td>3</td>\n",
       "      <td>FL</td>\n",
       "      <td>NaN</td>\n",
       "      <td>NaN</td>\n",
       "      <td>NaN</td>\n",
       "      <td>A10783130</td>\n",
       "      <td>340000</td>\n",
       "    </tr>\n",
       "    <tr>\n",
       "      <th>376999</th>\n",
       "      <td>NaN</td>\n",
       "      <td>NaN</td>\n",
       "      <td>Single Family</td>\n",
       "      <td>9121 SW 69th Ct</td>\n",
       "      <td>5.0</td>\n",
       "      <td>{'atAGlanceFacts': [{'factValue': '2016', 'fac...</td>\n",
       "      <td>NaN</td>\n",
       "      <td>Pinecrest</td>\n",
       "      <td>[{'rating': ['10/10', '6/10'], 'data': {'Dista...</td>\n",
       "      <td>--</td>\n",
       "      <td>33156</td>\n",
       "      <td>5</td>\n",
       "      <td>FL</td>\n",
       "      <td>NaN</td>\n",
       "      <td>NaN</td>\n",
       "      <td>Yes</td>\n",
       "      <td>A10747172</td>\n",
       "      <td>2895000</td>\n",
       "    </tr>\n",
       "  </tbody>\n",
       "</table>\n",
       "<p>811 rows × 18 columns</p>\n",
       "</div>"
      ],
      "text/plain": [
       "                  status private pool   propertyType  \\\n",
       "440             For sale          NaN          Condo   \n",
       "700                  NaN          NaN          Condo   \n",
       "951                  NaN          NaN   Multi Family   \n",
       "1455                 NaN          NaN      Townhouse   \n",
       "2030    New construction          NaN  Single Family   \n",
       "...                  ...          ...            ...   \n",
       "374655          For sale          NaN          Condo   \n",
       "375945               NaN          NaN      Townhouse   \n",
       "376356               NaN          NaN          Condo   \n",
       "376988               NaN          NaN  Single Family   \n",
       "376999               NaN          NaN  Single Family   \n",
       "\n",
       "                            street         baths  \\\n",
       "440          606 W 81st St # 129 E  Bathrooms: 1   \n",
       "700       1000 Brickell Ave # 2215           3.0   \n",
       "951                163 NW 68th Ter           4.0   \n",
       "1455                   NW 89th Ter           3.0   \n",
       "2030             3214 Walworth Ave           4.0   \n",
       "...                            ...           ...   \n",
       "374655   750 SW 138th Ave APT F205          2 ba   \n",
       "375945            1433 SW 66th Ave           5.0   \n",
       "376356  551 N Ftl Bch Blvd # H1016           2.0   \n",
       "376988                   3435 East           1.0   \n",
       "376999             9121 SW 69th Ct           5.0   \n",
       "\n",
       "                                                homeFacts fireplace  \\\n",
       "440     {'atAGlanceFacts': [{'factValue': '1971', 'fac...       NaN   \n",
       "700     {'atAGlanceFacts': [{'factValue': '2019', 'fac...       NaN   \n",
       "951     {'atAGlanceFacts': [{'factValue': '2019', 'fac...       NaN   \n",
       "1455    {'atAGlanceFacts': [{'factValue': '2015', 'fac...       NaN   \n",
       "2030    {'atAGlanceFacts': [{'factValue': 'No Data', '...       Yes   \n",
       "...                                                   ...       ...   \n",
       "374655  {'atAGlanceFacts': [{'factValue': '1994', 'fac...       NaN   \n",
       "375945  {'atAGlanceFacts': [{'factValue': '2019', 'fac...       NaN   \n",
       "376356  {'atAGlanceFacts': [{'factValue': '2016', 'fac...       NaN   \n",
       "376988  {'atAGlanceFacts': [{'factValue': '1955', 'fac...       NaN   \n",
       "376999  {'atAGlanceFacts': [{'factValue': '2016', 'fac...       NaN   \n",
       "\n",
       "                   city                                            schools  \\\n",
       "440             Hialeah  [{'rating': ['10/10', '6/10', '6/10'], 'data':...   \n",
       "700               Miami  [{'rating': ['10/10', '2/10'], 'data': {'Dista...   \n",
       "951               Miami  [{'rating': ['10/10', '2/10'], 'data': {'Dista...   \n",
       "1455              Doral  [{'rating': ['10/10', '8/10'], 'data': {'Dista...   \n",
       "2030         Cincinnati  [{'rating': ['2/10', '2/10'], 'data': {'Distan...   \n",
       "...                 ...                                                ...   \n",
       "374655   Pembroke Pines  [{'rating': ['7/10', '8/10', '7/10'], 'data': ...   \n",
       "375945       West Miami  [{'rating': ['10/10', '3/10', '3/10'], 'data':...   \n",
       "376356  Fort Lauderdale  [{'rating': ['7/10', '5/10', '7/10'], 'data': ...   \n",
       "376988          Hialeah  [{'rating': ['10/10', '3/10'], 'data': {'Dista...   \n",
       "376999        Pinecrest  [{'rating': ['10/10', '6/10'], 'data': {'Dista...   \n",
       "\n",
       "           sqft zipcode  beds state stories     mls-id PrivatePool  \\\n",
       "440     -- sqft   33014  1 bd    FL     NaN  A10773663         NaN   \n",
       "700          --   33131     2    FL     NaN        NaN         NaN   \n",
       "951          --   33150     6    FL     2.0        NaN         NaN   \n",
       "1455         --   33178     3    FL     NaN        NaN         Yes   \n",
       "2030         --   45226     3    OH     NaN        NaN         NaN   \n",
       "...         ...     ...   ...   ...     ...        ...         ...   \n",
       "374655  -- sqft   33027  2 bd    FL     NaN  A10776605         NaN   \n",
       "375945       --   33144     4    FL     NaN        NaN         NaN   \n",
       "376356       --   33304     1    FL     NaN        NaN         NaN   \n",
       "376988       --   33013     3    FL     NaN        NaN         NaN   \n",
       "376999       --   33156     5    FL     NaN        NaN         Yes   \n",
       "\n",
       "                                    MlsId   target  \n",
       "440                                   NaN   130000  \n",
       "700                 2215, Miami, FL 33131  1100000  \n",
       "951                             A10741015   599000  \n",
       "1455                            A10732483   390000  \n",
       "2030                              1614162   545000  \n",
       "...                                   ...      ...  \n",
       "374655                                NaN   160000  \n",
       "375945                          A10765095   615000  \n",
       "376356   H1016, Fort Lauderdale, FL 33304   897500  \n",
       "376988                          A10783130   340000  \n",
       "376999                          A10747172  2895000  \n",
       "\n",
       "[811 rows x 18 columns]"
      ]
     },
     "metadata": {},
     "output_type": "display_data"
    },
    {
     "data": {
      "text/html": [
       "<h2>Data with \"Total interior livable area\""
      ]
     },
     "metadata": {},
     "output_type": "display_data"
    },
    {
     "data": {
      "text/html": [
       "<div>\n",
       "<style scoped>\n",
       "    .dataframe tbody tr th:only-of-type {\n",
       "        vertical-align: middle;\n",
       "    }\n",
       "\n",
       "    .dataframe tbody tr th {\n",
       "        vertical-align: top;\n",
       "    }\n",
       "\n",
       "    .dataframe thead th {\n",
       "        text-align: right;\n",
       "    }\n",
       "</style>\n",
       "<table border=\"1\" class=\"dataframe\">\n",
       "  <thead>\n",
       "    <tr style=\"text-align: right;\">\n",
       "      <th></th>\n",
       "      <th>status</th>\n",
       "      <th>private pool</th>\n",
       "      <th>propertyType</th>\n",
       "      <th>street</th>\n",
       "      <th>baths</th>\n",
       "      <th>homeFacts</th>\n",
       "      <th>fireplace</th>\n",
       "      <th>city</th>\n",
       "      <th>schools</th>\n",
       "      <th>sqft</th>\n",
       "      <th>zipcode</th>\n",
       "      <th>beds</th>\n",
       "      <th>state</th>\n",
       "      <th>stories</th>\n",
       "      <th>mls-id</th>\n",
       "      <th>PrivatePool</th>\n",
       "      <th>MlsId</th>\n",
       "      <th>target</th>\n",
       "    </tr>\n",
       "  </thead>\n",
       "  <tbody>\n",
       "    <tr>\n",
       "      <th>13</th>\n",
       "      <td>New construction</td>\n",
       "      <td>NaN</td>\n",
       "      <td>Single Family</td>\n",
       "      <td>1538 Umpqua Dr</td>\n",
       "      <td>Bathrooms: 2</td>\n",
       "      <td>{'atAGlanceFacts': [{'factValue': '2019', 'fac...</td>\n",
       "      <td>NaN</td>\n",
       "      <td>Eugene</td>\n",
       "      <td>[{'rating': ['7/10', '7/10', '8/10'], 'data': ...</td>\n",
       "      <td>Total interior livable area: 1,820 sqft</td>\n",
       "      <td>97401</td>\n",
       "      <td>3 bd</td>\n",
       "      <td>OR</td>\n",
       "      <td>1.0</td>\n",
       "      <td>19221142</td>\n",
       "      <td>NaN</td>\n",
       "      <td>NaN</td>\n",
       "      <td>499900</td>\n",
       "    </tr>\n",
       "    <tr>\n",
       "      <th>21</th>\n",
       "      <td>For sale</td>\n",
       "      <td>NaN</td>\n",
       "      <td>Single Family</td>\n",
       "      <td>61425 Gosney Rd</td>\n",
       "      <td>Bathrooms: 5</td>\n",
       "      <td>{'atAGlanceFacts': [{'factValue': '2008', 'fac...</td>\n",
       "      <td>Yes</td>\n",
       "      <td>Bend</td>\n",
       "      <td>[{'rating': ['8/10', '5/10', '6/10'], 'data': ...</td>\n",
       "      <td>Total interior livable area: 5,266 sqft</td>\n",
       "      <td>97702</td>\n",
       "      <td>5 bd</td>\n",
       "      <td>OR</td>\n",
       "      <td>1.0</td>\n",
       "      <td>201909438</td>\n",
       "      <td>NaN</td>\n",
       "      <td>NaN</td>\n",
       "      <td>3500000</td>\n",
       "    </tr>\n",
       "    <tr>\n",
       "      <th>31</th>\n",
       "      <td>For sale</td>\n",
       "      <td>NaN</td>\n",
       "      <td>Single Family</td>\n",
       "      <td>6712 N Glen Ave</td>\n",
       "      <td>Bathrooms: 2</td>\n",
       "      <td>{'atAGlanceFacts': [{'factValue': '1960', 'fac...</td>\n",
       "      <td>NaN</td>\n",
       "      <td>Tampa</td>\n",
       "      <td>[{'rating': ['5/10', '2/10', '4/10'], 'data': ...</td>\n",
       "      <td>Total interior livable area: 1,677 sqft</td>\n",
       "      <td>33614</td>\n",
       "      <td>4 bd</td>\n",
       "      <td>FL</td>\n",
       "      <td>0.0</td>\n",
       "      <td>T3159863</td>\n",
       "      <td>NaN</td>\n",
       "      <td>NaN</td>\n",
       "      <td>262000</td>\n",
       "    </tr>\n",
       "    <tr>\n",
       "      <th>38</th>\n",
       "      <td>For sale</td>\n",
       "      <td>NaN</td>\n",
       "      <td>Single Family</td>\n",
       "      <td>5531 Eureka Springs Rd</td>\n",
       "      <td>Bathrooms: 1</td>\n",
       "      <td>{'atAGlanceFacts': [{'factValue': '1930', 'fac...</td>\n",
       "      <td>NaN</td>\n",
       "      <td>Tampa</td>\n",
       "      <td>[{'rating': ['1/10', '2/10', '3/10'], 'data': ...</td>\n",
       "      <td>Total interior livable area: 1,232 sqft</td>\n",
       "      <td>33610</td>\n",
       "      <td>2 bd</td>\n",
       "      <td>FL</td>\n",
       "      <td>0.0</td>\n",
       "      <td>T3204536</td>\n",
       "      <td>NaN</td>\n",
       "      <td>NaN</td>\n",
       "      <td>117900</td>\n",
       "    </tr>\n",
       "    <tr>\n",
       "      <th>46</th>\n",
       "      <td>For sale</td>\n",
       "      <td>NaN</td>\n",
       "      <td>Single Family</td>\n",
       "      <td>4547 Cascades Shoreline Dr</td>\n",
       "      <td>Bathrooms: 5</td>\n",
       "      <td>{'atAGlanceFacts': [{'factValue': '2005', 'fac...</td>\n",
       "      <td>Yes</td>\n",
       "      <td>Tyler</td>\n",
       "      <td>[{'rating': ['4/10', '5/10', '2/10'], 'data': ...</td>\n",
       "      <td>Total interior livable area: 5,358 sqft</td>\n",
       "      <td>75709</td>\n",
       "      <td>5 bd</td>\n",
       "      <td>TX</td>\n",
       "      <td>2.0</td>\n",
       "      <td>10114247</td>\n",
       "      <td>NaN</td>\n",
       "      <td>NaN</td>\n",
       "      <td>1429000</td>\n",
       "    </tr>\n",
       "    <tr>\n",
       "      <th>...</th>\n",
       "      <td>...</td>\n",
       "      <td>...</td>\n",
       "      <td>...</td>\n",
       "      <td>...</td>\n",
       "      <td>...</td>\n",
       "      <td>...</td>\n",
       "      <td>...</td>\n",
       "      <td>...</td>\n",
       "      <td>...</td>\n",
       "      <td>...</td>\n",
       "      <td>...</td>\n",
       "      <td>...</td>\n",
       "      <td>...</td>\n",
       "      <td>...</td>\n",
       "      <td>...</td>\n",
       "      <td>...</td>\n",
       "      <td>...</td>\n",
       "      <td>...</td>\n",
       "    </tr>\n",
       "    <tr>\n",
       "      <th>377091</th>\n",
       "      <td>For sale</td>\n",
       "      <td>NaN</td>\n",
       "      <td>Single Family</td>\n",
       "      <td>916 Morningside Ln</td>\n",
       "      <td>Bathrooms: 3</td>\n",
       "      <td>{'atAGlanceFacts': [{'factValue': '1993', 'fac...</td>\n",
       "      <td>Yes</td>\n",
       "      <td>Allen</td>\n",
       "      <td>[{'rating': ['10/10', '10/10', '7/10'], 'data'...</td>\n",
       "      <td>Total interior livable area: 2,619 sqft</td>\n",
       "      <td>75002</td>\n",
       "      <td>4 bd</td>\n",
       "      <td>TX</td>\n",
       "      <td>2.0</td>\n",
       "      <td>14170825</td>\n",
       "      <td>NaN</td>\n",
       "      <td>NaN</td>\n",
       "      <td>319000</td>\n",
       "    </tr>\n",
       "    <tr>\n",
       "      <th>377093</th>\n",
       "      <td>For sale</td>\n",
       "      <td>NaN</td>\n",
       "      <td>Single Family</td>\n",
       "      <td>114 N 6th St</td>\n",
       "      <td>Bathrooms: 2</td>\n",
       "      <td>{'atAGlanceFacts': [{'factValue': '1905', 'fac...</td>\n",
       "      <td>NaN</td>\n",
       "      <td>Temple</td>\n",
       "      <td>[{'rating': ['4/10', '4/10', '4/10'], 'data': ...</td>\n",
       "      <td>Total interior livable area: 1,361 sqft</td>\n",
       "      <td>76501</td>\n",
       "      <td>3 bd</td>\n",
       "      <td>TX</td>\n",
       "      <td>1.0</td>\n",
       "      <td>384383</td>\n",
       "      <td>NaN</td>\n",
       "      <td>NaN</td>\n",
       "      <td>129000</td>\n",
       "    </tr>\n",
       "    <tr>\n",
       "      <th>377112</th>\n",
       "      <td>For sale</td>\n",
       "      <td>Yes</td>\n",
       "      <td>Single Family</td>\n",
       "      <td>1906 W Workman Ave</td>\n",
       "      <td>Bathrooms: 3</td>\n",
       "      <td>{'atAGlanceFacts': [{'factValue': '1950', 'fac...</td>\n",
       "      <td>NaN</td>\n",
       "      <td>West Covina</td>\n",
       "      <td>[{'rating': ['6/10', '6/10', '7/10'], 'data': ...</td>\n",
       "      <td>Total interior livable area: 1,557 sqft</td>\n",
       "      <td>91790</td>\n",
       "      <td>4 bd</td>\n",
       "      <td>CA</td>\n",
       "      <td>1.0</td>\n",
       "      <td>CV19260192</td>\n",
       "      <td>NaN</td>\n",
       "      <td>NaN</td>\n",
       "      <td>639000</td>\n",
       "    </tr>\n",
       "    <tr>\n",
       "      <th>377113</th>\n",
       "      <td>For sale</td>\n",
       "      <td>NaN</td>\n",
       "      <td>Single Family</td>\n",
       "      <td>17617 W 87th Ave</td>\n",
       "      <td>Bathrooms: 4</td>\n",
       "      <td>{'atAGlanceFacts': [{'factValue': '2016', 'fac...</td>\n",
       "      <td>NaN</td>\n",
       "      <td>Arvada</td>\n",
       "      <td>[{'rating': ['7/10', '6/10', '8/10'], 'data': ...</td>\n",
       "      <td>Total interior livable area: 4,615 sqft</td>\n",
       "      <td>80007</td>\n",
       "      <td>4 bd</td>\n",
       "      <td>CO</td>\n",
       "      <td>2.0</td>\n",
       "      <td>7690588</td>\n",
       "      <td>NaN</td>\n",
       "      <td>NaN</td>\n",
       "      <td>685000</td>\n",
       "    </tr>\n",
       "    <tr>\n",
       "      <th>377172</th>\n",
       "      <td>For sale</td>\n",
       "      <td>NaN</td>\n",
       "      <td>Single Family</td>\n",
       "      <td>2210 NW 70th Ave</td>\n",
       "      <td>Bathrooms: 2</td>\n",
       "      <td>{'atAGlanceFacts': [{'factValue': '1969', 'fac...</td>\n",
       "      <td>NaN</td>\n",
       "      <td>Sunrise</td>\n",
       "      <td>[{'rating': ['2/10', '6/10', '4/10'], 'data': ...</td>\n",
       "      <td>Total interior livable area: 1,907 sqft</td>\n",
       "      <td>33313</td>\n",
       "      <td>3 bd</td>\n",
       "      <td>FL</td>\n",
       "      <td>1.0</td>\n",
       "      <td>F10202858</td>\n",
       "      <td>NaN</td>\n",
       "      <td>NaN</td>\n",
       "      <td>287999</td>\n",
       "    </tr>\n",
       "  </tbody>\n",
       "</table>\n",
       "<p>23343 rows × 18 columns</p>\n",
       "</div>"
      ],
      "text/plain": [
       "                  status private pool   propertyType  \\\n",
       "13      New construction          NaN  Single Family   \n",
       "21              For sale          NaN  Single Family   \n",
       "31              For sale          NaN  Single Family   \n",
       "38              For sale          NaN  Single Family   \n",
       "46              For sale          NaN  Single Family   \n",
       "...                  ...          ...            ...   \n",
       "377091          For sale          NaN  Single Family   \n",
       "377093          For sale          NaN  Single Family   \n",
       "377112          For sale          Yes  Single Family   \n",
       "377113          For sale          NaN  Single Family   \n",
       "377172          For sale          NaN  Single Family   \n",
       "\n",
       "                            street         baths  \\\n",
       "13                  1538 Umpqua Dr  Bathrooms: 2   \n",
       "21                 61425 Gosney Rd  Bathrooms: 5   \n",
       "31                 6712 N Glen Ave  Bathrooms: 2   \n",
       "38          5531 Eureka Springs Rd  Bathrooms: 1   \n",
       "46      4547 Cascades Shoreline Dr  Bathrooms: 5   \n",
       "...                            ...           ...   \n",
       "377091          916 Morningside Ln  Bathrooms: 3   \n",
       "377093                114 N 6th St  Bathrooms: 2   \n",
       "377112          1906 W Workman Ave  Bathrooms: 3   \n",
       "377113            17617 W 87th Ave  Bathrooms: 4   \n",
       "377172            2210 NW 70th Ave  Bathrooms: 2   \n",
       "\n",
       "                                                homeFacts fireplace  \\\n",
       "13      {'atAGlanceFacts': [{'factValue': '2019', 'fac...       NaN   \n",
       "21      {'atAGlanceFacts': [{'factValue': '2008', 'fac...       Yes   \n",
       "31      {'atAGlanceFacts': [{'factValue': '1960', 'fac...       NaN   \n",
       "38      {'atAGlanceFacts': [{'factValue': '1930', 'fac...       NaN   \n",
       "46      {'atAGlanceFacts': [{'factValue': '2005', 'fac...       Yes   \n",
       "...                                                   ...       ...   \n",
       "377091  {'atAGlanceFacts': [{'factValue': '1993', 'fac...       Yes   \n",
       "377093  {'atAGlanceFacts': [{'factValue': '1905', 'fac...       NaN   \n",
       "377112  {'atAGlanceFacts': [{'factValue': '1950', 'fac...       NaN   \n",
       "377113  {'atAGlanceFacts': [{'factValue': '2016', 'fac...       NaN   \n",
       "377172  {'atAGlanceFacts': [{'factValue': '1969', 'fac...       NaN   \n",
       "\n",
       "               city                                            schools  \\\n",
       "13           Eugene  [{'rating': ['7/10', '7/10', '8/10'], 'data': ...   \n",
       "21             Bend  [{'rating': ['8/10', '5/10', '6/10'], 'data': ...   \n",
       "31            Tampa  [{'rating': ['5/10', '2/10', '4/10'], 'data': ...   \n",
       "38            Tampa  [{'rating': ['1/10', '2/10', '3/10'], 'data': ...   \n",
       "46            Tyler  [{'rating': ['4/10', '5/10', '2/10'], 'data': ...   \n",
       "...             ...                                                ...   \n",
       "377091        Allen  [{'rating': ['10/10', '10/10', '7/10'], 'data'...   \n",
       "377093       Temple  [{'rating': ['4/10', '4/10', '4/10'], 'data': ...   \n",
       "377112  West Covina  [{'rating': ['6/10', '6/10', '7/10'], 'data': ...   \n",
       "377113       Arvada  [{'rating': ['7/10', '6/10', '8/10'], 'data': ...   \n",
       "377172      Sunrise  [{'rating': ['2/10', '6/10', '4/10'], 'data': ...   \n",
       "\n",
       "                                           sqft zipcode  beds state stories  \\\n",
       "13      Total interior livable area: 1,820 sqft   97401  3 bd    OR     1.0   \n",
       "21      Total interior livable area: 5,266 sqft   97702  5 bd    OR     1.0   \n",
       "31      Total interior livable area: 1,677 sqft   33614  4 bd    FL     0.0   \n",
       "38      Total interior livable area: 1,232 sqft   33610  2 bd    FL     0.0   \n",
       "46      Total interior livable area: 5,358 sqft   75709  5 bd    TX     2.0   \n",
       "...                                         ...     ...   ...   ...     ...   \n",
       "377091  Total interior livable area: 2,619 sqft   75002  4 bd    TX     2.0   \n",
       "377093  Total interior livable area: 1,361 sqft   76501  3 bd    TX     1.0   \n",
       "377112  Total interior livable area: 1,557 sqft   91790  4 bd    CA     1.0   \n",
       "377113  Total interior livable area: 4,615 sqft   80007  4 bd    CO     2.0   \n",
       "377172  Total interior livable area: 1,907 sqft   33313  3 bd    FL     1.0   \n",
       "\n",
       "            mls-id PrivatePool MlsId   target  \n",
       "13        19221142         NaN   NaN   499900  \n",
       "21       201909438         NaN   NaN  3500000  \n",
       "31        T3159863         NaN   NaN   262000  \n",
       "38        T3204536         NaN   NaN   117900  \n",
       "46        10114247         NaN   NaN  1429000  \n",
       "...            ...         ...   ...      ...  \n",
       "377091    14170825         NaN   NaN   319000  \n",
       "377093      384383         NaN   NaN   129000  \n",
       "377112  CV19260192         NaN   NaN   639000  \n",
       "377113     7690588         NaN   NaN   685000  \n",
       "377172   F10202858         NaN   NaN   287999  \n",
       "\n",
       "[23343 rows x 18 columns]"
      ]
     },
     "metadata": {},
     "output_type": "display_data"
    },
    {
     "data": {
      "text/plain": [
       "\"{'atAGlanceFacts': [{'factValue': '2019', 'factLabel': 'Year built'}, {'factValue': '2019', 'factLabel': 'Remodeled year'}, {'factValue': 'Forced air', 'factLabel': 'Heating'}, {'factValue': '', 'factLabel': 'Cooling'}, {'factValue': 'Attached Garage', 'factLabel': 'Parking'}, {'factValue': '7,000 sqft lot', 'factLabel': 'lotsize'}, {'factValue': '$275', 'factLabel': 'Price/sqft'}]}\""
      ]
     },
     "metadata": {},
     "output_type": "display_data"
    }
   ],
   "source": [
    "display(df['sqft'].str.findall(r'[^0-9]+').value_counts())\n",
    "display_html('<h2>Data with \"--\"', raw=True)\n",
    "display(df[df['sqft'].str.contains('--', na=False)])\n",
    "display_html('<h2>Data with \"Total interior livable area\"', raw=True)\n",
    "display(df[df['sqft'].str.contains('Total interior livable area', na=False)])\n",
    "display(\n",
    "    df[\n",
    "        df['sqft'].str.contains('Total interior livable area', na=False)\n",
    "    ]['homeFacts'].iloc[0]\n",
    ")"
   ]
  },
  {
   "cell_type": "markdown",
   "metadata": {},
   "source": [
    "\"--\" обозначают пропуски, их приведём к пропускам явно.\n",
    "Также зачастую явно указывают \"sqft\", можем удалить, как и запятые.\n",
    "Что касается пометки \"total interior livable area\", то помимо этой площади в `homeFacts` указазан \"lotsize\".\n",
    "Чтобы не потерять на данном этапе сведений, добавим пока двоичный признак `marked_interior_area`"
   ]
  },
  {
   "cell_type": "code",
   "execution_count": 11,
   "metadata": {},
   "outputs": [
    {
     "data": {
      "text/plain": [
       "marked_interior_area\n",
       "False    350963\n",
       "True      23343\n",
       "Name: count, dtype: int64"
      ]
     },
     "metadata": {},
     "output_type": "display_data"
    },
    {
     "name": "stdout",
     "output_type": "stream",
     "text": [
      "Доля объявлений с явно указанной внутренней жилой площадью: 6.236%\n",
      "Доля пропусков площади: 10.933%\n"
     ]
    },
    {
     "data": {
      "image/png": "[encoded data removed]",
      "text/plain": [
       "<Figure size 640x480 with 2 Axes>"
      ]
     },
     "metadata": {},
     "output_type": "display_data"
    }
   ],
   "source": [
    "df = build_features.get_df_numerical_sqft(df)\n",
    "display(df['marked_interior_area'].value_counts())\n",
    "print(\n",
    "    'Доля объявлений с явно указанной внутренней жилой площадью:', \n",
    "    utils.get_percentage(df['marked_interior_area'].sum(), df.shape[0])\n",
    ")\n",
    "print(\n",
    "    'Доля пропусков площади:', \n",
    "    utils.get_percentage(df['sqft'].isna().sum(), df.shape[0])\n",
    ")\n",
    "\n",
    "visualize.plot_box_hist_plot(\n",
    "    df, \n",
    "    'sqft', \n",
    "    numeric_label='area [sqft]', \n",
    "    log_scale=True, \n",
    "    title='Area distribution',\n",
    ");"
   ]
  },
  {
   "cell_type": "markdown",
   "metadata": {},
   "source": [
    "Видим также большой разброс в площади.\n",
    "В основном, площадь больше 1000 квадратных футов, или 93 $м^2$\n",
    "\n",
    "Есть также слишком большие особняки:"
   ]
  },
  {
   "cell_type": "code",
   "execution_count": 12,
   "metadata": {},
   "outputs": [
    {
     "data": {
      "text/html": [
       "<div>\n",
       "<style scoped>\n",
       "    .dataframe tbody tr th:only-of-type {\n",
       "        vertical-align: middle;\n",
       "    }\n",
       "\n",
       "    .dataframe tbody tr th {\n",
       "        vertical-align: top;\n",
       "    }\n",
       "\n",
       "    .dataframe thead th {\n",
       "        text-align: right;\n",
       "    }\n",
       "</style>\n",
       "<table border=\"1\" class=\"dataframe\">\n",
       "  <thead>\n",
       "    <tr style=\"text-align: right;\">\n",
       "      <th></th>\n",
       "      <th>status</th>\n",
       "      <th>private pool</th>\n",
       "      <th>propertyType</th>\n",
       "      <th>street</th>\n",
       "      <th>baths</th>\n",
       "      <th>homeFacts</th>\n",
       "      <th>fireplace</th>\n",
       "      <th>city</th>\n",
       "      <th>schools</th>\n",
       "      <th>sqft</th>\n",
       "      <th>zipcode</th>\n",
       "      <th>beds</th>\n",
       "      <th>state</th>\n",
       "      <th>stories</th>\n",
       "      <th>mls-id</th>\n",
       "      <th>PrivatePool</th>\n",
       "      <th>MlsId</th>\n",
       "      <th>target</th>\n",
       "      <th>marked_interior_area</th>\n",
       "    </tr>\n",
       "  </thead>\n",
       "  <tbody>\n",
       "    <tr>\n",
       "      <th>62736</th>\n",
       "      <td>for sale</td>\n",
       "      <td>NaN</td>\n",
       "      <td>single-family home</td>\n",
       "      <td>1723 Pulte St</td>\n",
       "      <td>2 Baths</td>\n",
       "      <td>{'atAGlanceFacts': [{'factValue': '1901', 'fac...</td>\n",
       "      <td>yes</td>\n",
       "      <td>Cincinnati</td>\n",
       "      <td>[{'rating': ['4/10', '2/10', '1/10', '2/10', '...</td>\n",
       "      <td>795979430.0</td>\n",
       "      <td>45225</td>\n",
       "      <td>2 Beds</td>\n",
       "      <td>OH</td>\n",
       "      <td>1.0</td>\n",
       "      <td>NaN</td>\n",
       "      <td>NaN</td>\n",
       "      <td>1230095</td>\n",
       "      <td>27500</td>\n",
       "      <td>False</td>\n",
       "    </tr>\n",
       "    <tr>\n",
       "      <th>376529</th>\n",
       "      <td>Active</td>\n",
       "      <td>NaN</td>\n",
       "      <td>Multi-Family Home</td>\n",
       "      <td>5382 S Dixie Hwy</td>\n",
       "      <td>NaN</td>\n",
       "      <td>{'atAGlanceFacts': [{'factValue': '2012', 'fac...</td>\n",
       "      <td>NaN</td>\n",
       "      <td>Glendale</td>\n",
       "      <td>[{'rating': ['5', '7', '7', 'NR', 'NR', 'NR'],...</td>\n",
       "      <td>456602479.0</td>\n",
       "      <td>42740</td>\n",
       "      <td>NaN</td>\n",
       "      <td>KY</td>\n",
       "      <td>NaN</td>\n",
       "      <td>NaN</td>\n",
       "      <td>NaN</td>\n",
       "      <td>10050634</td>\n",
       "      <td>198000</td>\n",
       "      <td>False</td>\n",
       "    </tr>\n",
       "  </tbody>\n",
       "</table>\n",
       "</div>"
      ],
      "text/plain": [
       "          status private pool        propertyType            street    baths  \\\n",
       "62736   for sale          NaN  single-family home     1723 Pulte St  2 Baths   \n",
       "376529    Active          NaN   Multi-Family Home  5382 S Dixie Hwy      NaN   \n",
       "\n",
       "                                                homeFacts fireplace  \\\n",
       "62736   {'atAGlanceFacts': [{'factValue': '1901', 'fac...       yes   \n",
       "376529  {'atAGlanceFacts': [{'factValue': '2012', 'fac...       NaN   \n",
       "\n",
       "              city                                            schools  \\\n",
       "62736   Cincinnati  [{'rating': ['4/10', '2/10', '1/10', '2/10', '...   \n",
       "376529    Glendale  [{'rating': ['5', '7', '7', 'NR', 'NR', 'NR'],...   \n",
       "\n",
       "               sqft zipcode    beds state stories mls-id PrivatePool  \\\n",
       "62736   795979430.0   45225  2 Beds    OH     1.0    NaN         NaN   \n",
       "376529  456602479.0   42740     NaN    KY     NaN    NaN         NaN   \n",
       "\n",
       "           MlsId  target  marked_interior_area  \n",
       "62736    1230095   27500                 False  \n",
       "376529  10050634  198000                 False  "
      ]
     },
     "execution_count": 12,
     "metadata": {},
     "output_type": "execute_result"
    }
   ],
   "source": [
    "df[df['sqft']>1e7]"
   ]
  },
  {
   "cell_type": "markdown",
   "metadata": {},
   "source": [
    "При этом цена на них средняя (см выбросы больше $10^7$):"
   ]
  },
  {
   "cell_type": "code",
   "execution_count": 13,
   "metadata": {},
   "outputs": [
    {
     "data": {
      "image/png": "[encoded data removed]",
      "text/plain": [
       "<Figure size 640x480 with 1 Axes>"
      ]
     },
     "metadata": {},
     "output_type": "display_data"
    }
   ],
   "source": [
    "visualize.plot_scatter(\n",
    "    data=df,\n",
    "    x='sqft',\n",
    "    y='target',\n",
    "    logx=True,\n",
    "    logy=True,\n",
    "    x_label='area [sqft]',\n",
    "    y_label='price [$]',\n",
    "    title='Price-Area scatter plot',\n",
    "    linewidth=0,\n",
    ");"
   ]
  },
  {
   "cell_type": "markdown",
   "metadata": {},
   "source": [
    "Впоследствии, можно удалить явные выбросы.\n",
    "Также, возможно имеет смысл логарифмировать площадь."
   ]
  },
  {
   "cell_type": "markdown",
   "metadata": {},
   "source": [
    "### stories"
   ]
  },
  {
   "cell_type": "markdown",
   "metadata": {},
   "source": [
    "Рассмотрим символы и встречающиеся варианты, предварительно переведя всё в lower:"
   ]
  },
  {
   "cell_type": "code",
   "execution_count": 14,
   "metadata": {},
   "outputs": [
    {
     "data": {
      "text/plain": [
       "stories\n",
       "[.]                     154467\n",
       "[]                       51919\n",
       "[one]                     5758\n",
       "[ story]                  3470\n",
       "[two]                     2495\n",
       "[+]                        868\n",
       "[three or more]            569\n",
       "[one story]                395\n",
       "[ level, site built]       380\n",
       "[lot]                      365\n",
       "[townhouse]                325\n",
       "[ranch/,  story]           293\n",
       "[multi/split]              271\n",
       "[ level]                   268\n",
       "[two story or more]        253\n",
       "[ stories]                 243\n",
       "[acreage]                  215\n",
       "[.,  story]                203\n",
       "[condominium]              172\n",
       "[ story/basement]          161\n",
       "Name: count, dtype: int64"
      ]
     },
     "metadata": {},
     "output_type": "display_data"
    },
    {
     "data": {
      "text/html": [
       "<h2>Stories numbers"
      ]
     },
     "metadata": {},
     "output_type": "display_data"
    },
    {
     "data": {
      "text/plain": [
       "stories\n",
       "[1, 0]       66808\n",
       "[2, 0]       55003\n",
       "[1]          24820\n",
       "[2]          20776\n",
       "[]           12074\n",
       "[3, 0]       11233\n",
       "[0, 0]        7209\n",
       "[3]           5358\n",
       "[0]           4231\n",
       "[9, 0]        2914\n",
       "[2, 00]       2775\n",
       "[4, 0]        2136\n",
       "[1, 00]       1200\n",
       "[4]            933\n",
       "[6, 0]         716\n",
       "[1, 50]        650\n",
       "[5, 0]         614\n",
       "[1, 5]         566\n",
       "[3, 00]        517\n",
       "[9]            467\n",
       "[7, 0]         312\n",
       "[6]            291\n",
       "[8, 0]         254\n",
       "[2, 0000]      229\n",
       "[5]            189\n",
       "[1, 0000]      116\n",
       "[2, 5]          97\n",
       "[12, 0]         94\n",
       "[2, 50]         92\n",
       "[7]             92\n",
       "Name: count, dtype: int64"
      ]
     },
     "metadata": {},
     "output_type": "display_data"
    },
    {
     "data": {
      "text/html": [
       "<h2>Stories contain \"ground\", \"one\", \"two\" or \"three\""
      ]
     },
     "metadata": {},
     "output_type": "display_data"
    },
    {
     "data": {
      "text/plain": [
       "stories\n",
       "one                                5758\n",
       "two                                2495\n",
       "three or more                       569\n",
       "one story                           395\n",
       "two story or more                   253\n",
       "one level                           142\n",
       "one and one half                     25\n",
       "three or more levels                 25\n",
       "one, two                             13\n",
       "three or more, multi/split            7\n",
       "ground level                          6\n",
       "two stories                           4\n",
       "ground level, one                     3\n",
       "two, multi/split                      3\n",
       "one, three or more                    3\n",
       "multi/split, two                      1\n",
       "ground level, split level, two        1\n",
       "ground level, two                     1\n",
       "one, two, multi/split                 1\n",
       "two, three or more                    1\n",
       "other, two, multi/split               1\n",
       "multi level, three or more            1\n",
       "one and one half, three or more       1\n",
       "Name: count, dtype: int64"
      ]
     },
     "metadata": {},
     "output_type": "display_data"
    },
    {
     "data": {
      "text/html": [
       "<h2>Stories contain \"split\""
      ]
     },
     "metadata": {},
     "output_type": "display_data"
    },
    {
     "data": {
      "text/plain": [
       "stories\n",
       "multi/split                         271\n",
       "split level                          52\n",
       "split foyer                          14\n",
       "site built, split foyer               9\n",
       "split level w/ sub                    8\n",
       "three or more, multi/split            7\n",
       "two, multi/split                      3\n",
       "site built, split level               3\n",
       "2 story, split level                  2\n",
       "3 level, site built, split level      1\n",
       "ground level, split level, two        1\n",
       "multi/split, two                      1\n",
       "2 level, site built, split foyer      1\n",
       "split foyer, tri-level                1\n",
       "other, two, multi/split               1\n",
       "bedroom - split plan                  1\n",
       "1 story, split level                  1\n",
       "2 level, split foyer                  1\n",
       "split entry (bi-level)                1\n",
       "one, two, multi/split                 1\n",
       "1 level, split foyer                  1\n",
       "Name: count, dtype: int64"
      ]
     },
     "metadata": {},
     "output_type": "display_data"
    },
    {
     "data": {
      "text/html": [
       "<h2>Stories contain \"story\""
      ]
     },
     "metadata": {},
     "output_type": "display_data"
    },
    {
     "data": {
      "text/plain": [
       "stories\n",
       "2 story                                       1970\n",
       "1 story                                       1253\n",
       "one story                                      395\n",
       "ranch/1 story                                  293\n",
       "two story or more                              253\n",
       "3 story                                        204\n",
       "1.5 story                                      169\n",
       "2 story/basement                               154\n",
       "1 story basement                                82\n",
       "4 story                                         43\n",
       "1 story/ranch                                   40\n",
       "2.5 story                                       34\n",
       "1.5 story/basement                              33\n",
       "1 story/f.r.o.g.                                13\n",
       "3 story/basement                                 7\n",
       "3+ story                                         4\n",
       "multi-story                                      3\n",
       "2 story, tri level                               2\n",
       "1 story, 2 story                                 2\n",
       "2 story, split level                             2\n",
       "2.5 story/basement                               2\n",
       "townhouse-2 story, t3-townhouse 3+ stories       1\n",
       "1 story, hillside                                1\n",
       "2 story, multi level                             1\n",
       "2 story or 2 level                               1\n",
       "1 story, townhouse                               1\n",
       "1 1/2 story                                      1\n",
       "1 story, split level                             1\n",
       "3 story, tri level                               1\n",
       "3 story, multi level                             1\n",
       "1 story, multi level                             1\n",
       "Name: count, dtype: int64"
      ]
     },
     "metadata": {},
     "output_type": "display_data"
    },
    {
     "data": {
      "text/html": [
       "<h2>Stories contain \"level\""
      ]
     },
     "metadata": {},
     "output_type": "display_data"
    },
    {
     "data": {
      "text/plain": [
       "stories\n",
       "2 level, site built               192\n",
       "1 level, site built               155\n",
       "1 level                           148\n",
       "one level                         142\n",
       "stories/levels                    133\n",
       "                                 ... \n",
       "3 story, tri level                  1\n",
       "multi level, three or more          1\n",
       "3 story, multi level                1\n",
       "split entry (bi-level)              1\n",
       "3 level, site built, tri-level      1\n",
       "Name: count, Length: 62, dtype: int64"
      ]
     },
     "metadata": {},
     "output_type": "display_data"
    },
    {
     "data": {
      "text/html": [
       "<h2>Stories contain \"lot\""
      ]
     },
     "metadata": {},
     "output_type": "display_data"
    },
    {
     "data": {
      "text/plain": [
       "stories\n",
       "lot    365\n",
       "Name: count, dtype: int64"
      ]
     },
     "metadata": {},
     "output_type": "display_data"
    },
    {
     "data": {
      "text/html": [
       "<h2>Property type of Stories with zeros"
      ]
     },
     "metadata": {},
     "output_type": "display_data"
    },
    {
     "data": {
      "text/plain": [
       "propertyType\n",
       "Single Family            7639\n",
       "Condo                    2141\n",
       "Townhouse                 768\n",
       "Multi Family              416\n",
       "Mobile / Manufactured     402\n",
       "Cooperative                50\n",
       "Apartment                  19\n",
       "SingleFamilyResidence       3\n",
       "Name: count, dtype: int64"
      ]
     },
     "metadata": {},
     "output_type": "display_data"
    }
   ],
   "source": [
    "df['stories'] = df['stories'].str.lower()\n",
    "display(df['stories'].str.findall(r'[^0-9]+').value_counts().head(20))\n",
    "display_html('<h2>Stories numbers', raw=True)\n",
    "display(df['stories'].str.findall(r'[0-9]+').value_counts().head(30))\n",
    "display_html('<h2>Stories contain \"ground\", \"one\", \"two\" or \"three\"', raw=True)\n",
    "display(\n",
    "    df[\n",
    "        df['stories'].str.contains('ground', na=False) |\n",
    "        df['stories'].str.contains('one', na=False) |\n",
    "        df['stories'].str.contains('two', na=False) |\n",
    "        df['stories'].str.contains('three', na=False)\n",
    "    ]['stories'].value_counts()\n",
    ")\n",
    "display_list = ['split', 'story', 'level', 'lot']\n",
    "for word in display_list:\n",
    "    display_html(f'<h2>Stories contain \"{word}\"', raw=True)\n",
    "    display(\n",
    "        df[\n",
    "            df['stories'].str.contains(word, na=False)\n",
    "        ]['stories'].value_counts()\n",
    "    )\n",
    "\n",
    "display_html(f'<h2>Property type of Stories with zeros', raw=True)\n",
    "display(\n",
    "    df[\n",
    "        df['stories'].isin(['0', '0.0'])\n",
    "    ]['propertyType'].value_counts()\n",
    ")"
   ]
  },
  {
   "cell_type": "markdown",
   "metadata": {},
   "source": [
    "- \"one\", \"two\", \"three\" можно заменить на числовые эквиваленты.\n",
    "- \"ground\" можно заменить на 1.\n",
    "\n",
    "Также:\n",
    "- \"split\", \"tri\", \"multi\" предполагают больше, чем 1 этаж. Можно положить равенство 1.5. Но решение принимается ниже.\n",
    "- Нулевые значения можно рассматривать как отсутствие этих значений, так как среди `propertyType` отсутствует Land.\n",
    "Впоследствии, пропуски можно заполнить по `propertyType`.\n",
    "- \"lot\" можно рассматривать как ноль этажей - продаётся земельный участок.\n",
    "- Есть также количества этажей больше 3 (даже 8, 9 и больше). Требуется проверить потом\n",
    "\n",
    "Будем создавать отдельный признак для последующей проверки"
   ]
  },
  {
   "cell_type": "markdown",
   "metadata": {},
   "source": [
    "Для начала, заменим на числовые значения. И проанализируем кейсы без чисел вообще"
   ]
  },
  {
   "cell_type": "code",
   "execution_count": 15,
   "metadata": {},
   "outputs": [
    {
     "data": {
      "text/html": [
       "<h3>lot"
      ]
     },
     "metadata": {},
     "output_type": "display_data"
    },
    {
     "data": {
      "text/plain": [
       "propertyType\n",
       "Land    365\n",
       "Name: count, dtype: int64"
      ]
     },
     "metadata": {},
     "output_type": "display_data"
    },
    {
     "data": {
      "text/html": [
       "<h3>townhouse"
      ]
     },
     "metadata": {},
     "output_type": "display_data"
    },
    {
     "data": {
      "text/plain": [
       "propertyType\n",
       "Condo/Townhome/Row Home/Co-Op    325\n",
       "Name: count, dtype: int64"
      ]
     },
     "metadata": {},
     "output_type": "display_data"
    },
    {
     "data": {
      "text/html": [
       "<h3>multi/split"
      ]
     },
     "metadata": {},
     "output_type": "display_data"
    },
    {
     "data": {
      "text/plain": [
       "propertyType\n",
       "Split-Level                               110\n",
       "High Rise, Split-Level                     38\n",
       "Cluster Home, Split-Level                  11\n",
       "Garden Home, Split-Level                   10\n",
       "Condo/Townhome/Row Home/Co-Op              10\n",
       "Detached, Two Story, Split-Level            9\n",
       "Detached, One Story, Split-Level            7\n",
       "Single Family Home                          6\n",
       "Detached, Split-Level                       6\n",
       "Two Story, Split-Level                      5\n",
       "Penthouse, Split-Level                      5\n",
       "One Story, Split-Level                      4\n",
       "Traditional                                 3\n",
       "Multi-Family Home                           3\n",
       "Bi-Level, Split-Level                       2\n",
       "Bungalow                                    2\n",
       "Custom                                      2\n",
       "Cluster Home, Garden Home, Split-Level      2\n",
       "Contemporary                                2\n",
       "Florida                                     2\n",
       "Colonial, Split-Level                       2\n",
       "Spanish/Mediterranean                       2\n",
       "Key West                                    1\n",
       "High Rise, Penthouse, Split-Level           1\n",
       "Split-Level, Spanish/Mediterranean          1\n",
       "Ranch, Split-Level                          1\n",
       "Ranch, One Story, Split-Level               1\n",
       "Custom, Elevated, Key West                  1\n",
       "Detached, Ranch, Split-Level                1\n",
       "Colonial                                    1\n",
       "Name: count, dtype: int64"
      ]
     },
     "metadata": {},
     "output_type": "display_data"
    },
    {
     "data": {
      "text/html": [
       "<h3>acreage"
      ]
     },
     "metadata": {},
     "output_type": "display_data"
    },
    {
     "data": {
      "text/plain": [
       "propertyType\n",
       "Land    215\n",
       "Name: count, dtype: int64"
      ]
     },
     "metadata": {},
     "output_type": "display_data"
    },
    {
     "data": {
      "text/html": [
       "<h3>condominium"
      ]
     },
     "metadata": {},
     "output_type": "display_data"
    },
    {
     "data": {
      "text/plain": [
       "propertyType\n",
       "Condo/Townhome/Row Home/Co-Op    172\n",
       "Name: count, dtype: int64"
      ]
     },
     "metadata": {},
     "output_type": "display_data"
    },
    {
     "data": {
      "text/html": [
       "<h3>stories/levels"
      ]
     },
     "metadata": {},
     "output_type": "display_data"
    },
    {
     "data": {
      "text/plain": [
       "propertyType\n",
       "Single Family Home               95\n",
       "Condo/Townhome/Row Home/Co-Op    38\n",
       "Name: count, dtype: int64"
      ]
     },
     "metadata": {},
     "output_type": "display_data"
    },
    {
     "data": {
      "text/html": [
       "<h3>ranch"
      ]
     },
     "metadata": {},
     "output_type": "display_data"
    },
    {
     "data": {
      "text/plain": [
       "propertyType\n",
       "Single Family Home               120\n",
       "Condo/Townhome/Row Home/Co-Op      7\n",
       "Name: count, dtype: int64"
      ]
     },
     "metadata": {},
     "output_type": "display_data"
    },
    {
     "data": {
      "text/html": [
       "<h3>traditional"
      ]
     },
     "metadata": {},
     "output_type": "display_data"
    },
    {
     "data": {
      "text/plain": [
       "propertyType\n",
       "Single Family Home    88\n",
       "Name: count, dtype: int64"
      ]
     },
     "metadata": {},
     "output_type": "display_data"
    },
    {
     "data": {
      "text/html": [
       "<h3>mid-rise"
      ]
     },
     "metadata": {},
     "output_type": "display_data"
    },
    {
     "data": {
      "text/plain": [
       "propertyType\n",
       "Condo/Townhome/Row Home/Co-Op    78\n",
       "Name: count, dtype: int64"
      ]
     },
     "metadata": {},
     "output_type": "display_data"
    }
   ],
   "source": [
    "df['stories'] = build_features.replace(\n",
    "    df['stories'],\n",
    "    to_replace=(\n",
    "        ('ground', '1'),\n",
    "        ('one', '1'),\n",
    "        ('two', '2'),\n",
    "        ('three', '3'),\n",
    "    )\n",
    ")\n",
    "# Get stories sorted by count of appearance\n",
    "no_num_stories = df[\n",
    "    ~df['stories'].str.contains(r'[0-9]+', na=False)\n",
    "]['stories'].value_counts().head(9)\n",
    "\n",
    "# Display propertyTypes for popular no-number stories\n",
    "for value in no_num_stories.index:\n",
    "    display_html(f'<h3>{value}', raw=True)\n",
    "    display(df[df['stories'] == value]['propertyType'].value_counts())"
   ]
  },
  {
   "cell_type": "markdown",
   "metadata": {},
   "source": [
    "Примем:\n",
    "- \"lot\" и \"acreage\" можно выставить 0\n",
    "- \"ranch\" и \"traditional\"  - 1 этаж\n",
    "- \"multi/split\", \"stories/levels\" - встречаются разные типы и количества этажей в `propertyType`. \n",
    "Сходу сложно определить этаж.\n",
    "Возможно, стоит установить None, но поставим пока 1.5\n",
    "- \"townhouse\" - как правило 2, макс. 3 этажа. Причём для townhouse в дальнейшем можно было ввести уточнение в `propertyType`\n",
    "- \"condominium\", \"mid-rise\" - 3 и более этажей."
   ]
  },
  {
   "cell_type": "markdown",
   "metadata": {},
   "source": [
    "Заполним численные значения в соответствии с рекомендациями выше:"
   ]
  },
  {
   "cell_type": "code",
   "execution_count": 16,
   "metadata": {},
   "outputs": [
    {
     "data": {
      "text/plain": [
       "count    213162.000000\n",
       "mean          2.011041\n",
       "std           4.341044\n",
       "min           0.000000\n",
       "25%           1.000000\n",
       "50%           2.000000\n",
       "75%           2.000000\n",
       "max        1120.000000\n",
       "Name: stories, dtype: float64"
      ]
     },
     "metadata": {},
     "output_type": "display_data"
    },
    {
     "name": "stdout",
     "output_type": "stream",
     "text": [
      "Доля объявлений с пропуском численного количества этажей: 43.051%\n"
     ]
    },
    {
     "data": {
      "image/png": "[encoded data removed]",
      "text/plain": [
       "<Figure size 640x480 with 2 Axes>"
      ]
     },
     "metadata": {},
     "output_type": "display_data"
    }
   ],
   "source": [
    "df = build_features.get_df_numerical_story(df)\n",
    "display(df['stories'].describe())\n",
    "print(\n",
    "    'Доля объявлений с пропуском численного количества этажей:', \n",
    "    utils.get_percentage(df['stories'].isna().sum(), df.shape[0])\n",
    ")\n",
    "\n",
    "visualize.plot_box_hist_plot(\n",
    "    df, \n",
    "    'stories', \n",
    "    numeric_label='stories count', \n",
    "    log_scale=True, \n",
    "    title='Stories count',\n",
    ");"
   ]
  },
  {
   "cell_type": "markdown",
   "metadata": {},
   "source": [
    "Несмотря на попытки заполнить это количество этажей, по-прежнему много пропусков.\n",
    "Возможно, впоследствии удастся их заполнить, проанализировав `propertyType`"
   ]
  },
  {
   "cell_type": "markdown",
   "metadata": {},
   "source": [
    "Есть выбросы, с которыми также необходимо будет разобраться!"
   ]
  },
  {
   "cell_type": "code",
   "execution_count": 17,
   "metadata": {},
   "outputs": [
    {
     "data": {
      "image/png": "[encoded data removed]",
      "text/plain": [
       "<Figure size 640x480 with 1 Axes>"
      ]
     },
     "metadata": {},
     "output_type": "display_data"
    }
   ],
   "source": [
    "visualize.plot_scatter(\n",
    "    data=df,\n",
    "    x='stories',\n",
    "    y='target',\n",
    "    logx=True,\n",
    "    logy=True,\n",
    "    x_label='stories count',\n",
    "    y_label='price [$]',\n",
    "    title='Price - Stories count plot',\n",
    "    linewidth=0,\n",
    ");"
   ]
  },
  {
   "cell_type": "markdown",
   "metadata": {},
   "source": [
    "По нижней границе стоимости видим тенденцию к возрастанию"
   ]
  },
  {
   "cell_type": "markdown",
   "metadata": {},
   "source": [
    "## baths и beds"
   ]
  },
  {
   "cell_type": "markdown",
   "metadata": {},
   "source": [
    "Рассмотрим, как выглядят значения в категориях baths и beds"
   ]
  },
  {
   "cell_type": "code",
   "execution_count": 18,
   "metadata": {},
   "outputs": [
    {
     "data": {
      "text/plain": [
       "baths\n",
       "2 Baths         51953\n",
       "3 Baths         35356\n",
       "2               20429\n",
       "2.0             16355\n",
       "4 Baths         14712\n",
       "3.0             10797\n",
       "3               10093\n",
       "Bathrooms: 2     9411\n",
       "2.5              8113\n",
       "Bathrooms: 3     6569\n",
       "1                6569\n",
       "1.0              5799\n",
       "5 Baths          5365\n",
       "4.0              4559\n",
       "2.5 Baths        4388\n",
       "0                3811\n",
       "4                3561\n",
       "3.5              3455\n",
       "Bathrooms: 1     3126\n",
       "2 ba             2679\n",
       "6 Baths          2599\n",
       "Bathrooms: 4     2372\n",
       "1,500            2207\n",
       "3 ba             1884\n",
       "1.5              1857\n",
       "2,000            1792\n",
       "3.5 Baths        1789\n",
       "1,750            1720\n",
       "3,000            1684\n",
       "5.0              1551\n",
       "2,250            1440\n",
       "1,000            1279\n",
       "5                1219\n",
       "7 Baths          1208\n",
       "1,250            1203\n",
       "4.5              1016\n",
       "2,750             964\n",
       "2,500             894\n",
       "Bathrooms: 5      823\n",
       "~                 780\n",
       "1 ba              747\n",
       "4 ba              735\n",
       "6.0               733\n",
       "3,500             653\n",
       "8 Baths           638\n",
       "6                 506\n",
       "-- baths          495\n",
       "4.5 Baths         373\n",
       "7.0               362\n",
       "Bathrooms: 6      351\n",
       "Name: count, dtype: int64"
      ]
     },
     "metadata": {},
     "output_type": "display_data"
    },
    {
     "data": {
      "text/plain": [
       "beds\n",
       "3 Beds        52947\n",
       "4 Beds        35149\n",
       "3             31191\n",
       "2 Beds        26084\n",
       "4             19915\n",
       "2             15998\n",
       "Baths         15258\n",
       "3 bd          12678\n",
       "5 Beds        11205\n",
       "4 bd           8193\n",
       "3.0            8085\n",
       "5              6392\n",
       "4.0            5231\n",
       "2 bd           5166\n",
       "1              4583\n",
       "6 Beds         3784\n",
       "5 bd           2619\n",
       "2.0            2429\n",
       "6              1792\n",
       "5.0            1372\n",
       "0              1208\n",
       "7 Beds         1095\n",
       "1 bd           1068\n",
       "-- bd           845\n",
       "8 Beds          754\n",
       "Bath            737\n",
       "6 bd            643\n",
       "7               510\n",
       "1.0             429\n",
       "                350\n",
       "9 Beds          345\n",
       "8               316\n",
       "6.0             311\n",
       "0.0             223\n",
       "10 Beds         175\n",
       "7 bd            145\n",
       "12 Beds         130\n",
       "8 bd             94\n",
       "9                94\n",
       "-- sqft          94\n",
       "5,000 sqft       90\n",
       "11 Beds          84\n",
       "7.0              67\n",
       "10               66\n",
       "1 acre           46\n",
       "64 Beds          44\n",
       "16 Beds          41\n",
       "8.0              41\n",
       "0.34 acres       39\n",
       "0.28 acres       37\n",
       "Name: count, dtype: int64"
      ]
     },
     "metadata": {},
     "output_type": "display_data"
    }
   ],
   "source": [
    "display(df['baths'].value_counts().head(50))\n",
    "display(df['beds'].value_counts().head(50))"
   ]
  },
  {
   "cell_type": "markdown",
   "metadata": {},
   "source": [
    "Baths:\n",
    "- Нередко, есть приписки типа \"Baths\", \"Bathrooms\"\n",
    "- Есть пропуски, обозначенные \"~\" или \"--\"\n",
    "- Также есть странные значения, типа \"1,500\", \"1,750\", \"2,000\" и так далее. \n",
    "Наличие нулевых значений после запятой не даёт возможности полагать, что это некая \"суммарная площадь\", если только это не обозначение пропуска в данных. \n",
    "Также, нереально предполагать, что это тысячи ванных комнат (нередко тип дома - частный жилой).\n",
    "\n",
    "Посмотрим, что при этом указано в beds:"
   ]
  },
  {
   "cell_type": "code",
   "execution_count": 19,
   "metadata": {},
   "outputs": [
    {
     "data": {
      "text/plain": [
       "beds\n",
       "Baths    14056\n",
       "Bath       209\n",
       "             1\n",
       "Name: count, dtype: int64"
      ]
     },
     "execution_count": 19,
     "metadata": {},
     "output_type": "execute_result"
    }
   ],
   "source": [
    "df[df['baths'].str.contains(',', na=False)]['beds'].value_counts()"
   ]
  },
  {
   "cell_type": "markdown",
   "metadata": {},
   "source": [
    "Видим, что при наличии запятой в выражении, идёт ссылка на \"Bath\", а также есть один пропуск.\n",
    "Можем предположить, что речь идёт о паре \"спальня с ванной\".\n",
    "\n",
    "Пожалуй, имеет смысл полагать дробное разделение"
   ]
  },
  {
   "cell_type": "code",
   "execution_count": 20,
   "metadata": {},
   "outputs": [
    {
     "data": {
      "text/html": [
       "<div>\n",
       "<style scoped>\n",
       "    .dataframe tbody tr th:only-of-type {\n",
       "        vertical-align: middle;\n",
       "    }\n",
       "\n",
       "    .dataframe tbody tr th {\n",
       "        vertical-align: top;\n",
       "    }\n",
       "\n",
       "    .dataframe thead th {\n",
       "        text-align: right;\n",
       "    }\n",
       "</style>\n",
       "<table border=\"1\" class=\"dataframe\">\n",
       "  <thead>\n",
       "    <tr style=\"text-align: right;\">\n",
       "      <th></th>\n",
       "      <th>propertyType</th>\n",
       "      <th>baths</th>\n",
       "      <th>beds</th>\n",
       "      <th>sqft</th>\n",
       "      <th>stories</th>\n",
       "    </tr>\n",
       "  </thead>\n",
       "  <tbody>\n",
       "    <tr>\n",
       "      <th>16</th>\n",
       "      <td>NaN</td>\n",
       "      <td>1,750</td>\n",
       "      <td>Baths</td>\n",
       "      <td>2203.0</td>\n",
       "      <td>NaN</td>\n",
       "    </tr>\n",
       "    <tr>\n",
       "      <th>22</th>\n",
       "      <td>Penthouse, Split-Level</td>\n",
       "      <td>1,000</td>\n",
       "      <td>Baths</td>\n",
       "      <td>1080.0</td>\n",
       "      <td>1.5</td>\n",
       "    </tr>\n",
       "    <tr>\n",
       "      <th>26</th>\n",
       "      <td>NaN</td>\n",
       "      <td>1,000</td>\n",
       "      <td>Baths</td>\n",
       "      <td>NaN</td>\n",
       "      <td>NaN</td>\n",
       "    </tr>\n",
       "    <tr>\n",
       "      <th>115</th>\n",
       "      <td>1 Story, Ranch</td>\n",
       "      <td>2,500</td>\n",
       "      <td>Baths</td>\n",
       "      <td>1470.0</td>\n",
       "      <td>NaN</td>\n",
       "    </tr>\n",
       "    <tr>\n",
       "      <th>182</th>\n",
       "      <td>1 Story, Traditional</td>\n",
       "      <td>4,000</td>\n",
       "      <td>Baths</td>\n",
       "      <td>3097.0</td>\n",
       "      <td>NaN</td>\n",
       "    </tr>\n",
       "    <tr>\n",
       "      <th>207</th>\n",
       "      <td>NaN</td>\n",
       "      <td>2,000</td>\n",
       "      <td>Baths</td>\n",
       "      <td>NaN</td>\n",
       "      <td>NaN</td>\n",
       "    </tr>\n",
       "    <tr>\n",
       "      <th>210</th>\n",
       "      <td>NaN</td>\n",
       "      <td>3,000</td>\n",
       "      <td>Baths</td>\n",
       "      <td>3671.0</td>\n",
       "      <td>NaN</td>\n",
       "    </tr>\n",
       "    <tr>\n",
       "      <th>328</th>\n",
       "      <td>NaN</td>\n",
       "      <td>2,000</td>\n",
       "      <td>Baths</td>\n",
       "      <td>2050.0</td>\n",
       "      <td>NaN</td>\n",
       "    </tr>\n",
       "    <tr>\n",
       "      <th>332</th>\n",
       "      <td>NaN</td>\n",
       "      <td>1,500</td>\n",
       "      <td>Baths</td>\n",
       "      <td>1544.0</td>\n",
       "      <td>NaN</td>\n",
       "    </tr>\n",
       "    <tr>\n",
       "      <th>341</th>\n",
       "      <td>Contemporary/Modern, Traditional</td>\n",
       "      <td>1,250</td>\n",
       "      <td>Baths</td>\n",
       "      <td>3004.0</td>\n",
       "      <td>3.0</td>\n",
       "    </tr>\n",
       "    <tr>\n",
       "      <th>346</th>\n",
       "      <td>Single Detached</td>\n",
       "      <td>1,750</td>\n",
       "      <td>Baths</td>\n",
       "      <td>3758.0</td>\n",
       "      <td>NaN</td>\n",
       "    </tr>\n",
       "    <tr>\n",
       "      <th>350</th>\n",
       "      <td>NaN</td>\n",
       "      <td>2,250</td>\n",
       "      <td>Baths</td>\n",
       "      <td>894.0</td>\n",
       "      <td>NaN</td>\n",
       "    </tr>\n",
       "    <tr>\n",
       "      <th>367</th>\n",
       "      <td>NaN</td>\n",
       "      <td>1,000</td>\n",
       "      <td>Baths</td>\n",
       "      <td>614.0</td>\n",
       "      <td>NaN</td>\n",
       "    </tr>\n",
       "    <tr>\n",
       "      <th>574</th>\n",
       "      <td>NaN</td>\n",
       "      <td>1,750</td>\n",
       "      <td>Baths</td>\n",
       "      <td>NaN</td>\n",
       "      <td>NaN</td>\n",
       "    </tr>\n",
       "    <tr>\n",
       "      <th>602</th>\n",
       "      <td>Contemporary</td>\n",
       "      <td>1,500</td>\n",
       "      <td>Baths</td>\n",
       "      <td>1872.0</td>\n",
       "      <td>NaN</td>\n",
       "    </tr>\n",
       "    <tr>\n",
       "      <th>628</th>\n",
       "      <td>2 Stories, Traditional</td>\n",
       "      <td>3,500</td>\n",
       "      <td>Baths</td>\n",
       "      <td>2205.0</td>\n",
       "      <td>NaN</td>\n",
       "    </tr>\n",
       "    <tr>\n",
       "      <th>637</th>\n",
       "      <td>Single Detached, Traditional</td>\n",
       "      <td>2,000</td>\n",
       "      <td>Baths</td>\n",
       "      <td>1768.0</td>\n",
       "      <td>NaN</td>\n",
       "    </tr>\n",
       "    <tr>\n",
       "      <th>670</th>\n",
       "      <td>Single Detached, Traditional</td>\n",
       "      <td>2,250</td>\n",
       "      <td>Baths</td>\n",
       "      <td>2754.0</td>\n",
       "      <td>NaN</td>\n",
       "    </tr>\n",
       "    <tr>\n",
       "      <th>689</th>\n",
       "      <td>Detached, Two Story</td>\n",
       "      <td>1,000</td>\n",
       "      <td>Baths</td>\n",
       "      <td>2415.0</td>\n",
       "      <td>NaN</td>\n",
       "    </tr>\n",
       "    <tr>\n",
       "      <th>690</th>\n",
       "      <td>1 Story, Traditional</td>\n",
       "      <td>4,000</td>\n",
       "      <td>Baths</td>\n",
       "      <td>2065.0</td>\n",
       "      <td>NaN</td>\n",
       "    </tr>\n",
       "    <tr>\n",
       "      <th>711</th>\n",
       "      <td>Rancher, Raised Ranch</td>\n",
       "      <td>2,000</td>\n",
       "      <td>Baths</td>\n",
       "      <td>1840.0</td>\n",
       "      <td>NaN</td>\n",
       "    </tr>\n",
       "    <tr>\n",
       "      <th>741</th>\n",
       "      <td>NaN</td>\n",
       "      <td>2,250</td>\n",
       "      <td>Baths</td>\n",
       "      <td>3314.0</td>\n",
       "      <td>NaN</td>\n",
       "    </tr>\n",
       "    <tr>\n",
       "      <th>750</th>\n",
       "      <td>NaN</td>\n",
       "      <td>2,000</td>\n",
       "      <td>Baths</td>\n",
       "      <td>1412.0</td>\n",
       "      <td>NaN</td>\n",
       "    </tr>\n",
       "    <tr>\n",
       "      <th>772</th>\n",
       "      <td>Transitional</td>\n",
       "      <td>1,500</td>\n",
       "      <td>Baths</td>\n",
       "      <td>2681.0</td>\n",
       "      <td>NaN</td>\n",
       "    </tr>\n",
       "    <tr>\n",
       "      <th>826</th>\n",
       "      <td>Colonial</td>\n",
       "      <td>1,500</td>\n",
       "      <td>Baths</td>\n",
       "      <td>2284.0</td>\n",
       "      <td>NaN</td>\n",
       "    </tr>\n",
       "    <tr>\n",
       "      <th>827</th>\n",
       "      <td>Craftsman</td>\n",
       "      <td>1,500</td>\n",
       "      <td>Baths</td>\n",
       "      <td>4866.0</td>\n",
       "      <td>NaN</td>\n",
       "    </tr>\n",
       "    <tr>\n",
       "      <th>852</th>\n",
       "      <td>Contemporary</td>\n",
       "      <td>2,750</td>\n",
       "      <td>Baths</td>\n",
       "      <td>2338.0</td>\n",
       "      <td>NaN</td>\n",
       "    </tr>\n",
       "    <tr>\n",
       "      <th>895</th>\n",
       "      <td>NaN</td>\n",
       "      <td>2,000</td>\n",
       "      <td>Baths</td>\n",
       "      <td>NaN</td>\n",
       "      <td>NaN</td>\n",
       "    </tr>\n",
       "    <tr>\n",
       "      <th>915</th>\n",
       "      <td>NaN</td>\n",
       "      <td>1,750</td>\n",
       "      <td>Baths</td>\n",
       "      <td>776.0</td>\n",
       "      <td>NaN</td>\n",
       "    </tr>\n",
       "    <tr>\n",
       "      <th>923</th>\n",
       "      <td>NaN</td>\n",
       "      <td>2,000</td>\n",
       "      <td>Baths</td>\n",
       "      <td>1270.0</td>\n",
       "      <td>NaN</td>\n",
       "    </tr>\n",
       "    <tr>\n",
       "      <th>958</th>\n",
       "      <td>NaN</td>\n",
       "      <td>1,250</td>\n",
       "      <td>Baths</td>\n",
       "      <td>1375.0</td>\n",
       "      <td>NaN</td>\n",
       "    </tr>\n",
       "    <tr>\n",
       "      <th>983</th>\n",
       "      <td>Bungalow</td>\n",
       "      <td>3,000</td>\n",
       "      <td>Baths</td>\n",
       "      <td>1927.0</td>\n",
       "      <td>NaN</td>\n",
       "    </tr>\n",
       "    <tr>\n",
       "      <th>1001</th>\n",
       "      <td>1 Story</td>\n",
       "      <td>1,500</td>\n",
       "      <td>Baths</td>\n",
       "      <td>1413.0</td>\n",
       "      <td>NaN</td>\n",
       "    </tr>\n",
       "    <tr>\n",
       "      <th>1028</th>\n",
       "      <td>Traditional</td>\n",
       "      <td>2,750</td>\n",
       "      <td>Baths</td>\n",
       "      <td>2603.0</td>\n",
       "      <td>2.0</td>\n",
       "    </tr>\n",
       "    <tr>\n",
       "      <th>1039</th>\n",
       "      <td>Single Detached, Traditional</td>\n",
       "      <td>2,000</td>\n",
       "      <td>Baths</td>\n",
       "      <td>2730.0</td>\n",
       "      <td>NaN</td>\n",
       "    </tr>\n",
       "    <tr>\n",
       "      <th>1051</th>\n",
       "      <td>Traditional</td>\n",
       "      <td>1,750</td>\n",
       "      <td>Baths</td>\n",
       "      <td>2559.0</td>\n",
       "      <td>2.0</td>\n",
       "    </tr>\n",
       "    <tr>\n",
       "      <th>1070</th>\n",
       "      <td>NaN</td>\n",
       "      <td>1,000</td>\n",
       "      <td>Baths</td>\n",
       "      <td>NaN</td>\n",
       "      <td>NaN</td>\n",
       "    </tr>\n",
       "    <tr>\n",
       "      <th>1080</th>\n",
       "      <td>Single Detached</td>\n",
       "      <td>1,500</td>\n",
       "      <td>Baths</td>\n",
       "      <td>3070.0</td>\n",
       "      <td>NaN</td>\n",
       "    </tr>\n",
       "    <tr>\n",
       "      <th>1084</th>\n",
       "      <td>1 Story, Traditional</td>\n",
       "      <td>2,000</td>\n",
       "      <td>Baths</td>\n",
       "      <td>1032.0</td>\n",
       "      <td>NaN</td>\n",
       "    </tr>\n",
       "    <tr>\n",
       "      <th>1106</th>\n",
       "      <td>Federal</td>\n",
       "      <td>1,250</td>\n",
       "      <td>Baths</td>\n",
       "      <td>850.0</td>\n",
       "      <td>NaN</td>\n",
       "    </tr>\n",
       "  </tbody>\n",
       "</table>\n",
       "</div>"
      ],
      "text/plain": [
       "                          propertyType  baths   beds    sqft  stories\n",
       "16                                 NaN  1,750  Baths  2203.0      NaN\n",
       "22              Penthouse, Split-Level  1,000  Baths  1080.0      1.5\n",
       "26                                 NaN  1,000  Baths     NaN      NaN\n",
       "115                     1 Story, Ranch  2,500  Baths  1470.0      NaN\n",
       "182               1 Story, Traditional  4,000  Baths  3097.0      NaN\n",
       "207                                NaN  2,000  Baths     NaN      NaN\n",
       "210                                NaN  3,000  Baths  3671.0      NaN\n",
       "328                                NaN  2,000  Baths  2050.0      NaN\n",
       "332                                NaN  1,500  Baths  1544.0      NaN\n",
       "341   Contemporary/Modern, Traditional  1,250  Baths  3004.0      3.0\n",
       "346                    Single Detached  1,750  Baths  3758.0      NaN\n",
       "350                                NaN  2,250  Baths   894.0      NaN\n",
       "367                                NaN  1,000  Baths   614.0      NaN\n",
       "574                                NaN  1,750  Baths     NaN      NaN\n",
       "602                       Contemporary  1,500  Baths  1872.0      NaN\n",
       "628             2 Stories, Traditional  3,500  Baths  2205.0      NaN\n",
       "637       Single Detached, Traditional  2,000  Baths  1768.0      NaN\n",
       "670       Single Detached, Traditional  2,250  Baths  2754.0      NaN\n",
       "689                Detached, Two Story  1,000  Baths  2415.0      NaN\n",
       "690               1 Story, Traditional  4,000  Baths  2065.0      NaN\n",
       "711              Rancher, Raised Ranch  2,000  Baths  1840.0      NaN\n",
       "741                                NaN  2,250  Baths  3314.0      NaN\n",
       "750                                NaN  2,000  Baths  1412.0      NaN\n",
       "772                       Transitional  1,500  Baths  2681.0      NaN\n",
       "826                           Colonial  1,500  Baths  2284.0      NaN\n",
       "827                          Craftsman  1,500  Baths  4866.0      NaN\n",
       "852                       Contemporary  2,750  Baths  2338.0      NaN\n",
       "895                                NaN  2,000  Baths     NaN      NaN\n",
       "915                                NaN  1,750  Baths   776.0      NaN\n",
       "923                                NaN  2,000  Baths  1270.0      NaN\n",
       "958                                NaN  1,250  Baths  1375.0      NaN\n",
       "983                           Bungalow  3,000  Baths  1927.0      NaN\n",
       "1001                           1 Story  1,500  Baths  1413.0      NaN\n",
       "1028                       Traditional  2,750  Baths  2603.0      2.0\n",
       "1039      Single Detached, Traditional  2,000  Baths  2730.0      NaN\n",
       "1051                       Traditional  1,750  Baths  2559.0      2.0\n",
       "1070                               NaN  1,000  Baths     NaN      NaN\n",
       "1080                   Single Detached  1,500  Baths  3070.0      NaN\n",
       "1084              1 Story, Traditional  2,000  Baths  1032.0      NaN\n",
       "1106                           Federal  1,250  Baths   850.0      NaN"
      ]
     },
     "execution_count": 20,
     "metadata": {},
     "output_type": "execute_result"
    }
   ],
   "source": [
    "df[df['baths'].str.contains(',', na=False)][['propertyType', 'baths', 'beds', 'sqft', 'stories']].head(40)"
   ]
  },
  {
   "cell_type": "markdown",
   "metadata": {},
   "source": [
    "Сопоставим площади, когда есть acres в Beds:"
   ]
  },
  {
   "cell_type": "code",
   "execution_count": 21,
   "metadata": {},
   "outputs": [
    {
     "name": "stdout",
     "output_type": "stream",
     "text": [
      "when acre in beds\n"
     ]
    },
    {
     "data": {
      "text/plain": [
       "sqft\n",
       "NaN           1628\n",
       "-- sqft         11\n",
       "1,844 sqft       1\n",
       "Name: count, dtype: int64"
      ]
     },
     "metadata": {},
     "output_type": "display_data"
    },
    {
     "name": "stdout",
     "output_type": "stream",
     "text": [
      "when sqft in beds\n"
     ]
    },
    {
     "data": {
      "text/plain": [
       "sqft\n",
       "NaN           1413\n",
       "-- sqft         16\n",
       "1,076 sqft       1\n",
       "1,400 sqft       1\n",
       "1,752 sqft       1\n",
       "1,600 sqft       1\n",
       "1 sqft           1\n",
       "1,652 sqft       1\n",
       "Name: count, dtype: int64"
      ]
     },
     "metadata": {},
     "output_type": "display_data"
    }
   ],
   "source": [
    "print('when acre in beds')\n",
    "display(\n",
    "    raw_df[\n",
    "        raw_df['beds'].str.contains('acre', na=False)\n",
    "    ]['sqft'].value_counts(dropna=False)\n",
    ")\n",
    "\n",
    "print('when sqft in beds')\n",
    "display(\n",
    "    raw_df[\n",
    "        raw_df['beds'].str.contains('sqft', na=False)\n",
    "    ]['sqft'].value_counts(dropna=False)\n",
    ")"
   ]
  },
  {
   "cell_type": "markdown",
   "metadata": {},
   "source": [
    "Видим, что в большинстве случаев данные по площади попросту отсутствуют, поэтому положим значение None для значения acres и sqft.\n",
    "При необходимости, можно было бы заполнить пропуски в \"sqft\" из Beds.\n",
    "Однако, доля очень мала, и особо не изменит ситуации по пропускам в площади."
   ]
  },
  {
   "cell_type": "markdown",
   "metadata": {},
   "source": [
    "### Последовательность обработки признаков baths и beds:"
   ]
  },
  {
   "cell_type": "markdown",
   "metadata": {},
   "source": [
    "Baths:\n",
    "- Заполнить None-ами строки, содержащие \"--\", \"~\", пустые строки после удаления лишних пробелов\n",
    "- Заменить запятые на точки\n",
    "- Извлечь числовые значения (в общем случае, с плавающей точкой), а при отсутствии таковых - None\n",
    "\n",
    "Beds:\n",
    "- Заполнить None-ами строки, содержащие \"--\", \"~\", пустые строки после удаления лишних пробелов\n",
    "- Заполнить None-ами строки, содержащие \"acre\", \"sqft\"\n",
    "- Заполнить значениями из Baths, если идёт ссылка на них\n",
    "- Извлечь числовые значения (в общем случае, с плавающей точкой), а при отсутствии таковых - None"
   ]
  },
  {
   "cell_type": "code",
   "execution_count": 22,
   "metadata": {},
   "outputs": [
    {
     "name": "stdout",
     "output_type": "stream",
     "text": [
      "baths\n"
     ]
    },
    {
     "data": {
      "text/plain": [
       "count    267467.000000\n",
       "mean          3.384831\n",
       "std          22.286381\n",
       "min           0.000000\n",
       "25%           2.000000\n",
       "50%           2.500000\n",
       "75%           3.000000\n",
       "max         750.000000\n",
       "Name: baths, dtype: float64"
      ]
     },
     "metadata": {},
     "output_type": "display_data"
    },
    {
     "name": "stdout",
     "output_type": "stream",
     "text": [
      "Доля объявлений с пропуском в baths: 28.543%\n",
      "beds\n"
     ]
    },
    {
     "data": {
      "text/plain": [
       "count    277504.000000\n",
       "mean          3.901398\n",
       "std          21.223677\n",
       "min           0.000000\n",
       "25%           3.000000\n",
       "50%           3.000000\n",
       "75%           4.000000\n",
       "max         750.000000\n",
       "Name: beds, dtype: float64"
      ]
     },
     "metadata": {},
     "output_type": "display_data"
    },
    {
     "name": "stdout",
     "output_type": "stream",
     "text": [
      "Доля объявлений с пропуском в beds: 25.862%\n"
     ]
    },
    {
     "data": {
      "image/png": "[encoded data removed]",
      "text/plain": [
       "<Figure size 640x480 with 2 Axes>"
      ]
     },
     "metadata": {},
     "output_type": "display_data"
    },
    {
     "data": {
      "image/png": "[encoded data removed]",
      "text/plain": [
       "<Figure size 640x480 with 1 Axes>"
      ]
     },
     "metadata": {},
     "output_type": "display_data"
    },
    {
     "data": {
      "image/png": "[encoded data removed]",
      "text/plain": [
       "<Figure size 640x480 with 2 Axes>"
      ]
     },
     "metadata": {},
     "output_type": "display_data"
    },
    {
     "data": {
      "image/png": "[encoded data removed]",
      "text/plain": [
       "<Figure size 640x480 with 1 Axes>"
      ]
     },
     "metadata": {},
     "output_type": "display_data"
    }
   ],
   "source": [
    "df['baths'] = build_features.get_numerical_feature(\n",
    "    df['baths'],\n",
    "    to_none=('--', '~', ''),\n",
    "    to_replace=((',', '.'),)\n",
    ")\n",
    "df = build_features.get_df_beds_from_baths(df)\n",
    "\n",
    "df['beds'] = build_features.get_numerical_feature(\n",
    "    df['beds'],\n",
    "    to_none=('--', '~', '', 'sqft', 'acre'),\n",
    ")\n",
    "\n",
    "for feature_name in ['baths', 'beds']:\n",
    "    print(feature_name)\n",
    "    display(df[feature_name].describe())\n",
    "    print(\n",
    "        f'Доля объявлений с пропуском в {feature_name}:', \n",
    "        utils.get_percentage(df[feature_name].isna().sum(), df.shape[0])\n",
    "    )\n",
    "\n",
    "    visualize.plot_box_hist_plot(\n",
    "        df, \n",
    "        feature_name, \n",
    "        log_scale=True, \n",
    "        title=f'{feature_name} count',\n",
    "    );\n",
    "    \n",
    "    visualize.plot_scatter(\n",
    "        data=df,\n",
    "        x=feature_name,\n",
    "        y='target',\n",
    "        logx=True,\n",
    "        logy=True,\n",
    "        y_label='price [$]',\n",
    "        title=f'Price - {feature_name} plot',\n",
    "        linewidth=0,\n",
    "    );"
   ]
  },
  {
   "cell_type": "markdown",
   "metadata": {},
   "source": [
    "Имеются как пропуски, так и выбросы. Потребуется последующая обработка.\n",
    "\n",
    "В целом, имеется тенденция к увеличению стоимости жилья при увеличении числа ванных и спальных комнат!"
   ]
  },
  {
   "cell_type": "markdown",
   "metadata": {},
   "source": [
    "## private pool и PrivatePool"
   ]
  },
  {
   "cell_type": "code",
   "execution_count": 23,
   "metadata": {},
   "outputs": [
    {
     "data": {
      "text/plain": [
       "private pool\n",
       "NaN    370155\n",
       "Yes      4151\n",
       "Name: count, dtype: int64"
      ]
     },
     "metadata": {},
     "output_type": "display_data"
    },
    {
     "data": {
      "text/plain": [
       "PrivatePool\n",
       "NaN    334280\n",
       "yes     28592\n",
       "Yes     11434\n",
       "Name: count, dtype: int64"
      ]
     },
     "metadata": {},
     "output_type": "display_data"
    }
   ],
   "source": [
    "display(df['private pool'].value_counts(dropna=False))\n",
    "display(df['PrivatePool'].value_counts(dropna=False))"
   ]
  },
  {
   "cell_type": "markdown",
   "metadata": {},
   "source": [
    "Так как есть либо значение, либо None, то там где есть значения, оставляем \"yes\", в остальных \"no\""
   ]
  },
  {
   "cell_type": "code",
   "execution_count": 24,
   "metadata": {},
   "outputs": [
    {
     "data": {
      "image/png": "[encoded data removed]",
      "text/plain": [
       "<Figure size 640x480 with 1 Axes>"
      ]
     },
     "metadata": {},
     "output_type": "display_data"
    }
   ],
   "source": [
    "# fill with True if mark exists\n",
    "df = build_features.get_df_private_pool(df)\n",
    "\n",
    "visualize.plot_boxplot(\n",
    "    df,\n",
    "    numeric_feature='target',\n",
    "    categorical_feature='private_pool',\n",
    "    orient='v',\n",
    "    log_scale=True,\n",
    "    numeric_label='price [$]',\n",
    "    categorical_label='has private pool',\n",
    "    title='Price dependency in private pool'\n",
    ");"
   ]
  },
  {
   "cell_type": "markdown",
   "metadata": {},
   "source": [
    "После удаления выбросов можно будет проверить статистическую значимость расхождения в стоимости.\n",
    "Но по графику мы наблюдаем повышение стоимости недвижимости при наличии бассейна, что логично."
   ]
  },
  {
   "cell_type": "markdown",
   "metadata": {},
   "source": [
    "## mls-id и MlsId"
   ]
  },
  {
   "cell_type": "code",
   "execution_count": 25,
   "metadata": {},
   "outputs": [
    {
     "data": {
      "text/plain": [
       "mls-id\n",
       "NaN          349369\n",
       "No MLS#           3\n",
       "No                3\n",
       "39888954          2\n",
       "201909981         2\n",
       "              ...  \n",
       "A10762436         1\n",
       "1592770           1\n",
       "14201834          1\n",
       "816230            1\n",
       "F10202858         1\n",
       "Name: count, Length: 24903, dtype: int64"
      ]
     },
     "metadata": {},
     "output_type": "display_data"
    },
    {
     "data": {
      "text/plain": [
       "MlsId\n",
       "NaN                        64337\n",
       "NO MLS                        24\n",
       "No MLS #                      16\n",
       " A, Houston, TX 77008         13\n",
       " 12A, Orlando, FL 32833       11\n",
       "                           ...  \n",
       "241208                         1\n",
       "687215                         1\n",
       "3866902                        1\n",
       "19491906                       1\n",
       "10374233                       1\n",
       "Name: count, Length: 232623, dtype: int64"
      ]
     },
     "metadata": {},
     "output_type": "display_data"
    }
   ],
   "source": [
    "display(df['mls-id'].value_counts(dropna=False))\n",
    "display(df['MlsId'].value_counts(dropna=False))"
   ]
  },
  {
   "cell_type": "markdown",
   "metadata": {},
   "source": [
    "Имеет смысл создать один признак `mls`, отвечающий за участие объявления в Multiple Listing Service - когда к продвижению объявления подключаются и другие агенства.\n",
    "\n",
    "Важно отметить, что присутствуют скрытые пропуски, типа \"No\" и \"No MLS\", лучше начать с их обработки - переводим в None.\n",
    "\n",
    "Затем, по аналогии с private pool создаём бинарный признак: True, если есть сведения, False - если нет"
   ]
  },
  {
   "cell_type": "markdown",
   "metadata": {},
   "source": [
    "Но прежде, чем выбрать паттерн заполнения неявных пропусков, посмотрим на данные, содержащие No:"
   ]
  },
  {
   "cell_type": "code",
   "execution_count": 26,
   "metadata": {},
   "outputs": [
    {
     "data": {
      "text/plain": [
       "mls-id\n",
       "No         3\n",
       "No MLS#    3\n",
       "No mls     1\n",
       "NO MLS     1\n",
       "Name: count, dtype: int64"
      ]
     },
     "metadata": {},
     "output_type": "display_data"
    },
    {
     "data": {
      "text/plain": [
       "MlsId\n",
       "NO MLS                                 24\n",
       "No MLS #                               16\n",
       "No                                      9\n",
       "No mls                                  8\n",
       "NOMLSID                                 6\n",
       "                                       ..\n",
       " C, Reno, NV 89502                      1\n",
       " B411, North Miami, FL 33161            1\n",
       " 2509, North Miami, FL 33181            1\n",
       " E1004, North Miami Beach, FL 33162     1\n",
       " 301, North Bay Village, FL 33141       1\n",
       "Name: count, Length: 95, dtype: int64"
      ]
     },
     "metadata": {},
     "output_type": "display_data"
    }
   ],
   "source": [
    "for mls_column in ['mls-id', 'MlsId']:\n",
    "    display(\n",
    "        df[\n",
    "            df[mls_column].str.lower().str.strip().str.contains('no', na=False)\n",
    "        ][mls_column].value_counts()\n",
    "    )"
   ]
  },
  {
   "cell_type": "markdown",
   "metadata": {},
   "source": [
    "В случае с \"mls-id\" всё просто, достаточно сделать None-ами значения, содержащие \"no\".\n",
    "Однако, в случае с \"MlsId\" мы рискуем заполнить таким образом None-ами значения, содержащие \"no\" в строке адреса.\n",
    "Как правило, в случае с адресом, есть запятые проверим догадку:"
   ]
  },
  {
   "cell_type": "code",
   "execution_count": 27,
   "metadata": {},
   "outputs": [
    {
     "data": {
      "text/plain": [
       "mls-id\n",
       "No         3\n",
       "No MLS#    3\n",
       "No mls     1\n",
       "NO MLS     1\n",
       "Name: count, dtype: int64"
      ]
     },
     "metadata": {},
     "output_type": "display_data"
    },
    {
     "data": {
      "text/plain": [
       "MlsId\n",
       "NO MLS        24\n",
       "No MLS #      16\n",
       "No             9\n",
       "No mls         8\n",
       "No MLS         6\n",
       "NOMLSID        6\n",
       "NON1614        2\n",
       "No MLS         2\n",
       "NON MLS        1\n",
       "NonMLS         1\n",
       "non MLS        1\n",
       "NOT ON MLS     1\n",
       "No  MLs #      1\n",
       "462NON         1\n",
       "Name: count, dtype: int64"
      ]
     },
     "metadata": {},
     "output_type": "display_data"
    }
   ],
   "source": [
    "for mls_column in ['mls-id', 'MlsId']:\n",
    "    display(\n",
    "        df[\n",
    "            df[mls_column].str.lower().str.strip().str.contains('no', na=False)\n",
    "            &\n",
    "            ~df[mls_column].str.lower().str.strip().str.contains(',', na=False)\n",
    "        ][mls_column].value_counts()\n",
    "    )"
   ]
  },
  {
   "cell_type": "markdown",
   "metadata": {},
   "source": [
    "Воспользуемся такой маской."
   ]
  },
  {
   "cell_type": "code",
   "execution_count": 28,
   "metadata": {},
   "outputs": [
    {
     "data": {
      "image/png": "[encoded data removed]",
      "text/plain": [
       "<Figure size 640x480 with 1 Axes>"
      ]
     },
     "metadata": {},
     "output_type": "display_data"
    }
   ],
   "source": [
    "df = build_features.get_df_mls(df)\n",
    "visualize.plot_boxplot(\n",
    "    df,\n",
    "    numeric_feature='target',\n",
    "    categorical_feature='mls',\n",
    "    orient='v',\n",
    "    log_scale=True,\n",
    "    numeric_label='price [$]',\n",
    "    categorical_label='has mls',\n",
    "    title='Price dependency on mls'\n",
    ");"
   ]
  },
  {
   "cell_type": "markdown",
   "metadata": {},
   "source": [
    "По boxplot статистически значимая разница в цене не обнаружена.\n",
    "\n",
    "Возможно, имеет смысл удалить этот признак впоследствии"
   ]
  },
  {
   "cell_type": "markdown",
   "metadata": {},
   "source": [
    "## fireplace"
   ]
  },
  {
   "cell_type": "markdown",
   "metadata": {},
   "source": [
    "Посмотрим на встречающиеся значения.\n",
    "Выведем топ 20 первых и последних (уникальных значений)"
   ]
  },
  {
   "cell_type": "code",
   "execution_count": 29,
   "metadata": {},
   "outputs": [
    {
     "data": {
      "text/plain": [
       "fireplace\n",
       "yes                   49925\n",
       "Yes                   20619\n",
       "1                     14533\n",
       "2                      2432\n",
       "Not Applicable         1990\n",
       "Fireplace               847\n",
       "3                       563\n",
       "Living Room             433\n",
       "LOCATION                399\n",
       "Wood Burning            311\n",
       "Gas/Gas Logs            300\n",
       "No                      289\n",
       "Fireplace YN            287\n",
       "Special Features        279\n",
       "1 Fireplace             274\n",
       "0                       270\n",
       "FAMILYRM                246\n",
       "Fireplace Features      239\n",
       "Great Room              207\n",
       "Wood                    206\n",
       "Name: count, dtype: int64"
      ]
     },
     "metadata": {},
     "output_type": "display_data"
    },
    {
     "data": {
      "text/plain": [
       "fireplace\n",
       "Den, FAMILYRM, Great Room                                                                          1\n",
       "Central Vacuum, Elevator, Walk-In Closets, Wet Bar                                                 1\n",
       "Den, Kitchen                                                                                       1\n",
       "Three, Gas Log                                                                                     1\n",
       "FAMILYRM, Great Room, Living Room                                                                  1\n",
       "In Den, Gas Logs, In Living Room                                                                   1\n",
       "2 Fireplaces, Decorative Fireplace, Family Room, Gas Burning, Master Bedroom                       1\n",
       "Brick, Flue, Wood Burning Stove                                                                    1\n",
       "SMCAM                                                                                              1\n",
       "1 Fireplace, Family Room, Gas Starter                                                              1\n",
       "Flooring - Carpet, Built-Ins, Fireplace - Gas, Walk-In Closet(s), Master Bedroom - Sitting Area    1\n",
       "Extra Closets, SMCAM, SMLT, SMTHR, Storage, Wet Bar                                                1\n",
       "Ceiling Fan, Redecorated, SMTHR, Utility Connection, Walk-In Closets                               1\n",
       "Masonry, Decorative Only, In Living Room                                                           1\n",
       "2 Fireplace, Fireplace Family Rm, Fireplace Living Rm, Fireplace Master Bdr, Two Way Fireplace     1\n",
       "Gas, Wood Burning, Two, Propane Logs Convey                                                        1\n",
       "Free-standing, Insert, Wood                                                                        1\n",
       "Wood Burning, Attached Fireplace Doors/Screen, Electric, Gas Starter                               1\n",
       "One, Living Room                                                                                   1\n",
       "Ceiling Fan, SMAPL, Utility Connection, Walk-In Closets                                            1\n",
       "Name: count, dtype: int64"
      ]
     },
     "metadata": {},
     "output_type": "display_data"
    }
   ],
   "source": [
    "display(df['fireplace'].value_counts().head(20))\n",
    "display(df['fireplace'].value_counts().tail(20))"
   ]
  },
  {
   "cell_type": "markdown",
   "metadata": {},
   "source": [
    "Так как в ряде случаев встречается подробное описание по наличию, месторасположению и типу камина, то проще присвоить тип \"нет камина\" для None и других признаков отсутствия, а для остальных - есть."
   ]
  },
  {
   "cell_type": "code",
   "execution_count": 30,
   "metadata": {},
   "outputs": [
    {
     "name": "stdout",
     "output_type": "stream",
     "text": [
      "Доля объявлений с камином и без:\n"
     ]
    },
    {
     "data": {
      "text/plain": [
       "fireplace\n",
       "False    0.733192\n",
       "True     0.266808\n",
       "Name: proportion, dtype: float64"
      ]
     },
     "metadata": {},
     "output_type": "display_data"
    },
    {
     "data": {
      "image/png": "[encoded data removed]",
      "text/plain": [
       "<Figure size 640x480 with 1 Axes>"
      ]
     },
     "metadata": {},
     "output_type": "display_data"
    }
   ],
   "source": [
    "no_fireplace_labels = ('not applicable', 'no', 'no fireplace', '0')\n",
    "df['fireplace'] = build_features.get_bool_feature(\n",
    "    df['fireplace'], no_fireplace_labels\n",
    ")\n",
    "print('Доля объявлений с камином и без:')\n",
    "display(df['fireplace'].value_counts(normalize=True))\n",
    "visualize.plot_boxplot(\n",
    "    df,\n",
    "    numeric_feature='target',\n",
    "    categorical_feature='fireplace',\n",
    "    orient='v',\n",
    "    log_scale=True,\n",
    "    numeric_label='price [$]',\n",
    "    categorical_label='has fireplace',\n",
    "    title='Price dependency on fireplace'\n",
    ");"
   ]
  },
  {
   "cell_type": "markdown",
   "metadata": {},
   "source": [
    "Только 27% объявлений с камином.\n",
    "\n",
    "При этом по медиане стоимость домов с камином выше, что логично."
   ]
  },
  {
   "cell_type": "code",
   "execution_count": 31,
   "metadata": {},
   "outputs": [
    {
     "name": "stdout",
     "output_type": "stream",
     "text": [
      "<class 'pandas.core.frame.DataFrame'>\n",
      "Index: 374306 entries, 0 to 377184\n",
      "Data columns (total 17 columns):\n",
      " #   Column                Non-Null Count   Dtype  \n",
      "---  ------                --------------   -----  \n",
      " 0   status                335049 non-null  object \n",
      " 1   propertyType          339752 non-null  object \n",
      " 2   street                374304 non-null  object \n",
      " 3   baths                 267467 non-null  float64\n",
      " 4   homeFacts             374306 non-null  object \n",
      " 5   fireplace             374306 non-null  bool   \n",
      " 6   city                  374272 non-null  object \n",
      " 7   schools               374306 non-null  object \n",
      " 8   sqft                  333384 non-null  float64\n",
      " 9   zipcode               374306 non-null  object \n",
      " 10  beds                  277504 non-null  float64\n",
      " 11  state                 374306 non-null  object \n",
      " 12  stories               213162 non-null  float64\n",
      " 13  target                374306 non-null  int64  \n",
      " 14  marked_interior_area  374306 non-null  bool   \n",
      " 15  private_pool          374306 non-null  bool   \n",
      " 16  mls                   374306 non-null  bool   \n",
      "dtypes: bool(4), float64(4), int64(1), object(8)\n",
      "memory usage: 41.4+ MB\n"
     ]
    }
   ],
   "source": [
    "df.info()"
   ]
  },
  {
   "cell_type": "markdown",
   "metadata": {},
   "source": [
    "TODO:\n",
    "- propertyType\n",
    "- street, city, state, zipcode (если можно что извлечь)\n",
    "- homeFacts и schools"
   ]
  },
  {
   "cell_type": "markdown",
   "metadata": {},
   "source": [
    "## status"
   ]
  },
  {
   "cell_type": "markdown",
   "metadata": {},
   "source": [
    "Оценим, какие типы есть в status"
   ]
  },
  {
   "cell_type": "code",
   "execution_count": 32,
   "metadata": {},
   "outputs": [
    {
     "data": {
      "text/plain": [
       "status\n",
       "for sale                             199567\n",
       "active                               105206\n",
       "foreclosure                            6020\n",
       "new construction                       5459\n",
       "pending                                4802\n",
       "pre-foreclosure                        2000\n",
       "p                                      1488\n",
       "pre-foreclosure / auction              1281\n",
       "under contract show                    1183\n",
       "/ auction                               799\n",
       "under contract   showing                793\n",
       "active under contract                   718\n",
       "under contract                          692\n",
       "new                                     690\n",
       "contingent                              581\n",
       "price change                            563\n",
       "auction                                 493\n",
       "a active                                443\n",
       "foreclosed                              294\n",
       "under contract backups                  252\n",
       "contingent finance and inspection       245\n",
       "pending continue to show                194\n",
       "back on market                          112\n",
       "option pending                          110\n",
       "contingent show                         101\n",
       "pending taking backups                   63\n",
       "option contract                          54\n",
       "active with offer                        49\n",
       "pending with contingencies               44\n",
       "active backup                            39\n",
       "Name: count, dtype: int64"
      ]
     },
     "metadata": {},
     "output_type": "display_data"
    },
    {
     "data": {
      "text/plain": [
       "status\n",
       "coming soon: dec 27.         1\n",
       "temporary active             1\n",
       "coming soon: nov 17.         1\n",
       "coming soon: oct 24.         1\n",
       "coming soon: oct 21.         1\n",
       "pending w/escape clause      1\n",
       "coming soon: nov 26.         1\n",
       "coming soon: nov 14.         1\n",
       "contract                     1\n",
       "pending, continue to show    1\n",
       "contingent   no show         1\n",
       "pending bring backup         1\n",
       "conditional contract         1\n",
       "coming soon: nov 8.          1\n",
       "coming soon: oct 29.         1\n",
       "coming soon: dec 15.         1\n",
       "coming soon: dec 25.         1\n",
       "pending backups wanted       1\n",
       "coming soon: nov 23.         1\n",
       "coming soon: dec 23.         1\n",
       "Name: count, dtype: int64"
      ]
     },
     "metadata": {},
     "output_type": "display_data"
    }
   ],
   "source": [
    "status = df['status'].str.strip().str.lower()\n",
    "display(status.value_counts().head(30))\n",
    "display(status.value_counts().tail(20))"
   ]
  },
  {
   "cell_type": "markdown",
   "metadata": {},
   "source": [
    "Рассмотрим статистику по ключевым статусам:"
   ]
  },
  {
   "cell_type": "markdown",
   "metadata": {},
   "source": [
    "Для продажи:"
   ]
  },
  {
   "cell_type": "code",
   "execution_count": 33,
   "metadata": {},
   "outputs": [
    {
     "data": {
      "text/plain": [
       "status\n",
       "for sale    199567\n",
       "Name: count, dtype: int64"
      ]
     },
     "execution_count": 33,
     "metadata": {},
     "output_type": "execute_result"
    }
   ],
   "source": [
    "status[status.str.contains('for sale', na=False)].value_counts()"
   ]
  },
  {
   "cell_type": "code",
   "execution_count": 34,
   "metadata": {},
   "outputs": [
    {
     "data": {
      "text/plain": [
       "status\n",
       "for sale                             199567\n",
       "p pending sale                           35\n",
       "contract contingent on buyer sale        25\n",
       "pending sale                              2\n",
       "contingent - sale of home                 1\n",
       "Name: count, dtype: int64"
      ]
     },
     "execution_count": 34,
     "metadata": {},
     "output_type": "execute_result"
    }
   ],
   "source": [
    "status[status.str.contains('sale', na=False)].value_counts()"
   ]
  },
  {
   "cell_type": "markdown",
   "metadata": {},
   "source": [
    "Активная сделка (есть и другие слова вместе с ключевым):"
   ]
  },
  {
   "cell_type": "code",
   "execution_count": 35,
   "metadata": {},
   "outputs": [
    {
     "data": {
      "text/plain": [
       "status\n",
       "active                       105206\n",
       "active under contract           718\n",
       "a active                        443\n",
       "active with offer                49\n",
       "active backup                    39\n",
       "auction - active                 28\n",
       "active/contingent                15\n",
       "active with contingencies        13\n",
       "active - auction                 10\n",
       "active contingency                8\n",
       "active option                     7\n",
       "active option contract            7\n",
       "active contingent                 6\n",
       "active - contingent               2\n",
       "active with contract              2\n",
       "temporary active                  1\n",
       "Name: count, dtype: int64"
      ]
     },
     "execution_count": 35,
     "metadata": {},
     "output_type": "execute_result"
    }
   ],
   "source": [
    "status[status.str.contains('active', na=False)].value_counts()"
   ]
  },
  {
   "cell_type": "markdown",
   "metadata": {},
   "source": [
    "Новая сделка:"
   ]
  },
  {
   "cell_type": "code",
   "execution_count": 36,
   "metadata": {},
   "outputs": [
    {
     "data": {
      "text/plain": [
       "status\n",
       "new construction    5459\n",
       "new                  690\n",
       "Name: count, dtype: int64"
      ]
     },
     "execution_count": 36,
     "metadata": {},
     "output_type": "execute_result"
    }
   ],
   "source": [
    "status[status.str.contains('new', na=False)].value_counts()"
   ]
  },
  {
   "cell_type": "markdown",
   "metadata": {},
   "source": [
    "Приближается время начала (малочисленная группа):"
   ]
  },
  {
   "cell_type": "code",
   "execution_count": 37,
   "metadata": {},
   "outputs": [
    {
     "data": {
      "text/plain": [
       "status\n",
       "coming soon: nov 29.    10\n",
       "coming soon: dec 6.      8\n",
       "coming soon: dec 5.      7\n",
       "coming soon: dec 4.      6\n",
       "coming soon: nov 27.     5\n",
       "coming soon: dec 13.     5\n",
       "coming soon: dec 7.      4\n",
       "coming soon: dec 3.      4\n",
       "coming soon: nov 19.     4\n",
       "coming soon: nov 28.     4\n",
       "coming soon: dec 10.     4\n",
       "coming soon: nov 30.     4\n",
       "coming soon: dec 9.      3\n",
       "coming soon: dec 14.     3\n",
       "coming soon: dec 2.      3\n",
       "coming soon: nov 13.     2\n",
       "coming soon: dec 20.     2\n",
       "coming soon: dec 11.     2\n",
       "coming soon: oct 30.     2\n",
       "coming soon: nov 21.     2\n",
       "coming soon: nov 22.     2\n",
       "coming soon: dec 16.     2\n",
       "coming soon: dec 18.     2\n",
       "coming soon: dec 24.     2\n",
       "coming soon: nov 17.     1\n",
       "coming soon: nov 25.     1\n",
       "coming soon: dec 1.      1\n",
       "coming soon: nov 12.     1\n",
       "coming soon: nov 5.      1\n",
       "coming soon: dec 12.     1\n",
       "coming soon: nov 23.     1\n",
       "coming soon: nov 14.     1\n",
       "coming soon: dec 15.     1\n",
       "coming soon: nov 11.     1\n",
       "coming soon: oct 29.     1\n",
       "coming soon: nov 8.      1\n",
       "coming soon: oct 21.     1\n",
       "coming soon: oct 24.     1\n",
       "coming soon: dec 27.     1\n",
       "coming soon: dec 25.     1\n",
       "coming soon: nov 26.     1\n",
       "coming soon: dec 23.     1\n",
       "Name: count, dtype: int64"
      ]
     },
     "execution_count": 37,
     "metadata": {},
     "output_type": "execute_result"
    }
   ],
   "source": [
    "status[status.str.contains('coming', na=False)].value_counts()"
   ]
  },
  {
   "cell_type": "markdown",
   "metadata": {},
   "source": [
    "Лишён права выкупа:"
   ]
  },
  {
   "cell_type": "code",
   "execution_count": 38,
   "metadata": {},
   "outputs": [
    {
     "data": {
      "text/plain": [
       "status\n",
       "foreclosure                 6020\n",
       "foreclosed                   294\n",
       "contingent   foreclosure       2\n",
       "Name: count, dtype: int64"
      ]
     },
     "execution_count": 38,
     "metadata": {},
     "output_type": "execute_result"
    }
   ],
   "source": [
    "status[\n",
    "    status.str.contains('foreclos', na=False) & \n",
    "    ~status.str.contains('pre', na=False)\n",
    "].value_counts()"
   ]
  },
  {
   "cell_type": "markdown",
   "metadata": {},
   "source": [
    "Аукцион до выкупа:"
   ]
  },
  {
   "cell_type": "code",
   "execution_count": 39,
   "metadata": {},
   "outputs": [
    {
     "data": {
      "text/plain": [
       "status\n",
       "pre-foreclosure              2000\n",
       "pre-foreclosure / auction    1281\n",
       "Name: count, dtype: int64"
      ]
     },
     "execution_count": 39,
     "metadata": {},
     "output_type": "execute_result"
    }
   ],
   "source": [
    "status[\n",
    "    status.str.contains('foreclos', na=False) &\n",
    "    status.str.contains('pre', na=False)\n",
    "].value_counts()"
   ]
  },
  {
   "cell_type": "markdown",
   "metadata": {},
   "source": [
    "Under contract, no backup"
   ]
  },
  {
   "cell_type": "code",
   "execution_count": 40,
   "metadata": {},
   "outputs": [
    {
     "data": {
      "text/plain": [
       "status\n",
       "under contract show                     1183\n",
       "under contract   showing                 793\n",
       "active under contract                    718\n",
       "under contract                           692\n",
       "u under contract                          10\n",
       "under contract - show                      9\n",
       "under contract - no show                   2\n",
       "under contract w/ bckp                     1\n",
       "under contract taking back up offers       1\n",
       "Name: count, dtype: int64"
      ]
     },
     "execution_count": 40,
     "metadata": {},
     "output_type": "execute_result"
    }
   ],
   "source": [
    "status[\n",
    "    status.str.contains('under contract', na=False) &\n",
    "    ~status.str.contains('backup', na=False)\n",
    "].value_counts()"
   ]
  },
  {
   "cell_type": "markdown",
   "metadata": {},
   "source": [
    "Backup"
   ]
  },
  {
   "cell_type": "code",
   "execution_count": 41,
   "metadata": {},
   "outputs": [
    {
     "data": {
      "text/plain": [
       "status\n",
       "under contract backups              252\n",
       "pending taking backups               63\n",
       "active backup                        39\n",
       "pending - taking backups             17\n",
       "contingent take backup               14\n",
       "backup contract                       6\n",
       "accepting backups                     2\n",
       "pending - backup offer requested      2\n",
       "pending bring backup                  1\n",
       "pending w/backup wanted               1\n",
       "pending backups wanted                1\n",
       "pending take backups                  1\n",
       "conting accpt backups                 1\n",
       "backup                                1\n",
       "Name: count, dtype: int64"
      ]
     },
     "execution_count": 41,
     "metadata": {},
     "output_type": "execute_result"
    }
   ],
   "source": [
    "status[status.str.contains('backup', na=False)].value_counts()"
   ]
  },
  {
   "cell_type": "markdown",
   "metadata": {},
   "source": [
    "Contingency, Contingent."
   ]
  },
  {
   "cell_type": "code",
   "execution_count": 42,
   "metadata": {},
   "outputs": [
    {
     "data": {
      "text/plain": [
       "status\n",
       "contingent                           581\n",
       "contingent finance and inspection    245\n",
       "contingent show                      101\n",
       "pending with contingencies            44\n",
       "contract contingent on buyer sale     25\n",
       "active/contingent                     15\n",
       "contingent take backup                14\n",
       "active with contingencies             13\n",
       "contingent   show                     13\n",
       "ct insp - inspection contingency      10\n",
       "contingent escape                     10\n",
       "contingency contract                   9\n",
       "active contingency                     8\n",
       "active contingent                      6\n",
       "contingent lien holder release         5\n",
       "contingency 48 hr (+/ )                5\n",
       "contingent   release                   3\n",
       "active - contingent                    2\n",
       "contingent   foreclosure               2\n",
       "contingent - financing                 2\n",
       "contingent   no show                   1\n",
       "contingent - sale of home              1\n",
       "Name: count, dtype: int64"
      ]
     },
     "execution_count": 42,
     "metadata": {},
     "output_type": "execute_result"
    }
   ],
   "source": [
    "status[status.str.contains('contingen', na=False)].value_counts()"
   ]
  },
  {
   "cell_type": "markdown",
   "metadata": {},
   "source": [
    "Pending. Требуется разделение"
   ]
  },
  {
   "cell_type": "code",
   "execution_count": 43,
   "metadata": {},
   "outputs": [
    {
     "data": {
      "text/plain": [
       "status\n",
       "pending                                   4802\n",
       "pending continue to show                   194\n",
       "option pending                             110\n",
       "pending taking backups                      63\n",
       "pending with contingencies                  44\n",
       "p pending sale                              35\n",
       "pending - taking backups                    17\n",
       "offer pending signature                     15\n",
       "pending inspection                          14\n",
       "pending in                                  13\n",
       "pending w/insp finance                      10\n",
       "pending ab                                   7\n",
       "pending   continue to show   financing       5\n",
       "pending offer approval                       4\n",
       "lease/purchase pending                       3\n",
       "pending   continue to show                   3\n",
       "pending fe                                   3\n",
       "pending (do not show)                        2\n",
       "pending w/ cont.                             2\n",
       "pending - continue to show                   2\n",
       "pending sale                                 2\n",
       "pending - backup offer requested             2\n",
       "pending, continue to show                    1\n",
       "pending bring backup                         1\n",
       "pending w/escape clause                      1\n",
       "pending w/backup wanted                      1\n",
       "pending backups wanted                       1\n",
       "pending take backups                         1\n",
       "pending sh                                   1\n",
       "Name: count, dtype: int64"
      ]
     },
     "execution_count": 43,
     "metadata": {},
     "output_type": "execute_result"
    }
   ],
   "source": [
    "status[status.str.contains('pending', na=False)].value_counts()"
   ]
  },
  {
   "cell_type": "code",
   "execution_count": 44,
   "metadata": {},
   "outputs": [
    {
     "data": {
      "text/plain": [
       "status\n",
       "due diligence period    27\n",
       "Name: count, dtype: int64"
      ]
     },
     "execution_count": 44,
     "metadata": {},
     "output_type": "execute_result"
    }
   ],
   "source": [
    "status[\n",
    "    status.str.contains('diligence', na=False)\n",
    "].value_counts()"
   ]
  },
  {
   "cell_type": "code",
   "execution_count": 45,
   "metadata": {},
   "outputs": [
    {
     "data": {
      "text/plain": [
       "status\n",
       "active                       105206\n",
       "active under contract           718\n",
       "a active                        443\n",
       "active with offer                49\n",
       "active backup                    39\n",
       "auction - active                 28\n",
       "active/contingent                15\n",
       "active with contingencies        13\n",
       "active - auction                 10\n",
       "active contingency                8\n",
       "active option contract            7\n",
       "active option                     7\n",
       "active contingent                 6\n",
       "active - contingent               2\n",
       "active with contract              2\n",
       "re activated                      2\n",
       "temporary active                  1\n",
       "reactivated                       1\n",
       "Name: count, dtype: int64"
      ]
     },
     "execution_count": 45,
     "metadata": {},
     "output_type": "execute_result"
    }
   ],
   "source": [
    "status[status.str.contains('activ', na=False)].value_counts()"
   ]
  },
  {
   "cell_type": "code",
   "execution_count": 46,
   "metadata": {},
   "outputs": [
    {
     "data": {
      "text/plain": [
       "status\n",
       "pre-foreclosure / auction    1281\n",
       "/ auction                     799\n",
       "auction                       493\n",
       "auction - active               28\n",
       "active - auction               10\n",
       "Name: count, dtype: int64"
      ]
     },
     "execution_count": 46,
     "metadata": {},
     "output_type": "execute_result"
    }
   ],
   "source": [
    "status[status.str.contains('auction', na=False)].value_counts()"
   ]
  },
  {
   "cell_type": "markdown",
   "metadata": {},
   "source": [
    "На текущий момент, имеет смысл группировать только те категории, которые явно схожи!\n",
    "Однако, на следующем этапе EDA потребуется сгруппировать вместе ряд категорий, так как многие из них малочисленные"
   ]
  },
  {
   "cell_type": "code",
   "execution_count": 47,
   "metadata": {},
   "outputs": [
    {
     "name": "stdout",
     "output_type": "stream",
     "text": [
      "Количество \"None\" увеличилось на 2.881%\n"
     ]
    },
    {
     "data": {
      "text/plain": [
       "status\n",
       "sale               199567\n",
       "active             105649\n",
       "NaN                 40388\n",
       "pending              6717\n",
       "foreclosure          6314\n",
       "new                  6149\n",
       "under_contract       3409\n",
       "pre-foreclosure      3281\n",
       "auction              1330\n",
       "contingency          1115\n",
       "backup                387\n",
       "Name: count, dtype: int64"
      ]
     },
     "metadata": {},
     "output_type": "display_data"
    },
    {
     "data": {
      "image/png": "[encoded data removed]",
      "text/plain": [
       "<Figure size 1200x800 with 1 Axes>"
      ]
     },
     "metadata": {},
     "output_type": "display_data"
    }
   ],
   "source": [
    "new_status = build_features.get_status_feature(df['status'])\n",
    "new_none_percentage = utils.get_percentage(\n",
    "    new_status.isna().sum() - status.isna().sum(),\n",
    "    status.isna().sum()\n",
    ")\n",
    "print(f'Количество \"None\" увеличилось на {new_none_percentage}')\n",
    "display(new_status.value_counts(dropna=False))\n",
    "\n",
    "df['status'] = new_status\n",
    "\n",
    "visualize.plot_boxplot(\n",
    "    df,\n",
    "    numeric_feature='target',\n",
    "    categorical_feature='status',\n",
    "    orient='v',\n",
    "    log_scale=True,\n",
    "    numeric_label='price [$]',\n",
    "    title='Price dependency on status',\n",
    "    figsize=(12,8),\n",
    "    ordered=True\n",
    ");\n",
    "plt.tight_layout()"
   ]
  },
  {
   "cell_type": "markdown",
   "metadata": {},
   "source": [
    "- Видим, что наиболее высокая цена у домов со статусом \"new\", а самая низкая у \"foreclosure\".\n",
    "\n",
    "- \"backup\" и \"pending\" близки друг к другу.\n",
    "\n",
    "- Между \"active\" и \"sale\" слабая разница в цене.\n",
    "\n",
    "После удаления выбросов потребуется более детальный анализ с выделением более крупных категорий."
   ]
  },
  {
   "cell_type": "markdown",
   "metadata": {},
   "source": [
    "## propertyType"
   ]
  },
  {
   "cell_type": "code",
   "execution_count": 48,
   "metadata": {},
   "outputs": [
    {
     "data": {
      "text/plain": [
       "propertyType\n",
       "single-family home               91159\n",
       "single family                    61888\n",
       "condo                            42372\n",
       "NaN                              34554\n",
       "single family home               31725\n",
       "lot/land                         20532\n",
       "townhouse                        18305\n",
       "land                             10933\n",
       "multi-family                      7763\n",
       "condo/townhome/row home/co-op     7701\n",
       "traditional                       5912\n",
       "coop                              3265\n",
       "multi family                      2772\n",
       "high rise                         1823\n",
       "ranch                             1781\n",
       "detached, one story               1614\n",
       "mobile/manufactured               1613\n",
       "single detached, traditional      1581\n",
       "contemporary                      1556\n",
       "multi-family home                 1501\n",
       "1 story                           1235\n",
       "colonial                          1204\n",
       "mobile / manufactured             1056\n",
       "contemporary/modern               1000\n",
       "2 stories                          911\n",
       "apartment                          796\n",
       "mfd/mobile home                    791\n",
       "single detached                    751\n",
       "detached, two story                638\n",
       "one story                          592\n",
       "Name: count, dtype: int64"
      ]
     },
     "metadata": {},
     "output_type": "display_data"
    },
    {
     "data": {
      "text/plain": [
       "propertyType\n",
       "traditional, art deco, beaux arts                                         1\n",
       "farm/ranch house, single detached, contemporary/modern, ranch             1\n",
       "a-frame, victorian/federal                                                1\n",
       "contemporary, modernist, ranch, rustic                                    1\n",
       "30x40 building                                                            1\n",
       "split-entry, craftsman                                                    1\n",
       "custom, florida, other, spanish/mediterranean                             1\n",
       "single detached, contemporary/modern, ranch, traditional                  1\n",
       "colonial, english, traditional                                            1\n",
       "single detached, contemporary/modern, other (see remarks), traditional    1\n",
       "1 story, spanish, ranch, traditional                                      1\n",
       "condo/townhome, single detached                                           1\n",
       "contemporary/modern, french, mediterranean, traditional                   1\n",
       "1 story, contemporary, other (see remarks)                                1\n",
       "custom, elevated, other                                                   1\n",
       "contemporary, farmhouse                                                   1\n",
       "2 stories, traditional, mediterranean, texas hill country                 1\n",
       "1 story, contemporary, traditional, mediterranean                         1\n",
       "loft, warehouse                                                           1\n",
       "bilevel, converted dwelling, loft with bedrooms, condo/unit               1\n",
       "Name: count, dtype: int64"
      ]
     },
     "metadata": {},
     "output_type": "display_data"
    }
   ],
   "source": [
    "property_type = df['propertyType'].str.lower().str.strip()\n",
    "display(property_type.value_counts(dropna=False).head(30))\n",
    "display(property_type.value_counts(dropna=False).tail(20))"
   ]
  },
  {
   "cell_type": "markdown",
   "metadata": {},
   "source": [
    "Сформируем список уникальных свойств и посмотрим на их популярность"
   ]
  },
  {
   "cell_type": "code",
   "execution_count": 49,
   "metadata": {},
   "outputs": [
    {
     "data": {
      "text/plain": [
       "Counter({'single-family home': 91159,\n",
       "         'single family': 61888,\n",
       "         'condo': 42373,\n",
       "         'single family home': 31725,\n",
       "         'lot/land': 20532,\n",
       "         'townhouse': 18484,\n",
       "         'land': 10933,\n",
       "         'traditional': 9677,\n",
       "         'multi-family': 7765,\n",
       "         'condo/townhome/row home/co-op': 7701,\n",
       "         'coop': 3265,\n",
       "         'single detached': 3151,\n",
       "         'multi family': 2772,\n",
       "         'ranch': 2711,\n",
       "         'detached': 2671,\n",
       "         'one story': 2527,\n",
       "         'contemporary': 2328,\n",
       "         'high rise': 1980,\n",
       "         'contemporary/modern': 1941,\n",
       "         '1 story': 1811,\n",
       "         'mobile/manufactured': 1613,\n",
       "         'multi-family home': 1501,\n",
       "         '2 stories': 1490,\n",
       "         'colonial': 1398,\n",
       "         'two story': 1096,\n",
       "         'mobile / manufactured': 1056,\n",
       "         'condo/townhome': 819,\n",
       "         'apartment': 799,\n",
       "         'mfd/mobile home': 791,\n",
       "         'transitional': 780,\n",
       "         'florida': 767,\n",
       "         'bungalow': 619,\n",
       "         'cooperative': 533,\n",
       "         'spanish/mediterranean': 517,\n",
       "         'craftsman': 504,\n",
       "         'cape cod': 380,\n",
       "         'farms/ranches': 371,\n",
       "         'garden home': 359,\n",
       "         'mediterranean': 358,\n",
       "         'other style': 357,\n",
       "         '2 story': 330,\n",
       "         'other': 272,\n",
       "         'custom': 264,\n",
       "         'condominium (single level)': 252,\n",
       "         'other (see remarks)': 243,\n",
       "         'split-level': 224,\n",
       "         'modern': 186,\n",
       "         'singlefamilyresidence': 179,\n",
       "         'cluster home': 171,\n",
       "         'split level': 162,\n",
       "         'mid-century modern': 157,\n",
       "         'spanish': 156,\n",
       "         'tudor': 152,\n",
       "         'french': 151,\n",
       "         'multiple occupancy': 145,\n",
       "         'victorian': 135,\n",
       "         'penthouse': 134,\n",
       "         'federal': 130,\n",
       "         '': 124,\n",
       "         'key west': 121,\n",
       "         'tri-level': 118,\n",
       "         'urban contemporary': 113,\n",
       "         'a-frame': 105,\n",
       "         'historic/older': 104,\n",
       "         'hi-rise': 100,\n",
       "         'elevated': 99,\n",
       "         '1 story with basement': 99,\n",
       "         'residential (<1 acre)': 95,\n",
       "         'low-rise (1-3 stories)': 90,\n",
       "         'condo/unit': 89,\n",
       "         'miscellaneous': 88,\n",
       "         'attached or 1/2 duplex': 80,\n",
       "         'duplex': 80,\n",
       "         'cottage': 79,\n",
       "         'attached': 78,\n",
       "         'english': 76,\n",
       "         'texas hill country': 74,\n",
       "         'modernist': 70,\n",
       "         '2 stories with basement': 68,\n",
       "         'manufactured home': 65,\n",
       "         'multi-level': 61,\n",
       "         'fourplex': 60,\n",
       "         'straight thru': 58,\n",
       "         'multiplex': 58,\n",
       "         'condominium': 56,\n",
       "         'loft': 55,\n",
       "         'georgian': 54,\n",
       "         'garden/zero lot line': 54,\n",
       "         'manufactured house': 51,\n",
       "         'farmhouse': 50,\n",
       "         'end unit': 48,\n",
       "         'rancher': 44,\n",
       "         '3+ stories': 44,\n",
       "         'santa barbara/tuscan': 44,\n",
       "         'co-op': 40,\n",
       "         'less than 4 floors': 39,\n",
       "         'high-rise (8+ stories)': 38,\n",
       "         'bi-level': 38,\n",
       "         'farm house': 37,\n",
       "         'northwestern contemporary': 36,\n",
       "         'historical/conservation district': 36,\n",
       "         'historical': 33,\n",
       "         'cape': 32,\n",
       "         'european': 32,\n",
       "         'unknown': 30,\n",
       "         'courtyard': 29,\n",
       "         'patio': 28,\n",
       "         'mid-rise': 27,\n",
       "         'coach/carriage': 27,\n",
       "         'patio home': 26,\n",
       "         'bilevel': 25,\n",
       "         'beaux arts': 24,\n",
       "         'multi generational': 23,\n",
       "         'raised ranch': 22,\n",
       "         'french provincial': 22,\n",
       "         'split-entry': 22,\n",
       "         'art deco': 22,\n",
       "         'charleston': 21,\n",
       "         '1 1/2 story with basement': 21,\n",
       "         'residential (1+ acre)': 20,\n",
       "         'arts & crafts': 19,\n",
       "         'garden apartment': 18,\n",
       "         'low rise': 17,\n",
       "         'condominium (2 levels)': 17,\n",
       "         'commercial/industrial': 17,\n",
       "         '4+ floors': 17,\n",
       "         'vacation home': 17,\n",
       "         'early american': 16,\n",
       "         'resort property': 16,\n",
       "         'cabin': 15,\n",
       "         'mid-rise (4-7 stories)': 15,\n",
       "         'coastal': 15,\n",
       "         'loft with bedrooms': 14,\n",
       "         'mountain contemporary': 14,\n",
       "         'lake house': 14,\n",
       "         'attached duplex': 14,\n",
       "         'flat': 14,\n",
       "         '1 1/2 story': 13,\n",
       "         'condominium (3+ levels)': 13,\n",
       "         'prairie': 13,\n",
       "         'high-rise': 12,\n",
       "         'territorial/santa fe': 12,\n",
       "         'townhome style': 12,\n",
       "         'farm/ranch': 11,\n",
       "         'high ranch': 11,\n",
       "         'farmhouse/national folk': 11,\n",
       "         'store & dwelling': 11,\n",
       "         '10+ units': 11,\n",
       "         'triplex': 10,\n",
       "         'yes': 10,\n",
       "         'southwestern': 9,\n",
       "         'split': 9,\n",
       "         'french province': 9,\n",
       "         'side by side': 9,\n",
       "         'single wide': 9,\n",
       "         'farm/ranch house': 9,\n",
       "         'mobile home': 9,\n",
       "         'hi ranch': 8,\n",
       "         'designated historical home': 8,\n",
       "         'rustic': 8,\n",
       "         'side-by-side': 8,\n",
       "         'villa': 8,\n",
       "         'new englander': 7,\n",
       "         'split (3 level)': 7,\n",
       "         '4-plex': 7,\n",
       "         'studio': 7,\n",
       "         'coastal modern': 7,\n",
       "         '1 story/ranch': 7,\n",
       "         'houseboat': 6,\n",
       "         '3 story': 6,\n",
       "         'converted dwelling': 6,\n",
       "         'loft/balcony': 6,\n",
       "         'williamsburg': 6,\n",
       "         'airlite': 6,\n",
       "         'tudor/provincial': 5,\n",
       "         'quad level': 5,\n",
       "         'other arch (see remarks)': 5,\n",
       "         '5-9 units': 5,\n",
       "         'victorian/federal': 5,\n",
       "         'conventional': 5,\n",
       "         'manufactured single-wide': 5,\n",
       "         'split (5+ level)': 5,\n",
       "         'walkout lower level': 5,\n",
       "         'split foyer': 5,\n",
       "         'split (4 level)': 4,\n",
       "         'spanish/southwestern': 4,\n",
       "         'zero-lot line': 4,\n",
       "         'camp': 4,\n",
       "         'carriage house': 4,\n",
       "         'warehouse': 4,\n",
       "         'historic vintage': 4,\n",
       "         'step ranch': 4,\n",
       "         'oriental': 4,\n",
       "         'manufactured home - double wide': 4,\n",
       "         'single-wide mobile with land': 4,\n",
       "         'log home': 3,\n",
       "         'center hall': 3,\n",
       "         'dwelling w/separate living area': 3,\n",
       "         'attached/row': 3,\n",
       "         'coastal beach home': 3,\n",
       "         'chalet': 3,\n",
       "         '2-story': 3,\n",
       "         'quads': 3,\n",
       "         'manufactured home - single wide': 3,\n",
       "         'old world': 3,\n",
       "         'log': 3,\n",
       "         'carriage': 3,\n",
       "         'manufactured double-wide': 3,\n",
       "         'old spanish': 2,\n",
       "         'cabin/lodge': 2,\n",
       "         'trinity': 2,\n",
       "         'old style': 2,\n",
       "         'saltbox': 2,\n",
       "         'one level unit': 2,\n",
       "         'modern architecture': 2,\n",
       "         'american 4-square': 2,\n",
       "         'rustic contemporary': 2,\n",
       "         'denver square': 2,\n",
       "         'cottage/camp': 2,\n",
       "         'post and beam': 2,\n",
       "         'manuf/mobile': 2,\n",
       "         'modular/prefab': 2,\n",
       "         'hill country': 2,\n",
       "         'lower level': 2,\n",
       "         'dwelling with rental': 1,\n",
       "         'bermuda': 1,\n",
       "         'key west/coastal': 1,\n",
       "         'dutch': 1,\n",
       "         'mobile home 1 story': 1,\n",
       "         'country english': 1,\n",
       "         'stilt house': 1,\n",
       "         'coastal contemporary': 1,\n",
       "         'spanish colonial': 1,\n",
       "         'mid century': 1,\n",
       "         'tuscan': 1,\n",
       "         'gambrel': 1,\n",
       "         'new build 2019': 1,\n",
       "         'back-to-back': 1,\n",
       "         'yurt': 1,\n",
       "         'architectural': 1,\n",
       "         'modern farmhouse': 1,\n",
       "         'coastal two story': 1,\n",
       "         'florida style': 1,\n",
       "         'coastal ii': 1,\n",
       "         '2 unit condo': 1,\n",
       "         'other - see remarks': 1,\n",
       "         'manufactured (certificate exchange)': 1,\n",
       "         'apartment building': 1,\n",
       "         'antique': 1,\n",
       "         '30x40 building': 1,\n",
       "         'mobile manu - double wide': 1,\n",
       "         'guest cottage': 1,\n",
       "         'southern plantation': 1,\n",
       "         '2.5 story': 1,\n",
       "         'double-wide mobile with land': 1,\n",
       "         '2 story condo': 1,\n",
       "         'mid rise': 1,\n",
       "         'expanded ranch': 1,\n",
       "         'townhouse-interior': 1,\n",
       "         'single wide mh': 1,\n",
       "         'mid-level': 1,\n",
       "         'georgian revival': 1,\n",
       "         'garage storage': 1,\n",
       "         'cape cod shingle': 1,\n",
       "         'underground': 1,\n",
       "         'manor': 1,\n",
       "         'historic': 1,\n",
       "         'forest garden home': 1,\n",
       "         'custom home': 1,\n",
       "         'walk-out ranch': 1,\n",
       "         'mid-century': 1,\n",
       "         'dome': 1,\n",
       "         'dutch provincial': 1,\n",
       "         '1 story traditional': 1,\n",
       "         'mid century modern': 1,\n",
       "         'townhouse-end unit': 1,\n",
       "         'queen anne': 1,\n",
       "         'ground floor': 1,\n",
       "         'conversion': 1,\n",
       "         'rehab needed': 1,\n",
       "         'fairway house': 1,\n",
       "         'dutch colonial': 1,\n",
       "         'moorage': 1,\n",
       "         'reproduction': 1,\n",
       "         'converted barn': 1,\n",
       "         'post & beam': 1})"
      ]
     },
     "execution_count": 49,
     "metadata": {},
     "output_type": "execute_result"
    }
   ],
   "source": [
    "from collections import Counter\n",
    "\n",
    "all_types = []\n",
    "def append_types(lt:list, all_types:list=all_types):\n",
    "    lt = map(lambda x: x.strip(), lt)\n",
    "    all_types.extend(lt)\n",
    "    return lt\n",
    "\n",
    "property_type[property_type.notna()].str.split(',').apply(append_types)\n",
    "Counter(all_types)"
   ]
  },
  {
   "cell_type": "markdown",
   "metadata": {},
   "source": [
    "В целом, топ признаки выше покрыты"
   ]
  },
  {
   "cell_type": "markdown",
   "metadata": {},
   "source": [
    "По аналогии со \"status\", проверим вхождения признаков.\n",
    "\n",
    "Рассмотрим по отдельности \"тип дома\" и \"стиль дома\""
   ]
  },
  {
   "cell_type": "markdown",
   "metadata": {},
   "source": [
    "### Types"
   ]
  },
  {
   "cell_type": "code",
   "execution_count": 50,
   "metadata": {},
   "outputs": [
    {
     "data": {
      "text/plain": [
       "propertyType\n",
       "lot/land    20532\n",
       "land        10933\n",
       "Name: count, dtype: int64"
      ]
     },
     "execution_count": 50,
     "metadata": {},
     "output_type": "execute_result"
    }
   ],
   "source": [
    "property_type[\n",
    "    (\n",
    "        property_type.isin(['lot/land', 'land'])\n",
    "    )\n",
    "].value_counts().head(20)"
   ]
  },
  {
   "cell_type": "markdown",
   "metadata": {},
   "source": [
    "Single family, detached home"
   ]
  },
  {
   "cell_type": "code",
   "execution_count": 51,
   "metadata": {},
   "outputs": [
    {
     "data": {
      "text/plain": [
       "propertyType\n",
       "single-family home                                   91159\n",
       "single family                                        61888\n",
       "single family home                                   31725\n",
       "detached, one story                                   1614\n",
       "single detached, traditional                          1581\n",
       "single detached                                        751\n",
       "detached, two story                                    638\n",
       "singlefamilyresidence                                  179\n",
       "single detached, contemporary/modern                   176\n",
       "single detached, ranch                                  91\n",
       "detached, ranch, one story                              81\n",
       "detached                                                81\n",
       "detached, two story, spanish/mediterranean              67\n",
       "single detached, craftsman                              59\n",
       "detached, one story, spanish/mediterranean              53\n",
       "single detached, other (see remarks)                    48\n",
       "single detached, ranch, traditional                     41\n",
       "single detached, contemporary/modern, traditional       38\n",
       "detached, ranch                                         31\n",
       "single detached, mid-century modern                     30\n",
       "Name: count, dtype: int64"
      ]
     },
     "execution_count": 51,
     "metadata": {},
     "output_type": "execute_result"
    }
   ],
   "source": [
    "property_type[\n",
    "    (\n",
    "        property_type.str.contains('single', na=False) |\n",
    "        property_type.str.contains('detached', na=False)\n",
    "    ) &\n",
    "    ~property_type.str.contains('condominium', na=False)\n",
    "].value_counts().head(20)"
   ]
  },
  {
   "cell_type": "code",
   "execution_count": 52,
   "metadata": {},
   "outputs": [
    {
     "data": {
      "text/plain": [
       "propertyType\n",
       "ranch                                                      1781\n",
       "bungalow                                                    442\n",
       "farms/ranches                                               371\n",
       "ranch, traditional                                          133\n",
       "single detached, ranch                                       91\n",
       "ranch, one story                                             86\n",
       "detached, ranch, one story                                   81\n",
       "bungalow, cape cod                                           66\n",
       "cottage                                                      62\n",
       "1 story, ranch                                               46\n",
       "florida, ranch                                               46\n",
       "single detached, ranch, traditional                          41\n",
       "rancher                                                      41\n",
       "farmhouse                                                    40\n",
       "detached, ranch                                              31\n",
       "high rise, ranch                                             19\n",
       "farm house                                                   17\n",
       "raised ranch                                                 17\n",
       "contemporary, ranch                                          17\n",
       "attached, ranch                                              16\n",
       "manufactured house, ranch, one story                         16\n",
       "1 story, ranch, traditional                                  15\n",
       "manufactured house, ranch, one story, manufactured home      13\n",
       "bungalow, craftsman                                          12\n",
       "high ranch                                                   11\n",
       "bungalow, ranch                                              11\n",
       "bungalow, traditional                                        11\n",
       "farm/ranch                                                   11\n",
       "attached, end unit, ranch                                    10\n",
       "ranch, transitional                                          10\n",
       "Name: count, dtype: int64"
      ]
     },
     "execution_count": 52,
     "metadata": {},
     "output_type": "execute_result"
    }
   ],
   "source": [
    "property_type[\n",
    "    property_type.str.contains('ranch', na=False) |\n",
    "    property_type.str.contains('bungalow', na=False) |\n",
    "    property_type.str.contains('cabin', na=False) |\n",
    "    property_type.str.contains(r'ca2\\S*n', na=False) |\n",
    "    property_type.str.contains(r'cottage', na=False) |\n",
    "    property_type.str.contains(r'farm', na=False)\n",
    "].value_counts().head(30)"
   ]
  },
  {
   "cell_type": "code",
   "execution_count": 53,
   "metadata": {},
   "outputs": [
    {
     "data": {
      "text/plain": [
       "propertyType\n",
       "split-level                                      110\n",
       "split level                                       60\n",
       "high rise, split-level                            38\n",
       "split level, traditional                          21\n",
       "multi-level, modern                               16\n",
       "split-entry                                       15\n",
       "multi-level                                       15\n",
       "contemporary/modern, split level                  11\n",
       "cluster home, split-level                         11\n",
       "garden home, split-level                          10\n",
       "detached, two story, split-level                   9\n",
       "detached, split-level                              8\n",
       "split                                              8\n",
       "detached, one story, split-level                   7\n",
       "split (3 level)                                    7\n",
       "two story, split-level                             5\n",
       "split foyer                                        5\n",
       "contemporary/modern, split level, traditional      5\n",
       "split (5+ level)                                   5\n",
       "penthouse, split-level                             5\n",
       "one story, split-level                             4\n",
       "multi-level, northwestern contemporary             4\n",
       "split-level, tri-level                             4\n",
       "1 story, split level                               4\n",
       "split level, townhouse                             4\n",
       "2 stories, split level, traditional                4\n",
       "multi-level, craftsman                             4\n",
       "split (4 level)                                    4\n",
       "2 stories, split level                             4\n",
       "multi-level, contemporary                          3\n",
       "Name: count, dtype: int64"
      ]
     },
     "execution_count": 53,
     "metadata": {},
     "output_type": "execute_result"
    }
   ],
   "source": [
    "property_type[\n",
    "    property_type.str.contains('split', na=False) |\n",
    "    property_type.str.contains('multi-level', na=False)\n",
    "].value_counts().head(30)"
   ]
  },
  {
   "cell_type": "markdown",
   "metadata": {},
   "source": [
    "Mobile home - that has been manufactured and then transported to the place"
   ]
  },
  {
   "cell_type": "code",
   "execution_count": 54,
   "metadata": {},
   "outputs": [
    {
     "data": {
      "text/plain": [
       "propertyType\n",
       "mobile/manufactured                                        1613\n",
       "mobile / manufactured                                      1056\n",
       "mfd/mobile home                                             791\n",
       "manufactured house, ranch, one story                         16\n",
       "manufactured house, manufactured home                        14\n",
       "manufactured house, ranch, one story, manufactured home      13\n",
       "detached, manufactured home, one story                        9\n",
       "detached, manufactured home                                   6\n",
       "manufactured home, mobile home, ranch                         6\n",
       "manufactured single-wide                                      5\n",
       "manufactured house, traditional, manufactured home            5\n",
       "manufactured home, one story                                  4\n",
       "manufactured home                                             3\n",
       "single-wide mobile with land                                  2\n",
       "manufactured double-wide                                      2\n",
       "modular/prefab, manufactured home, mobile home                2\n",
       "manufactured house, coach/carriage, manufactured home         2\n",
       "1 story, manufactured home - single wide                      2\n",
       "manuf/mobile                                                  1\n",
       "manufactured house, multi-level, manufactured home            1\n",
       "Name: count, dtype: int64"
      ]
     },
     "execution_count": 54,
     "metadata": {},
     "output_type": "execute_result"
    }
   ],
   "source": [
    "property_type[\n",
    "    property_type.str.contains('manufactured', na=False) |\n",
    "    property_type.str.contains('mobile', na=False) |\n",
    "    property_type.str.contains(r'mo2\\S*le', regex=True, na=False) |\n",
    "    property_type.str.contains('prefab', na=False) |\n",
    "    property_type.str.contains('modular', na=False)\n",
    "].value_counts().head(20)"
   ]
  },
  {
   "cell_type": "code",
   "execution_count": 55,
   "metadata": {},
   "outputs": [
    {
     "data": {
      "text/plain": [
       "propertyType\n",
       "apartment                                                                                                                            796\n",
       "garden apartment                                                                                                                      18\n",
       "apartment building, farmhouse, other                                                                                                   1\n",
       "apartment, condo/townhome                                                                                                              1\n",
       "apartment, attached or 1/2 duplex, condo/townhome, hi-rise, resort property, single detached, vacation home, english, split level      1\n",
       "apartment, condo/townhome, garden/zero lot line                                                                                        1\n",
       "Name: count, dtype: int64"
      ]
     },
     "execution_count": 55,
     "metadata": {},
     "output_type": "execute_result"
    }
   ],
   "source": [
    "property_type[\n",
    "    property_type.str.contains('apart', na=False)\n",
    "].value_counts().head(20)"
   ]
  },
  {
   "cell_type": "code",
   "execution_count": 56,
   "metadata": {},
   "outputs": [
    {
     "data": {
      "text/plain": [
       "propertyType\n",
       "condo/townhome/row home/co-op    7701\n",
       "coop                             3265\n",
       "cooperative                       533\n",
       "co-op                              37\n",
       "co-op, contemporary                 2\n",
       "co-op, traditional                  1\n",
       "Name: count, dtype: int64"
      ]
     },
     "execution_count": 56,
     "metadata": {},
     "output_type": "execute_result"
    }
   ],
   "source": [
    "property_type[\n",
    "    property_type.str.contains(r'co-*op', regex=True, na=False)\n",
    "].value_counts().head(20)"
   ]
  },
  {
   "cell_type": "code",
   "execution_count": 57,
   "metadata": {},
   "outputs": [
    {
     "data": {
      "text/plain": [
       "propertyType\n",
       "condo                                               42372\n",
       "condo/townhome/row home/co-op                        7701\n",
       "condo/townhome, traditional                           225\n",
       "condo/townhome                                        183\n",
       "condo/townhome, contemporary/modern                   180\n",
       "condominium (single level), contemporary              101\n",
       "condominium (single level)                             99\n",
       "condo/unit                                             70\n",
       "condominium                                            56\n",
       "condominium (single level), modern                     24\n",
       "condo/townhome, contemporary/modern, traditional       22\n",
       "condo/townhome, hi-rise, contemporary/modern           22\n",
       "condo/townhome, hi-rise, traditional                   21\n",
       "condominium (single level), traditional                18\n",
       "condo/townhome, other (see remarks)                    18\n",
       "condo/townhome, hi-rise                                12\n",
       "condominium (2 levels)                                 11\n",
       "condo/townhome, mediterranean                          10\n",
       "contemporary, condo/unit                                9\n",
       "condo/townhome, mid-century modern                      6\n",
       "Name: count, dtype: int64"
      ]
     },
     "execution_count": 57,
     "metadata": {},
     "output_type": "execute_result"
    }
   ],
   "source": [
    "property_type[\n",
    "    property_type.str.contains('condo', na=False)\n",
    "].value_counts().head(20)"
   ]
  },
  {
   "cell_type": "code",
   "execution_count": 58,
   "metadata": {},
   "outputs": [
    {
     "data": {
      "text/plain": [
       "propertyType\n",
       "townhouse                                           18305\n",
       "condo/townhome/row home/co-op                        7701\n",
       "condo/townhome, traditional                           225\n",
       "condo/townhome                                        183\n",
       "condo/townhome, contemporary/modern                   180\n",
       "low-rise (1-3 stories)                                 90\n",
       "townhouse, modern                                      80\n",
       "mid-rise                                               27\n",
       "condo/townhome, contemporary/modern, traditional       22\n",
       "condo/townhome, hi-rise, contemporary/modern           22\n",
       "condo/townhome, hi-rise, traditional                   21\n",
       "townhouse, contemporary                                20\n",
       "condo/townhome, other (see remarks)                    18\n",
       "mid-rise (4-7 stories)                                 15\n",
       "condo/townhome, hi-rise                                12\n",
       "townhome style                                         12\n",
       "condo/townhome, mediterranean                          10\n",
       "two story, low rise                                     9\n",
       "contemporary, townhouse                                 8\n",
       "townhouse, northwestern contemporary                    8\n",
       "Name: count, dtype: int64"
      ]
     },
     "execution_count": 58,
     "metadata": {},
     "output_type": "execute_result"
    }
   ],
   "source": [
    "property_type[\n",
    "    property_type.str.contains('town', na=False) |\n",
    "    property_type.str.contains(r'low[-\\s]*rise', na=False) |\n",
    "    property_type.str.contains(r'mid[-\\s]*rise', na=False)\n",
    "].value_counts().head(20)"
   ]
  },
  {
   "cell_type": "code",
   "execution_count": 59,
   "metadata": {},
   "outputs": [
    {
     "data": {
      "text/plain": [
       "propertyType\n",
       "high rise                                1823\n",
       "high rise, penthouse                       51\n",
       "high-rise (8+ stories)                     38\n",
       "high rise, split-level                     38\n",
       "high rise, ranch                           19\n",
       "garden home, high rise                     13\n",
       "high-rise                                  12\n",
       "high rise, multiplex, ranch                 7\n",
       "high rise, spanish/mediterranean            6\n",
       "contemporary/modern, high rise              5\n",
       "high rise, multiplex                        5\n",
       "cluster home, high rise                     4\n",
       "contemporary, high rise                     3\n",
       "high rise, penthouse, tri-level             2\n",
       "high rise, penthouse, split-level           1\n",
       "contemporary/modern, high rise, ranch       1\n",
       "colonial, high rise, ranch                  1\n",
       "bi-level, high rise                         1\n",
       "Name: count, dtype: int64"
      ]
     },
     "execution_count": 59,
     "metadata": {},
     "output_type": "execute_result"
    }
   ],
   "source": [
    "property_type[\n",
    "    property_type.str.contains(r'high[-\\s]*rise', na=False)\n",
    "].value_counts().head(20)"
   ]
  },
  {
   "cell_type": "code",
   "execution_count": 60,
   "metadata": {},
   "outputs": [
    {
     "data": {
      "text/plain": [
       "propertyType\n",
       "multi-family                      7763\n",
       "multi family                      2772\n",
       "multi-family home                 1501\n",
       "farmhouse, multi-family              1\n",
       "historic vintage, multi-family       1\n",
       "Name: count, dtype: int64"
      ]
     },
     "execution_count": 60,
     "metadata": {},
     "output_type": "execute_result"
    }
   ],
   "source": [
    "property_type[\n",
    "    property_type.str.contains(r'multi[-\\s]+family', regex=True, na=False)\n",
    "].value_counts()"
   ]
  },
  {
   "cell_type": "code",
   "execution_count": 61,
   "metadata": {},
   "outputs": [
    {
     "name": "stdout",
     "output_type": "stream",
     "text": [
      "Количество заявок, содержащих инфо про story/level в propertyType но с незаполненными stories\n",
      "7972\n"
     ]
    },
    {
     "data": {
      "text/plain": [
       "propertyType\n",
       "detached, one story                           1614\n",
       "1 story                                       1235\n",
       "2 stories                                      911\n",
       "detached, two story                            638\n",
       "one story                                      592\n",
       "two story                                      312\n",
       "2 story                                        281\n",
       "2 stories, traditional                         280\n",
       "1 story, traditional                           237\n",
       "2 stories, contemporary                        128\n",
       "split-level                                    110\n",
       "condominium (single level), contemporary       101\n",
       "condominium (single level)                      99\n",
       "1 story, contemporary                           96\n",
       "low-rise (1-3 stories)                          90\n",
       "ranch, one story                                86\n",
       "detached, ranch, one story                      81\n",
       "tri-level                                       77\n",
       "detached, two story, spanish/mediterranean      67\n",
       "split level                                     60\n",
       "Name: count, dtype: int64"
      ]
     },
     "metadata": {},
     "output_type": "display_data"
    }
   ],
   "source": [
    "print('Количество заявок, содержащих инфо про story/level в propertyType но с незаполненными stories')\n",
    "print(\n",
    "    df[\n",
    "        (\n",
    "            property_type.str.contains('stor', na=False) |\n",
    "            property_type.str.contains('level', na=False)\n",
    "        )&\n",
    "        df['stories'].isna()\n",
    "    ].shape[0]\n",
    ")\n",
    "\n",
    "display(\n",
    "property_type[\n",
    "    property_type.str.contains('stor', na=False) |\n",
    "    property_type.str.contains('level', na=False)\n",
    "].value_counts().head(20)\n",
    ")"
   ]
  },
  {
   "cell_type": "code",
   "execution_count": 62,
   "metadata": {},
   "outputs": [
    {
     "data": {
      "text/plain": [
       "propertyType\n",
       "single detached, underground, traditional    1\n",
       "ground floor, studio, walkout lower level    1\n",
       "Name: count, dtype: int64"
      ]
     },
     "execution_count": 62,
     "metadata": {},
     "output_type": "execute_result"
    }
   ],
   "source": [
    "property_type[\n",
    "    property_type.str.contains('ground', na=False)\n",
    "].value_counts().head(20)"
   ]
  },
  {
   "cell_type": "code",
   "execution_count": 63,
   "metadata": {},
   "outputs": [
    {
     "data": {
      "text/plain": [
       "propertyType\n",
       "1       2034\n",
       "2       2024\n",
       "3        160\n",
       "4         68\n",
       "8         38\n",
       "7         15\n",
       "10        11\n",
       "9          5\n",
       "5          5\n",
       "2019       1\n",
       "40         1\n",
       "2.5        1\n",
       "Name: count, dtype: int64"
      ]
     },
     "execution_count": 63,
     "metadata": {},
     "output_type": "execute_result"
    }
   ],
   "source": [
    "num_regex = r'[0-9]+\\.{0,1}[0-9]*'\n",
    "\n",
    "series_with_nums = df['propertyType'].str.findall(num_regex)\n",
    "series_with_nums.apply(build_features.get_max).value_counts()"
   ]
  },
  {
   "cell_type": "code",
   "execution_count": 64,
   "metadata": {},
   "outputs": [
    {
     "data": {
      "text/plain": [
       "56730     10+ units\n",
       "94227     10+ units\n",
       "153351    10+ units\n",
       "157800    10+ units\n",
       "166381    10+ units\n",
       "188436    10+ units\n",
       "224604    10+ units\n",
       "235072    10+ units\n",
       "301443    10+ units\n",
       "313427    10+ units\n",
       "374840    10+ units\n",
       "Name: propertyType, dtype: object"
      ]
     },
     "execution_count": 64,
     "metadata": {},
     "output_type": "execute_result"
    }
   ],
   "source": [
    "property_type[property_type.str.contains('10', na=False)]"
   ]
  },
  {
   "cell_type": "markdown",
   "metadata": {},
   "source": [
    "### Styles"
   ]
  },
  {
   "cell_type": "markdown",
   "metadata": {},
   "source": [
    "Midcentury"
   ]
  },
  {
   "cell_type": "code",
   "execution_count": 65,
   "metadata": {},
   "outputs": [
    {
     "data": {
      "text/plain": [
       "propertyType\n",
       "mid-century modern                                                                48\n",
       "single detached, mid-century modern                                               30\n",
       "single detached, contemporary/modern, mid-century modern                          12\n",
       "single detached, mid-century modern, ranch                                         8\n",
       "single detached, mid-century modern, traditional                                   7\n",
       "condo/townhome, mid-century modern                                                 6\n",
       "condo/townhome, contemporary/modern, mid-century modern                            5\n",
       "mid-century modern, ranch                                                          4\n",
       "contemporary, mid-century modern                                                   4\n",
       "mid-century modern, traditional                                                    4\n",
       "single detached, mid-century modern, ranch, traditional                            3\n",
       "single detached, contemporary/modern, mid-century modern, traditional              3\n",
       "condo/townhome, hi-rise, mid-century modern                                        2\n",
       "bungalow, mid-century modern                                                       2\n",
       "condo/townhome, mid-century modern, traditional                                    2\n",
       "lake house, mid-century modern                                                     1\n",
       "mid century modern                                                                 1\n",
       "mid-century                                                                        1\n",
       "garden/zero lot line, single detached, contemporary/modern, mid-century modern     1\n",
       "attached or 1/2 duplex, contemporary/modern, mid-century modern                    1\n",
       "Name: count, dtype: int64"
      ]
     },
     "execution_count": 65,
     "metadata": {},
     "output_type": "execute_result"
    }
   ],
   "source": [
    "property_type[\n",
    "    property_type.str.contains(r'mid[-\\s]*century', na=False)\n",
    "].value_counts().head(20)"
   ]
  },
  {
   "cell_type": "code",
   "execution_count": 66,
   "metadata": {},
   "outputs": [
    {
     "data": {
      "text/plain": [
       "propertyType\n",
       "contemporary                                         1556\n",
       "contemporary/modern                                  1000\n",
       "contemporary/modern, traditional                      200\n",
       "condo/townhome, contemporary/modern                   180\n",
       "single detached, contemporary/modern                  176\n",
       "2 stories, contemporary                               128\n",
       "urban contemporary                                    113\n",
       "condominium (single level), contemporary              101\n",
       "1 story, contemporary                                  96\n",
       "townhouse, modern                                      80\n",
       "single detached, contemporary/modern, traditional      38\n",
       "contemporary, florida                                  25\n",
       "condominium (single level), modern                     24\n",
       "attached or 1/2 duplex, contemporary/modern            24\n",
       "contemporary, modernist                                24\n",
       "contemporary/modern, mediterranean                     24\n",
       "modern                                                 24\n",
       "condo/townhome, contemporary/modern, traditional       22\n",
       "condo/townhome, hi-rise, contemporary/modern           22\n",
       "townhouse, contemporary                                20\n",
       "Name: count, dtype: int64"
      ]
     },
     "execution_count": 66,
     "metadata": {},
     "output_type": "execute_result"
    }
   ],
   "source": [
    "property_type[\n",
    "    ~property_type.str.contains(r'mid[-\\s]*century', na=False) &\n",
    "    (\n",
    "        property_type.str.contains(r'modern', na=False) |\n",
    "        property_type.str.contains('contemp', na=False)\n",
    "    )\n",
    "].value_counts().head(20)"
   ]
  },
  {
   "cell_type": "code",
   "execution_count": 67,
   "metadata": {},
   "outputs": [
    {
     "data": {
      "text/plain": [
       "propertyType\n",
       "traditional                                          5912\n",
       "single detached, traditional                         1581\n",
       "2 stories, traditional                                280\n",
       "1 story, traditional                                  237\n",
       "condo/townhome, traditional                           225\n",
       "contemporary/modern, traditional                      200\n",
       "ranch, traditional                                    133\n",
       "traditional, transitional                             126\n",
       "single detached, ranch, traditional                    41\n",
       "mediterranean, traditional                             40\n",
       "other style, traditional                               40\n",
       "single detached, contemporary/modern, traditional      38\n",
       "colonial, traditional                                  38\n",
       "french, traditional                                    29\n",
       "florida, traditional                                   26\n",
       "condo/townhome, contemporary/modern, traditional       22\n",
       "split level, traditional                               21\n",
       "condo/townhome, hi-rise, traditional                   21\n",
       "attached or 1/2 duplex, traditional                    21\n",
       "condominium (single level), traditional                18\n",
       "Name: count, dtype: int64"
      ]
     },
     "execution_count": 67,
     "metadata": {},
     "output_type": "execute_result"
    }
   ],
   "source": [
    "property_type[\n",
    "    property_type.str.contains('traditional', na=False)\n",
    "].value_counts().head(20)"
   ]
  },
  {
   "cell_type": "code",
   "execution_count": 68,
   "metadata": {},
   "outputs": [
    {
     "data": {
      "text/plain": [
       "propertyType\n",
       "colonial                         1204\n",
       "colonial, traditional              38\n",
       "colonial, contemporary/modern      13\n",
       "single detached, colonial           9\n",
       "colonial, tudor                     9\n",
       "cape cod, colonial                  8\n",
       "colonial, victorian                 6\n",
       "cluster home, colonial              4\n",
       "colonial, contemporary              4\n",
       "2 stories, colonial                 4\n",
       "colonial, transitional              3\n",
       "condo/townhome, colonial            3\n",
       "colonial, georgian                  3\n",
       "multi-level, colonial               3\n",
       "colonial, custom                    3\n",
       "bungalow, cape cod, colonial        3\n",
       "colonial, center hall               3\n",
       "bungalow, colonial                  2\n",
       "federal, colonial                   2\n",
       "colonial, other (see remarks)       2\n",
       "Name: count, dtype: int64"
      ]
     },
     "execution_count": 68,
     "metadata": {},
     "output_type": "execute_result"
    }
   ],
   "source": [
    "property_type[\n",
    "    property_type.str.contains('colonial', na=False)\n",
    "].value_counts().head(20)"
   ]
  },
  {
   "cell_type": "code",
   "execution_count": 69,
   "metadata": {},
   "outputs": [
    {
     "data": {
      "text/plain": [
       "propertyType\n",
       "cape cod                                 281\n",
       "bungalow, cape cod                        66\n",
       "cape                                      20\n",
       "cape cod, colonial                         8\n",
       "cape, contemporary                         3\n",
       "bungalow, cape cod, colonial               3\n",
       "2 stories with basement, cape cod          2\n",
       "1 story with basement, cape cod            2\n",
       "1 1/2 story with basement, cape cod        2\n",
       "cape, other style                          2\n",
       "cape cod, traditional                      2\n",
       "bungalow, cape cod, ranch                  2\n",
       "cape, chalet                               1\n",
       "cape cod shingle                           1\n",
       "cape, log                                  1\n",
       "cape cod, ranch                            1\n",
       "1 story, cape cod                          1\n",
       "cape cod, custom                           1\n",
       "cape cod, craftsman, custom                1\n",
       "cape cod, florida, ranch, traditional      1\n",
       "Name: count, dtype: int64"
      ]
     },
     "execution_count": 69,
     "metadata": {},
     "output_type": "execute_result"
    }
   ],
   "source": [
    "property_type[\n",
    "    property_type.str.contains('cape', na=False)\n",
    "].value_counts().head(20)"
   ]
  },
  {
   "cell_type": "markdown",
   "metadata": {},
   "source": [
    "Деревянный:"
   ]
  },
  {
   "cell_type": "code",
   "execution_count": 70,
   "metadata": {},
   "outputs": [
    {
     "data": {
      "text/plain": [
       "propertyType\n",
       "craftsman                                                       201\n",
       "single detached, craftsman                                       59\n",
       "craftsman, transitional                                          17\n",
       "craftsman, traditional                                           14\n",
       "1 story with basement, craftsman                                 13\n",
       "2 story, craftsman                                               13\n",
       "single detached, craftsman, traditional                          13\n",
       "1 story, craftsman                                               12\n",
       "bungalow, craftsman                                              12\n",
       "2 stories with basement, craftsman                                9\n",
       "historical/conservation district, single detached, craftsman      8\n",
       "1 1/2 story with basement, craftsman                              7\n",
       "townhouse, craftsman                                              7\n",
       "1 story, historic/older, craftsman                                5\n",
       "multi-level, craftsman                                            4\n",
       "historical/conservation district, craftsman                       4\n",
       "craftsman, other                                                  4\n",
       "tri-level, craftsman                                              4\n",
       "1 story, historic/older, traditional, craftsman                   3\n",
       "craftsman, ranch                                                  3\n",
       "Name: count, dtype: int64"
      ]
     },
     "execution_count": 70,
     "metadata": {},
     "output_type": "execute_result"
    }
   ],
   "source": [
    "property_type[\n",
    "    property_type.str.contains('craftsman', na=False) |\n",
    "    property_type.str.contains('log', na=False)\n",
    "].value_counts().head(20)"
   ]
  },
  {
   "cell_type": "markdown",
   "metadata": {},
   "source": [
    "Средневековье"
   ]
  },
  {
   "cell_type": "code",
   "execution_count": 71,
   "metadata": {},
   "outputs": [
    {
     "data": {
      "text/plain": [
       "propertyType\n",
       "spanish/mediterranean                         272\n",
       "mediterranean                                 130\n",
       "spanish                                        72\n",
       "detached, two story, spanish/mediterranean     67\n",
       "detached, one story, spanish/mediterranean     53\n",
       "mediterranean, traditional                     40\n",
       "2 stories, mediterranean                       32\n",
       "contemporary/modern, mediterranean             24\n",
       "one story, spanish/mediterranean               22\n",
       "two story, spanish/mediterranean               19\n",
       "single detached, mediterranean                 18\n",
       "detached, spanish/mediterranean                15\n",
       "1 story, mediterranean                         13\n",
       "florida, spanish/mediterranean                 12\n",
       "condo/townhome, mediterranean                  10\n",
       "custom, spanish/mediterranean                   8\n",
       "spanish, traditional                            8\n",
       "2 stories, spanish                              7\n",
       "1 story, spanish                                6\n",
       "high rise, spanish/mediterranean                6\n",
       "Name: count, dtype: int64"
      ]
     },
     "execution_count": 71,
     "metadata": {},
     "output_type": "execute_result"
    }
   ],
   "source": [
    "property_type[\n",
    "    property_type.str.contains('mediterranean', na=False) |\n",
    "    property_type.str.contains('spanish', na=False)\n",
    "].value_counts().head(20)"
   ]
  },
  {
   "cell_type": "markdown",
   "metadata": {},
   "source": [
    "Обьединим малочисленные группы европейских типов:"
   ]
  },
  {
   "cell_type": "code",
   "execution_count": 72,
   "metadata": {},
   "outputs": [
    {
     "data": {
      "text/plain": [
       "propertyType\n",
       "victorian                                                   102\n",
       "tudor                                                        66\n",
       "french                                                       38\n",
       "french, traditional                                          29\n",
       "single detached, tudor                                       27\n",
       "european                                                     25\n",
       "french provincial                                            19\n",
       "single detached, french                                      14\n",
       "traditional, victorian                                       11\n",
       "colonial, tudor                                               9\n",
       "contemporary/modern, french                                   9\n",
       "historical/conservation district, single detached, tudor      8\n",
       "single detached, french, traditional                          8\n",
       "contemporary/modern, french, other style, traditional         7\n",
       "single detached, traditional, tudor                           6\n",
       "2 stories with basement, tudor                                6\n",
       "colonial, victorian                                           6\n",
       "condo/townhome, tudor                                         5\n",
       "french province                                               5\n",
       "tudor/provincial                                              5\n",
       "Name: count, dtype: int64"
      ]
     },
     "execution_count": 72,
     "metadata": {},
     "output_type": "execute_result"
    }
   ],
   "source": [
    "property_type[\n",
    "    property_type.str.contains('victorian', na=False) |\n",
    "    property_type.str.contains('queen', na=False) |\n",
    "    property_type.str.contains('european', na=False) |\n",
    "    property_type.str.contains('tudor', na=False) |\n",
    "    property_type.str.contains('french', na=False)\n",
    "].value_counts().head(20)"
   ]
  },
  {
   "cell_type": "markdown",
   "metadata": {},
   "source": [
    "Всего только 18 тыс. меток по стилю. \n",
    "Вряд ли имеет смысл выделять стиль в отдельный признак.\n",
    "Будем заполнять стилями только в случае отсутствия других меток по типу дома"
   ]
  },
  {
   "cell_type": "code",
   "execution_count": 73,
   "metadata": {},
   "outputs": [
    {
     "name": "stdout",
     "output_type": "stream",
     "text": [
      "Количество \"None\" увеличилось на 17.885%\n"
     ]
    },
    {
     "data": {
      "text/plain": [
       "property_type\n",
       "single          191021\n",
       "condo            46638\n",
       "NaN              40734\n",
       "land             31465\n",
       "town             27011\n",
       "multi            14030\n",
       "traditional       7063\n",
       "ranch             4289\n",
       "modern            3656\n",
       "mobile            3566\n",
       "colonial          1280\n",
       "apt                814\n",
       "spanish            645\n",
       "florida            608\n",
       "transitional       585\n",
       "cape               320\n",
       "europe             292\n",
       "log                289\n",
       "Name: count, dtype: int64"
      ]
     },
     "metadata": {},
     "output_type": "display_data"
    },
    {
     "data": {
      "image/png": "[encoded data removed]",
      "text/plain": [
       "<Figure size 1600x800 with 1 Axes>"
      ]
     },
     "metadata": {},
     "output_type": "display_data"
    }
   ],
   "source": [
    "old_nums_cnt = df['propertyType'].isna().sum()\n",
    "df = build_features.get_df_type(df)\n",
    "\n",
    "new_none_percentage = utils.get_percentage(\n",
    "    df['property_type'].isna().sum() - old_nums_cnt,\n",
    "    old_nums_cnt\n",
    ")\n",
    "print(f'Количество \"None\" увеличилось на {new_none_percentage}')\n",
    "display(df['property_type'].value_counts(dropna=False))\n",
    "\n",
    "visualize.plot_boxplot(\n",
    "    df,\n",
    "    numeric_feature='target',\n",
    "    categorical_feature='property_type',\n",
    "    orient='v',\n",
    "    log_scale=True,\n",
    "    numeric_label='price [$]',\n",
    "    title='Price dependency on property type',\n",
    "    figsize=(16,8),\n",
    "    ordered=True\n",
    ");\n",
    "plt.tight_layout()"
   ]
  },
  {
   "cell_type": "markdown",
   "metadata": {},
   "source": [
    "- Количество пропусков увеличилось, но прежде всего засчёт неявных пропусков, а также уникальных малочисленных типов\n",
    "- Ряд категорий впоследствии необходимо будет объединить, так как они малочисленны\n",
    "- Мы видим, что дешевле всего объявления на землю, а также с \"мобильными\" домами.\n",
    "- Далее идёт увеличение стоимости вплоть до испанского и европейского стилей.\n",
    "- Есть ряд выбросов, которые впоследствии потребуется предобработать"
   ]
  },
  {
   "cell_type": "markdown",
   "metadata": {},
   "source": [
    "## street, city, state, zipcode"
   ]
  },
  {
   "cell_type": "markdown",
   "metadata": {},
   "source": [
    "На данном этапе \"state\" затрагивать не будем, посмотрим лишь для топовых штатов разницу в стоимости"
   ]
  },
  {
   "cell_type": "code",
   "execution_count": 74,
   "metadata": {},
   "outputs": [
    {
     "data": {
      "text/plain": [
       "state\n",
       "FL    114570\n",
       "TX     83269\n",
       "NY     24329\n",
       "CA     23170\n",
       "NC     21768\n",
       "TN     18218\n",
       "WA     13730\n",
       "OH     12423\n",
       "IL      8823\n",
       "NV      8402\n",
       "GA      6632\n",
       "CO      6371\n",
       "PA      5493\n",
       "MI      5119\n",
       "DC      4581\n",
       "AZ      3347\n",
       "IN      3280\n",
       "OR      2774\n",
       "MA      1494\n",
       "UT      1319\n",
       "MD      1086\n",
       "VT       864\n",
       "MO       832\n",
       "VA       800\n",
       "WI       452\n",
       "NJ       436\n",
       "ME       258\n",
       "IA       242\n",
       "KY        90\n",
       "OK        49\n",
       "MS        40\n",
       "SC        28\n",
       "MT         7\n",
       "DE         5\n",
       "Fl         1\n",
       "BA         1\n",
       "AL         1\n",
       "OT         1\n",
       "OS         1\n",
       "Name: count, dtype: int64"
      ]
     },
     "metadata": {},
     "output_type": "display_data"
    },
    {
     "data": {
      "image/png": "[encoded data removed]",
      "text/plain": [
       "<Figure size 1600x800 with 1 Axes>"
      ]
     },
     "metadata": {},
     "output_type": "display_data"
    }
   ],
   "source": [
    "display(df['state'].value_counts())\n",
    "visualize.plot_boxplot(\n",
    "    df[df['state'].isin(df['state'].value_counts().index[:10])],\n",
    "    numeric_feature='target',\n",
    "    categorical_feature='state',\n",
    "    orient='v',\n",
    "    log_scale=True,\n",
    "    numeric_label='price [$]',\n",
    "    title='Price dependency on state',\n",
    "    figsize=(16,8),\n",
    "    ordered=True\n",
    ");\n",
    "plt.tight_layout()"
   ]
  },
  {
   "cell_type": "markdown",
   "metadata": {},
   "source": [
    "Как и ожидалось, стоимость жилья зависит от штата."
   ]
  },
  {
   "cell_type": "code",
   "execution_count": 75,
   "metadata": {},
   "outputs": [
    {
     "data": {
      "text/plain": [
       "zipcode\n",
       "32137    2139\n",
       "33131    1551\n",
       "34747    1486\n",
       "78245    1383\n",
       "34759    1333\n",
       "33132    1323\n",
       "33137    1304\n",
       "78253    1279\n",
       "78254    1228\n",
       "33130    1165\n",
       "34746    1148\n",
       "32164    1106\n",
       "33160    1099\n",
       "33133    1061\n",
       "33308    1018\n",
       "33178    1003\n",
       "33141     982\n",
       "77845     961\n",
       "33140     954\n",
       "33304     949\n",
       "Name: count, dtype: int64"
      ]
     },
     "execution_count": 75,
     "metadata": {},
     "output_type": "execute_result"
    }
   ],
   "source": [
    "df['zipcode'].value_counts().head(20)"
   ]
  },
  {
   "cell_type": "code",
   "execution_count": 76,
   "metadata": {},
   "outputs": [
    {
     "data": {
      "text/plain": [
       "city\n",
       "Houston            24388\n",
       "San Antonio        15496\n",
       "Miami              15385\n",
       "Jacksonville        9890\n",
       "Dallas              8750\n",
       "Brooklyn            7243\n",
       "New York            6905\n",
       "Chicago             6865\n",
       "Charlotte           6517\n",
       "Las Vegas           5959\n",
       "Fort Worth          5474\n",
       "Orlando             5156\n",
       "Austin              5129\n",
       "Fort Lauderdale     5072\n",
       "Cleveland           5005\n",
       "Nashville           4984\n",
       "Philadelphia        4751\n",
       "Tampa               4701\n",
       "Washington          4581\n",
       "Los Angeles         4151\n",
       "Name: count, dtype: int64"
      ]
     },
     "execution_count": 76,
     "metadata": {},
     "output_type": "execute_result"
    }
   ],
   "source": [
    "df['city'].value_counts().head(20)"
   ]
  },
  {
   "cell_type": "code",
   "execution_count": 77,
   "metadata": {},
   "outputs": [
    {
     "data": {
      "text/plain": [
       "street\n",
       "Address Not Disclosed    672\n",
       "Undisclosed Address      516\n",
       "(undisclosed Address)    391\n",
       "Address Not Available    175\n",
       "Unknown Address           72\n",
       "Unknown                    2\n",
       "41619 Re Undisclosed       2\n",
       "61819 Undisclosed          2\n",
       "Undisclosed Rd NE          1\n",
       "112016 Rs Undisclosed      1\n",
       "Unknown Rd #Lot Port       1\n",
       "Name: count, dtype: int64"
      ]
     },
     "metadata": {},
     "output_type": "display_data"
    }
   ],
   "source": [
    "street = df['street'].str.lower().str.strip()\n",
    "disclosed_mask = street.str.contains('disclosed', na=False)\n",
    "unavailable_mask = street.str.contains('available', na=False)\n",
    "unknown_mask = street.str.contains('unknown', na=False)\n",
    "display(\n",
    "    df[\n",
    "        disclosed_mask | unavailable_mask | unknown_mask\n",
    "    ]['street'].value_counts()\n",
    ")\n",
    "df['street'] = build_features.get_street_feature(df['street'])"
   ]
  },
  {
   "cell_type": "markdown",
   "metadata": {},
   "source": [
    "В улицах есть неявные пропуски. \n",
    "Остальные значения чересчур уникальны. Возможно, имеет смысл удалять."
   ]
  },
  {
   "cell_type": "markdown",
   "metadata": {},
   "source": [
    "## homeFacts и schools\n",
    "\n",
    "Требуют отдельной обработки в другом ноутбуке - eda"
   ]
  },
  {
   "cell_type": "markdown",
   "metadata": {},
   "source": [
    "# Export"
   ]
  },
  {
   "cell_type": "code",
   "execution_count": 78,
   "metadata": {},
   "outputs": [
    {
     "name": "stdout",
     "output_type": "stream",
     "text": [
      "<class 'pandas.core.frame.DataFrame'>\n",
      "Index: 374306 entries, 0 to 377184\n",
      "Data columns (total 17 columns):\n",
      " #   Column                Non-Null Count   Dtype  \n",
      "---  ------                --------------   -----  \n",
      " 0   status                333918 non-null  object \n",
      " 1   street                372469 non-null  object \n",
      " 2   baths                 267467 non-null  float64\n",
      " 3   homeFacts             374306 non-null  object \n",
      " 4   fireplace             374306 non-null  bool   \n",
      " 5   city                  374272 non-null  object \n",
      " 6   schools               374306 non-null  object \n",
      " 7   sqft                  333384 non-null  float64\n",
      " 8   zipcode               374306 non-null  object \n",
      " 9   beds                  277504 non-null  float64\n",
      " 10  state                 374306 non-null  object \n",
      " 11  stories               221109 non-null  float64\n",
      " 12  target                374306 non-null  int64  \n",
      " 13  marked_interior_area  374306 non-null  bool   \n",
      " 14  private_pool          374306 non-null  bool   \n",
      " 15  mls                   374306 non-null  bool   \n",
      " 16  property_type         333572 non-null  object \n",
      "dtypes: bool(4), float64(4), int64(1), object(8)\n",
      "memory usage: 49.5+ MB\n"
     ]
    },
    {
     "data": {
      "text/plain": [
       "None"
      ]
     },
     "metadata": {},
     "output_type": "display_data"
    }
   ],
   "source": [
    "display(df.info())\n",
    "df.to_csv(export_path)"
   ]
  }
 ],
 "metadata": {
  "kernelspec": {
   "display_name": ".venv",
   "language": "python",
   "name": "python3"
  },
  "language_info": {
   "codemirror_mode": {
    "name": "ipython",
    "version": 3
   },
   "file_extension": ".py",
   "mimetype": "text/x-python",
   "name": "python",
   "nbconvert_exporter": "python",
   "pygments_lexer": "ipython3",
   "version": "3.11.7"
  }
 },
 "nbformat": 4,
 "nbformat_minor": 2
}
