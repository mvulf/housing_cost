{
 "cells": [
  {
   "cell_type": "markdown",
   "metadata": {},
   "source": [
    "Проект ведётся в соответствии со стандартом [CRISP-DM](https://en.wikipedia.org/wiki/Cross-industry_standard_process_for_data_mining)"
   ]
  },
  {
   "cell_type": "markdown",
   "metadata": {},
   "source": [
    "# Анализ требований (Business Understanding)"
   ]
  },
  {
   "cell_type": "markdown",
   "metadata": {},
   "source": [
    "**Бизнес-цель**: разработать модель, которая позволила бы агенству недвижимости обойти конкурентов по скорости и качеству совершения сделок.\n",
    "\n",
    "**Data-Science цель**: разработать регрессионную модель прогнозирования стоимости жилья для агенства недвижимости, взяв за основу имеющийся [датасет](https://drive.google.com/file/d/11-ZNNIdcQ7TbT8Y0nsQ3Q0eiYQP__NIW/view?usp=share_link)\n",
    "*(датасет также синхронизируется средствами DVC на google drive)*.\n",
    "\n",
    "На этапе фактического внедрения модели необходимо прибегнуть к A/B-тестированию, сопоставив скорость и качество совершения сделок до внедрения модели и после интеграции модели прогнозирования стоимости жилья.\n",
    "При этом уже сейчас можно было бы уточнить у заказчика, что он понимает под качеством совершения сделок, какие показатели у агенства сейчас и с какими конкурентами предполагается вести сравнение.\n",
    "\n",
    "Ввиду отсутсвия на данный момент этой информации, можно предположить, что агенство недвижимости хочет максимизировать среднее отношение стоимости сделки $\\text{Value}_\\text{trans}$ ко времени совершения этой сделки $t_\\text{trans}$ (*trans* от англ. *transaction*):\n",
    "\n",
    "$$\n",
    "    \\mathbb{E}\\left(\\frac{\\text{Value}_\\text{trans}}{t_\\text{trans}}\\right) \\rightarrow \\text{max}\n",
    "$$\n",
    "\n",
    "Осуществить это можно, максимизируя точность предсказательной модели, так как при предсказании справедливой цены можно значительно ускорить завершение сделки (снизить $t_\\text{trans}$), не потеряв, и, возможно, даже увеличив $\\text{Value}_\\text{trans}$, предотвращая демпинг цены на недвижимость.\n",
    "\n",
    "Таким образом, это задача *регрессии*, для которой можно ввести следующие метрики качества модели, с учётом наличия истинных значений стоимости (обучение с учителем):\n",
    "- Средняя абсолютная ошибка, выраженная в процентах (**MAPE**);\n",
    "- Коэффициент детерминации (**$R^2$**).\n",
    "\n",
    "Первая метрика позволит оценить, на сколько процентов в среднем предсказание отклоняется от реального значения.\n",
    "Будем её использовать, так как нет сведений о том, какое значение целевого показателя считать приемлемым.\n",
    "\n",
    "Вторая метрика покажет, насколько модель лучше, чем если бы все предсказания были бы средним по правильным ответам. \n",
    "То есть показывает, какую долю информации о зависимости (дисперсии) смогла уловить модель.\n",
    "\n",
    "Однако, необходимо прежде оценить распределение целевого признака, может полезно прибегнуть к логарифмическим метрикам."
   ]
  },
  {
   "cell_type": "markdown",
   "metadata": {},
   "source": [
    "## Задачи\n",
    "\n",
    "1. Провести разведывательный анализ (EDA) и очистку исходных данных.\n",
    "Во многих признаках присутствуют дублирующиеся категории, ошибки ввода, жаргонные сокращения и так далее.\n",
    "Необходимо отыскать закономерности, расшифровать все сокращения, найти синонимы в данных, обработать пропуски и удалить выбросы.\n",
    "\n",
    "2. Выделить наиболее значимые факторы, влияющие на стоимость недвижимости (Data Preparation)\n",
    "\n",
    "3. Построить модель для прогнозирования стоимости недвижимости.\n",
    "\n",
    "4. Разработать веб-сервис, на вход которому поступают данные о некоторой выставленной на продажу недвижимости, а сервис прогнозирует его стоимость.\n"
   ]
  },
  {
   "cell_type": "markdown",
   "metadata": {},
   "source": [
    "## Описание данных\n",
    "- `status` — статус продажи;\n",
    "- `private pool` и `PrivatePool` — наличие собственного бассейна;\n",
    "- `propertyType` — тип объекта недвижимости;\n",
    "- `street` — адрес объекта;\n",
    "- `baths` — количество ванных комнат;\n",
    "- `homeFacts` — сведения о строительстве объекта (содержит несколько\n",
    "типов сведений, влияющих на оценку объекта);\n",
    "- `fireplace` — наличие камина;\n",
    "- `city` — город;\n",
    "- `schools` — сведения о школах в районе;\n",
    "- `sqft` — площадь в футах;\n",
    "- `zipcode` — почтовый индекс;\n",
    "- `beds` — количество спален;\n",
    "- `state` — штат;\n",
    "- `stories` — количество этажей;\n",
    "- `mls-id` и `MlsId` — идентификатор MLS (Multiple Listing Service, система\n",
    "мультилистинга);\n",
    "- `target` — цена объекта недвижимости (целевой признак, который\n",
    "необходимо спрогнозировать).\n",
    "\n",
    "## Сведения о данных\n",
    "\n",
    "1. Признаки `homeFacts` и `schools` представляют собой словари и\n",
    "содержат несколько типов сведений. Необходимо десериализовать\n",
    "содержимое этих признаков. Если в нём есть полезные данные,\n",
    "необходимо создать из них новые признаки.\n",
    "\n",
    "2. [Типы жилья и их основные характеристики](https://www.rocketmortgage.com/learn/types-of-houses)\n",
    "(пригодится при обработке признака `propertyType`):\n",
    "- apartment — съёмная квартира (нельзя купить);\n",
    "- condo — кондоминиум (можно купить);\n",
    "- co-op — квартира в жилищном кооперативе;\n",
    "- single-family (detached, tiny home) — односемейный (отдельный,\n",
    "маленький) дом;\n",
    "- townhome, townhouse — таунхаус;\n",
    "- cape cod — черепичная крыша, облицовка деревянным сайдингом,\n",
    "дверь в центре здания, окна по бокам, один-два этажа;\n",
    "- colonial home — минимум два этажа, симметрия, лестница в центре\n",
    "здания, строгий внешний вид;\n",
    "- contemporary — чистые, простые линии, нейтральные цвета, натуральные\n",
    "текстуры;\n",
    "- cottage — небольшая уютная веранда, небольшие жилые помещения;\n",
    "- craftsman — деревянные элементы ручной работы, выступающие балки,\n",
    "большие колонны;\n",
    "- Greek revival — большие белые колонны, украшения в греческом стиле,\n",
    "нарядный вход;\n",
    "- farmhouse — прямоугольная планировка, большое крыльцо, амбарная\n",
    "крыша;\n",
    "- French country — влияние прованса, облицовка камнем, состаренный\n",
    "вид;\n",
    "- Mediterranean — белая штукатурка, дерево и камень в тёплых тонах,\n",
    "черепичные крыши, элементы испанских и итальянских вилл;\n",
    "- midcentury modern — сочетание плавных природных и строгих\n",
    "геометрических линий, гладкость, лаконичность, большие окна;\n",
    "- ranch — один этаж, низкая крыша, открытые жилые помещения, задний\n",
    "двор;\n",
    "- split-level — жилые помещения разделены короткими лестничными\n",
    "пролётами;\n",
    "- Tudor — деревянные балки, каменная кладка, асимметричная крутая\n",
    "двускатная крыша;\n",
    "- Victorian (Queen Anne Houses) — два-три и более этажей, богатый декор,\n",
    "крутая двускатная крыша, небольшие башенки, яркий фасад;\n",
    "- European Houses style — кирпич или камень, высокая крутая крыша,\n",
    "высокие окна, часто со ставнями, традиционные декоративные детали\n",
    "(фронтоны, замковые камни);\n",
    "- log home — деревянный дом.\n",
    "\n",
    "3. Некоторые жаргонные сокращения — для исправления дублирования\n",
    "(пригодится при обработке признака `propertyType`):\n",
    "- 'manufactured home (house)' = 'mobile' = 'prefab' = 'modular';\n",
    "- 'mobile' = 'mo2 le' = 'mo2le';\n",
    "- 'cabin' = 'ca2 n' = 'ca2n';\n",
    "- midcentury = mid century = mid-century;\n",
    "- single family = single-family home.\n",
    "\n",
    "4. Некоторые термины, используемые в сфере купли-продажи\n",
    "недвижимости:\n",
    "- status — статус, состояние.\n",
    "- estate — объект недвижимости.\n",
    "- 'foreclosed' ('foreclosure') — «лишён права выкупа».\n",
    "Это процесс, когда недвижимость переходит к кредитору из-за\n",
    "неуплаты ипотеки заёмщиком. Продажа foreclosure-недвижимости\n",
    "отличается от традиционных продаж.\n",
    "- 'pre foreclosure' ('pre foreclosure auction') — «до выкупа»,\n",
    "«аукцион до выкупа».\n",
    "- 'under contract showing' ('under contract show', 'under\n",
    "contract', 'active under contract') — предложение о покупке\n",
    "уже сделано, но не принято продавцом окончательно, и\n",
    "недвижимость продолжают показывать другим потенциальным\n",
    "покупателям.\n",
    "- 'under contract backups', 'active backup', 'backup contract' —\n",
    "предложение о покупке уже сделано и принято продавцом,\n",
    "однако он открыт для резервных предложений.\n",
    "- 'contingency' — дополнительные обстоятельства (критерии,\n",
    "которым должен соответствовать продавец/покупатель до\n",
    "завершения сделки).\n",
    "- 'contingency contract' — контракт на случай возникновения\n",
    "дополнительных обстоятельств.\n",
    "- 'active contingency' — сделка уже практически состоялась,\n",
    "однако продавцу/покупателю для её завершения необходимо\n",
    "выполнить какие-то условия.\n",
    "- 'insp inspection contingency' — ситуация, когда покупатель\n",
    "может официально проинспектировать объект недвижимости в\n",
    "определённый период времени.\n",
    "- 'pending escape clause' — договор, предполагающий свободный\n",
    "выход сторон из него.\n",
    "- 'pending backup wanted' — договор уже заключен, однако\n",
    "продавец хочет продолжать показывать недвижимость другим\n",
    "потенциальным покупателям и принимать резервные\n",
    "предложения.\n",
    "- 'pending take backups' — условие, предполагающее, что\n",
    "продавец может принимать резерные предложения, если сделка\n",
    "с текущим покупателем не состоится.\n",
    "- 'pending continue show' — договор уже заключен, однако\n",
    "продавец хочет продолжать показывать недвижимость другим\n",
    "потенциальным покупателям на случай, если текущая сделка не\n",
    "состоится.\n",
    "- 'pending inspection' — «в ожидании инспекции».\n",
    "- 'due diligence period' — период, в течение которого покупатель\n",
    "имеет право проинспектировать недвижимость и изучить всю\n",
    "важную для заключения сделки информацию.\n",
    "- 'activated' — «активен», открыт для покупки.\n",
    "- 'active with contract' — продавец уже принял предложение о\n",
    "покупке, однако сделка ещё не закрыта.\n",
    "- 'active with offer' — продавец принял предложение о покупке,\n",
    "однако ищет резервные предложения на случай, если сделка с\n",
    "текущим покупателем не состоится.\n",
    "- 'active auction', 'auction active', 'auction' — продажа\n",
    "недвижимости с помощью аукциона.\n",
    "- cooling-off period — период, в течение которого покупатель\n",
    "может расторгнуть договор после завершения сделки.\n"
   ]
  },
  {
   "cell_type": "markdown",
   "metadata": {},
   "source": [
    "# Импорт библиотек и данных"
   ]
  },
  {
   "cell_type": "code",
   "execution_count": 1,
   "metadata": {},
   "outputs": [],
   "source": [
    "import sys\n",
    "import os\n",
    "import pandas as pd\n",
    "from pathlib import Path\n",
    "import pickle\n",
    "import seaborn as sns\n",
    "import matplotlib.pyplot as plt\n",
    "import numpy as np\n",
    "\n",
    "%matplotlib inline\n",
    "\n",
    "sns.set_style('darkgrid')\n",
    "\n",
    "from ydata_profiling import ProfileReport\n",
    "\n",
    "from IPython.display import display, display_html, HTML\n",
    "\n",
    "root_folder = '../'\n",
    "sys.path.append(root_folder)\n",
    "# from src.data import make_dataset\n",
    "from src import utils\n",
    "from src.features import build_features\n",
    "from src.visualization import visualize\n",
    "\n",
    "source_data = Path(root_folder, 'data', 'raw', 'data.csv')"
   ]
  },
  {
   "cell_type": "code",
   "execution_count": 2,
   "metadata": {},
   "outputs": [
    {
     "name": "stdout",
     "output_type": "stream",
     "text": [
      "<class 'pandas.core.frame.DataFrame'>\n",
      "RangeIndex: 377185 entries, 0 to 377184\n",
      "Data columns (total 18 columns):\n",
      " #   Column        Non-Null Count   Dtype \n",
      "---  ------        --------------   ----- \n",
      " 0   status        337267 non-null  object\n",
      " 1   private pool  4181 non-null    object\n",
      " 2   propertyType  342452 non-null  object\n",
      " 3   street        377183 non-null  object\n",
      " 4   baths         270847 non-null  object\n",
      " 5   homeFacts     377185 non-null  object\n",
      " 6   fireplace     103114 non-null  object\n",
      " 7   city          377151 non-null  object\n",
      " 8   schools       377185 non-null  object\n",
      " 9   sqft          336608 non-null  object\n",
      " 10  zipcode       377185 non-null  object\n",
      " 11  beds          285903 non-null  object\n",
      " 12  state         377185 non-null  object\n",
      " 13  stories       226469 non-null  object\n",
      " 14  mls-id        24942 non-null   object\n",
      " 15  PrivatePool   40311 non-null   object\n",
      " 16  MlsId         310305 non-null  object\n",
      " 17  target        374704 non-null  object\n",
      "dtypes: object(18)\n",
      "memory usage: 51.8+ MB\n"
     ]
    },
    {
     "data": {
      "text/html": [
       "<div>\n",
       "<style scoped>\n",
       "    .dataframe tbody tr th:only-of-type {\n",
       "        vertical-align: middle;\n",
       "    }\n",
       "\n",
       "    .dataframe tbody tr th {\n",
       "        vertical-align: top;\n",
       "    }\n",
       "\n",
       "    .dataframe thead th {\n",
       "        text-align: right;\n",
       "    }\n",
       "</style>\n",
       "<table border=\"1\" class=\"dataframe\">\n",
       "  <thead>\n",
       "    <tr style=\"text-align: right;\">\n",
       "      <th></th>\n",
       "      <th>status</th>\n",
       "      <th>private pool</th>\n",
       "      <th>propertyType</th>\n",
       "      <th>street</th>\n",
       "      <th>baths</th>\n",
       "      <th>homeFacts</th>\n",
       "      <th>fireplace</th>\n",
       "      <th>city</th>\n",
       "      <th>schools</th>\n",
       "      <th>sqft</th>\n",
       "      <th>zipcode</th>\n",
       "      <th>beds</th>\n",
       "      <th>state</th>\n",
       "      <th>stories</th>\n",
       "      <th>mls-id</th>\n",
       "      <th>PrivatePool</th>\n",
       "      <th>MlsId</th>\n",
       "      <th>target</th>\n",
       "    </tr>\n",
       "  </thead>\n",
       "  <tbody>\n",
       "    <tr>\n",
       "      <th>0</th>\n",
       "      <td>Active</td>\n",
       "      <td>NaN</td>\n",
       "      <td>Single Family Home</td>\n",
       "      <td>240 Heather Ln</td>\n",
       "      <td>3.5</td>\n",
       "      <td>{'atAGlanceFacts': [{'factValue': '2019', 'fac...</td>\n",
       "      <td>Gas Logs</td>\n",
       "      <td>Southern Pines</td>\n",
       "      <td>[{'rating': ['4', '4', '7', 'NR', '4', '7', 'N...</td>\n",
       "      <td>2900</td>\n",
       "      <td>28387</td>\n",
       "      <td>4</td>\n",
       "      <td>NC</td>\n",
       "      <td>NaN</td>\n",
       "      <td>NaN</td>\n",
       "      <td>NaN</td>\n",
       "      <td>611019</td>\n",
       "      <td>$418,000</td>\n",
       "    </tr>\n",
       "    <tr>\n",
       "      <th>1</th>\n",
       "      <td>for sale</td>\n",
       "      <td>NaN</td>\n",
       "      <td>single-family home</td>\n",
       "      <td>12911 E Heroy Ave</td>\n",
       "      <td>3 Baths</td>\n",
       "      <td>{'atAGlanceFacts': [{'factValue': '2019', 'fac...</td>\n",
       "      <td>NaN</td>\n",
       "      <td>Spokane Valley</td>\n",
       "      <td>[{'rating': ['4/10', 'None/10', '4/10'], 'data...</td>\n",
       "      <td>1,947 sqft</td>\n",
       "      <td>99216</td>\n",
       "      <td>3 Beds</td>\n",
       "      <td>WA</td>\n",
       "      <td>2.0</td>\n",
       "      <td>NaN</td>\n",
       "      <td>NaN</td>\n",
       "      <td>201916904</td>\n",
       "      <td>$310,000</td>\n",
       "    </tr>\n",
       "    <tr>\n",
       "      <th>2</th>\n",
       "      <td>for sale</td>\n",
       "      <td>NaN</td>\n",
       "      <td>single-family home</td>\n",
       "      <td>2005 Westridge Rd</td>\n",
       "      <td>2 Baths</td>\n",
       "      <td>{'atAGlanceFacts': [{'factValue': '1961', 'fac...</td>\n",
       "      <td>yes</td>\n",
       "      <td>Los Angeles</td>\n",
       "      <td>[{'rating': ['8/10', '4/10', '8/10'], 'data': ...</td>\n",
       "      <td>3,000 sqft</td>\n",
       "      <td>90049</td>\n",
       "      <td>3 Beds</td>\n",
       "      <td>CA</td>\n",
       "      <td>1.0</td>\n",
       "      <td>NaN</td>\n",
       "      <td>yes</td>\n",
       "      <td>FR19221027</td>\n",
       "      <td>$2,895,000</td>\n",
       "    </tr>\n",
       "    <tr>\n",
       "      <th>3</th>\n",
       "      <td>for sale</td>\n",
       "      <td>NaN</td>\n",
       "      <td>single-family home</td>\n",
       "      <td>4311 Livingston Ave</td>\n",
       "      <td>8 Baths</td>\n",
       "      <td>{'atAGlanceFacts': [{'factValue': '2006', 'fac...</td>\n",
       "      <td>yes</td>\n",
       "      <td>Dallas</td>\n",
       "      <td>[{'rating': ['9/10', '9/10', '10/10', '9/10'],...</td>\n",
       "      <td>6,457 sqft</td>\n",
       "      <td>75205</td>\n",
       "      <td>5 Beds</td>\n",
       "      <td>TX</td>\n",
       "      <td>3.0</td>\n",
       "      <td>NaN</td>\n",
       "      <td>NaN</td>\n",
       "      <td>14191809</td>\n",
       "      <td>$2,395,000</td>\n",
       "    </tr>\n",
       "    <tr>\n",
       "      <th>4</th>\n",
       "      <td>for sale</td>\n",
       "      <td>NaN</td>\n",
       "      <td>lot/land</td>\n",
       "      <td>1524 Kiscoe St</td>\n",
       "      <td>NaN</td>\n",
       "      <td>{'atAGlanceFacts': [{'factValue': '', 'factLab...</td>\n",
       "      <td>NaN</td>\n",
       "      <td>Palm Bay</td>\n",
       "      <td>[{'rating': ['4/10', '5/10', '5/10'], 'data': ...</td>\n",
       "      <td>NaN</td>\n",
       "      <td>32908</td>\n",
       "      <td>NaN</td>\n",
       "      <td>FL</td>\n",
       "      <td>NaN</td>\n",
       "      <td>NaN</td>\n",
       "      <td>NaN</td>\n",
       "      <td>861745</td>\n",
       "      <td>$5,000</td>\n",
       "    </tr>\n",
       "    <tr>\n",
       "      <th>...</th>\n",
       "      <td>...</td>\n",
       "      <td>...</td>\n",
       "      <td>...</td>\n",
       "      <td>...</td>\n",
       "      <td>...</td>\n",
       "      <td>...</td>\n",
       "      <td>...</td>\n",
       "      <td>...</td>\n",
       "      <td>...</td>\n",
       "      <td>...</td>\n",
       "      <td>...</td>\n",
       "      <td>...</td>\n",
       "      <td>...</td>\n",
       "      <td>...</td>\n",
       "      <td>...</td>\n",
       "      <td>...</td>\n",
       "      <td>...</td>\n",
       "      <td>...</td>\n",
       "    </tr>\n",
       "    <tr>\n",
       "      <th>377180</th>\n",
       "      <td>NaN</td>\n",
       "      <td>NaN</td>\n",
       "      <td>Single Family</td>\n",
       "      <td>20800 NE 23rd Ave</td>\n",
       "      <td>6.0</td>\n",
       "      <td>{'atAGlanceFacts': [{'factValue': '1990', 'fac...</td>\n",
       "      <td>NaN</td>\n",
       "      <td>Miami</td>\n",
       "      <td>[{'rating': ['10/10', '5/10'], 'data': {'Dista...</td>\n",
       "      <td>4,017</td>\n",
       "      <td>33180</td>\n",
       "      <td>5</td>\n",
       "      <td>FL</td>\n",
       "      <td>0.0</td>\n",
       "      <td>NaN</td>\n",
       "      <td>Yes</td>\n",
       "      <td>A10702700</td>\n",
       "      <td>$1,249,000</td>\n",
       "    </tr>\n",
       "    <tr>\n",
       "      <th>377181</th>\n",
       "      <td>for sale</td>\n",
       "      <td>NaN</td>\n",
       "      <td>condo</td>\n",
       "      <td>3530 N Lake Shore Dr #4B</td>\n",
       "      <td>3 Baths</td>\n",
       "      <td>{'atAGlanceFacts': [{'factValue': '1924', 'fac...</td>\n",
       "      <td>NaN</td>\n",
       "      <td>Chicago</td>\n",
       "      <td>[{'rating': ['1/10', '5/10', '7/10'], 'data': ...</td>\n",
       "      <td>2,000 sqft</td>\n",
       "      <td>60657</td>\n",
       "      <td>3 Beds</td>\n",
       "      <td>IL</td>\n",
       "      <td>9.0</td>\n",
       "      <td>NaN</td>\n",
       "      <td>NaN</td>\n",
       "      <td>10374233</td>\n",
       "      <td>$674,999</td>\n",
       "    </tr>\n",
       "    <tr>\n",
       "      <th>377182</th>\n",
       "      <td>for sale</td>\n",
       "      <td>NaN</td>\n",
       "      <td>single-family home</td>\n",
       "      <td>15509 Linden Blvd</td>\n",
       "      <td>3 Baths</td>\n",
       "      <td>{'atAGlanceFacts': [{'factValue': '1950', 'fac...</td>\n",
       "      <td>NaN</td>\n",
       "      <td>Jamaica</td>\n",
       "      <td>[{'rating': ['5/10', '4/10'], 'data': {'Distan...</td>\n",
       "      <td>1,152 sqft</td>\n",
       "      <td>11434</td>\n",
       "      <td>3 Beds</td>\n",
       "      <td>NY</td>\n",
       "      <td>2</td>\n",
       "      <td>NaN</td>\n",
       "      <td>NaN</td>\n",
       "      <td>NaN</td>\n",
       "      <td>$528,000</td>\n",
       "    </tr>\n",
       "    <tr>\n",
       "      <th>377183</th>\n",
       "      <td>NaN</td>\n",
       "      <td>NaN</td>\n",
       "      <td>NaN</td>\n",
       "      <td>7810 Pereida St</td>\n",
       "      <td>NaN</td>\n",
       "      <td>{'atAGlanceFacts': [{'factValue': None, 'factL...</td>\n",
       "      <td>NaN</td>\n",
       "      <td>Houston</td>\n",
       "      <td>[{'rating': ['NA', 'NA', 'NA'], 'data': {'Dist...</td>\n",
       "      <td>NaN</td>\n",
       "      <td>77028</td>\n",
       "      <td>8,479 sqft</td>\n",
       "      <td>TX</td>\n",
       "      <td>NaN</td>\n",
       "      <td>NaN</td>\n",
       "      <td>NaN</td>\n",
       "      <td>NaN</td>\n",
       "      <td>$34,500</td>\n",
       "    </tr>\n",
       "    <tr>\n",
       "      <th>377184</th>\n",
       "      <td>NaN</td>\n",
       "      <td>NaN</td>\n",
       "      <td>Single Family</td>\n",
       "      <td>5983 Midcrown Dr</td>\n",
       "      <td>2.0</td>\n",
       "      <td>{'atAGlanceFacts': [{'factValue': '2019', 'fac...</td>\n",
       "      <td>Not Applicable</td>\n",
       "      <td>San Antonio</td>\n",
       "      <td>[{'rating': ['5/10', '4/10', '3/10'], 'data': ...</td>\n",
       "      <td>1,462</td>\n",
       "      <td>78218</td>\n",
       "      <td>3</td>\n",
       "      <td>TX</td>\n",
       "      <td>1.0</td>\n",
       "      <td>NaN</td>\n",
       "      <td>NaN</td>\n",
       "      <td>1403619</td>\n",
       "      <td>$204,900</td>\n",
       "    </tr>\n",
       "  </tbody>\n",
       "</table>\n",
       "<p>377185 rows × 18 columns</p>\n",
       "</div>"
      ],
      "text/plain": [
       "          status private pool        propertyType                    street  \\\n",
       "0         Active          NaN  Single Family Home            240 Heather Ln   \n",
       "1       for sale          NaN  single-family home         12911 E Heroy Ave   \n",
       "2       for sale          NaN  single-family home         2005 Westridge Rd   \n",
       "3       for sale          NaN  single-family home       4311 Livingston Ave   \n",
       "4       for sale          NaN            lot/land            1524 Kiscoe St   \n",
       "...          ...          ...                 ...                       ...   \n",
       "377180       NaN          NaN       Single Family         20800 NE 23rd Ave   \n",
       "377181  for sale          NaN               condo  3530 N Lake Shore Dr #4B   \n",
       "377182  for sale          NaN  single-family home         15509 Linden Blvd   \n",
       "377183       NaN          NaN                 NaN           7810 Pereida St   \n",
       "377184       NaN          NaN       Single Family          5983 Midcrown Dr   \n",
       "\n",
       "          baths                                          homeFacts  \\\n",
       "0           3.5  {'atAGlanceFacts': [{'factValue': '2019', 'fac...   \n",
       "1       3 Baths  {'atAGlanceFacts': [{'factValue': '2019', 'fac...   \n",
       "2       2 Baths  {'atAGlanceFacts': [{'factValue': '1961', 'fac...   \n",
       "3       8 Baths  {'atAGlanceFacts': [{'factValue': '2006', 'fac...   \n",
       "4           NaN  {'atAGlanceFacts': [{'factValue': '', 'factLab...   \n",
       "...         ...                                                ...   \n",
       "377180      6.0  {'atAGlanceFacts': [{'factValue': '1990', 'fac...   \n",
       "377181  3 Baths  {'atAGlanceFacts': [{'factValue': '1924', 'fac...   \n",
       "377182  3 Baths  {'atAGlanceFacts': [{'factValue': '1950', 'fac...   \n",
       "377183      NaN  {'atAGlanceFacts': [{'factValue': None, 'factL...   \n",
       "377184      2.0  {'atAGlanceFacts': [{'factValue': '2019', 'fac...   \n",
       "\n",
       "             fireplace            city  \\\n",
       "0             Gas Logs  Southern Pines   \n",
       "1                  NaN  Spokane Valley   \n",
       "2                  yes     Los Angeles   \n",
       "3                  yes          Dallas   \n",
       "4                  NaN        Palm Bay   \n",
       "...                ...             ...   \n",
       "377180             NaN           Miami   \n",
       "377181             NaN         Chicago   \n",
       "377182             NaN         Jamaica   \n",
       "377183             NaN         Houston   \n",
       "377184  Not Applicable     San Antonio   \n",
       "\n",
       "                                                  schools        sqft zipcode  \\\n",
       "0       [{'rating': ['4', '4', '7', 'NR', '4', '7', 'N...        2900   28387   \n",
       "1       [{'rating': ['4/10', 'None/10', '4/10'], 'data...  1,947 sqft   99216   \n",
       "2       [{'rating': ['8/10', '4/10', '8/10'], 'data': ...  3,000 sqft   90049   \n",
       "3       [{'rating': ['9/10', '9/10', '10/10', '9/10'],...  6,457 sqft   75205   \n",
       "4       [{'rating': ['4/10', '5/10', '5/10'], 'data': ...         NaN   32908   \n",
       "...                                                   ...         ...     ...   \n",
       "377180  [{'rating': ['10/10', '5/10'], 'data': {'Dista...       4,017   33180   \n",
       "377181  [{'rating': ['1/10', '5/10', '7/10'], 'data': ...  2,000 sqft   60657   \n",
       "377182  [{'rating': ['5/10', '4/10'], 'data': {'Distan...  1,152 sqft   11434   \n",
       "377183  [{'rating': ['NA', 'NA', 'NA'], 'data': {'Dist...         NaN   77028   \n",
       "377184  [{'rating': ['5/10', '4/10', '3/10'], 'data': ...       1,462   78218   \n",
       "\n",
       "              beds state stories mls-id PrivatePool       MlsId      target  \n",
       "0                4    NC     NaN    NaN         NaN      611019    $418,000  \n",
       "1           3 Beds    WA     2.0    NaN         NaN   201916904    $310,000  \n",
       "2           3 Beds    CA     1.0    NaN         yes  FR19221027  $2,895,000  \n",
       "3           5 Beds    TX     3.0    NaN         NaN    14191809  $2,395,000  \n",
       "4              NaN    FL     NaN    NaN         NaN      861745      $5,000  \n",
       "...            ...   ...     ...    ...         ...         ...         ...  \n",
       "377180           5    FL     0.0    NaN         Yes   A10702700  $1,249,000  \n",
       "377181      3 Beds    IL     9.0    NaN         NaN    10374233    $674,999  \n",
       "377182      3 Beds    NY       2    NaN         NaN         NaN    $528,000  \n",
       "377183  8,479 sqft    TX     NaN    NaN         NaN         NaN     $34,500  \n",
       "377184           3    TX     1.0    NaN         NaN     1403619    $204,900  \n",
       "\n",
       "[377185 rows x 18 columns]"
      ]
     },
     "metadata": {},
     "output_type": "display_data"
    }
   ],
   "source": [
    "raw_df = pd.read_csv(\n",
    "    source_data\n",
    ")\n",
    "raw_df.info()\n",
    "display(raw_df)"
   ]
  },
  {
   "cell_type": "markdown",
   "metadata": {},
   "source": [
    "# Первичный анализ и обработка данных (Data Understanding)"
   ]
  },
  {
   "cell_type": "markdown",
   "metadata": {},
   "source": [
    "Проведём первичный анализ данных, используя `ydata_profiling` и выведенную информацию выше"
   ]
  },
  {
   "cell_type": "code",
   "execution_count": 3,
   "metadata": {},
   "outputs": [
    {
     "name": "stdout",
     "output_type": "stream",
     "text": [
      "See report in  ../reports/init_profiling.html\n"
     ]
    }
   ],
   "source": [
    "profile_path = Path(root_folder, 'reports', 'init_profiling.html')\n",
    "\n",
    "# Create init profiling report if it does not exist\n",
    "if not os.path.isfile(profile_path):\n",
    "    profile = ProfileReport(raw_df, title='House profiling')\n",
    "    profile.to_file(profile_path)\n",
    "    print('Save to:', profile_path)\n",
    "print('See report in ', profile_path)"
   ]
  },
  {
   "cell_type": "markdown",
   "metadata": {},
   "source": [
    "Некоторые наблюдения:\n",
    "\n",
    "- Имеется датасет из 377185 строк и 18 колонок\n",
    "- Все колонки имеют тип \"object\" и требуют предобработки для того, чтобы получить численные значения, где они предполагаются\n",
    "- Имеем дело с большим количеством пропусков в ряде колонок\n",
    "- Имеются несколько дублирующихся строчек (порядка 49)\n",
    "- Некоторые признаки дублируются\n",
    "- Пропуски в `target` критичны для нас, поэтому имеет смысл удалить строки с пропусками в целевом признаке\n",
    "\n",
    "Будем разбираться по-порядку, анализируя каждый признак по отдельности"
   ]
  },
  {
   "cell_type": "markdown",
   "metadata": {},
   "source": [
    "## Target"
   ]
  },
  {
   "cell_type": "markdown",
   "metadata": {},
   "source": [
    "Удалим строки с отсутствующим таргетом:"
   ]
  },
  {
   "cell_type": "code",
   "execution_count": 4,
   "metadata": {},
   "outputs": [
    {
     "name": "stdout",
     "output_type": "stream",
     "text": [
      "Доля строк без таргета: 0.658%\n"
     ]
    },
    {
     "data": {
      "text/plain": [
       "(374704, 18)"
      ]
     },
     "execution_count": 4,
     "metadata": {},
     "output_type": "execute_result"
    }
   ],
   "source": [
    "print(\n",
    "    'Доля строк без таргета:', \n",
    "    utils.get_percentage(raw_df['target'].isna().sum(), raw_df.shape[0])\n",
    ")\n",
    "df = raw_df.dropna(subset=['target'])\n",
    "df.shape"
   ]
  },
  {
   "cell_type": "markdown",
   "metadata": {},
   "source": [
    "Приведём таргет к числовому типу. \n",
    "Для этого посмотрим на нечисловые символы"
   ]
  },
  {
   "cell_type": "code",
   "execution_count": 5,
   "metadata": {},
   "outputs": [
    {
     "data": {
      "text/plain": [
       "target\n",
       "[$, ,]                  267483\n",
       "[,]                      55868\n",
       "[$, ,, ,]                33614\n",
       "[,, ,]                   10001\n",
       "[$, ,, +]                 6931\n",
       "[$, ,, /mo]                373\n",
       "[$, ,, ,, +]               332\n",
       "[$]                         64\n",
       "[$, /mo]                    24\n",
       "[]                          13\n",
       "[$, ,,  - $, ,, /mo]         1\n",
       "Name: count, dtype: int64"
      ]
     },
     "execution_count": 5,
     "metadata": {},
     "output_type": "execute_result"
    }
   ],
   "source": [
    "df['target'].str.findall(r'[^0-9]+').value_counts()"
   ]
  },
  {
   "cell_type": "markdown",
   "metadata": {},
   "source": [
    "- Кроме доллара, другие валюты не встречаются.\n",
    "Положим, что все цены указаны в долларах, пока не выяснится, что это не так.\n",
    "- Встречается \"/mo\", посмотрим ниже. Скорее всего речь идёт об аренде с помесячной оплатой.\n",
    "- Используются запятые как разделители тысяч, их стоит исключить.\n",
    "- Также встречается знак \"+\". Возможно, указывает, что это стартовая цена. Необходимо проверить."
   ]
  },
  {
   "cell_type": "markdown",
   "metadata": {},
   "source": [
    "Да, все объявления с ценой \"/mo\" это объявления о сдаче в аренду.\n",
    "Так как это малая доля от сделок на продажу, удалим эти строки."
   ]
  },
  {
   "cell_type": "code",
   "execution_count": 6,
   "metadata": {},
   "outputs": [
    {
     "name": "stdout",
     "output_type": "stream",
     "text": [
      "Статус для объявлений с помесячной оплатой:\n"
     ]
    },
    {
     "data": {
      "text/plain": [
       "status\n",
       "for rent    398\n",
       "Name: count, dtype: int64"
      ]
     },
     "metadata": {},
     "output_type": "display_data"
    },
    {
     "name": "stdout",
     "output_type": "stream",
     "text": [
      "Доля объявлений аренды: 0.106%\n"
     ]
    },
    {
     "data": {
      "text/plain": [
       "(374306, 18)"
      ]
     },
     "execution_count": 6,
     "metadata": {},
     "output_type": "execute_result"
    }
   ],
   "source": [
    "print('Статус для объявлений с помесячной оплатой:')\n",
    "mo_mask = df['target'].str.contains('mo')\n",
    "display(df[mo_mask]['status'].value_counts())\n",
    "print(\n",
    "    'Доля объявлений аренды:', \n",
    "    utils.get_percentage(mo_mask.sum(), df.shape[0])\n",
    ")\n",
    "df = df[~mo_mask]\n",
    "df.shape"
   ]
  },
  {
   "cell_type": "markdown",
   "metadata": {},
   "source": [
    "Посмотрим, есть ли какие-то особенности при указании \"+\""
   ]
  },
  {
   "cell_type": "code",
   "execution_count": 7,
   "metadata": {},
   "outputs": [
    {
     "data": {
      "text/html": [
       "<div>\n",
       "<style scoped>\n",
       "    .dataframe tbody tr th:only-of-type {\n",
       "        vertical-align: middle;\n",
       "    }\n",
       "\n",
       "    .dataframe tbody tr th {\n",
       "        vertical-align: top;\n",
       "    }\n",
       "\n",
       "    .dataframe thead th {\n",
       "        text-align: right;\n",
       "    }\n",
       "</style>\n",
       "<table border=\"1\" class=\"dataframe\">\n",
       "  <thead>\n",
       "    <tr style=\"text-align: right;\">\n",
       "      <th></th>\n",
       "      <th>status</th>\n",
       "      <th>private pool</th>\n",
       "      <th>propertyType</th>\n",
       "      <th>street</th>\n",
       "      <th>baths</th>\n",
       "      <th>homeFacts</th>\n",
       "      <th>fireplace</th>\n",
       "      <th>city</th>\n",
       "      <th>schools</th>\n",
       "      <th>sqft</th>\n",
       "      <th>zipcode</th>\n",
       "      <th>beds</th>\n",
       "      <th>state</th>\n",
       "      <th>stories</th>\n",
       "      <th>mls-id</th>\n",
       "      <th>PrivatePool</th>\n",
       "      <th>MlsId</th>\n",
       "      <th>target</th>\n",
       "    </tr>\n",
       "  </thead>\n",
       "  <tbody>\n",
       "    <tr>\n",
       "      <th>47</th>\n",
       "      <td>for sale</td>\n",
       "      <td>NaN</td>\n",
       "      <td>single-family home</td>\n",
       "      <td>Santa Rosa Plan in Twin Mills</td>\n",
       "      <td>2 Baths</td>\n",
       "      <td>{'atAGlanceFacts': [{'factValue': '2017', 'fac...</td>\n",
       "      <td>NaN</td>\n",
       "      <td>Fort Worth</td>\n",
       "      <td>[{'rating': ['7/10', '6/10', '8/10'], 'data': ...</td>\n",
       "      <td>1,683 sqft</td>\n",
       "      <td>76179</td>\n",
       "      <td>3 Beds</td>\n",
       "      <td>TX</td>\n",
       "      <td>1</td>\n",
       "      <td>NaN</td>\n",
       "      <td>NaN</td>\n",
       "      <td>NaN</td>\n",
       "      <td>$233,990+</td>\n",
       "    </tr>\n",
       "    <tr>\n",
       "      <th>97</th>\n",
       "      <td>for sale</td>\n",
       "      <td>NaN</td>\n",
       "      <td>single-family home</td>\n",
       "      <td>Armstrong Plan in Cadence at Mint Hill</td>\n",
       "      <td>2.5 Baths</td>\n",
       "      <td>{'atAGlanceFacts': [{'factValue': '', 'factLab...</td>\n",
       "      <td>NaN</td>\n",
       "      <td>Mint Hill</td>\n",
       "      <td>[{'rating': ['5/10', '10/10', '6/10'], 'data':...</td>\n",
       "      <td>1,731 sqft</td>\n",
       "      <td>28227</td>\n",
       "      <td>2 Beds</td>\n",
       "      <td>NC</td>\n",
       "      <td>NaN</td>\n",
       "      <td>NaN</td>\n",
       "      <td>NaN</td>\n",
       "      <td>NaN</td>\n",
       "      <td>$331,990+</td>\n",
       "    </tr>\n",
       "    <tr>\n",
       "      <th>112</th>\n",
       "      <td>for sale</td>\n",
       "      <td>NaN</td>\n",
       "      <td>single-family home</td>\n",
       "      <td>Lantana ABC Plan in Freedom Hills</td>\n",
       "      <td>2 Baths</td>\n",
       "      <td>{'atAGlanceFacts': [{'factValue': '', 'factLab...</td>\n",
       "      <td>NaN</td>\n",
       "      <td>San Antonio</td>\n",
       "      <td>[{'rating': ['4/10', '3/10'], 'data': {'Distan...</td>\n",
       "      <td>1,709 sqft</td>\n",
       "      <td>78242</td>\n",
       "      <td>3 Beds</td>\n",
       "      <td>TX</td>\n",
       "      <td>1</td>\n",
       "      <td>NaN</td>\n",
       "      <td>NaN</td>\n",
       "      <td>NaN</td>\n",
       "      <td>$201,990+</td>\n",
       "    </tr>\n",
       "    <tr>\n",
       "      <th>124</th>\n",
       "      <td>for sale</td>\n",
       "      <td>NaN</td>\n",
       "      <td>single-family home</td>\n",
       "      <td>1848 Plan in Margaritaville Cottages Orlando</td>\n",
       "      <td>5.5 Baths</td>\n",
       "      <td>{'atAGlanceFacts': [{'factValue': '', 'factLab...</td>\n",
       "      <td>NaN</td>\n",
       "      <td>Kissimmee</td>\n",
       "      <td>[{'rating': ['6/10', '4/10'], 'data': {'Distan...</td>\n",
       "      <td>1,848 sqft</td>\n",
       "      <td>34747</td>\n",
       "      <td>5 Beds</td>\n",
       "      <td>FL</td>\n",
       "      <td>2.0</td>\n",
       "      <td>NaN</td>\n",
       "      <td>NaN</td>\n",
       "      <td>NaN</td>\n",
       "      <td>$494,800+</td>\n",
       "    </tr>\n",
       "    <tr>\n",
       "      <th>130</th>\n",
       "      <td>for sale</td>\n",
       "      <td>NaN</td>\n",
       "      <td>condo</td>\n",
       "      <td>Astor D Plan in The Grove</td>\n",
       "      <td>2 Baths</td>\n",
       "      <td>{'atAGlanceFacts': [{'factValue': '', 'factLab...</td>\n",
       "      <td>NaN</td>\n",
       "      <td>Austin</td>\n",
       "      <td>[{'rating': ['9/10', '6/10', '7/10'], 'data': ...</td>\n",
       "      <td>1,375 sqft</td>\n",
       "      <td>78703</td>\n",
       "      <td>2 Beds</td>\n",
       "      <td>TX</td>\n",
       "      <td>1.0</td>\n",
       "      <td>NaN</td>\n",
       "      <td>NaN</td>\n",
       "      <td>NaN</td>\n",
       "      <td>$590,000+</td>\n",
       "    </tr>\n",
       "    <tr>\n",
       "      <th>...</th>\n",
       "      <td>...</td>\n",
       "      <td>...</td>\n",
       "      <td>...</td>\n",
       "      <td>...</td>\n",
       "      <td>...</td>\n",
       "      <td>...</td>\n",
       "      <td>...</td>\n",
       "      <td>...</td>\n",
       "      <td>...</td>\n",
       "      <td>...</td>\n",
       "      <td>...</td>\n",
       "      <td>...</td>\n",
       "      <td>...</td>\n",
       "      <td>...</td>\n",
       "      <td>...</td>\n",
       "      <td>...</td>\n",
       "      <td>...</td>\n",
       "      <td>...</td>\n",
       "    </tr>\n",
       "    <tr>\n",
       "      <th>376851</th>\n",
       "      <td>for sale</td>\n",
       "      <td>NaN</td>\n",
       "      <td>townhouse</td>\n",
       "      <td>Chesters Plan in Waterford Park : Barrington &amp;...</td>\n",
       "      <td>NaN</td>\n",
       "      <td>{'atAGlanceFacts': [{'factValue': '', 'factLab...</td>\n",
       "      <td>NaN</td>\n",
       "      <td>San Antonio</td>\n",
       "      <td>[{'rating': ['7/10', '8/10', 'None/10', 'None/...</td>\n",
       "      <td>1,034 sqft</td>\n",
       "      <td>78253</td>\n",
       "      <td>2 Beds</td>\n",
       "      <td>TX</td>\n",
       "      <td>1.0</td>\n",
       "      <td>NaN</td>\n",
       "      <td>yes</td>\n",
       "      <td>NaN</td>\n",
       "      <td>$179,999+</td>\n",
       "    </tr>\n",
       "    <tr>\n",
       "      <th>376909</th>\n",
       "      <td>for sale</td>\n",
       "      <td>NaN</td>\n",
       "      <td>townhouse</td>\n",
       "      <td>Giada Plan in Avesa</td>\n",
       "      <td>2.5 Baths</td>\n",
       "      <td>{'atAGlanceFacts': [{'factValue': '', 'factLab...</td>\n",
       "      <td>NaN</td>\n",
       "      <td>Tampa</td>\n",
       "      <td>[{'rating': ['6/10', '5/10', '5/10'], 'data': ...</td>\n",
       "      <td>2,262 sqft</td>\n",
       "      <td>33625</td>\n",
       "      <td>3 Beds</td>\n",
       "      <td>FL</td>\n",
       "      <td>2.0</td>\n",
       "      <td>NaN</td>\n",
       "      <td>yes</td>\n",
       "      <td>NaN</td>\n",
       "      <td>$327,990+</td>\n",
       "    </tr>\n",
       "    <tr>\n",
       "      <th>376966</th>\n",
       "      <td>for sale</td>\n",
       "      <td>NaN</td>\n",
       "      <td>single-family home</td>\n",
       "      <td>Sunnydale Plan in Fox Creek</td>\n",
       "      <td>2.5 Baths</td>\n",
       "      <td>{'atAGlanceFacts': [{'factValue': '2017', 'fac...</td>\n",
       "      <td>NaN</td>\n",
       "      <td>Jacksonville</td>\n",
       "      <td>[{'rating': ['2/10', '4/10', '3/10'], 'data': ...</td>\n",
       "      <td>2,205 sqft</td>\n",
       "      <td>32222</td>\n",
       "      <td>4 Beds</td>\n",
       "      <td>FL</td>\n",
       "      <td>2</td>\n",
       "      <td>NaN</td>\n",
       "      <td>NaN</td>\n",
       "      <td>NaN</td>\n",
       "      <td>$234,990+</td>\n",
       "    </tr>\n",
       "    <tr>\n",
       "      <th>376972</th>\n",
       "      <td>for sale</td>\n",
       "      <td>NaN</td>\n",
       "      <td>townhouse</td>\n",
       "      <td>1566-3 Plan in The Villas at Del Sol</td>\n",
       "      <td>2.5 Baths</td>\n",
       "      <td>{'atAGlanceFacts': [{'factValue': '', 'factLab...</td>\n",
       "      <td>NaN</td>\n",
       "      <td>Murfreesboro</td>\n",
       "      <td>[{'rating': ['4/10', '8/10', '7/10'], 'data': ...</td>\n",
       "      <td>1,566 sqft</td>\n",
       "      <td>37127</td>\n",
       "      <td>3 Beds</td>\n",
       "      <td>TN</td>\n",
       "      <td>2.0</td>\n",
       "      <td>NaN</td>\n",
       "      <td>NaN</td>\n",
       "      <td>NaN</td>\n",
       "      <td>$231,100+</td>\n",
       "    </tr>\n",
       "    <tr>\n",
       "      <th>377002</th>\n",
       "      <td>for sale</td>\n",
       "      <td>NaN</td>\n",
       "      <td>single-family home</td>\n",
       "      <td>The Duncan Plan in American West Rainbow Cross...</td>\n",
       "      <td>2.5 Baths</td>\n",
       "      <td>{'atAGlanceFacts': [{'factValue': '2018', 'fac...</td>\n",
       "      <td>NaN</td>\n",
       "      <td>Las Vegas</td>\n",
       "      <td>[{'rating': ['4/10', 'None/10', '6/10'], 'data...</td>\n",
       "      <td>3,021 sqft</td>\n",
       "      <td>89139</td>\n",
       "      <td>4 Beds</td>\n",
       "      <td>NV</td>\n",
       "      <td>2</td>\n",
       "      <td>NaN</td>\n",
       "      <td>NaN</td>\n",
       "      <td>NaN</td>\n",
       "      <td>$433,500+</td>\n",
       "    </tr>\n",
       "  </tbody>\n",
       "</table>\n",
       "<p>7263 rows × 18 columns</p>\n",
       "</div>"
      ],
      "text/plain": [
       "          status private pool        propertyType  \\\n",
       "47      for sale          NaN  single-family home   \n",
       "97      for sale          NaN  single-family home   \n",
       "112     for sale          NaN  single-family home   \n",
       "124     for sale          NaN  single-family home   \n",
       "130     for sale          NaN               condo   \n",
       "...          ...          ...                 ...   \n",
       "376851  for sale          NaN           townhouse   \n",
       "376909  for sale          NaN           townhouse   \n",
       "376966  for sale          NaN  single-family home   \n",
       "376972  for sale          NaN           townhouse   \n",
       "377002  for sale          NaN  single-family home   \n",
       "\n",
       "                                                   street      baths  \\\n",
       "47                          Santa Rosa Plan in Twin Mills    2 Baths   \n",
       "97                 Armstrong Plan in Cadence at Mint Hill  2.5 Baths   \n",
       "112                     Lantana ABC Plan in Freedom Hills    2 Baths   \n",
       "124          1848 Plan in Margaritaville Cottages Orlando  5.5 Baths   \n",
       "130                             Astor D Plan in The Grove    2 Baths   \n",
       "...                                                   ...        ...   \n",
       "376851  Chesters Plan in Waterford Park : Barrington &...        NaN   \n",
       "376909                                Giada Plan in Avesa  2.5 Baths   \n",
       "376966                        Sunnydale Plan in Fox Creek  2.5 Baths   \n",
       "376972               1566-3 Plan in The Villas at Del Sol  2.5 Baths   \n",
       "377002  The Duncan Plan in American West Rainbow Cross...  2.5 Baths   \n",
       "\n",
       "                                                homeFacts fireplace  \\\n",
       "47      {'atAGlanceFacts': [{'factValue': '2017', 'fac...       NaN   \n",
       "97      {'atAGlanceFacts': [{'factValue': '', 'factLab...       NaN   \n",
       "112     {'atAGlanceFacts': [{'factValue': '', 'factLab...       NaN   \n",
       "124     {'atAGlanceFacts': [{'factValue': '', 'factLab...       NaN   \n",
       "130     {'atAGlanceFacts': [{'factValue': '', 'factLab...       NaN   \n",
       "...                                                   ...       ...   \n",
       "376851  {'atAGlanceFacts': [{'factValue': '', 'factLab...       NaN   \n",
       "376909  {'atAGlanceFacts': [{'factValue': '', 'factLab...       NaN   \n",
       "376966  {'atAGlanceFacts': [{'factValue': '2017', 'fac...       NaN   \n",
       "376972  {'atAGlanceFacts': [{'factValue': '', 'factLab...       NaN   \n",
       "377002  {'atAGlanceFacts': [{'factValue': '2018', 'fac...       NaN   \n",
       "\n",
       "                city                                            schools  \\\n",
       "47        Fort Worth  [{'rating': ['7/10', '6/10', '8/10'], 'data': ...   \n",
       "97         Mint Hill  [{'rating': ['5/10', '10/10', '6/10'], 'data':...   \n",
       "112      San Antonio  [{'rating': ['4/10', '3/10'], 'data': {'Distan...   \n",
       "124        Kissimmee  [{'rating': ['6/10', '4/10'], 'data': {'Distan...   \n",
       "130           Austin  [{'rating': ['9/10', '6/10', '7/10'], 'data': ...   \n",
       "...              ...                                                ...   \n",
       "376851   San Antonio  [{'rating': ['7/10', '8/10', 'None/10', 'None/...   \n",
       "376909         Tampa  [{'rating': ['6/10', '5/10', '5/10'], 'data': ...   \n",
       "376966  Jacksonville  [{'rating': ['2/10', '4/10', '3/10'], 'data': ...   \n",
       "376972  Murfreesboro  [{'rating': ['4/10', '8/10', '7/10'], 'data': ...   \n",
       "377002     Las Vegas  [{'rating': ['4/10', 'None/10', '6/10'], 'data...   \n",
       "\n",
       "              sqft zipcode    beds state stories mls-id PrivatePool MlsId  \\\n",
       "47      1,683 sqft   76179  3 Beds    TX       1    NaN         NaN   NaN   \n",
       "97      1,731 sqft   28227  2 Beds    NC     NaN    NaN         NaN   NaN   \n",
       "112     1,709 sqft   78242  3 Beds    TX       1    NaN         NaN   NaN   \n",
       "124     1,848 sqft   34747  5 Beds    FL     2.0    NaN         NaN   NaN   \n",
       "130     1,375 sqft   78703  2 Beds    TX     1.0    NaN         NaN   NaN   \n",
       "...            ...     ...     ...   ...     ...    ...         ...   ...   \n",
       "376851  1,034 sqft   78253  2 Beds    TX     1.0    NaN         yes   NaN   \n",
       "376909  2,262 sqft   33625  3 Beds    FL     2.0    NaN         yes   NaN   \n",
       "376966  2,205 sqft   32222  4 Beds    FL       2    NaN         NaN   NaN   \n",
       "376972  1,566 sqft   37127  3 Beds    TN     2.0    NaN         NaN   NaN   \n",
       "377002  3,021 sqft   89139  4 Beds    NV       2    NaN         NaN   NaN   \n",
       "\n",
       "           target  \n",
       "47      $233,990+  \n",
       "97      $331,990+  \n",
       "112     $201,990+  \n",
       "124     $494,800+  \n",
       "130     $590,000+  \n",
       "...           ...  \n",
       "376851  $179,999+  \n",
       "376909  $327,990+  \n",
       "376966  $234,990+  \n",
       "376972  $231,100+  \n",
       "377002  $433,500+  \n",
       "\n",
       "[7263 rows x 18 columns]"
      ]
     },
     "metadata": {},
     "output_type": "display_data"
    },
    {
     "name": "stdout",
     "output_type": "stream",
     "text": [
      "Доля объявлений со знаком \"+\" в цене: 1.940%\n"
     ]
    }
   ],
   "source": [
    "plus_mask = df['target'].str.contains('\\+')\n",
    "display(df[plus_mask])\n",
    "print(\n",
    "    'Доля объявлений со знаком \"+\" в цене:', \n",
    "    utils.get_percentage(plus_mask.sum(), df.shape[0])\n",
    ")"
   ]
  },
  {
   "cell_type": "markdown",
   "metadata": {},
   "source": [
    "Так как доля объявлений со знаком \"+\" мала, не будем выделять отдельный признак под это.\n",
    "\n",
    "Уберём теперь посторонние символы \"$\", \"+\", \",\" и преобразуем к численному признаку.\n",
    "\n",
    "После чего посмотрим на распределение целевого признака"
   ]
  },
  {
   "cell_type": "code",
   "execution_count": 8,
   "metadata": {},
   "outputs": [
    {
     "data": {
      "image/png": "[encoded data removed]",
      "text/plain": [
       "<Figure size 640x480 with 2 Axes>"
      ]
     },
     "metadata": {},
     "output_type": "display_data"
    }
   ],
   "source": [
    "df['target'] = build_features.get_numerical_target(df['target'])\n",
    "\n",
    "visualize.plot_box_hist_plot(\n",
    "    df, \n",
    "    'target', \n",
    "    numeric_label='price [$]', \n",
    "    log_scale=True, \n",
    "    title='Target distribution',\n",
    ");"
   ]
  },
  {
   "cell_type": "markdown",
   "metadata": {},
   "source": [
    "График был построен в логарифмических координатах, так имеется большой разброс в стоимости жилья.\n",
    "Больше половины объявлений имеют стоимость в диапазоне 100 000 - 1 000 000 $.\n",
    "Расмотрим внимательнее выбросы."
   ]
  },
  {
   "cell_type": "code",
   "execution_count": 9,
   "metadata": {},
   "outputs": [
    {
     "data": {
      "text/html": [
       "<h2>Property type for low-cost"
      ],
      "text/plain": [
       "<IPython.core.display.HTML object>"
      ]
     },
     "metadata": {},
     "output_type": "display_data"
    },
    {
     "data": {
      "text/plain": [
       "propertyType\n",
       "lot/land                10812\n",
       "Land                     7304\n",
       "single-family home       6581\n",
       "Single Family            3285\n",
       "Single Family Home       1967\n",
       "                        ...  \n",
       "Custom                      1\n",
       "Multiplex, Ranch            1\n",
       "English, Traditional        1\n",
       "Other - See Remarks         1\n",
       "Cottage/Camp                1\n",
       "Name: count, Length: 166, dtype: int64"
      ]
     },
     "metadata": {},
     "output_type": "display_data"
    },
    {
     "data": {
      "text/html": [
       "<h2>Property type for high-cost"
      ],
      "text/plain": [
       "<IPython.core.display.HTML object>"
      ]
     },
     "metadata": {},
     "output_type": "display_data"
    },
    {
     "data": {
      "text/plain": [
       "propertyType\n",
       "single-family home                                                        9233\n",
       "Single Family                                                             7099\n",
       "condo                                                                     4286\n",
       "Single Family Home                                                        2539\n",
       "multi-family                                                              2437\n",
       "                                                                          ... \n",
       "2 Stories, Traditional, Texas Hill Country                                   1\n",
       "Single Detached, Contemporary/Modern, Other (See Remarks), Traditional       1\n",
       "Courtyard, Custom                                                            1\n",
       "Contemporary/Modern, English, French, Traditional                            1\n",
       "Lake House, Single Detached, Tudor                                           1\n",
       "Name: count, Length: 493, dtype: int64"
      ]
     },
     "metadata": {},
     "output_type": "display_data"
    }
   ],
   "source": [
    "display(HTML(\"<h2>Property type for low-cost\"))\n",
    "display(df[df['target'] < 1e5]['propertyType'].value_counts())\n",
    "display(HTML(\"<h2>Property type for high-cost\"))\n",
    "display(df[df['target'] > 1e6]['propertyType'].value_counts())"
   ]
  },
  {
   "cell_type": "markdown",
   "metadata": {},
   "source": [
    "В большиестве случаев низкая стоимость обусловлена тем, что продаётся земля.\n",
    "Однако, есть подозрения, что в ряде случаев была указана стоимость аренды.\n",
    "Последнее можно будет уточнить при последующем анализе данных.\n",
    "\n",
    "Что же касается больших стоимостей, то по всей видимости речь идёт о дорогих особняках.\n",
    "Их можно будет либо удалить как выбросы, либо делать прогноз в логарифмической шкале.\n",
    "Уточним позже."
   ]
  },
  {
   "cell_type": "markdown",
   "metadata": {},
   "source": [
    "## sqft и stories"
   ]
  },
  {
   "cell_type": "markdown",
   "metadata": {},
   "source": [
    "Разберёмся теперь с площадью и количеством этажей, так как они тоже должны иметь числовые признаки"
   ]
  },
  {
   "cell_type": "code",
   "execution_count": 10,
   "metadata": {},
   "outputs": [
    {
     "data": {
      "text/plain": [
       "sqft\n",
       "[,,  sqft]                                   138517\n",
       "[,]                                           91482\n",
       "[]                                            61588\n",
       "[Total interior livable area: , ,,  sqft]     21077\n",
       "[ sqft]                                       18434\n",
       "[Total interior livable area: ,  sqft]         2266\n",
       "[--]                                            535\n",
       "[-- sqft]                                       276\n",
       "[,, ,,  sqft]                                    18\n",
       "[,, ,]                                            2\n",
       "Name: count, dtype: int64"
      ]
     },
     "metadata": {},
     "output_type": "display_data"
    },
    {
     "data": {
      "text/html": [
       "<h2>Data with \"--\""
      ]
     },
     "metadata": {},
     "output_type": "display_data"
    },
    {
     "data": {
      "text/html": [
       "<div>\n",
       "<style scoped>\n",
       "    .dataframe tbody tr th:only-of-type {\n",
       "        vertical-align: middle;\n",
       "    }\n",
       "\n",
       "    .dataframe tbody tr th {\n",
       "        vertical-align: top;\n",
       "    }\n",
       "\n",
       "    .dataframe thead th {\n",
       "        text-align: right;\n",
       "    }\n",
       "</style>\n",
       "<table border=\"1\" class=\"dataframe\">\n",
       "  <thead>\n",
       "    <tr style=\"text-align: right;\">\n",
       "      <th></th>\n",
       "      <th>status</th>\n",
       "      <th>private pool</th>\n",
       "      <th>propertyType</th>\n",
       "      <th>street</th>\n",
       "      <th>baths</th>\n",
       "      <th>homeFacts</th>\n",
       "      <th>fireplace</th>\n",
       "      <th>city</th>\n",
       "      <th>schools</th>\n",
       "      <th>sqft</th>\n",
       "      <th>zipcode</th>\n",
       "      <th>beds</th>\n",
       "      <th>state</th>\n",
       "      <th>stories</th>\n",
       "      <th>mls-id</th>\n",
       "      <th>PrivatePool</th>\n",
       "      <th>MlsId</th>\n",
       "      <th>target</th>\n",
       "    </tr>\n",
       "  </thead>\n",
       "  <tbody>\n",
       "    <tr>\n",
       "      <th>440</th>\n",
       "      <td>For sale</td>\n",
       "      <td>NaN</td>\n",
       "      <td>Condo</td>\n",
       "      <td>606 W 81st St # 129 E</td>\n",
       "      <td>Bathrooms: 1</td>\n",
       "      <td>{'atAGlanceFacts': [{'factValue': '1971', 'fac...</td>\n",
       "      <td>NaN</td>\n",
       "      <td>Hialeah</td>\n",
       "      <td>[{'rating': ['10/10', '6/10', '6/10'], 'data':...</td>\n",
       "      <td>-- sqft</td>\n",
       "      <td>33014</td>\n",
       "      <td>1 bd</td>\n",
       "      <td>FL</td>\n",
       "      <td>NaN</td>\n",
       "      <td>A10773663</td>\n",
       "      <td>NaN</td>\n",
       "      <td>NaN</td>\n",
       "      <td>130000</td>\n",
       "    </tr>\n",
       "    <tr>\n",
       "      <th>700</th>\n",
       "      <td>NaN</td>\n",
       "      <td>NaN</td>\n",
       "      <td>Condo</td>\n",
       "      <td>1000 Brickell Ave # 2215</td>\n",
       "      <td>3.0</td>\n",
       "      <td>{'atAGlanceFacts': [{'factValue': '2019', 'fac...</td>\n",
       "      <td>NaN</td>\n",
       "      <td>Miami</td>\n",
       "      <td>[{'rating': ['10/10', '2/10'], 'data': {'Dista...</td>\n",
       "      <td>--</td>\n",
       "      <td>33131</td>\n",
       "      <td>2</td>\n",
       "      <td>FL</td>\n",
       "      <td>NaN</td>\n",
       "      <td>NaN</td>\n",
       "      <td>NaN</td>\n",
       "      <td>2215, Miami, FL 33131</td>\n",
       "      <td>1100000</td>\n",
       "    </tr>\n",
       "    <tr>\n",
       "      <th>951</th>\n",
       "      <td>NaN</td>\n",
       "      <td>NaN</td>\n",
       "      <td>Multi Family</td>\n",
       "      <td>163 NW 68th Ter</td>\n",
       "      <td>4.0</td>\n",
       "      <td>{'atAGlanceFacts': [{'factValue': '2019', 'fac...</td>\n",
       "      <td>NaN</td>\n",
       "      <td>Miami</td>\n",
       "      <td>[{'rating': ['10/10', '2/10'], 'data': {'Dista...</td>\n",
       "      <td>--</td>\n",
       "      <td>33150</td>\n",
       "      <td>6</td>\n",
       "      <td>FL</td>\n",
       "      <td>2.0</td>\n",
       "      <td>NaN</td>\n",
       "      <td>NaN</td>\n",
       "      <td>A10741015</td>\n",
       "      <td>599000</td>\n",
       "    </tr>\n",
       "    <tr>\n",
       "      <th>1455</th>\n",
       "      <td>NaN</td>\n",
       "      <td>NaN</td>\n",
       "      <td>Townhouse</td>\n",
       "      <td>NW 89th Ter</td>\n",
       "      <td>3.0</td>\n",
       "      <td>{'atAGlanceFacts': [{'factValue': '2015', 'fac...</td>\n",
       "      <td>NaN</td>\n",
       "      <td>Doral</td>\n",
       "      <td>[{'rating': ['10/10', '8/10'], 'data': {'Dista...</td>\n",
       "      <td>--</td>\n",
       "      <td>33178</td>\n",
       "      <td>3</td>\n",
       "      <td>FL</td>\n",
       "      <td>NaN</td>\n",
       "      <td>NaN</td>\n",
       "      <td>Yes</td>\n",
       "      <td>A10732483</td>\n",
       "      <td>390000</td>\n",
       "    </tr>\n",
       "    <tr>\n",
       "      <th>2030</th>\n",
       "      <td>New construction</td>\n",
       "      <td>NaN</td>\n",
       "      <td>Single Family</td>\n",
       "      <td>3214 Walworth Ave</td>\n",
       "      <td>4.0</td>\n",
       "      <td>{'atAGlanceFacts': [{'factValue': 'No Data', '...</td>\n",
       "      <td>Yes</td>\n",
       "      <td>Cincinnati</td>\n",
       "      <td>[{'rating': ['2/10', '2/10'], 'data': {'Distan...</td>\n",
       "      <td>--</td>\n",
       "      <td>45226</td>\n",
       "      <td>3</td>\n",
       "      <td>OH</td>\n",
       "      <td>NaN</td>\n",
       "      <td>NaN</td>\n",
       "      <td>NaN</td>\n",
       "      <td>1614162</td>\n",
       "      <td>545000</td>\n",
       "    </tr>\n",
       "    <tr>\n",
       "      <th>...</th>\n",
       "      <td>...</td>\n",
       "      <td>...</td>\n",
       "      <td>...</td>\n",
       "      <td>...</td>\n",
       "      <td>...</td>\n",
       "      <td>...</td>\n",
       "      <td>...</td>\n",
       "      <td>...</td>\n",
       "      <td>...</td>\n",
       "      <td>...</td>\n",
       "      <td>...</td>\n",
       "      <td>...</td>\n",
       "      <td>...</td>\n",
       "      <td>...</td>\n",
       "      <td>...</td>\n",
       "      <td>...</td>\n",
       "      <td>...</td>\n",
       "      <td>...</td>\n",
       "    </tr>\n",
       "    <tr>\n",
       "      <th>374655</th>\n",
       "      <td>For sale</td>\n",
       "      <td>NaN</td>\n",
       "      <td>Condo</td>\n",
       "      <td>750 SW 138th Ave APT F205</td>\n",
       "      <td>2 ba</td>\n",
       "      <td>{'atAGlanceFacts': [{'factValue': '1994', 'fac...</td>\n",
       "      <td>NaN</td>\n",
       "      <td>Pembroke Pines</td>\n",
       "      <td>[{'rating': ['7/10', '8/10', '7/10'], 'data': ...</td>\n",
       "      <td>-- sqft</td>\n",
       "      <td>33027</td>\n",
       "      <td>2 bd</td>\n",
       "      <td>FL</td>\n",
       "      <td>NaN</td>\n",
       "      <td>A10776605</td>\n",
       "      <td>NaN</td>\n",
       "      <td>NaN</td>\n",
       "      <td>160000</td>\n",
       "    </tr>\n",
       "    <tr>\n",
       "      <th>375945</th>\n",
       "      <td>NaN</td>\n",
       "      <td>NaN</td>\n",
       "      <td>Townhouse</td>\n",
       "      <td>1433 SW 66th Ave</td>\n",
       "      <td>5.0</td>\n",
       "      <td>{'atAGlanceFacts': [{'factValue': '2019', 'fac...</td>\n",
       "      <td>NaN</td>\n",
       "      <td>West Miami</td>\n",
       "      <td>[{'rating': ['10/10', '3/10', '3/10'], 'data':...</td>\n",
       "      <td>--</td>\n",
       "      <td>33144</td>\n",
       "      <td>4</td>\n",
       "      <td>FL</td>\n",
       "      <td>NaN</td>\n",
       "      <td>NaN</td>\n",
       "      <td>NaN</td>\n",
       "      <td>A10765095</td>\n",
       "      <td>615000</td>\n",
       "    </tr>\n",
       "    <tr>\n",
       "      <th>376356</th>\n",
       "      <td>NaN</td>\n",
       "      <td>NaN</td>\n",
       "      <td>Condo</td>\n",
       "      <td>551 N Ftl Bch Blvd # H1016</td>\n",
       "      <td>2.0</td>\n",
       "      <td>{'atAGlanceFacts': [{'factValue': '2016', 'fac...</td>\n",
       "      <td>NaN</td>\n",
       "      <td>Fort Lauderdale</td>\n",
       "      <td>[{'rating': ['7/10', '5/10', '7/10'], 'data': ...</td>\n",
       "      <td>--</td>\n",
       "      <td>33304</td>\n",
       "      <td>1</td>\n",
       "      <td>FL</td>\n",
       "      <td>NaN</td>\n",
       "      <td>NaN</td>\n",
       "      <td>NaN</td>\n",
       "      <td>H1016, Fort Lauderdale, FL 33304</td>\n",
       "      <td>897500</td>\n",
       "    </tr>\n",
       "    <tr>\n",
       "      <th>376988</th>\n",
       "      <td>NaN</td>\n",
       "      <td>NaN</td>\n",
       "      <td>Single Family</td>\n",
       "      <td>3435 East</td>\n",
       "      <td>1.0</td>\n",
       "      <td>{'atAGlanceFacts': [{'factValue': '1955', 'fac...</td>\n",
       "      <td>NaN</td>\n",
       "      <td>Hialeah</td>\n",
       "      <td>[{'rating': ['10/10', '3/10'], 'data': {'Dista...</td>\n",
       "      <td>--</td>\n",
       "      <td>33013</td>\n",
       "      <td>3</td>\n",
       "      <td>FL</td>\n",
       "      <td>NaN</td>\n",
       "      <td>NaN</td>\n",
       "      <td>NaN</td>\n",
       "      <td>A10783130</td>\n",
       "      <td>340000</td>\n",
       "    </tr>\n",
       "    <tr>\n",
       "      <th>376999</th>\n",
       "      <td>NaN</td>\n",
       "      <td>NaN</td>\n",
       "      <td>Single Family</td>\n",
       "      <td>9121 SW 69th Ct</td>\n",
       "      <td>5.0</td>\n",
       "      <td>{'atAGlanceFacts': [{'factValue': '2016', 'fac...</td>\n",
       "      <td>NaN</td>\n",
       "      <td>Pinecrest</td>\n",
       "      <td>[{'rating': ['10/10', '6/10'], 'data': {'Dista...</td>\n",
       "      <td>--</td>\n",
       "      <td>33156</td>\n",
       "      <td>5</td>\n",
       "      <td>FL</td>\n",
       "      <td>NaN</td>\n",
       "      <td>NaN</td>\n",
       "      <td>Yes</td>\n",
       "      <td>A10747172</td>\n",
       "      <td>2895000</td>\n",
       "    </tr>\n",
       "  </tbody>\n",
       "</table>\n",
       "<p>811 rows × 18 columns</p>\n",
       "</div>"
      ],
      "text/plain": [
       "                  status private pool   propertyType  \\\n",
       "440             For sale          NaN          Condo   \n",
       "700                  NaN          NaN          Condo   \n",
       "951                  NaN          NaN   Multi Family   \n",
       "1455                 NaN          NaN      Townhouse   \n",
       "2030    New construction          NaN  Single Family   \n",
       "...                  ...          ...            ...   \n",
       "374655          For sale          NaN          Condo   \n",
       "375945               NaN          NaN      Townhouse   \n",
       "376356               NaN          NaN          Condo   \n",
       "376988               NaN          NaN  Single Family   \n",
       "376999               NaN          NaN  Single Family   \n",
       "\n",
       "                            street         baths  \\\n",
       "440          606 W 81st St # 129 E  Bathrooms: 1   \n",
       "700       1000 Brickell Ave # 2215           3.0   \n",
       "951                163 NW 68th Ter           4.0   \n",
       "1455                   NW 89th Ter           3.0   \n",
       "2030             3214 Walworth Ave           4.0   \n",
       "...                            ...           ...   \n",
       "374655   750 SW 138th Ave APT F205          2 ba   \n",
       "375945            1433 SW 66th Ave           5.0   \n",
       "376356  551 N Ftl Bch Blvd # H1016           2.0   \n",
       "376988                   3435 East           1.0   \n",
       "376999             9121 SW 69th Ct           5.0   \n",
       "\n",
       "                                                homeFacts fireplace  \\\n",
       "440     {'atAGlanceFacts': [{'factValue': '1971', 'fac...       NaN   \n",
       "700     {'atAGlanceFacts': [{'factValue': '2019', 'fac...       NaN   \n",
       "951     {'atAGlanceFacts': [{'factValue': '2019', 'fac...       NaN   \n",
       "1455    {'atAGlanceFacts': [{'factValue': '2015', 'fac...       NaN   \n",
       "2030    {'atAGlanceFacts': [{'factValue': 'No Data', '...       Yes   \n",
       "...                                                   ...       ...   \n",
       "374655  {'atAGlanceFacts': [{'factValue': '1994', 'fac...       NaN   \n",
       "375945  {'atAGlanceFacts': [{'factValue': '2019', 'fac...       NaN   \n",
       "376356  {'atAGlanceFacts': [{'factValue': '2016', 'fac...       NaN   \n",
       "376988  {'atAGlanceFacts': [{'factValue': '1955', 'fac...       NaN   \n",
       "376999  {'atAGlanceFacts': [{'factValue': '2016', 'fac...       NaN   \n",
       "\n",
       "                   city                                            schools  \\\n",
       "440             Hialeah  [{'rating': ['10/10', '6/10', '6/10'], 'data':...   \n",
       "700               Miami  [{'rating': ['10/10', '2/10'], 'data': {'Dista...   \n",
       "951               Miami  [{'rating': ['10/10', '2/10'], 'data': {'Dista...   \n",
       "1455              Doral  [{'rating': ['10/10', '8/10'], 'data': {'Dista...   \n",
       "2030         Cincinnati  [{'rating': ['2/10', '2/10'], 'data': {'Distan...   \n",
       "...                 ...                                                ...   \n",
       "374655   Pembroke Pines  [{'rating': ['7/10', '8/10', '7/10'], 'data': ...   \n",
       "375945       West Miami  [{'rating': ['10/10', '3/10', '3/10'], 'data':...   \n",
       "376356  Fort Lauderdale  [{'rating': ['7/10', '5/10', '7/10'], 'data': ...   \n",
       "376988          Hialeah  [{'rating': ['10/10', '3/10'], 'data': {'Dista...   \n",
       "376999        Pinecrest  [{'rating': ['10/10', '6/10'], 'data': {'Dista...   \n",
       "\n",
       "           sqft zipcode  beds state stories     mls-id PrivatePool  \\\n",
       "440     -- sqft   33014  1 bd    FL     NaN  A10773663         NaN   \n",
       "700          --   33131     2    FL     NaN        NaN         NaN   \n",
       "951          --   33150     6    FL     2.0        NaN         NaN   \n",
       "1455         --   33178     3    FL     NaN        NaN         Yes   \n",
       "2030         --   45226     3    OH     NaN        NaN         NaN   \n",
       "...         ...     ...   ...   ...     ...        ...         ...   \n",
       "374655  -- sqft   33027  2 bd    FL     NaN  A10776605         NaN   \n",
       "375945       --   33144     4    FL     NaN        NaN         NaN   \n",
       "376356       --   33304     1    FL     NaN        NaN         NaN   \n",
       "376988       --   33013     3    FL     NaN        NaN         NaN   \n",
       "376999       --   33156     5    FL     NaN        NaN         Yes   \n",
       "\n",
       "                                    MlsId   target  \n",
       "440                                   NaN   130000  \n",
       "700                 2215, Miami, FL 33131  1100000  \n",
       "951                             A10741015   599000  \n",
       "1455                            A10732483   390000  \n",
       "2030                              1614162   545000  \n",
       "...                                   ...      ...  \n",
       "374655                                NaN   160000  \n",
       "375945                          A10765095   615000  \n",
       "376356   H1016, Fort Lauderdale, FL 33304   897500  \n",
       "376988                          A10783130   340000  \n",
       "376999                          A10747172  2895000  \n",
       "\n",
       "[811 rows x 18 columns]"
      ]
     },
     "metadata": {},
     "output_type": "display_data"
    },
    {
     "data": {
      "text/html": [
       "<h2>Data with \"Total interior livable area\""
      ]
     },
     "metadata": {},
     "output_type": "display_data"
    },
    {
     "data": {
      "text/html": [
       "<div>\n",
       "<style scoped>\n",
       "    .dataframe tbody tr th:only-of-type {\n",
       "        vertical-align: middle;\n",
       "    }\n",
       "\n",
       "    .dataframe tbody tr th {\n",
       "        vertical-align: top;\n",
       "    }\n",
       "\n",
       "    .dataframe thead th {\n",
       "        text-align: right;\n",
       "    }\n",
       "</style>\n",
       "<table border=\"1\" class=\"dataframe\">\n",
       "  <thead>\n",
       "    <tr style=\"text-align: right;\">\n",
       "      <th></th>\n",
       "      <th>status</th>\n",
       "      <th>private pool</th>\n",
       "      <th>propertyType</th>\n",
       "      <th>street</th>\n",
       "      <th>baths</th>\n",
       "      <th>homeFacts</th>\n",
       "      <th>fireplace</th>\n",
       "      <th>city</th>\n",
       "      <th>schools</th>\n",
       "      <th>sqft</th>\n",
       "      <th>zipcode</th>\n",
       "      <th>beds</th>\n",
       "      <th>state</th>\n",
       "      <th>stories</th>\n",
       "      <th>mls-id</th>\n",
       "      <th>PrivatePool</th>\n",
       "      <th>MlsId</th>\n",
       "      <th>target</th>\n",
       "    </tr>\n",
       "  </thead>\n",
       "  <tbody>\n",
       "    <tr>\n",
       "      <th>13</th>\n",
       "      <td>New construction</td>\n",
       "      <td>NaN</td>\n",
       "      <td>Single Family</td>\n",
       "      <td>1538 Umpqua Dr</td>\n",
       "      <td>Bathrooms: 2</td>\n",
       "      <td>{'atAGlanceFacts': [{'factValue': '2019', 'fac...</td>\n",
       "      <td>NaN</td>\n",
       "      <td>Eugene</td>\n",
       "      <td>[{'rating': ['7/10', '7/10', '8/10'], 'data': ...</td>\n",
       "      <td>Total interior livable area: 1,820 sqft</td>\n",
       "      <td>97401</td>\n",
       "      <td>3 bd</td>\n",
       "      <td>OR</td>\n",
       "      <td>1.0</td>\n",
       "      <td>19221142</td>\n",
       "      <td>NaN</td>\n",
       "      <td>NaN</td>\n",
       "      <td>499900</td>\n",
       "    </tr>\n",
       "    <tr>\n",
       "      <th>21</th>\n",
       "      <td>For sale</td>\n",
       "      <td>NaN</td>\n",
       "      <td>Single Family</td>\n",
       "      <td>61425 Gosney Rd</td>\n",
       "      <td>Bathrooms: 5</td>\n",
       "      <td>{'atAGlanceFacts': [{'factValue': '2008', 'fac...</td>\n",
       "      <td>Yes</td>\n",
       "      <td>Bend</td>\n",
       "      <td>[{'rating': ['8/10', '5/10', '6/10'], 'data': ...</td>\n",
       "      <td>Total interior livable area: 5,266 sqft</td>\n",
       "      <td>97702</td>\n",
       "      <td>5 bd</td>\n",
       "      <td>OR</td>\n",
       "      <td>1.0</td>\n",
       "      <td>201909438</td>\n",
       "      <td>NaN</td>\n",
       "      <td>NaN</td>\n",
       "      <td>3500000</td>\n",
       "    </tr>\n",
       "    <tr>\n",
       "      <th>31</th>\n",
       "      <td>For sale</td>\n",
       "      <td>NaN</td>\n",
       "      <td>Single Family</td>\n",
       "      <td>6712 N Glen Ave</td>\n",
       "      <td>Bathrooms: 2</td>\n",
       "      <td>{'atAGlanceFacts': [{'factValue': '1960', 'fac...</td>\n",
       "      <td>NaN</td>\n",
       "      <td>Tampa</td>\n",
       "      <td>[{'rating': ['5/10', '2/10', '4/10'], 'data': ...</td>\n",
       "      <td>Total interior livable area: 1,677 sqft</td>\n",
       "      <td>33614</td>\n",
       "      <td>4 bd</td>\n",
       "      <td>FL</td>\n",
       "      <td>0.0</td>\n",
       "      <td>T3159863</td>\n",
       "      <td>NaN</td>\n",
       "      <td>NaN</td>\n",
       "      <td>262000</td>\n",
       "    </tr>\n",
       "    <tr>\n",
       "      <th>38</th>\n",
       "      <td>For sale</td>\n",
       "      <td>NaN</td>\n",
       "      <td>Single Family</td>\n",
       "      <td>5531 Eureka Springs Rd</td>\n",
       "      <td>Bathrooms: 1</td>\n",
       "      <td>{'atAGlanceFacts': [{'factValue': '1930', 'fac...</td>\n",
       "      <td>NaN</td>\n",
       "      <td>Tampa</td>\n",
       "      <td>[{'rating': ['1/10', '2/10', '3/10'], 'data': ...</td>\n",
       "      <td>Total interior livable area: 1,232 sqft</td>\n",
       "      <td>33610</td>\n",
       "      <td>2 bd</td>\n",
       "      <td>FL</td>\n",
       "      <td>0.0</td>\n",
       "      <td>T3204536</td>\n",
       "      <td>NaN</td>\n",
       "      <td>NaN</td>\n",
       "      <td>117900</td>\n",
       "    </tr>\n",
       "    <tr>\n",
       "      <th>46</th>\n",
       "      <td>For sale</td>\n",
       "      <td>NaN</td>\n",
       "      <td>Single Family</td>\n",
       "      <td>4547 Cascades Shoreline Dr</td>\n",
       "      <td>Bathrooms: 5</td>\n",
       "      <td>{'atAGlanceFacts': [{'factValue': '2005', 'fac...</td>\n",
       "      <td>Yes</td>\n",
       "      <td>Tyler</td>\n",
       "      <td>[{'rating': ['4/10', '5/10', '2/10'], 'data': ...</td>\n",
       "      <td>Total interior livable area: 5,358 sqft</td>\n",
       "      <td>75709</td>\n",
       "      <td>5 bd</td>\n",
       "      <td>TX</td>\n",
       "      <td>2.0</td>\n",
       "      <td>10114247</td>\n",
       "      <td>NaN</td>\n",
       "      <td>NaN</td>\n",
       "      <td>1429000</td>\n",
       "    </tr>\n",
       "    <tr>\n",
       "      <th>...</th>\n",
       "      <td>...</td>\n",
       "      <td>...</td>\n",
       "      <td>...</td>\n",
       "      <td>...</td>\n",
       "      <td>...</td>\n",
       "      <td>...</td>\n",
       "      <td>...</td>\n",
       "      <td>...</td>\n",
       "      <td>...</td>\n",
       "      <td>...</td>\n",
       "      <td>...</td>\n",
       "      <td>...</td>\n",
       "      <td>...</td>\n",
       "      <td>...</td>\n",
       "      <td>...</td>\n",
       "      <td>...</td>\n",
       "      <td>...</td>\n",
       "      <td>...</td>\n",
       "    </tr>\n",
       "    <tr>\n",
       "      <th>377091</th>\n",
       "      <td>For sale</td>\n",
       "      <td>NaN</td>\n",
       "      <td>Single Family</td>\n",
       "      <td>916 Morningside Ln</td>\n",
       "      <td>Bathrooms: 3</td>\n",
       "      <td>{'atAGlanceFacts': [{'factValue': '1993', 'fac...</td>\n",
       "      <td>Yes</td>\n",
       "      <td>Allen</td>\n",
       "      <td>[{'rating': ['10/10', '10/10', '7/10'], 'data'...</td>\n",
       "      <td>Total interior livable area: 2,619 sqft</td>\n",
       "      <td>75002</td>\n",
       "      <td>4 bd</td>\n",
       "      <td>TX</td>\n",
       "      <td>2.0</td>\n",
       "      <td>14170825</td>\n",
       "      <td>NaN</td>\n",
       "      <td>NaN</td>\n",
       "      <td>319000</td>\n",
       "    </tr>\n",
       "    <tr>\n",
       "      <th>377093</th>\n",
       "      <td>For sale</td>\n",
       "      <td>NaN</td>\n",
       "      <td>Single Family</td>\n",
       "      <td>114 N 6th St</td>\n",
       "      <td>Bathrooms: 2</td>\n",
       "      <td>{'atAGlanceFacts': [{'factValue': '1905', 'fac...</td>\n",
       "      <td>NaN</td>\n",
       "      <td>Temple</td>\n",
       "      <td>[{'rating': ['4/10', '4/10', '4/10'], 'data': ...</td>\n",
       "      <td>Total interior livable area: 1,361 sqft</td>\n",
       "      <td>76501</td>\n",
       "      <td>3 bd</td>\n",
       "      <td>TX</td>\n",
       "      <td>1.0</td>\n",
       "      <td>384383</td>\n",
       "      <td>NaN</td>\n",
       "      <td>NaN</td>\n",
       "      <td>129000</td>\n",
       "    </tr>\n",
       "    <tr>\n",
       "      <th>377112</th>\n",
       "      <td>For sale</td>\n",
       "      <td>Yes</td>\n",
       "      <td>Single Family</td>\n",
       "      <td>1906 W Workman Ave</td>\n",
       "      <td>Bathrooms: 3</td>\n",
       "      <td>{'atAGlanceFacts': [{'factValue': '1950', 'fac...</td>\n",
       "      <td>NaN</td>\n",
       "      <td>West Covina</td>\n",
       "      <td>[{'rating': ['6/10', '6/10', '7/10'], 'data': ...</td>\n",
       "      <td>Total interior livable area: 1,557 sqft</td>\n",
       "      <td>91790</td>\n",
       "      <td>4 bd</td>\n",
       "      <td>CA</td>\n",
       "      <td>1.0</td>\n",
       "      <td>CV19260192</td>\n",
       "      <td>NaN</td>\n",
       "      <td>NaN</td>\n",
       "      <td>639000</td>\n",
       "    </tr>\n",
       "    <tr>\n",
       "      <th>377113</th>\n",
       "      <td>For sale</td>\n",
       "      <td>NaN</td>\n",
       "      <td>Single Family</td>\n",
       "      <td>17617 W 87th Ave</td>\n",
       "      <td>Bathrooms: 4</td>\n",
       "      <td>{'atAGlanceFacts': [{'factValue': '2016', 'fac...</td>\n",
       "      <td>NaN</td>\n",
       "      <td>Arvada</td>\n",
       "      <td>[{'rating': ['7/10', '6/10', '8/10'], 'data': ...</td>\n",
       "      <td>Total interior livable area: 4,615 sqft</td>\n",
       "      <td>80007</td>\n",
       "      <td>4 bd</td>\n",
       "      <td>CO</td>\n",
       "      <td>2.0</td>\n",
       "      <td>7690588</td>\n",
       "      <td>NaN</td>\n",
       "      <td>NaN</td>\n",
       "      <td>685000</td>\n",
       "    </tr>\n",
       "    <tr>\n",
       "      <th>377172</th>\n",
       "      <td>For sale</td>\n",
       "      <td>NaN</td>\n",
       "      <td>Single Family</td>\n",
       "      <td>2210 NW 70th Ave</td>\n",
       "      <td>Bathrooms: 2</td>\n",
       "      <td>{'atAGlanceFacts': [{'factValue': '1969', 'fac...</td>\n",
       "      <td>NaN</td>\n",
       "      <td>Sunrise</td>\n",
       "      <td>[{'rating': ['2/10', '6/10', '4/10'], 'data': ...</td>\n",
       "      <td>Total interior livable area: 1,907 sqft</td>\n",
       "      <td>33313</td>\n",
       "      <td>3 bd</td>\n",
       "      <td>FL</td>\n",
       "      <td>1.0</td>\n",
       "      <td>F10202858</td>\n",
       "      <td>NaN</td>\n",
       "      <td>NaN</td>\n",
       "      <td>287999</td>\n",
       "    </tr>\n",
       "  </tbody>\n",
       "</table>\n",
       "<p>23343 rows × 18 columns</p>\n",
       "</div>"
      ],
      "text/plain": [
       "                  status private pool   propertyType  \\\n",
       "13      New construction          NaN  Single Family   \n",
       "21              For sale          NaN  Single Family   \n",
       "31              For sale          NaN  Single Family   \n",
       "38              For sale          NaN  Single Family   \n",
       "46              For sale          NaN  Single Family   \n",
       "...                  ...          ...            ...   \n",
       "377091          For sale          NaN  Single Family   \n",
       "377093          For sale          NaN  Single Family   \n",
       "377112          For sale          Yes  Single Family   \n",
       "377113          For sale          NaN  Single Family   \n",
       "377172          For sale          NaN  Single Family   \n",
       "\n",
       "                            street         baths  \\\n",
       "13                  1538 Umpqua Dr  Bathrooms: 2   \n",
       "21                 61425 Gosney Rd  Bathrooms: 5   \n",
       "31                 6712 N Glen Ave  Bathrooms: 2   \n",
       "38          5531 Eureka Springs Rd  Bathrooms: 1   \n",
       "46      4547 Cascades Shoreline Dr  Bathrooms: 5   \n",
       "...                            ...           ...   \n",
       "377091          916 Morningside Ln  Bathrooms: 3   \n",
       "377093                114 N 6th St  Bathrooms: 2   \n",
       "377112          1906 W Workman Ave  Bathrooms: 3   \n",
       "377113            17617 W 87th Ave  Bathrooms: 4   \n",
       "377172            2210 NW 70th Ave  Bathrooms: 2   \n",
       "\n",
       "                                                homeFacts fireplace  \\\n",
       "13      {'atAGlanceFacts': [{'factValue': '2019', 'fac...       NaN   \n",
       "21      {'atAGlanceFacts': [{'factValue': '2008', 'fac...       Yes   \n",
       "31      {'atAGlanceFacts': [{'factValue': '1960', 'fac...       NaN   \n",
       "38      {'atAGlanceFacts': [{'factValue': '1930', 'fac...       NaN   \n",
       "46      {'atAGlanceFacts': [{'factValue': '2005', 'fac...       Yes   \n",
       "...                                                   ...       ...   \n",
       "377091  {'atAGlanceFacts': [{'factValue': '1993', 'fac...       Yes   \n",
       "377093  {'atAGlanceFacts': [{'factValue': '1905', 'fac...       NaN   \n",
       "377112  {'atAGlanceFacts': [{'factValue': '1950', 'fac...       NaN   \n",
       "377113  {'atAGlanceFacts': [{'factValue': '2016', 'fac...       NaN   \n",
       "377172  {'atAGlanceFacts': [{'factValue': '1969', 'fac...       NaN   \n",
       "\n",
       "               city                                            schools  \\\n",
       "13           Eugene  [{'rating': ['7/10', '7/10', '8/10'], 'data': ...   \n",
       "21             Bend  [{'rating': ['8/10', '5/10', '6/10'], 'data': ...   \n",
       "31            Tampa  [{'rating': ['5/10', '2/10', '4/10'], 'data': ...   \n",
       "38            Tampa  [{'rating': ['1/10', '2/10', '3/10'], 'data': ...   \n",
       "46            Tyler  [{'rating': ['4/10', '5/10', '2/10'], 'data': ...   \n",
       "...             ...                                                ...   \n",
       "377091        Allen  [{'rating': ['10/10', '10/10', '7/10'], 'data'...   \n",
       "377093       Temple  [{'rating': ['4/10', '4/10', '4/10'], 'data': ...   \n",
       "377112  West Covina  [{'rating': ['6/10', '6/10', '7/10'], 'data': ...   \n",
       "377113       Arvada  [{'rating': ['7/10', '6/10', '8/10'], 'data': ...   \n",
       "377172      Sunrise  [{'rating': ['2/10', '6/10', '4/10'], 'data': ...   \n",
       "\n",
       "                                           sqft zipcode  beds state stories  \\\n",
       "13      Total interior livable area: 1,820 sqft   97401  3 bd    OR     1.0   \n",
       "21      Total interior livable area: 5,266 sqft   97702  5 bd    OR     1.0   \n",
       "31      Total interior livable area: 1,677 sqft   33614  4 bd    FL     0.0   \n",
       "38      Total interior livable area: 1,232 sqft   33610  2 bd    FL     0.0   \n",
       "46      Total interior livable area: 5,358 sqft   75709  5 bd    TX     2.0   \n",
       "...                                         ...     ...   ...   ...     ...   \n",
       "377091  Total interior livable area: 2,619 sqft   75002  4 bd    TX     2.0   \n",
       "377093  Total interior livable area: 1,361 sqft   76501  3 bd    TX     1.0   \n",
       "377112  Total interior livable area: 1,557 sqft   91790  4 bd    CA     1.0   \n",
       "377113  Total interior livable area: 4,615 sqft   80007  4 bd    CO     2.0   \n",
       "377172  Total interior livable area: 1,907 sqft   33313  3 bd    FL     1.0   \n",
       "\n",
       "            mls-id PrivatePool MlsId   target  \n",
       "13        19221142         NaN   NaN   499900  \n",
       "21       201909438         NaN   NaN  3500000  \n",
       "31        T3159863         NaN   NaN   262000  \n",
       "38        T3204536         NaN   NaN   117900  \n",
       "46        10114247         NaN   NaN  1429000  \n",
       "...            ...         ...   ...      ...  \n",
       "377091    14170825         NaN   NaN   319000  \n",
       "377093      384383         NaN   NaN   129000  \n",
       "377112  CV19260192         NaN   NaN   639000  \n",
       "377113     7690588         NaN   NaN   685000  \n",
       "377172   F10202858         NaN   NaN   287999  \n",
       "\n",
       "[23343 rows x 18 columns]"
      ]
     },
     "metadata": {},
     "output_type": "display_data"
    },
    {
     "data": {
      "text/plain": [
       "\"{'atAGlanceFacts': [{'factValue': '2019', 'factLabel': 'Year built'}, {'factValue': '2019', 'factLabel': 'Remodeled year'}, {'factValue': 'Forced air', 'factLabel': 'Heating'}, {'factValue': '', 'factLabel': 'Cooling'}, {'factValue': 'Attached Garage', 'factLabel': 'Parking'}, {'factValue': '7,000 sqft lot', 'factLabel': 'lotsize'}, {'factValue': '$275', 'factLabel': 'Price/sqft'}]}\""
      ]
     },
     "metadata": {},
     "output_type": "display_data"
    }
   ],
   "source": [
    "display(df['sqft'].str.findall(r'[^0-9]+').value_counts())\n",
    "display_html('<h2>Data with \"--\"', raw=True)\n",
    "display(df[df['sqft'].str.contains('--', na=False)])\n",
    "display_html('<h2>Data with \"Total interior livable area\"', raw=True)\n",
    "display(df[df['sqft'].str.contains('Total interior livable area', na=False)])\n",
    "display(\n",
    "    df[\n",
    "        df['sqft'].str.contains('Total interior livable area', na=False)\n",
    "    ]['homeFacts'].iloc[0]\n",
    ")"
   ]
  },
  {
   "cell_type": "markdown",
   "metadata": {},
   "source": [
    "\"--\" обозначают пропуски, их приведём к пропускам явно.\n",
    "Также зачастую явно указывают \"sqft\", можем удалить, как и запятые.\n",
    "Что касается пометки \"total interior livable area\", то помимо этой площади в `homeFacts` указазан \"lotsize\".\n",
    "Чтобы не потерять на данном этапе сведений, добавим пока двоичный признак `marked_interior_area`"
   ]
  },
  {
   "cell_type": "code",
   "execution_count": 11,
   "metadata": {},
   "outputs": [
    {
     "data": {
      "text/plain": [
       "marked_interior_area\n",
       "False    350963\n",
       "True      23343\n",
       "Name: count, dtype: int64"
      ]
     },
     "metadata": {},
     "output_type": "display_data"
    },
    {
     "name": "stdout",
     "output_type": "stream",
     "text": [
      "Доля объявлений с явно указанной внутренней жилой площадью: 6.236%\n",
      "Доля пропусков площади: 10.933%\n"
     ]
    },
    {
     "data": {
      "image/png": "[encoded data removed]",
      "text/plain": [
       "<Figure size 640x480 with 2 Axes>"
      ]
     },
     "metadata": {},
     "output_type": "display_data"
    }
   ],
   "source": [
    "df = build_features.get_df_with_numerical_sqft(df)\n",
    "display(df['marked_interior_area'].value_counts())\n",
    "print(\n",
    "    'Доля объявлений с явно указанной внутренней жилой площадью:', \n",
    "    utils.get_percentage(df['marked_interior_area'].sum(), df.shape[0])\n",
    ")\n",
    "print(\n",
    "    'Доля пропусков площади:', \n",
    "    utils.get_percentage(df['sqft'].isna().sum(), df.shape[0])\n",
    ")\n",
    "\n",
    "visualize.plot_box_hist_plot(\n",
    "    df, \n",
    "    'sqft', \n",
    "    numeric_label='area [sqft]', \n",
    "    log_scale=True, \n",
    "    title='Area distribution',\n",
    ");"
   ]
  },
  {
   "cell_type": "markdown",
   "metadata": {},
   "source": [
    "Видим также большой разброс в площади.\n",
    "В основном, площадь больше 1000 квадратных футов, или 93 $м^2$\n",
    "\n",
    "Есть также слишком большие особняки:"
   ]
  },
  {
   "cell_type": "code",
   "execution_count": 12,
   "metadata": {},
   "outputs": [
    {
     "data": {
      "text/html": [
       "<div>\n",
       "<style scoped>\n",
       "    .dataframe tbody tr th:only-of-type {\n",
       "        vertical-align: middle;\n",
       "    }\n",
       "\n",
       "    .dataframe tbody tr th {\n",
       "        vertical-align: top;\n",
       "    }\n",
       "\n",
       "    .dataframe thead th {\n",
       "        text-align: right;\n",
       "    }\n",
       "</style>\n",
       "<table border=\"1\" class=\"dataframe\">\n",
       "  <thead>\n",
       "    <tr style=\"text-align: right;\">\n",
       "      <th></th>\n",
       "      <th>status</th>\n",
       "      <th>private pool</th>\n",
       "      <th>propertyType</th>\n",
       "      <th>street</th>\n",
       "      <th>baths</th>\n",
       "      <th>homeFacts</th>\n",
       "      <th>fireplace</th>\n",
       "      <th>city</th>\n",
       "      <th>schools</th>\n",
       "      <th>sqft</th>\n",
       "      <th>zipcode</th>\n",
       "      <th>beds</th>\n",
       "      <th>state</th>\n",
       "      <th>stories</th>\n",
       "      <th>mls-id</th>\n",
       "      <th>PrivatePool</th>\n",
       "      <th>MlsId</th>\n",
       "      <th>target</th>\n",
       "      <th>marked_interior_area</th>\n",
       "    </tr>\n",
       "  </thead>\n",
       "  <tbody>\n",
       "    <tr>\n",
       "      <th>62736</th>\n",
       "      <td>for sale</td>\n",
       "      <td>NaN</td>\n",
       "      <td>single-family home</td>\n",
       "      <td>1723 Pulte St</td>\n",
       "      <td>2 Baths</td>\n",
       "      <td>{'atAGlanceFacts': [{'factValue': '1901', 'fac...</td>\n",
       "      <td>yes</td>\n",
       "      <td>Cincinnati</td>\n",
       "      <td>[{'rating': ['4/10', '2/10', '1/10', '2/10', '...</td>\n",
       "      <td>795979430.0</td>\n",
       "      <td>45225</td>\n",
       "      <td>2 Beds</td>\n",
       "      <td>OH</td>\n",
       "      <td>1.0</td>\n",
       "      <td>NaN</td>\n",
       "      <td>NaN</td>\n",
       "      <td>1230095</td>\n",
       "      <td>27500</td>\n",
       "      <td>False</td>\n",
       "    </tr>\n",
       "    <tr>\n",
       "      <th>376529</th>\n",
       "      <td>Active</td>\n",
       "      <td>NaN</td>\n",
       "      <td>Multi-Family Home</td>\n",
       "      <td>5382 S Dixie Hwy</td>\n",
       "      <td>NaN</td>\n",
       "      <td>{'atAGlanceFacts': [{'factValue': '2012', 'fac...</td>\n",
       "      <td>NaN</td>\n",
       "      <td>Glendale</td>\n",
       "      <td>[{'rating': ['5', '7', '7', 'NR', 'NR', 'NR'],...</td>\n",
       "      <td>456602479.0</td>\n",
       "      <td>42740</td>\n",
       "      <td>NaN</td>\n",
       "      <td>KY</td>\n",
       "      <td>NaN</td>\n",
       "      <td>NaN</td>\n",
       "      <td>NaN</td>\n",
       "      <td>10050634</td>\n",
       "      <td>198000</td>\n",
       "      <td>False</td>\n",
       "    </tr>\n",
       "  </tbody>\n",
       "</table>\n",
       "</div>"
      ],
      "text/plain": [
       "          status private pool        propertyType            street    baths  \\\n",
       "62736   for sale          NaN  single-family home     1723 Pulte St  2 Baths   \n",
       "376529    Active          NaN   Multi-Family Home  5382 S Dixie Hwy      NaN   \n",
       "\n",
       "                                                homeFacts fireplace  \\\n",
       "62736   {'atAGlanceFacts': [{'factValue': '1901', 'fac...       yes   \n",
       "376529  {'atAGlanceFacts': [{'factValue': '2012', 'fac...       NaN   \n",
       "\n",
       "              city                                            schools  \\\n",
       "62736   Cincinnati  [{'rating': ['4/10', '2/10', '1/10', '2/10', '...   \n",
       "376529    Glendale  [{'rating': ['5', '7', '7', 'NR', 'NR', 'NR'],...   \n",
       "\n",
       "               sqft zipcode    beds state stories mls-id PrivatePool  \\\n",
       "62736   795979430.0   45225  2 Beds    OH     1.0    NaN         NaN   \n",
       "376529  456602479.0   42740     NaN    KY     NaN    NaN         NaN   \n",
       "\n",
       "           MlsId  target  marked_interior_area  \n",
       "62736    1230095   27500                 False  \n",
       "376529  10050634  198000                 False  "
      ]
     },
     "execution_count": 12,
     "metadata": {},
     "output_type": "execute_result"
    }
   ],
   "source": [
    "df[df['sqft']>1e7]"
   ]
  },
  {
   "cell_type": "markdown",
   "metadata": {},
   "source": [
    "При этом цена на них средняя (см выбросы больше $10^7$):"
   ]
  },
  {
   "cell_type": "code",
   "execution_count": 13,
   "metadata": {},
   "outputs": [
    {
     "data": {
      "image/png": "[encoded data removed]",
      "text/plain": [
       "<Figure size 640x480 with 1 Axes>"
      ]
     },
     "metadata": {},
     "output_type": "display_data"
    }
   ],
   "source": [
    "visualize.plot_scatter(\n",
    "    data=df,\n",
    "    x='sqft',\n",
    "    y='target',\n",
    "    logx=True,\n",
    "    logy=True,\n",
    "    x_label='area [sqft]',\n",
    "    y_label='price [$]',\n",
    "    title='Price-Area scatter plot',\n",
    "    linewidth=0,\n",
    ");"
   ]
  },
  {
   "cell_type": "markdown",
   "metadata": {},
   "source": [
    "Впоследствии, можно удалить явные выбросы.\n",
    "Также, возможно имеет смысл логарифмировать площадь."
   ]
  },
  {
   "cell_type": "markdown",
   "metadata": {},
   "source": [
    "### stories"
   ]
  },
  {
   "cell_type": "markdown",
   "metadata": {},
   "source": [
    "Рассмотрим символы и встречающиеся варианты, предварительно переведя всё в lower:"
   ]
  },
  {
   "cell_type": "code",
   "execution_count": 14,
   "metadata": {},
   "outputs": [
    {
     "data": {
      "text/plain": [
       "stories\n",
       "[.]                     154467\n",
       "[]                       51919\n",
       "[one]                     5758\n",
       "[ story]                  3470\n",
       "[two]                     2495\n",
       "[+]                        868\n",
       "[three or more]            569\n",
       "[one story]                395\n",
       "[ level, site built]       380\n",
       "[lot]                      365\n",
       "[townhouse]                325\n",
       "[ranch/,  story]           293\n",
       "[multi/split]              271\n",
       "[ level]                   268\n",
       "[two story or more]        253\n",
       "[ stories]                 243\n",
       "[acreage]                  215\n",
       "[.,  story]                203\n",
       "[condominium]              172\n",
       "[ story/basement]          161\n",
       "Name: count, dtype: int64"
      ]
     },
     "metadata": {},
     "output_type": "display_data"
    },
    {
     "data": {
      "text/html": [
       "<h2>Stories numbers"
      ]
     },
     "metadata": {},
     "output_type": "display_data"
    },
    {
     "data": {
      "text/plain": [
       "stories\n",
       "[1, 0]       66808\n",
       "[2, 0]       55003\n",
       "[1]          24820\n",
       "[2]          20776\n",
       "[]           12074\n",
       "[3, 0]       11233\n",
       "[0, 0]        7209\n",
       "[3]           5358\n",
       "[0]           4231\n",
       "[9, 0]        2914\n",
       "[2, 00]       2775\n",
       "[4, 0]        2136\n",
       "[1, 00]       1200\n",
       "[4]            933\n",
       "[6, 0]         716\n",
       "[1, 50]        650\n",
       "[5, 0]         614\n",
       "[1, 5]         566\n",
       "[3, 00]        517\n",
       "[9]            467\n",
       "[7, 0]         312\n",
       "[6]            291\n",
       "[8, 0]         254\n",
       "[2, 0000]      229\n",
       "[5]            189\n",
       "[1, 0000]      116\n",
       "[2, 5]          97\n",
       "[12, 0]         94\n",
       "[2, 50]         92\n",
       "[7]             92\n",
       "Name: count, dtype: int64"
      ]
     },
     "metadata": {},
     "output_type": "display_data"
    },
    {
     "data": {
      "text/html": [
       "<h2>Stories contain \"ground\", \"one\", \"two\" or \"three\""
      ]
     },
     "metadata": {},
     "output_type": "display_data"
    },
    {
     "data": {
      "text/plain": [
       "stories\n",
       "one                                5758\n",
       "two                                2495\n",
       "three or more                       569\n",
       "one story                           395\n",
       "two story or more                   253\n",
       "one level                           142\n",
       "one and one half                     25\n",
       "three or more levels                 25\n",
       "one, two                             13\n",
       "three or more, multi/split            7\n",
       "ground level                          6\n",
       "two stories                           4\n",
       "ground level, one                     3\n",
       "two, multi/split                      3\n",
       "one, three or more                    3\n",
       "multi/split, two                      1\n",
       "ground level, split level, two        1\n",
       "ground level, two                     1\n",
       "one, two, multi/split                 1\n",
       "two, three or more                    1\n",
       "other, two, multi/split               1\n",
       "multi level, three or more            1\n",
       "one and one half, three or more       1\n",
       "Name: count, dtype: int64"
      ]
     },
     "metadata": {},
     "output_type": "display_data"
    },
    {
     "data": {
      "text/html": [
       "<h2>Stories contain \"split\""
      ]
     },
     "metadata": {},
     "output_type": "display_data"
    },
    {
     "data": {
      "text/plain": [
       "stories\n",
       "multi/split                         271\n",
       "split level                          52\n",
       "split foyer                          14\n",
       "site built, split foyer               9\n",
       "split level w/ sub                    8\n",
       "three or more, multi/split            7\n",
       "two, multi/split                      3\n",
       "site built, split level               3\n",
       "2 story, split level                  2\n",
       "3 level, site built, split level      1\n",
       "ground level, split level, two        1\n",
       "multi/split, two                      1\n",
       "2 level, site built, split foyer      1\n",
       "split foyer, tri-level                1\n",
       "other, two, multi/split               1\n",
       "bedroom - split plan                  1\n",
       "1 story, split level                  1\n",
       "2 level, split foyer                  1\n",
       "split entry (bi-level)                1\n",
       "one, two, multi/split                 1\n",
       "1 level, split foyer                  1\n",
       "Name: count, dtype: int64"
      ]
     },
     "metadata": {},
     "output_type": "display_data"
    },
    {
     "data": {
      "text/html": [
       "<h2>Stories contain \"story\""
      ]
     },
     "metadata": {},
     "output_type": "display_data"
    },
    {
     "data": {
      "text/plain": [
       "stories\n",
       "2 story                                       1970\n",
       "1 story                                       1253\n",
       "one story                                      395\n",
       "ranch/1 story                                  293\n",
       "two story or more                              253\n",
       "3 story                                        204\n",
       "1.5 story                                      169\n",
       "2 story/basement                               154\n",
       "1 story basement                                82\n",
       "4 story                                         43\n",
       "1 story/ranch                                   40\n",
       "2.5 story                                       34\n",
       "1.5 story/basement                              33\n",
       "1 story/f.r.o.g.                                13\n",
       "3 story/basement                                 7\n",
       "3+ story                                         4\n",
       "multi-story                                      3\n",
       "2 story, tri level                               2\n",
       "1 story, 2 story                                 2\n",
       "2 story, split level                             2\n",
       "2.5 story/basement                               2\n",
       "townhouse-2 story, t3-townhouse 3+ stories       1\n",
       "1 story, hillside                                1\n",
       "2 story, multi level                             1\n",
       "2 story or 2 level                               1\n",
       "1 story, townhouse                               1\n",
       "1 1/2 story                                      1\n",
       "1 story, split level                             1\n",
       "3 story, tri level                               1\n",
       "3 story, multi level                             1\n",
       "1 story, multi level                             1\n",
       "Name: count, dtype: int64"
      ]
     },
     "metadata": {},
     "output_type": "display_data"
    },
    {
     "data": {
      "text/html": [
       "<h2>Stories contain \"level\""
      ]
     },
     "metadata": {},
     "output_type": "display_data"
    },
    {
     "data": {
      "text/plain": [
       "stories\n",
       "2 level, site built               192\n",
       "1 level, site built               155\n",
       "1 level                           148\n",
       "one level                         142\n",
       "stories/levels                    133\n",
       "                                 ... \n",
       "3 story, tri level                  1\n",
       "multi level, three or more          1\n",
       "3 story, multi level                1\n",
       "split entry (bi-level)              1\n",
       "3 level, site built, tri-level      1\n",
       "Name: count, Length: 62, dtype: int64"
      ]
     },
     "metadata": {},
     "output_type": "display_data"
    },
    {
     "data": {
      "text/html": [
       "<h2>Stories contain \"lot\""
      ]
     },
     "metadata": {},
     "output_type": "display_data"
    },
    {
     "data": {
      "text/plain": [
       "stories\n",
       "lot    365\n",
       "Name: count, dtype: int64"
      ]
     },
     "metadata": {},
     "output_type": "display_data"
    },
    {
     "data": {
      "text/html": [
       "<h2>Property type of Stories with zeros"
      ]
     },
     "metadata": {},
     "output_type": "display_data"
    },
    {
     "data": {
      "text/plain": [
       "propertyType\n",
       "Single Family            7639\n",
       "Condo                    2141\n",
       "Townhouse                 768\n",
       "Multi Family              416\n",
       "Mobile / Manufactured     402\n",
       "Cooperative                50\n",
       "Apartment                  19\n",
       "SingleFamilyResidence       3\n",
       "Name: count, dtype: int64"
      ]
     },
     "metadata": {},
     "output_type": "display_data"
    }
   ],
   "source": [
    "df['stories'] = df['stories'].str.lower()\n",
    "display(df['stories'].str.findall(r'[^0-9]+').value_counts().head(20))\n",
    "display_html('<h2>Stories numbers', raw=True)\n",
    "display(df['stories'].str.findall(r'[0-9]+').value_counts().head(30))\n",
    "display_html('<h2>Stories contain \"ground\", \"one\", \"two\" or \"three\"', raw=True)\n",
    "display(\n",
    "    df[\n",
    "        df['stories'].str.contains('ground', na=False) |\n",
    "        df['stories'].str.contains('one', na=False) |\n",
    "        df['stories'].str.contains('two', na=False) |\n",
    "        df['stories'].str.contains('three', na=False)\n",
    "    ]['stories'].value_counts()\n",
    ")\n",
    "display_list = ['split', 'story', 'level', 'lot']\n",
    "for word in display_list:\n",
    "    display_html(f'<h2>Stories contain \"{word}\"', raw=True)\n",
    "    display(\n",
    "        df[\n",
    "            df['stories'].str.contains(word, na=False)\n",
    "        ]['stories'].value_counts()\n",
    "    )\n",
    "\n",
    "display_html(f'<h2>Property type of Stories with zeros', raw=True)\n",
    "display(\n",
    "    df[\n",
    "        df['stories'].isin(['0', '0.0'])\n",
    "    ]['propertyType'].value_counts()\n",
    ")"
   ]
  },
  {
   "cell_type": "markdown",
   "metadata": {},
   "source": [
    "- \"one\", \"two\", \"three\" можно заменить на числовые эквиваленты.\n",
    "- \"ground\" можно заменить на 1.\n",
    "\n",
    "Также:\n",
    "- \"split\", \"tri\", \"multi\" предполагают больше, чем 1 этаж. Можно положить равенство 1.5. Но решение принимается ниже.\n",
    "- Нулевые значения можно рассматривать как отсутствие этих значений, так как среди `propertyType` отсутствует Land.\n",
    "- \"lot\" можно рассматривать как ноль этажей - продаётся земельный участок.\n",
    "- Есть также количества этажей больше 3 (даже 8, 9 и больше). Требуется проверить потом\n",
    "\n",
    "Будем создавать отдельный признак для последующей проверки"
   ]
  },
  {
   "cell_type": "markdown",
   "metadata": {},
   "source": [
    "Для начала, заменим на числовые значения. И проанализируем кейсы без чисел вообще"
   ]
  },
  {
   "cell_type": "code",
   "execution_count": 15,
   "metadata": {},
   "outputs": [
    {
     "data": {
      "text/html": [
       "<h3>lot"
      ]
     },
     "metadata": {},
     "output_type": "display_data"
    },
    {
     "data": {
      "text/plain": [
       "propertyType\n",
       "Land    365\n",
       "Name: count, dtype: int64"
      ]
     },
     "metadata": {},
     "output_type": "display_data"
    },
    {
     "data": {
      "text/html": [
       "<h3>townhouse"
      ]
     },
     "metadata": {},
     "output_type": "display_data"
    },
    {
     "data": {
      "text/plain": [
       "propertyType\n",
       "Condo/Townhome/Row Home/Co-Op    325\n",
       "Name: count, dtype: int64"
      ]
     },
     "metadata": {},
     "output_type": "display_data"
    },
    {
     "data": {
      "text/html": [
       "<h3>multi/split"
      ]
     },
     "metadata": {},
     "output_type": "display_data"
    },
    {
     "data": {
      "text/plain": [
       "propertyType\n",
       "Split-Level                               110\n",
       "High Rise, Split-Level                     38\n",
       "Cluster Home, Split-Level                  11\n",
       "Garden Home, Split-Level                   10\n",
       "Condo/Townhome/Row Home/Co-Op              10\n",
       "Detached, Two Story, Split-Level            9\n",
       "Detached, One Story, Split-Level            7\n",
       "Single Family Home                          6\n",
       "Detached, Split-Level                       6\n",
       "Two Story, Split-Level                      5\n",
       "Penthouse, Split-Level                      5\n",
       "One Story, Split-Level                      4\n",
       "Traditional                                 3\n",
       "Multi-Family Home                           3\n",
       "Bi-Level, Split-Level                       2\n",
       "Bungalow                                    2\n",
       "Custom                                      2\n",
       "Cluster Home, Garden Home, Split-Level      2\n",
       "Contemporary                                2\n",
       "Florida                                     2\n",
       "Colonial, Split-Level                       2\n",
       "Spanish/Mediterranean                       2\n",
       "Key West                                    1\n",
       "High Rise, Penthouse, Split-Level           1\n",
       "Split-Level, Spanish/Mediterranean          1\n",
       "Ranch, Split-Level                          1\n",
       "Ranch, One Story, Split-Level               1\n",
       "Custom, Elevated, Key West                  1\n",
       "Detached, Ranch, Split-Level                1\n",
       "Colonial                                    1\n",
       "Name: count, dtype: int64"
      ]
     },
     "metadata": {},
     "output_type": "display_data"
    },
    {
     "data": {
      "text/html": [
       "<h3>acreage"
      ]
     },
     "metadata": {},
     "output_type": "display_data"
    },
    {
     "data": {
      "text/plain": [
       "propertyType\n",
       "Land    215\n",
       "Name: count, dtype: int64"
      ]
     },
     "metadata": {},
     "output_type": "display_data"
    },
    {
     "data": {
      "text/html": [
       "<h3>condominium"
      ]
     },
     "metadata": {},
     "output_type": "display_data"
    },
    {
     "data": {
      "text/plain": [
       "propertyType\n",
       "Condo/Townhome/Row Home/Co-Op    172\n",
       "Name: count, dtype: int64"
      ]
     },
     "metadata": {},
     "output_type": "display_data"
    },
    {
     "data": {
      "text/html": [
       "<h3>stories/levels"
      ]
     },
     "metadata": {},
     "output_type": "display_data"
    },
    {
     "data": {
      "text/plain": [
       "propertyType\n",
       "Single Family Home               95\n",
       "Condo/Townhome/Row Home/Co-Op    38\n",
       "Name: count, dtype: int64"
      ]
     },
     "metadata": {},
     "output_type": "display_data"
    },
    {
     "data": {
      "text/html": [
       "<h3>ranch"
      ]
     },
     "metadata": {},
     "output_type": "display_data"
    },
    {
     "data": {
      "text/plain": [
       "propertyType\n",
       "Single Family Home               120\n",
       "Condo/Townhome/Row Home/Co-Op      7\n",
       "Name: count, dtype: int64"
      ]
     },
     "metadata": {},
     "output_type": "display_data"
    },
    {
     "data": {
      "text/html": [
       "<h3>traditional"
      ]
     },
     "metadata": {},
     "output_type": "display_data"
    },
    {
     "data": {
      "text/plain": [
       "propertyType\n",
       "Single Family Home    88\n",
       "Name: count, dtype: int64"
      ]
     },
     "metadata": {},
     "output_type": "display_data"
    },
    {
     "data": {
      "text/html": [
       "<h3>mid-rise"
      ]
     },
     "metadata": {},
     "output_type": "display_data"
    },
    {
     "data": {
      "text/plain": [
       "propertyType\n",
       "Condo/Townhome/Row Home/Co-Op    78\n",
       "Name: count, dtype: int64"
      ]
     },
     "metadata": {},
     "output_type": "display_data"
    }
   ],
   "source": [
    "df['stories'] = build_features.replace(\n",
    "    df['stories'],\n",
    "    replace_map=(\n",
    "        ('ground', '1'),\n",
    "        ('one', '1'),\n",
    "        ('two', '2'),\n",
    "        ('three', '3'),\n",
    "    )\n",
    ")\n",
    "# Get stories sorted by count of appearance\n",
    "no_num_stories = df[\n",
    "    ~df['stories'].str.contains(r'[0-9]+', na=False)\n",
    "]['stories'].value_counts().head(9)\n",
    "\n",
    "# Display propertyTypes for popular no-number stories\n",
    "for value in no_num_stories.index:\n",
    "    display_html(f'<h3>{value}', raw=True)\n",
    "    display(df[df['stories'] == value]['propertyType'].value_counts())"
   ]
  },
  {
   "cell_type": "markdown",
   "metadata": {},
   "source": [
    "Примем:\n",
    "- \"lot\" и \"acreage\" можно выставить 0\n",
    "- \"ranch\" и \"traditional\"  - 1 этаж\n",
    "- \"multi/split\", \"stories/levels\" - встречаются разные типы и количества этажей в `propertyType`. \n",
    "Сходу сложно определить этаж.\n",
    "Возможно, стоит установить None, но поставим пока 1.5\n",
    "- \"townhouse\" - как правило 2, макс. 3 этажа. Причём для townhouse в дальнейшем можно было ввести уточнение в `propertyType`\n",
    "- \"condominium\", \"mid-rise\" - 3 и более этажей."
   ]
  },
  {
   "cell_type": "markdown",
   "metadata": {},
   "source": [
    "Заполним численные значения в соответствии с рекомендациями выше:"
   ]
  },
  {
   "cell_type": "code",
   "execution_count": 16,
   "metadata": {},
   "outputs": [
    {
     "data": {
      "text/plain": [
       "count    213162.000000\n",
       "mean          2.011041\n",
       "std           4.341044\n",
       "min           0.000000\n",
       "25%           1.000000\n",
       "50%           2.000000\n",
       "75%           2.000000\n",
       "max        1120.000000\n",
       "Name: stories_num, dtype: float64"
      ]
     },
     "metadata": {},
     "output_type": "display_data"
    },
    {
     "name": "stdout",
     "output_type": "stream",
     "text": [
      "Доля объявлений с пропуском численного количества этажей: 43.051%\n"
     ]
    },
    {
     "data": {
      "image/png": "[encoded data removed]",
      "text/plain": [
       "<Figure size 640x480 with 2 Axes>"
      ]
     },
     "metadata": {},
     "output_type": "display_data"
    }
   ],
   "source": [
    "df = build_features.get_df_with_numerical_story(df)\n",
    "display(df['stories_num'].describe())\n",
    "print(\n",
    "    'Доля объявлений с пропуском численного количества этажей:', \n",
    "    utils.get_percentage(df['stories_num'].isna().sum(), df.shape[0])\n",
    ")\n",
    "\n",
    "visualize.plot_box_hist_plot(\n",
    "    df, \n",
    "    'stories_num', \n",
    "    numeric_label='stories count', \n",
    "    log_scale=True, \n",
    "    title='Stories count',\n",
    ");"
   ]
  },
  {
   "cell_type": "markdown",
   "metadata": {},
   "source": [
    "Несмотря на попытки заполнить это количество этажей, по-прежнему много пропусков.\n",
    "Возможно, впоследствии удастся их заполнить, проанализировав `propertyType`"
   ]
  },
  {
   "cell_type": "markdown",
   "metadata": {},
   "source": [
    "Есть выбросы, с которыми также необходимо будет разобраться!"
   ]
  },
  {
   "cell_type": "code",
   "execution_count": 17,
   "metadata": {},
   "outputs": [
    {
     "data": {
      "image/png": "[encoded data removed]",
      "text/plain": [
       "<Figure size 640x480 with 1 Axes>"
      ]
     },
     "metadata": {},
     "output_type": "display_data"
    }
   ],
   "source": [
    "visualize.plot_scatter(\n",
    "    data=df,\n",
    "    x='stories_num',\n",
    "    y='target',\n",
    "    logx=True,\n",
    "    logy=True,\n",
    "    x_label='stories count',\n",
    "    y_label='price [$]',\n",
    "    title='Stories count - Area scatter plot',\n",
    "    linewidth=0,\n",
    ");"
   ]
  },
  {
   "cell_type": "markdown",
   "metadata": {},
   "source": [
    "По нижней границе стоимости видим тенденцию к возрастанию"
   ]
  },
  {
   "cell_type": "markdown",
   "metadata": {},
   "source": [
    "## baths и beds"
   ]
  },
  {
   "cell_type": "markdown",
   "metadata": {},
   "source": [
    "Рассмотрим, как выглядят значения в категориях baths и beds"
   ]
  },
  {
   "cell_type": "code",
   "execution_count": 18,
   "metadata": {},
   "outputs": [
    {
     "data": {
      "text/plain": [
       "baths\n",
       "2 Baths         51953\n",
       "3 Baths         35356\n",
       "2               20429\n",
       "2.0             16355\n",
       "4 Baths         14712\n",
       "3.0             10797\n",
       "3               10093\n",
       "Bathrooms: 2     9411\n",
       "2.5              8113\n",
       "Bathrooms: 3     6569\n",
       "1                6569\n",
       "1.0              5799\n",
       "5 Baths          5365\n",
       "4.0              4559\n",
       "2.5 Baths        4388\n",
       "0                3811\n",
       "4                3561\n",
       "3.5              3455\n",
       "Bathrooms: 1     3126\n",
       "2 ba             2679\n",
       "6 Baths          2599\n",
       "Bathrooms: 4     2372\n",
       "1,500            2207\n",
       "3 ba             1884\n",
       "1.5              1857\n",
       "2,000            1792\n",
       "3.5 Baths        1789\n",
       "1,750            1720\n",
       "3,000            1684\n",
       "5.0              1551\n",
       "2,250            1440\n",
       "1,000            1279\n",
       "5                1219\n",
       "7 Baths          1208\n",
       "1,250            1203\n",
       "4.5              1016\n",
       "2,750             964\n",
       "2,500             894\n",
       "Bathrooms: 5      823\n",
       "~                 780\n",
       "1 ba              747\n",
       "4 ba              735\n",
       "6.0               733\n",
       "3,500             653\n",
       "8 Baths           638\n",
       "6                 506\n",
       "-- baths          495\n",
       "4.5 Baths         373\n",
       "7.0               362\n",
       "Bathrooms: 6      351\n",
       "Name: count, dtype: int64"
      ]
     },
     "metadata": {},
     "output_type": "display_data"
    },
    {
     "data": {
      "text/plain": [
       "beds\n",
       "3 Beds        52947\n",
       "4 Beds        35149\n",
       "3             31191\n",
       "2 Beds        26084\n",
       "4             19915\n",
       "2             15998\n",
       "Baths         15258\n",
       "3 bd          12678\n",
       "5 Beds        11205\n",
       "4 bd           8193\n",
       "3.0            8085\n",
       "5              6392\n",
       "4.0            5231\n",
       "2 bd           5166\n",
       "1              4583\n",
       "6 Beds         3784\n",
       "5 bd           2619\n",
       "2.0            2429\n",
       "6              1792\n",
       "5.0            1372\n",
       "0              1208\n",
       "7 Beds         1095\n",
       "1 bd           1068\n",
       "-- bd           845\n",
       "8 Beds          754\n",
       "Bath            737\n",
       "6 bd            643\n",
       "7               510\n",
       "1.0             429\n",
       "                350\n",
       "9 Beds          345\n",
       "8               316\n",
       "6.0             311\n",
       "0.0             223\n",
       "10 Beds         175\n",
       "7 bd            145\n",
       "12 Beds         130\n",
       "8 bd             94\n",
       "9                94\n",
       "-- sqft          94\n",
       "5,000 sqft       90\n",
       "11 Beds          84\n",
       "7.0              67\n",
       "10               66\n",
       "1 acre           46\n",
       "64 Beds          44\n",
       "16 Beds          41\n",
       "8.0              41\n",
       "0.34 acres       39\n",
       "0.28 acres       37\n",
       "Name: count, dtype: int64"
      ]
     },
     "metadata": {},
     "output_type": "display_data"
    }
   ],
   "source": [
    "display(df['baths'].value_counts().head(50))\n",
    "display(df['beds'].value_counts().head(50))"
   ]
  },
  {
   "cell_type": "markdown",
   "metadata": {},
   "source": [
    "Baths:\n",
    "- Нередко, есть приписки типа \"Baths\", \"Bathrooms\"\n",
    "- Есть пропуски, обозначенные \"~\" или \"--\"\n",
    "- Также есть странные значения, типа \"1,500\", \"1,750\", \"2,000\" и так далее. \n",
    "Наличие нулевых значений после запятой не даёт возможности полагать, что это некая \"суммарная площадь\", если только это не обозначение пропуска в данных. \n",
    "Также, нереально предполагать, что это тысячи ванных комнат (нередко тип дома - частный жилой).\n",
    "\n",
    "Посмотрим, что при этом указано в beds:"
   ]
  },
  {
   "cell_type": "code",
   "execution_count": 19,
   "metadata": {},
   "outputs": [
    {
     "data": {
      "text/plain": [
       "beds\n",
       "Baths    14056\n",
       "Bath       209\n",
       "             1\n",
       "Name: count, dtype: int64"
      ]
     },
     "execution_count": 19,
     "metadata": {},
     "output_type": "execute_result"
    }
   ],
   "source": [
    "df[df['baths'].str.contains(',', na=False)]['beds'].value_counts()"
   ]
  },
  {
   "cell_type": "markdown",
   "metadata": {},
   "source": [
    "Видим, что при наличии запятой в выражении, идёт ссылка на \"Bath\", а также есть один пропуск.\n",
    "Можем предположить, что речь идёт о паре \"спальня с ванной\".\n",
    "\n",
    "Пожалуй, имеет смысл полагать дробное разделение"
   ]
  },
  {
   "cell_type": "code",
   "execution_count": 20,
   "metadata": {},
   "outputs": [
    {
     "data": {
      "text/html": [
       "<div>\n",
       "<style scoped>\n",
       "    .dataframe tbody tr th:only-of-type {\n",
       "        vertical-align: middle;\n",
       "    }\n",
       "\n",
       "    .dataframe tbody tr th {\n",
       "        vertical-align: top;\n",
       "    }\n",
       "\n",
       "    .dataframe thead th {\n",
       "        text-align: right;\n",
       "    }\n",
       "</style>\n",
       "<table border=\"1\" class=\"dataframe\">\n",
       "  <thead>\n",
       "    <tr style=\"text-align: right;\">\n",
       "      <th></th>\n",
       "      <th>propertyType</th>\n",
       "      <th>baths</th>\n",
       "      <th>beds</th>\n",
       "      <th>sqft</th>\n",
       "      <th>stories</th>\n",
       "    </tr>\n",
       "  </thead>\n",
       "  <tbody>\n",
       "    <tr>\n",
       "      <th>16</th>\n",
       "      <td>NaN</td>\n",
       "      <td>1,750</td>\n",
       "      <td>Baths</td>\n",
       "      <td>2203.0</td>\n",
       "      <td>NaN</td>\n",
       "    </tr>\n",
       "    <tr>\n",
       "      <th>22</th>\n",
       "      <td>Penthouse, Split-Level</td>\n",
       "      <td>1,000</td>\n",
       "      <td>Baths</td>\n",
       "      <td>1080.0</td>\n",
       "      <td>multi/split</td>\n",
       "    </tr>\n",
       "    <tr>\n",
       "      <th>26</th>\n",
       "      <td>NaN</td>\n",
       "      <td>1,000</td>\n",
       "      <td>Baths</td>\n",
       "      <td>NaN</td>\n",
       "      <td>NaN</td>\n",
       "    </tr>\n",
       "    <tr>\n",
       "      <th>115</th>\n",
       "      <td>1 Story, Ranch</td>\n",
       "      <td>2,500</td>\n",
       "      <td>Baths</td>\n",
       "      <td>1470.0</td>\n",
       "      <td>NaN</td>\n",
       "    </tr>\n",
       "    <tr>\n",
       "      <th>182</th>\n",
       "      <td>1 Story, Traditional</td>\n",
       "      <td>4,000</td>\n",
       "      <td>Baths</td>\n",
       "      <td>3097.0</td>\n",
       "      <td>NaN</td>\n",
       "    </tr>\n",
       "    <tr>\n",
       "      <th>207</th>\n",
       "      <td>NaN</td>\n",
       "      <td>2,000</td>\n",
       "      <td>Baths</td>\n",
       "      <td>NaN</td>\n",
       "      <td>NaN</td>\n",
       "    </tr>\n",
       "    <tr>\n",
       "      <th>210</th>\n",
       "      <td>NaN</td>\n",
       "      <td>3,000</td>\n",
       "      <td>Baths</td>\n",
       "      <td>3671.0</td>\n",
       "      <td>NaN</td>\n",
       "    </tr>\n",
       "    <tr>\n",
       "      <th>328</th>\n",
       "      <td>NaN</td>\n",
       "      <td>2,000</td>\n",
       "      <td>Baths</td>\n",
       "      <td>2050.0</td>\n",
       "      <td>NaN</td>\n",
       "    </tr>\n",
       "    <tr>\n",
       "      <th>332</th>\n",
       "      <td>NaN</td>\n",
       "      <td>1,500</td>\n",
       "      <td>Baths</td>\n",
       "      <td>1544.0</td>\n",
       "      <td>NaN</td>\n",
       "    </tr>\n",
       "    <tr>\n",
       "      <th>341</th>\n",
       "      <td>Contemporary/Modern, Traditional</td>\n",
       "      <td>1,250</td>\n",
       "      <td>Baths</td>\n",
       "      <td>3004.0</td>\n",
       "      <td>3</td>\n",
       "    </tr>\n",
       "    <tr>\n",
       "      <th>346</th>\n",
       "      <td>Single Detached</td>\n",
       "      <td>1,750</td>\n",
       "      <td>Baths</td>\n",
       "      <td>3758.0</td>\n",
       "      <td>NaN</td>\n",
       "    </tr>\n",
       "    <tr>\n",
       "      <th>350</th>\n",
       "      <td>NaN</td>\n",
       "      <td>2,250</td>\n",
       "      <td>Baths</td>\n",
       "      <td>894.0</td>\n",
       "      <td>NaN</td>\n",
       "    </tr>\n",
       "    <tr>\n",
       "      <th>367</th>\n",
       "      <td>NaN</td>\n",
       "      <td>1,000</td>\n",
       "      <td>Baths</td>\n",
       "      <td>614.0</td>\n",
       "      <td>NaN</td>\n",
       "    </tr>\n",
       "    <tr>\n",
       "      <th>574</th>\n",
       "      <td>NaN</td>\n",
       "      <td>1,750</td>\n",
       "      <td>Baths</td>\n",
       "      <td>NaN</td>\n",
       "      <td>NaN</td>\n",
       "    </tr>\n",
       "    <tr>\n",
       "      <th>602</th>\n",
       "      <td>Contemporary</td>\n",
       "      <td>1,500</td>\n",
       "      <td>Baths</td>\n",
       "      <td>1872.0</td>\n",
       "      <td>NaN</td>\n",
       "    </tr>\n",
       "    <tr>\n",
       "      <th>628</th>\n",
       "      <td>2 Stories, Traditional</td>\n",
       "      <td>3,500</td>\n",
       "      <td>Baths</td>\n",
       "      <td>2205.0</td>\n",
       "      <td>NaN</td>\n",
       "    </tr>\n",
       "    <tr>\n",
       "      <th>637</th>\n",
       "      <td>Single Detached, Traditional</td>\n",
       "      <td>2,000</td>\n",
       "      <td>Baths</td>\n",
       "      <td>1768.0</td>\n",
       "      <td>NaN</td>\n",
       "    </tr>\n",
       "    <tr>\n",
       "      <th>670</th>\n",
       "      <td>Single Detached, Traditional</td>\n",
       "      <td>2,250</td>\n",
       "      <td>Baths</td>\n",
       "      <td>2754.0</td>\n",
       "      <td>NaN</td>\n",
       "    </tr>\n",
       "    <tr>\n",
       "      <th>689</th>\n",
       "      <td>Detached, Two Story</td>\n",
       "      <td>1,000</td>\n",
       "      <td>Baths</td>\n",
       "      <td>2415.0</td>\n",
       "      <td>NaN</td>\n",
       "    </tr>\n",
       "    <tr>\n",
       "      <th>690</th>\n",
       "      <td>1 Story, Traditional</td>\n",
       "      <td>4,000</td>\n",
       "      <td>Baths</td>\n",
       "      <td>2065.0</td>\n",
       "      <td>NaN</td>\n",
       "    </tr>\n",
       "    <tr>\n",
       "      <th>711</th>\n",
       "      <td>Rancher, Raised Ranch</td>\n",
       "      <td>2,000</td>\n",
       "      <td>Baths</td>\n",
       "      <td>1840.0</td>\n",
       "      <td>NaN</td>\n",
       "    </tr>\n",
       "    <tr>\n",
       "      <th>741</th>\n",
       "      <td>NaN</td>\n",
       "      <td>2,250</td>\n",
       "      <td>Baths</td>\n",
       "      <td>3314.0</td>\n",
       "      <td>NaN</td>\n",
       "    </tr>\n",
       "    <tr>\n",
       "      <th>750</th>\n",
       "      <td>NaN</td>\n",
       "      <td>2,000</td>\n",
       "      <td>Baths</td>\n",
       "      <td>1412.0</td>\n",
       "      <td>NaN</td>\n",
       "    </tr>\n",
       "    <tr>\n",
       "      <th>772</th>\n",
       "      <td>Transitional</td>\n",
       "      <td>1,500</td>\n",
       "      <td>Baths</td>\n",
       "      <td>2681.0</td>\n",
       "      <td>NaN</td>\n",
       "    </tr>\n",
       "    <tr>\n",
       "      <th>826</th>\n",
       "      <td>Colonial</td>\n",
       "      <td>1,500</td>\n",
       "      <td>Baths</td>\n",
       "      <td>2284.0</td>\n",
       "      <td>NaN</td>\n",
       "    </tr>\n",
       "    <tr>\n",
       "      <th>827</th>\n",
       "      <td>Craftsman</td>\n",
       "      <td>1,500</td>\n",
       "      <td>Baths</td>\n",
       "      <td>4866.0</td>\n",
       "      <td>NaN</td>\n",
       "    </tr>\n",
       "    <tr>\n",
       "      <th>852</th>\n",
       "      <td>Contemporary</td>\n",
       "      <td>2,750</td>\n",
       "      <td>Baths</td>\n",
       "      <td>2338.0</td>\n",
       "      <td>NaN</td>\n",
       "    </tr>\n",
       "    <tr>\n",
       "      <th>895</th>\n",
       "      <td>NaN</td>\n",
       "      <td>2,000</td>\n",
       "      <td>Baths</td>\n",
       "      <td>NaN</td>\n",
       "      <td>NaN</td>\n",
       "    </tr>\n",
       "    <tr>\n",
       "      <th>915</th>\n",
       "      <td>NaN</td>\n",
       "      <td>1,750</td>\n",
       "      <td>Baths</td>\n",
       "      <td>776.0</td>\n",
       "      <td>NaN</td>\n",
       "    </tr>\n",
       "    <tr>\n",
       "      <th>923</th>\n",
       "      <td>NaN</td>\n",
       "      <td>2,000</td>\n",
       "      <td>Baths</td>\n",
       "      <td>1270.0</td>\n",
       "      <td>NaN</td>\n",
       "    </tr>\n",
       "    <tr>\n",
       "      <th>958</th>\n",
       "      <td>NaN</td>\n",
       "      <td>1,250</td>\n",
       "      <td>Baths</td>\n",
       "      <td>1375.0</td>\n",
       "      <td>NaN</td>\n",
       "    </tr>\n",
       "    <tr>\n",
       "      <th>983</th>\n",
       "      <td>Bungalow</td>\n",
       "      <td>3,000</td>\n",
       "      <td>Baths</td>\n",
       "      <td>1927.0</td>\n",
       "      <td>NaN</td>\n",
       "    </tr>\n",
       "    <tr>\n",
       "      <th>1001</th>\n",
       "      <td>1 Story</td>\n",
       "      <td>1,500</td>\n",
       "      <td>Baths</td>\n",
       "      <td>1413.0</td>\n",
       "      <td>NaN</td>\n",
       "    </tr>\n",
       "    <tr>\n",
       "      <th>1028</th>\n",
       "      <td>Traditional</td>\n",
       "      <td>2,750</td>\n",
       "      <td>Baths</td>\n",
       "      <td>2603.0</td>\n",
       "      <td>2</td>\n",
       "    </tr>\n",
       "    <tr>\n",
       "      <th>1039</th>\n",
       "      <td>Single Detached, Traditional</td>\n",
       "      <td>2,000</td>\n",
       "      <td>Baths</td>\n",
       "      <td>2730.0</td>\n",
       "      <td>NaN</td>\n",
       "    </tr>\n",
       "    <tr>\n",
       "      <th>1051</th>\n",
       "      <td>Traditional</td>\n",
       "      <td>1,750</td>\n",
       "      <td>Baths</td>\n",
       "      <td>2559.0</td>\n",
       "      <td>2</td>\n",
       "    </tr>\n",
       "    <tr>\n",
       "      <th>1070</th>\n",
       "      <td>NaN</td>\n",
       "      <td>1,000</td>\n",
       "      <td>Baths</td>\n",
       "      <td>NaN</td>\n",
       "      <td>NaN</td>\n",
       "    </tr>\n",
       "    <tr>\n",
       "      <th>1080</th>\n",
       "      <td>Single Detached</td>\n",
       "      <td>1,500</td>\n",
       "      <td>Baths</td>\n",
       "      <td>3070.0</td>\n",
       "      <td>NaN</td>\n",
       "    </tr>\n",
       "    <tr>\n",
       "      <th>1084</th>\n",
       "      <td>1 Story, Traditional</td>\n",
       "      <td>2,000</td>\n",
       "      <td>Baths</td>\n",
       "      <td>1032.0</td>\n",
       "      <td>NaN</td>\n",
       "    </tr>\n",
       "    <tr>\n",
       "      <th>1106</th>\n",
       "      <td>Federal</td>\n",
       "      <td>1,250</td>\n",
       "      <td>Baths</td>\n",
       "      <td>850.0</td>\n",
       "      <td>NaN</td>\n",
       "    </tr>\n",
       "  </tbody>\n",
       "</table>\n",
       "</div>"
      ],
      "text/plain": [
       "                          propertyType  baths   beds    sqft      stories\n",
       "16                                 NaN  1,750  Baths  2203.0          NaN\n",
       "22              Penthouse, Split-Level  1,000  Baths  1080.0  multi/split\n",
       "26                                 NaN  1,000  Baths     NaN          NaN\n",
       "115                     1 Story, Ranch  2,500  Baths  1470.0          NaN\n",
       "182               1 Story, Traditional  4,000  Baths  3097.0          NaN\n",
       "207                                NaN  2,000  Baths     NaN          NaN\n",
       "210                                NaN  3,000  Baths  3671.0          NaN\n",
       "328                                NaN  2,000  Baths  2050.0          NaN\n",
       "332                                NaN  1,500  Baths  1544.0          NaN\n",
       "341   Contemporary/Modern, Traditional  1,250  Baths  3004.0            3\n",
       "346                    Single Detached  1,750  Baths  3758.0          NaN\n",
       "350                                NaN  2,250  Baths   894.0          NaN\n",
       "367                                NaN  1,000  Baths   614.0          NaN\n",
       "574                                NaN  1,750  Baths     NaN          NaN\n",
       "602                       Contemporary  1,500  Baths  1872.0          NaN\n",
       "628             2 Stories, Traditional  3,500  Baths  2205.0          NaN\n",
       "637       Single Detached, Traditional  2,000  Baths  1768.0          NaN\n",
       "670       Single Detached, Traditional  2,250  Baths  2754.0          NaN\n",
       "689                Detached, Two Story  1,000  Baths  2415.0          NaN\n",
       "690               1 Story, Traditional  4,000  Baths  2065.0          NaN\n",
       "711              Rancher, Raised Ranch  2,000  Baths  1840.0          NaN\n",
       "741                                NaN  2,250  Baths  3314.0          NaN\n",
       "750                                NaN  2,000  Baths  1412.0          NaN\n",
       "772                       Transitional  1,500  Baths  2681.0          NaN\n",
       "826                           Colonial  1,500  Baths  2284.0          NaN\n",
       "827                          Craftsman  1,500  Baths  4866.0          NaN\n",
       "852                       Contemporary  2,750  Baths  2338.0          NaN\n",
       "895                                NaN  2,000  Baths     NaN          NaN\n",
       "915                                NaN  1,750  Baths   776.0          NaN\n",
       "923                                NaN  2,000  Baths  1270.0          NaN\n",
       "958                                NaN  1,250  Baths  1375.0          NaN\n",
       "983                           Bungalow  3,000  Baths  1927.0          NaN\n",
       "1001                           1 Story  1,500  Baths  1413.0          NaN\n",
       "1028                       Traditional  2,750  Baths  2603.0            2\n",
       "1039      Single Detached, Traditional  2,000  Baths  2730.0          NaN\n",
       "1051                       Traditional  1,750  Baths  2559.0            2\n",
       "1070                               NaN  1,000  Baths     NaN          NaN\n",
       "1080                   Single Detached  1,500  Baths  3070.0          NaN\n",
       "1084              1 Story, Traditional  2,000  Baths  1032.0          NaN\n",
       "1106                           Federal  1,250  Baths   850.0          NaN"
      ]
     },
     "execution_count": 20,
     "metadata": {},
     "output_type": "execute_result"
    }
   ],
   "source": [
    "df[df['baths'].str.contains(',', na=False)][['propertyType', 'baths', 'beds', 'sqft', 'stories']].head(40)"
   ]
  },
  {
   "cell_type": "markdown",
   "metadata": {},
   "source": [
    "Сопоставим площади, когда есть acres в Beds:"
   ]
  },
  {
   "cell_type": "code",
   "execution_count": 21,
   "metadata": {},
   "outputs": [
    {
     "data": {
      "text/plain": [
       "sqft\n",
       "NaN           1628\n",
       "-- sqft         11\n",
       "1,844 sqft       1\n",
       "Name: count, dtype: int64"
      ]
     },
     "execution_count": 21,
     "metadata": {},
     "output_type": "execute_result"
    }
   ],
   "source": [
    "raw_df[raw_df['beds'].str.contains('acre', na=False)]['sqft'].value_counts(dropna=False)"
   ]
  },
  {
   "cell_type": "markdown",
   "metadata": {},
   "source": [
    "Видим, что в большинстве случаев данные по площади попросту отсутствуют, поэтому положим значение None для значения acres."
   ]
  },
  {
   "cell_type": "markdown",
   "metadata": {},
   "source": [
    "### Последовательность обработки признаков baths и beds:"
   ]
  },
  {
   "cell_type": "markdown",
   "metadata": {},
   "source": [
    "Baths:\n",
    "- Заполнить None-ами строки, содержащие \"--\", \"~\", пустые строки после удаления лишних пробелов\n",
    "- Заменить запятые на точки\n",
    "- Извлечь числовые значения (в общем случае, с плавающей точкой), а при отсутствии таковых - None\n",
    "\n",
    "Beds:\n",
    "- Заполнить None-ами строки, содержащие \"--\", \"~\", пустые строки после удаления лишних пробелов\n",
    "- Заполнить None-ами строки, содержащие \"acre\", \"sqft\"\n",
    "- Извлечь числовые значения (в общем случае, с плавающей точкой), а при отсутствии таковых - None"
   ]
  },
  {
   "cell_type": "code",
   "execution_count": null,
   "metadata": {},
   "outputs": [],
   "source": []
  },
  {
   "cell_type": "markdown",
   "metadata": {},
   "source": [
    "# Draft"
   ]
  },
  {
   "cell_type": "code",
   "execution_count": null,
   "metadata": {},
   "outputs": [],
   "source": [
    "\n",
    "# visualize.plot_boxplot(\n",
    "#     df, \n",
    "#     'target', \n",
    "#     title='Target boxplot', \n",
    "#     numeric_label='price, $', \n",
    "#     log_scale=True    \n",
    "# );"
   ]
  },
  {
   "cell_type": "code",
   "execution_count": null,
   "metadata": {},
   "outputs": [],
   "source": []
  },
  {
   "cell_type": "code",
   "execution_count": 40,
   "metadata": {},
   "outputs": [
    {
     "data": {
      "text/plain": [
       "'l\": \"'"
      ]
     },
     "execution_count": 40,
     "metadata": {},
     "output_type": "execute_result"
    }
   ],
   "source": [
    "res = df['homeFacts'][1].replace('\\'', '\"').replace('None', '\"\"')\n",
    "res[285:290]"
   ]
  },
  {
   "cell_type": "code",
   "execution_count": 41,
   "metadata": {},
   "outputs": [
    {
     "data": {
      "text/plain": [
       "'{\"atAGlanceFacts\": [{\"factValue\": \"2019\", \"factLabel\": \"Year built\"}, {\"factValue\": \"\", \"factLabel\": \"Remodeled year\"}, {\"factValue\": \"\", \"factLabel\": \"Heating\"}, {\"factValue\": \"\", \"factLabel\": \"Cooling\"}, {\"factValue\": \"\", \"factLabel\": \"Parking\"}, {\"factValue\": \"5828 sqft\", \"factLabel\": \"lotsize\"}, {\"factValue\": \"$159/sqft\", \"factLabel\": \"Price/sqft\"}]}'"
      ]
     },
     "execution_count": 41,
     "metadata": {},
     "output_type": "execute_result"
    }
   ],
   "source": [
    "res"
   ]
  },
  {
   "cell_type": "code",
   "execution_count": 44,
   "metadata": {},
   "outputs": [
    {
     "data": {
      "text/plain": [
       "{'atAGlanceFacts': [{'factValue': '2019', 'factLabel': 'Year built'},\n",
       "  {'factValue': '', 'factLabel': 'Remodeled year'},\n",
       "  {'factValue': '', 'factLabel': 'Heating'},\n",
       "  {'factValue': '', 'factLabel': 'Cooling'},\n",
       "  {'factValue': '', 'factLabel': 'Parking'},\n",
       "  {'factValue': '5828 sqft', 'factLabel': 'lotsize'},\n",
       "  {'factValue': '$159/sqft', 'factLabel': 'Price/sqft'}]}"
      ]
     },
     "execution_count": 44,
     "metadata": {},
     "output_type": "execute_result"
    }
   ],
   "source": [
    "import json\n",
    "facts_dt = json.loads(res)\n",
    "facts_dt"
   ]
  },
  {
   "cell_type": "code",
   "execution_count": 45,
   "metadata": {},
   "outputs": [
    {
     "data": {
      "text/plain": [
       "[{'factValue': '2019', 'factLabel': 'Year built'},\n",
       " {'factValue': '', 'factLabel': 'Remodeled year'},\n",
       " {'factValue': '', 'factLabel': 'Heating'},\n",
       " {'factValue': '', 'factLabel': 'Cooling'},\n",
       " {'factValue': '', 'factLabel': 'Parking'},\n",
       " {'factValue': '5828 sqft', 'factLabel': 'lotsize'},\n",
       " {'factValue': '$159/sqft', 'factLabel': 'Price/sqft'}]"
      ]
     },
     "execution_count": 45,
     "metadata": {},
     "output_type": "execute_result"
    }
   ],
   "source": [
    "facts_dt['atAGlanceFacts']"
   ]
  },
  {
   "cell_type": "code",
   "execution_count": 47,
   "metadata": {},
   "outputs": [
    {
     "data": {
      "text/plain": [
       "mls-id\n",
       "No MLS#      3\n",
       "No           3\n",
       "1498550      2\n",
       "39888954     2\n",
       "608063       2\n",
       "            ..\n",
       "1020314      1\n",
       "A10762436    1\n",
       "1592770      1\n",
       "14201834     1\n",
       "F10202858    1\n",
       "Name: count, Length: 24907, dtype: int64"
      ]
     },
     "execution_count": 47,
     "metadata": {},
     "output_type": "execute_result"
    }
   ],
   "source": [
    "df['mls-id'].value_counts()"
   ]
  },
  {
   "cell_type": "code",
   "execution_count": 48,
   "metadata": {},
   "outputs": [
    {
     "data": {
      "text/plain": [
       "MlsId\n",
       "NO MLS                     24\n",
       "No MLS #                   16\n",
       " A, Houston, TX 77008      13\n",
       " 12A, Orlando, FL 32833    11\n",
       " B, Houston, TX 77008       9\n",
       "                           ..\n",
       "19092240                    1\n",
       "RX-10563061                 1\n",
       "218080001                   1\n",
       "14154778                    1\n",
       "10374233                    1\n",
       "Name: count, Length: 232944, dtype: int64"
      ]
     },
     "execution_count": 48,
     "metadata": {},
     "output_type": "execute_result"
    }
   ],
   "source": [
    "df['MlsId'].value_counts()"
   ]
  },
  {
   "cell_type": "code",
   "execution_count": 121,
   "metadata": {},
   "outputs": [
    {
     "name": "stderr",
     "output_type": "stream",
     "text": [
      "/var/folders/dv/7ymr80q90cs45p34fgkdmj0c0000gn/T/ipykernel_91802/3364708247.py:1: UserWarning: This pattern is interpreted as a regular expression, and has match groups. To actually get the groups, use str.extract.\n",
      "  df[df['MlsId'].str.lower().str.contains(r'no[^a-zA-Z0-9,](mls)*', na=False)]['MlsId'].value_counts()\n"
     ]
    },
    {
     "data": {
      "text/plain": [
       "MlsId\n",
       "NO MLS                                      24\n",
       "No MLS #                                    16\n",
       "No                                           9\n",
       "No mls                                       8\n",
       "No MLS                                       6\n",
       "No MLS                                       2\n",
       "0087, Solano at Altair, Irvine, CA 92618     1\n",
       "0061, Solano at Altair, Irvine, CA 92618     1\n",
       "No  MLs #                                    1\n",
       "Name: count, dtype: int64"
      ]
     },
     "execution_count": 121,
     "metadata": {},
     "output_type": "execute_result"
    }
   ],
   "source": [
    "df[df['MlsId'].str.lower().str.contains(r'no[^a-zA-Z0-9,](mls)*', na=False)]['MlsId'].value_counts()"
   ]
  },
  {
   "cell_type": "code",
   "execution_count": 88,
   "metadata": {},
   "outputs": [
    {
     "name": "stderr",
     "output_type": "stream",
     "text": [
      "/var/folders/dv/7ymr80q90cs45p34fgkdmj0c0000gn/T/ipykernel_91802/2669860384.py:1: UserWarning: This pattern is interpreted as a regular expression, and has match groups. To actually get the groups, use str.extract.\n",
      "  df[df['MlsId'].str.lower().str.contains(r'no(\\W*)(mls)|(no)^[A-Za-z]', na=False)]['MlsId'].value_counts()\n"
     ]
    },
    {
     "data": {
      "text/plain": [
       "MlsId\n",
       "NO MLS       24\n",
       "No MLS #     16\n",
       "No mls        8\n",
       "No MLS        6\n",
       "NOMLSID       6\n",
       "No MLS        2\n",
       "No  MLs #     1\n",
       "Name: count, dtype: int64"
      ]
     },
     "execution_count": 88,
     "metadata": {},
     "output_type": "execute_result"
    }
   ],
   "source": [
    "df[df['MlsId'].str.lower().str.contains(r'no(\\W*)(mls)|(no)^[A-Za-z]', na=False)]['MlsId'].value_counts()"
   ]
  },
  {
   "cell_type": "code",
   "execution_count": 96,
   "metadata": {},
   "outputs": [
    {
     "data": {
      "text/plain": [
       "2348               1401, North Miami, FL 33181\n",
       "6720                                       No \n",
       "8196                                    No MLS\n",
       "8610                                       No \n",
       "9028                                    No MLS\n",
       "                          ...                 \n",
       "364310                      16, Reno, NV 89523\n",
       "366774     17208W, North Miami Beach, FL 33162\n",
       "367932                                     No \n",
       "370434             2207, North Miami, FL 33181\n",
       "372018        301, North Bay Village, FL 33141\n",
       "Name: MlsId, Length: 161, dtype: object"
      ]
     },
     "execution_count": 96,
     "metadata": {},
     "output_type": "execute_result"
    }
   ],
   "source": [
    "df[df['MlsId'].str.lower().str.contains('no', na=False)]['MlsId']"
   ]
  },
  {
   "cell_type": "code",
   "execution_count": 102,
   "metadata": {},
   "outputs": [
    {
     "data": {
      "text/plain": [
       "Series([], Name: MlsId, dtype: object)"
      ]
     },
     "execution_count": 102,
     "metadata": {},
     "output_type": "execute_result"
    }
   ],
   "source": [
    "df[df['MlsId'].isin(['no'])]['MlsId']"
   ]
  },
  {
   "cell_type": "code",
   "execution_count": 116,
   "metadata": {},
   "outputs": [
    {
     "data": {
      "text/plain": [
       "6720      No \n",
       "8610      No \n",
       "44792     No \n",
       "132144    No \n",
       "207894    No \n",
       "223985    No \n",
       "326882    No \n",
       "344235    No \n",
       "367932    No \n",
       "Name: MlsId, dtype: object"
      ]
     },
     "execution_count": 116,
     "metadata": {},
     "output_type": "execute_result"
    }
   ],
   "source": [
    "df[df['MlsId'].str.lower().str.strip().isin(['no'])]['MlsId']"
   ]
  },
  {
   "cell_type": "code",
   "execution_count": null,
   "metadata": {},
   "outputs": [],
   "source": []
  }
 ],
 "metadata": {
  "kernelspec": {
   "display_name": ".venv",
   "language": "python",
   "name": "python3"
  },
  "language_info": {
   "codemirror_mode": {
    "name": "ipython",
    "version": 3
   },
   "file_extension": ".py",
   "mimetype": "text/x-python",
   "name": "python",
   "nbconvert_exporter": "python",
   "pygments_lexer": "ipython3",
   "version": "3.11.7"
  }
 },
 "nbformat": 4,
 "nbformat_minor": 2
}
