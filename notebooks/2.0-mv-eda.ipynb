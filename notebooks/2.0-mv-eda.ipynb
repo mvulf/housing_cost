{
 "cells": [
  {
   "cell_type": "markdown",
   "metadata": {},
   "source": [
    "## Draft"
   ]
  },
  {
   "cell_type": "code",
   "execution_count": null,
   "metadata": {},
   "outputs": [],
   "source": [
    "\n",
    "# visualize.plot_boxplot(\n",
    "#     df, \n",
    "#     'target', \n",
    "#     title='Target boxplot', \n",
    "#     numeric_label='price, $', \n",
    "#     log_scale=True    \n",
    "# );"
   ]
  },
  {
   "cell_type": "code",
   "execution_count": null,
   "metadata": {},
   "outputs": [],
   "source": []
  },
  {
   "cell_type": "code",
   "execution_count": null,
   "metadata": {},
   "outputs": [
    {
     "data": {
      "text/plain": [
       "'l\": \"'"
      ]
     },
     "metadata": {},
     "output_type": "display_data"
    }
   ],
   "source": [
    "res = df['homeFacts'][1].replace('\\'', '\"').replace('None', '\"\"')\n",
    "res[285:290]"
   ]
  },
  {
   "cell_type": "code",
   "execution_count": null,
   "metadata": {},
   "outputs": [
    {
     "data": {
      "text/plain": [
       "'{\"atAGlanceFacts\": [{\"factValue\": \"2019\", \"factLabel\": \"Year built\"}, {\"factValue\": \"\", \"factLabel\": \"Remodeled year\"}, {\"factValue\": \"\", \"factLabel\": \"Heating\"}, {\"factValue\": \"\", \"factLabel\": \"Cooling\"}, {\"factValue\": \"\", \"factLabel\": \"Parking\"}, {\"factValue\": \"5828 sqft\", \"factLabel\": \"lotsize\"}, {\"factValue\": \"$159/sqft\", \"factLabel\": \"Price/sqft\"}]}'"
      ]
     },
     "metadata": {},
     "output_type": "display_data"
    }
   ],
   "source": [
    "res"
   ]
  },
  {
   "cell_type": "code",
   "execution_count": null,
   "metadata": {},
   "outputs": [
    {
     "data": {
      "text/plain": [
       "{'atAGlanceFacts': [{'factValue': '2019', 'factLabel': 'Year built'},\n",
       "  {'factValue': '', 'factLabel': 'Remodeled year'},\n",
       "  {'factValue': '', 'factLabel': 'Heating'},\n",
       "  {'factValue': '', 'factLabel': 'Cooling'},\n",
       "  {'factValue': '', 'factLabel': 'Parking'},\n",
       "  {'factValue': '5828 sqft', 'factLabel': 'lotsize'},\n",
       "  {'factValue': '$159/sqft', 'factLabel': 'Price/sqft'}]}"
      ]
     },
     "metadata": {},
     "output_type": "display_data"
    }
   ],
   "source": [
    "import json\n",
    "facts_dt = json.loads(res)\n",
    "facts_dt"
   ]
  },
  {
   "cell_type": "code",
   "execution_count": null,
   "metadata": {},
   "outputs": [
    {
     "data": {
      "text/plain": [
       "[{'factValue': '2019', 'factLabel': 'Year built'},\n",
       " {'factValue': '', 'factLabel': 'Remodeled year'},\n",
       " {'factValue': '', 'factLabel': 'Heating'},\n",
       " {'factValue': '', 'factLabel': 'Cooling'},\n",
       " {'factValue': '', 'factLabel': 'Parking'},\n",
       " {'factValue': '5828 sqft', 'factLabel': 'lotsize'},\n",
       " {'factValue': '$159/sqft', 'factLabel': 'Price/sqft'}]"
      ]
     },
     "metadata": {},
     "output_type": "display_data"
    }
   ],
   "source": [
    "facts_dt['atAGlanceFacts']"
   ]
  }
 ],
 "metadata": {
  "language_info": {
   "name": "python"
  }
 },
 "nbformat": 4,
 "nbformat_minor": 2
}
