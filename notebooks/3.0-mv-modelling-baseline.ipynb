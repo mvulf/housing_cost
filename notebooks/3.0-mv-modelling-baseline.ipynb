{
 "cells": [
  {
   "cell_type": "markdown",
   "metadata": {},
   "source": [
    "# Импорт библиотек и данных"
   ]
  },
  {
   "cell_type": "code",
   "execution_count": 4,
   "metadata": {},
   "outputs": [],
   "source": [
    "import sys\n",
    "from pathlib import Path\n",
    "\n",
    "import pandas as pd\n",
    "import numpy as np\n",
    "\n",
    "import mlflow\n",
    "from mlflow.models import infer_signature\n",
    "\n",
    "from sklearn.linear_model import LinearRegression\n",
    "\n",
    "root_folder = '../'\n",
    "sys.path.append(root_folder)\n",
    "\n",
    "baseline_data = Path(root_folder, 'data', 'processed', '1.0_baseline.csv')"
   ]
  },
  {
   "cell_type": "code",
   "execution_count": 5,
   "metadata": {},
   "outputs": [
    {
     "name": "stdout",
     "output_type": "stream",
     "text": [
      "<class 'pandas.core.frame.DataFrame'>\n",
      "Index: 374306 entries, 0 to 374305\n",
      "Data columns (total 9 columns):\n",
      " #   Column        Non-Null Count   Dtype  \n",
      "---  ------        --------------   -----  \n",
      " 0   baths         267467 non-null  float64\n",
      " 1   fireplace     374306 non-null  bool   \n",
      " 2   sqft          333384 non-null  float64\n",
      " 3   beds          277504 non-null  float64\n",
      " 4   stories       221109 non-null  float64\n",
      " 5   target        374306 non-null  int64  \n",
      " 6   private_pool  374306 non-null  bool   \n",
      " 7   mls           374306 non-null  bool   \n",
      " 8   year_built    311041 non-null  float64\n",
      "dtypes: bool(3), float64(5), int64(1)\n",
      "memory usage: 21.1 MB\n"
     ]
    }
   ],
   "source": [
    "df = pd.read_csv(\n",
    "    baseline_data,\n",
    "    index_col=0\n",
    ")\n",
    "df.info()"
   ]
  }
 ],
 "metadata": {
  "kernelspec": {
   "display_name": "housing-cost-jnI3o64B-py3.12",
   "language": "python",
   "name": "python3"
  },
  "language_info": {
   "codemirror_mode": {
    "name": "ipython",
    "version": 3
   },
   "file_extension": ".py",
   "mimetype": "text/x-python",
   "name": "python",
   "nbconvert_exporter": "python",
   "pygments_lexer": "ipython3",
   "version": "3.12.2"
  }
 },
 "nbformat": 4,
 "nbformat_minor": 2
}
