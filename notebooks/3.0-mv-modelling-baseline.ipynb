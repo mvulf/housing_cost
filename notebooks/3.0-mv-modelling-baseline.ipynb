{
 "cells": [
  {
   "cell_type": "markdown",
   "metadata": {},
   "source": [
    "# Импорт библиотек и данных"
   ]
  },
  {
   "cell_type": "markdown",
   "metadata": {},
   "source": [
    "Launch a server via:\n",
    "```bash\n",
    "mlflow server --host 127.0.0.1 --port 8080\n",
    "```"
   ]
  },
  {
   "cell_type": "code",
   "execution_count": 1,
   "metadata": {},
   "outputs": [],
   "source": [
    "import sys\n",
    "from pathlib import Path\n",
    "\n",
    "import pandas as pd\n",
    "import numpy as np\n",
    "\n",
    "import matplotlib.pyplot as plt\n",
    "import seaborn as sns\n",
    "\n",
    "import mlflow\n",
    "from mlflow.models import infer_signature\n",
    "\n",
    "from sklearn.linear_model import LinearRegression\n",
    "\n",
    "root_folder = '../'\n",
    "sys.path.append(root_folder)\n",
    "\n",
    "from src.visualization import visualize\n",
    "\n",
    "baseline_data = Path(root_folder, 'data', 'processed', '1.0_baseline.csv')"
   ]
  },
  {
   "cell_type": "code",
   "execution_count": 2,
   "metadata": {},
   "outputs": [
    {
     "data": {
      "text/plain": [
       "<function mlflow.artifacts.list_artifacts(artifact_uri: Optional[str] = None, run_id: Optional[str] = None, artifact_path: Optional[str] = None, tracking_uri: Optional[str] = None)>"
      ]
     },
     "execution_count": 2,
     "metadata": {},
     "output_type": "execute_result"
    }
   ],
   "source": [
    "mlflow.artifacts.list_artifacts"
   ]
  },
  {
   "cell_type": "code",
   "execution_count": null,
   "metadata": {},
   "outputs": [],
   "source": []
  },
  {
   "cell_type": "code",
   "execution_count": 3,
   "metadata": {},
   "outputs": [],
   "source": [
    "params = {\n",
    "    \"solver\": \"lbfgs\",\n",
    "    \"max_iter\": 1000,\n",
    "    \"multi_class\": \"auto\",\n",
    "    \"random_state\": 8888,\n",
    "}\n",
    "\n",
    "params2 = {\n",
    "    \"solver2\": \"lbfgs\",\n",
    "    \"max_iter2\": 1000,\n",
    "    \"multi_class2\": \"auto\",\n",
    "    \"random_state2\": 8888,\n",
    "}\n",
    "\n",
    "params = params | params2"
   ]
  },
  {
   "cell_type": "code",
   "execution_count": 4,
   "metadata": {},
   "outputs": [
    {
     "name": "stdout",
     "output_type": "stream",
     "text": [
      "<class 'pandas.core.frame.DataFrame'>\n",
      "Index: 374306 entries, 0 to 374305\n",
      "Data columns (total 9 columns):\n",
      " #   Column        Non-Null Count   Dtype  \n",
      "---  ------        --------------   -----  \n",
      " 0   baths         267467 non-null  float64\n",
      " 1   fireplace     374306 non-null  bool   \n",
      " 2   sqft          333384 non-null  float64\n",
      " 3   beds          277504 non-null  float64\n",
      " 4   stories       221109 non-null  float64\n",
      " 5   target        374306 non-null  int64  \n",
      " 6   private_pool  374306 non-null  bool   \n",
      " 7   mls           374306 non-null  bool   \n",
      " 8   year_built    311041 non-null  float64\n",
      "dtypes: bool(3), float64(5), int64(1)\n",
      "memory usage: 21.1 MB\n"
     ]
    },
    {
     "data": {
      "text/html": [
       "<div>\n",
       "<style scoped>\n",
       "    .dataframe tbody tr th:only-of-type {\n",
       "        vertical-align: middle;\n",
       "    }\n",
       "\n",
       "    .dataframe tbody tr th {\n",
       "        vertical-align: top;\n",
       "    }\n",
       "\n",
       "    .dataframe thead th {\n",
       "        text-align: right;\n",
       "    }\n",
       "</style>\n",
       "<table border=\"1\" class=\"dataframe\">\n",
       "  <thead>\n",
       "    <tr style=\"text-align: right;\">\n",
       "      <th></th>\n",
       "      <th>baths</th>\n",
       "      <th>sqft</th>\n",
       "      <th>beds</th>\n",
       "      <th>stories</th>\n",
       "      <th>target</th>\n",
       "      <th>year_built</th>\n",
       "    </tr>\n",
       "  </thead>\n",
       "  <tbody>\n",
       "    <tr>\n",
       "      <th>count</th>\n",
       "      <td>267467.000000</td>\n",
       "      <td>3.333840e+05</td>\n",
       "      <td>277504.000000</td>\n",
       "      <td>221109.000000</td>\n",
       "      <td>3.743060e+05</td>\n",
       "      <td>311041.00000</td>\n",
       "    </tr>\n",
       "    <tr>\n",
       "      <th>mean</th>\n",
       "      <td>3.384831</td>\n",
       "      <td>6.651283e+03</td>\n",
       "      <td>3.901398</td>\n",
       "      <td>1.992208</td>\n",
       "      <td>6.454072e+05</td>\n",
       "      <td>1979.34852</td>\n",
       "    </tr>\n",
       "    <tr>\n",
       "      <th>std</th>\n",
       "      <td>22.286381</td>\n",
       "      <td>1.589502e+06</td>\n",
       "      <td>21.223677</td>\n",
       "      <td>4.265755</td>\n",
       "      <td>1.842196e+06</td>\n",
       "      <td>33.59876</td>\n",
       "    </tr>\n",
       "    <tr>\n",
       "      <th>min</th>\n",
       "      <td>0.000000</td>\n",
       "      <td>0.000000e+00</td>\n",
       "      <td>0.000000</td>\n",
       "      <td>0.000000</td>\n",
       "      <td>1.000000e+00</td>\n",
       "      <td>1700.00000</td>\n",
       "    </tr>\n",
       "    <tr>\n",
       "      <th>25%</th>\n",
       "      <td>2.000000</td>\n",
       "      <td>1.242000e+03</td>\n",
       "      <td>3.000000</td>\n",
       "      <td>1.000000</td>\n",
       "      <td>1.877965e+05</td>\n",
       "      <td>1957.00000</td>\n",
       "    </tr>\n",
       "    <tr>\n",
       "      <th>50%</th>\n",
       "      <td>2.500000</td>\n",
       "      <td>1.800000e+03</td>\n",
       "      <td>3.000000</td>\n",
       "      <td>2.000000</td>\n",
       "      <td>3.200000e+05</td>\n",
       "      <td>1985.00000</td>\n",
       "    </tr>\n",
       "    <tr>\n",
       "      <th>75%</th>\n",
       "      <td>3.000000</td>\n",
       "      <td>2.589000e+03</td>\n",
       "      <td>4.000000</td>\n",
       "      <td>2.000000</td>\n",
       "      <td>5.845000e+05</td>\n",
       "      <td>2007.00000</td>\n",
       "    </tr>\n",
       "    <tr>\n",
       "      <th>max</th>\n",
       "      <td>750.000000</td>\n",
       "      <td>7.959794e+08</td>\n",
       "      <td>750.000000</td>\n",
       "      <td>1120.000000</td>\n",
       "      <td>1.950000e+08</td>\n",
       "      <td>2022.00000</td>\n",
       "    </tr>\n",
       "  </tbody>\n",
       "</table>\n",
       "</div>"
      ],
      "text/plain": [
       "               baths          sqft           beds        stories  \\\n",
       "count  267467.000000  3.333840e+05  277504.000000  221109.000000   \n",
       "mean        3.384831  6.651283e+03       3.901398       1.992208   \n",
       "std        22.286381  1.589502e+06      21.223677       4.265755   \n",
       "min         0.000000  0.000000e+00       0.000000       0.000000   \n",
       "25%         2.000000  1.242000e+03       3.000000       1.000000   \n",
       "50%         2.500000  1.800000e+03       3.000000       2.000000   \n",
       "75%         3.000000  2.589000e+03       4.000000       2.000000   \n",
       "max       750.000000  7.959794e+08     750.000000    1120.000000   \n",
       "\n",
       "             target    year_built  \n",
       "count  3.743060e+05  311041.00000  \n",
       "mean   6.454072e+05    1979.34852  \n",
       "std    1.842196e+06      33.59876  \n",
       "min    1.000000e+00    1700.00000  \n",
       "25%    1.877965e+05    1957.00000  \n",
       "50%    3.200000e+05    1985.00000  \n",
       "75%    5.845000e+05    2007.00000  \n",
       "max    1.950000e+08    2022.00000  "
      ]
     },
     "execution_count": 4,
     "metadata": {},
     "output_type": "execute_result"
    }
   ],
   "source": [
    "df = pd.read_csv(\n",
    "    baseline_data,\n",
    "    index_col=0\n",
    ")\n",
    "df.info()\n",
    "df.describe()"
   ]
  },
  {
   "cell_type": "code",
   "execution_count": 5,
   "metadata": {},
   "outputs": [
    {
     "data": {
      "image/png": "[encoded data removed]",
      "text/plain": [
       "<Figure size 640x480 with 2 Axes>"
      ]
     },
     "metadata": {},
     "output_type": "display_data"
    }
   ],
   "source": [
    "visualize.plot_heatmap(\n",
    "    df.corr(),\n",
    "    title='Correlation heatmap',\n",
    ");"
   ]
  },
  {
   "cell_type": "markdown",
   "metadata": {},
   "source": [
    "Видим сильную корреляцию колиества спален и ванный комнат, что нужно иметь ввиду."
   ]
  },
  {
   "cell_type": "code",
   "execution_count": 4,
   "metadata": {},
   "outputs": [],
   "source": [
    "df = df.drop('baths', axis=1)"
   ]
  },
  {
   "cell_type": "code",
   "execution_count": 5,
   "metadata": {},
   "outputs": [],
   "source": [
    "# df = df.dropna()"
   ]
  },
  {
   "cell_type": "code",
   "execution_count": 6,
   "metadata": {},
   "outputs": [],
   "source": [
    "df_crop = df[df['target'].between(1e5, 1e6)]\n",
    "df = df_crop"
   ]
  },
  {
   "cell_type": "code",
   "execution_count": 7,
   "metadata": {},
   "outputs": [],
   "source": [
    "from sklearn.impute import SimpleImputer\n",
    "from sklearn.preprocessing import MinMaxScaler\n",
    "from sklearn.pipeline import Pipeline\n",
    "from sklearn.model_selection import train_test_split\n",
    "from sklearn.linear_model import LinearRegression\n",
    "from sklearn.ensemble import RandomForestRegressor\n",
    "from sklearn.tree import DecisionTreeRegressor\n",
    "\n",
    "random_state = 42\n",
    "\n",
    "X = df.drop('target', axis=1)\n",
    "y = df['target']\n",
    "# y = np.log10(y)\n",
    "\n",
    "X_train, X_test, y_train, y_test = train_test_split(\n",
    "    X, y, test_size=0.3, random_state=random_state\n",
    ")\n",
    "\n",
    "imputer_median = SimpleImputer(\n",
    "    missing_values=np.nan,\n",
    "    strategy='median'\n",
    ")\n",
    "scaler_minmax = MinMaxScaler()\n",
    "lin_reg = DecisionTreeRegressor(max_depth=10)\n",
    "\n",
    "pipe_baseline = Pipeline(\n",
    "    [\n",
    "        ('imputer', imputer_median),\n",
    "        ('scaler', scaler_minmax),\n",
    "        ('regressor', lin_reg)\n",
    "    ]\n",
    ")\n",
    "\n",
    "pipe_baseline.fit(X_train, y_train)\n",
    "y_pred = pipe_baseline.predict(X_test)\n",
    "# imp_median.fit_transform(df)"
   ]
  },
  {
   "cell_type": "code",
   "execution_count": 11,
   "metadata": {},
   "outputs": [
    {
     "data": {
      "text/plain": [
       "count      85525.000000\n",
       "mean      381027.418860\n",
       "std       211698.381498\n",
       "min       100000.000000\n",
       "25%       220000.000000\n",
       "50%       324900.000000\n",
       "75%       495000.000000\n",
       "max      1000000.000000\n",
       "Name: target, dtype: float64"
      ]
     },
     "execution_count": 11,
     "metadata": {},
     "output_type": "execute_result"
    }
   ],
   "source": [
    "pd.Series(y_test).describe()"
   ]
  },
  {
   "cell_type": "code",
   "execution_count": 12,
   "metadata": {},
   "outputs": [
    {
     "data": {
      "text/plain": [
       "count    8.552500e+04\n",
       "mean     3.803537e+05\n",
       "std      5.608908e+04\n",
       "min      2.804279e+05\n",
       "25%      3.554450e+05\n",
       "50%      3.629307e+05\n",
       "75%      4.051924e+05\n",
       "max      1.283282e+07\n",
       "dtype: float64"
      ]
     },
     "execution_count": 12,
     "metadata": {},
     "output_type": "execute_result"
    }
   ],
   "source": [
    "pd.Series(y_pred).describe()"
   ]
  },
  {
   "cell_type": "code",
   "execution_count": 8,
   "metadata": {},
   "outputs": [
    {
     "name": "stdout",
     "output_type": "stream",
     "text": [
      "MAPE = 50.60%\n",
      "R^2 = 0.1566351088591066\n"
     ]
    }
   ],
   "source": [
    "from sklearn.metrics import mean_absolute_percentage_error\n",
    "from sklearn.metrics import r2_score\n",
    "\n",
    "# TODO: Get test and train metrics!\n",
    "mape = mean_absolute_percentage_error(y_test, y_pred)\n",
    "r2 = r2_score(y_test, y_pred)\n",
    "\n",
    "print(f'MAPE = {mape*100:.2f}%')\n",
    "print(f'R^2 = {r2}')"
   ]
  },
  {
   "cell_type": "markdown",
   "metadata": {},
   "source": [
    "We obtain awfull result"
   ]
  },
  {
   "cell_type": "code",
   "execution_count": 5,
   "metadata": {},
   "outputs": [
    {
     "data": {
      "text/plain": [
       "array(['baths', 'fireplace', 'sqft', 'beds', 'stories', 'target',\n",
       "       'private_pool', 'mls', 'year_built'], dtype=object)"
      ]
     },
     "execution_count": 5,
     "metadata": {},
     "output_type": "execute_result"
    }
   ],
   "source": [
    "imp_median.feature_names_in_"
   ]
  }
 ],
 "metadata": {
  "kernelspec": {
   "display_name": "housing-cost-jnI3o64B-py3.12",
   "language": "python",
   "name": "python3"
  },
  "language_info": {
   "codemirror_mode": {
    "name": "ipython",
    "version": 3
   },
   "file_extension": ".py",
   "mimetype": "text/x-python",
   "name": "python",
   "nbconvert_exporter": "python",
   "pygments_lexer": "ipython3",
   "version": "3.12.2"
  }
 },
 "nbformat": 4,
 "nbformat_minor": 2
}
